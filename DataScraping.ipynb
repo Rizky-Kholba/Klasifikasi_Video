{
 "cells": [
  {
   "cell_type": "code",
   "execution_count": 1,
   "metadata": {},
   "outputs": [
    {
     "name": "stdout",
     "output_type": "stream",
     "text": [
      "Requirement already satisfied: pytube in c:\\users\\acer-i5\\appdata\\local\\programs\\python\\python312\\lib\\site-packages (15.0.0)\n",
      "Requirement already satisfied: openai-whisper in c:\\users\\acer-i5\\appdata\\local\\programs\\python\\python312\\lib\\site-packages (20231117)\n",
      "Requirement already satisfied: pandas in c:\\users\\acer-i5\\appdata\\local\\programs\\python\\python312\\lib\\site-packages (2.1.3)\n",
      "Requirement already satisfied: ffmpeg in c:\\users\\acer-i5\\appdata\\local\\programs\\python\\python312\\lib\\site-packages (1.4)\n",
      "Requirement already satisfied: ffmpeg-python in c:\\users\\acer-i5\\appdata\\local\\programs\\python\\python312\\lib\\site-packages (0.2.0)\n",
      "Requirement already satisfied: numba in c:\\users\\acer-i5\\appdata\\local\\programs\\python\\python312\\lib\\site-packages (from openai-whisper) (0.59.0)\n",
      "Requirement already satisfied: numpy in c:\\users\\acer-i5\\appdata\\local\\programs\\python\\python312\\lib\\site-packages (from openai-whisper) (1.26.1)\n",
      "Requirement already satisfied: torch in c:\\users\\acer-i5\\appdata\\local\\programs\\python\\python312\\lib\\site-packages (from openai-whisper) (2.2.1)\n",
      "Requirement already satisfied: tqdm in c:\\users\\acer-i5\\appdata\\local\\programs\\python\\python312\\lib\\site-packages (from openai-whisper) (4.66.2)\n",
      "Requirement already satisfied: more-itertools in c:\\users\\acer-i5\\appdata\\local\\programs\\python\\python312\\lib\\site-packages (from openai-whisper) (10.2.0)\n",
      "Requirement already satisfied: tiktoken in c:\\users\\acer-i5\\appdata\\local\\programs\\python\\python312\\lib\\site-packages (from openai-whisper) (0.6.0)\n",
      "Requirement already satisfied: python-dateutil>=2.8.2 in c:\\users\\acer-i5\\appdata\\roaming\\python\\python312\\site-packages (from pandas) (2.8.2)\n",
      "Requirement already satisfied: pytz>=2020.1 in c:\\users\\acer-i5\\appdata\\local\\programs\\python\\python312\\lib\\site-packages (from pandas) (2023.3.post1)\n",
      "Requirement already satisfied: tzdata>=2022.1 in c:\\users\\acer-i5\\appdata\\local\\programs\\python\\python312\\lib\\site-packages (from pandas) (2023.3)\n",
      "Requirement already satisfied: future in c:\\users\\acer-i5\\appdata\\local\\programs\\python\\python312\\lib\\site-packages (from ffmpeg-python) (1.0.0)\n",
      "Requirement already satisfied: six>=1.5 in c:\\users\\acer-i5\\appdata\\roaming\\python\\python312\\site-packages (from python-dateutil>=2.8.2->pandas) (1.16.0)\n",
      "Requirement already satisfied: llvmlite<0.43,>=0.42.0dev0 in c:\\users\\acer-i5\\appdata\\local\\programs\\python\\python312\\lib\\site-packages (from numba->openai-whisper) (0.42.0)\n",
      "Requirement already satisfied: regex>=2022.1.18 in c:\\users\\acer-i5\\appdata\\local\\programs\\python\\python312\\lib\\site-packages (from tiktoken->openai-whisper) (2023.12.25)\n",
      "Requirement already satisfied: requests>=2.26.0 in c:\\users\\acer-i5\\appdata\\local\\programs\\python\\python312\\lib\\site-packages (from tiktoken->openai-whisper) (2.31.0)\n",
      "Requirement already satisfied: filelock in c:\\users\\acer-i5\\appdata\\local\\programs\\python\\python312\\lib\\site-packages (from torch->openai-whisper) (3.13.1)\n",
      "Requirement already satisfied: typing-extensions>=4.8.0 in c:\\users\\acer-i5\\appdata\\local\\programs\\python\\python312\\lib\\site-packages (from torch->openai-whisper) (4.8.0)\n",
      "Requirement already satisfied: sympy in c:\\users\\acer-i5\\appdata\\local\\programs\\python\\python312\\lib\\site-packages (from torch->openai-whisper) (1.12)\n",
      "Requirement already satisfied: networkx in c:\\users\\acer-i5\\appdata\\local\\programs\\python\\python312\\lib\\site-packages (from torch->openai-whisper) (3.2.1)\n",
      "Requirement already satisfied: jinja2 in c:\\users\\acer-i5\\appdata\\local\\programs\\python\\python312\\lib\\site-packages (from torch->openai-whisper) (3.1.2)\n",
      "Requirement already satisfied: fsspec in c:\\users\\acer-i5\\appdata\\local\\programs\\python\\python312\\lib\\site-packages (from torch->openai-whisper) (2024.2.0)\n",
      "Requirement already satisfied: colorama in c:\\users\\acer-i5\\appdata\\local\\programs\\python\\python312\\lib\\site-packages (from tqdm->openai-whisper) (0.4.6)\n",
      "Requirement already satisfied: charset-normalizer<4,>=2 in c:\\users\\acer-i5\\appdata\\local\\programs\\python\\python312\\lib\\site-packages (from requests>=2.26.0->tiktoken->openai-whisper) (3.3.2)\n",
      "Requirement already satisfied: idna<4,>=2.5 in c:\\users\\acer-i5\\appdata\\local\\programs\\python\\python312\\lib\\site-packages (from requests>=2.26.0->tiktoken->openai-whisper) (3.6)\n",
      "Requirement already satisfied: urllib3<3,>=1.21.1 in c:\\users\\acer-i5\\appdata\\local\\programs\\python\\python312\\lib\\site-packages (from requests>=2.26.0->tiktoken->openai-whisper) (2.1.0)\n",
      "Requirement already satisfied: certifi>=2017.4.17 in c:\\users\\acer-i5\\appdata\\local\\programs\\python\\python312\\lib\\site-packages (from requests>=2.26.0->tiktoken->openai-whisper) (2023.11.17)\n",
      "Requirement already satisfied: MarkupSafe>=2.0 in c:\\users\\acer-i5\\appdata\\local\\programs\\python\\python312\\lib\\site-packages (from jinja2->torch->openai-whisper) (2.1.3)\n",
      "Requirement already satisfied: mpmath>=0.19 in c:\\users\\acer-i5\\appdata\\local\\programs\\python\\python312\\lib\\site-packages (from sympy->torch->openai-whisper) (1.3.0)\n"
     ]
    },
    {
     "name": "stderr",
     "output_type": "stream",
     "text": [
      "\n",
      "[notice] A new release of pip is available: 23.3.1 -> 24.0\n",
      "[notice] To update, run: python.exe -m pip install --upgrade pip\n"
     ]
    }
   ],
   "source": [
    "!pip install pytube openai-whisper pandas ffmpeg ffmpeg-python"
   ]
  },
  {
   "cell_type": "code",
   "execution_count": 1,
   "metadata": {},
   "outputs": [],
   "source": [
    "from pytube import YouTube\n",
    "import pandas as pd\n",
    "import whisper\n",
    "import os"
   ]
  },
  {
   "cell_type": "code",
   "execution_count": 3,
   "metadata": {},
   "outputs": [],
   "source": [
    "def download_video(url):\n",
    "    try:\n",
    "        yt = YouTube(url)\n",
    "        title = yt.title\n",
    "        channel = yt.author\n",
    "        stream = yt.streams.filter(only_audio=True).first()\n",
    "        stream.download(output_path=\"downloads/\", filename=\"video.mp4\")\n",
    "\n",
    "        yt_data = [title, channel]\n",
    "        return yt_data\n",
    "\n",
    "    except Exception as e:\n",
    "        e"
   ]
  },
  {
   "cell_type": "code",
   "execution_count": 4,
   "metadata": {},
   "outputs": [],
   "source": [
    "def transcribe_audio():\n",
    "    model = whisper.load_model(\"base\")\n",
    "    result = model.transcribe(\"downloads/video.mp4\", language=\"id\")\n",
    "\n",
    "    return result[\"text\"]"
   ]
  },
  {
   "cell_type": "code",
   "execution_count": 5,
   "metadata": {},
   "outputs": [],
   "source": [
    "def create_and_write_csv(filename, topik, url):\n",
    "\n",
    "    count_saved = 0\n",
    "    not_saved = 0\n",
    "\n",
    "    for i in url:\n",
    "        if os.path.exists(f\"{filename}.csv\"):\n",
    "            existing_data = pd.read_csv(f\"{filename}.csv\")\n",
    "            existing_links = set(existing_data[\"link\"])\n",
    "        else:\n",
    "            existing_links = set()\n",
    "\n",
    "        if i in existing_links:\n",
    "            not_saved += 1\n",
    "            print(f\"{not_saved}. Data untuk link '{i}' sudah ada, tidak disimpan.\")\n",
    "\n",
    "            continue\n",
    "\n",
    "        yt_data = download_video(i)\n",
    "        transkrip = transcribe_audio()\n",
    "\n",
    "        data = {\n",
    "            \"topik\": [topik],\n",
    "            \"link\": [i],\n",
    "            \"channel\": [yt_data[1]],\n",
    "            \"judul\": [yt_data[0]],\n",
    "            \"transkrip\": [transkrip],\n",
    "        }\n",
    "\n",
    "        df = pd.DataFrame(data)\n",
    "\n",
    "        df.to_csv(\n",
    "            f\"{filename}.csv\",\n",
    "            mode=\"a\",\n",
    "            index=False,\n",
    "            header=not os.path.exists(f\"{filename}.csv\"),\n",
    "        )\n",
    "\n",
    "        count_saved += 1\n",
    "\n",
    "        print(\n",
    "            f\"{count_saved}. Data untuk link '{i}' berhasil ditambahkan ke '{filename}.csv'.\"\n",
    "        )\n",
    "\n",
    "    print(f\"Sebanyak {not_saved} data tidak ditambahkan ke '{filename}.csv'.\")\n",
    "    print(f\"Sebanyak {count_saved} data berhasil ditambahkan ke '{filename}.csv'.\")\n",
    "    print(f\"Data berhasil ditambahkan ke '{filename}.csv'.\")"
   ]
  },
  {
   "cell_type": "code",
   "execution_count": 2,
   "metadata": {},
   "outputs": [],
   "source": [
    "filename = \"yt-news\""
   ]
  },
  {
   "cell_type": "code",
   "execution_count": 6,
   "metadata": {},
   "outputs": [
    {
     "name": "stdout",
     "output_type": "stream",
     "text": [
      "1. Data untuk link 'https://www.youtube.com/watch?v=sWHB6KwBiP4' sudah ada, tidak disimpan.\n",
      "2. Data untuk link 'https://www.youtube.com/watch?v=uRxCkujfvS0' sudah ada, tidak disimpan.\n",
      "3. Data untuk link 'https://www.youtube.com/watch?v=HQ8kfXOt3CY' sudah ada, tidak disimpan.\n",
      "4. Data untuk link 'https://www.youtube.com/watch?v=uG1IveapfAc' sudah ada, tidak disimpan.\n",
      "5. Data untuk link 'https://www.youtube.com/watch?v=uUR1HMaluWU' sudah ada, tidak disimpan.\n",
      "6. Data untuk link 'https://www.youtube.com/watch?v=qMicMMuRYFg' sudah ada, tidak disimpan.\n",
      "7. Data untuk link 'https://www.youtube.com/watch?v=OG0aLbbLW1Y' sudah ada, tidak disimpan.\n",
      "8. Data untuk link 'https://www.youtube.com/watch?v=cFUlbP7LHDU' sudah ada, tidak disimpan.\n",
      "9. Data untuk link 'https://www.youtube.com/watch?v=gBPKQfdeoSg' sudah ada, tidak disimpan.\n",
      "10. Data untuk link 'https://www.youtube.com/watch?v=ec2a1JZnmS8' sudah ada, tidak disimpan.\n",
      "11. Data untuk link 'https://www.youtube.com/watch?v=3dX_X_Mv_9g' sudah ada, tidak disimpan.\n",
      "12. Data untuk link 'https://www.youtube.com/watch?v=34XrI3X-B6Q' sudah ada, tidak disimpan.\n",
      "13. Data untuk link 'https://www.youtube.com/watch?v=blS2vvidoRs' sudah ada, tidak disimpan.\n",
      "14. Data untuk link 'https://www.youtube.com/watch?v=ZrTj_psYQzU' sudah ada, tidak disimpan.\n",
      "15. Data untuk link 'https://www.youtube.com/watch?v=8E4iVI0BTy8' sudah ada, tidak disimpan.\n",
      "16. Data untuk link 'https://www.youtube.com/watch?v=aeZviTwVcHE' sudah ada, tidak disimpan.\n",
      "17. Data untuk link 'https://www.youtube.com/watch?v=1bzP3Gxn61s' sudah ada, tidak disimpan.\n",
      "18. Data untuk link 'https://www.youtube.com/watch?v=UgLAH3i7SJk' sudah ada, tidak disimpan.\n",
      "19. Data untuk link 'https://www.youtube.com/watch?v=TuKJcUB3MUw' sudah ada, tidak disimpan.\n",
      "20. Data untuk link 'https://www.youtube.com/watch?v=A97JwQpc6uM' sudah ada, tidak disimpan.\n",
      "21. Data untuk link 'https://www.youtube.com/watch?v=3AWglSkO9uA' sudah ada, tidak disimpan.\n",
      "22. Data untuk link 'https://www.youtube.com/watch?v=RUSyJMwqiaE' sudah ada, tidak disimpan.\n",
      "23. Data untuk link 'https://www.youtube.com/watch?v=WtNYduU-6Ss' sudah ada, tidak disimpan.\n",
      "24. Data untuk link 'https://www.youtube.com/watch?v=D7ZYx2GD3xI' sudah ada, tidak disimpan.\n",
      "25. Data untuk link 'https://www.youtube.com/watch?v=35TEePs9JKQ' sudah ada, tidak disimpan.\n",
      "26. Data untuk link 'https://www.youtube.com/watch?v=dA-hdlbQ1xA' sudah ada, tidak disimpan.\n",
      "27. Data untuk link 'https://www.youtube.com/watch?v=wyvBUBDR0MY' sudah ada, tidak disimpan.\n",
      "28. Data untuk link 'https://www.youtube.com/watch?v=WcWhk_lAmnk' sudah ada, tidak disimpan.\n",
      "29. Data untuk link 'https://www.youtube.com/watch?v=YWe5pkhKBSY' sudah ada, tidak disimpan.\n",
      "30. Data untuk link 'https://www.youtube.com/watch?v=E2fcuemEc9c' sudah ada, tidak disimpan.\n",
      "31. Data untuk link 'https://www.youtube.com/watch?v=LrwRtqK3GYg' sudah ada, tidak disimpan.\n",
      "32. Data untuk link 'https://www.youtube.com/watch?v=Tk1OwiWc7tM' sudah ada, tidak disimpan.\n",
      "33. Data untuk link 'https://www.youtube.com/watch?v=PX69cN_FOgE' sudah ada, tidak disimpan.\n",
      "34. Data untuk link 'https://www.youtube.com/watch?v=p7YNeE_saz4' sudah ada, tidak disimpan.\n",
      "35. Data untuk link 'https://www.youtube.com/watch?v=NrWs2poJOmc' sudah ada, tidak disimpan.\n",
      "36. Data untuk link 'https://www.youtube.com/watch?v=Gqaa-NcJvuQ' sudah ada, tidak disimpan.\n",
      "37. Data untuk link 'https://www.youtube.com/watch?v=cj_wZznSwro' sudah ada, tidak disimpan.\n",
      "38. Data untuk link 'https://www.youtube.com/watch?v=0VgWN0G_Dio' sudah ada, tidak disimpan.\n",
      "39. Data untuk link 'https://www.youtube.com/watch?v=fVZ__dkVomY' sudah ada, tidak disimpan.\n",
      "40. Data untuk link 'https://www.youtube.com/watch?v=MzOrdKX7DBo' sudah ada, tidak disimpan.\n",
      "41. Data untuk link 'https://www.youtube.com/watch?v=oQpGuhfmrTE' sudah ada, tidak disimpan.\n",
      "42. Data untuk link 'https://www.youtube.com/watch?v=sXqsLdXOBYQ' sudah ada, tidak disimpan.\n",
      "43. Data untuk link 'https://www.youtube.com/watch?v=RPXU6IBSk3M' sudah ada, tidak disimpan.\n",
      "44. Data untuk link 'https://www.youtube.com/watch?v=15OkelvZFqk' sudah ada, tidak disimpan.\n",
      "45. Data untuk link 'https://www.youtube.com/watch?v=qxfsusjCXIc' sudah ada, tidak disimpan.\n",
      "46. Data untuk link 'https://www.youtube.com/watch?v=TuKJcUB3MUw' sudah ada, tidak disimpan.\n",
      "47. Data untuk link 'https://www.youtube.com/watch?v=A97JwQpc6uM' sudah ada, tidak disimpan.\n",
      "48. Data untuk link 'https://www.youtube.com/watch?v=PxjvjXD35CA' sudah ada, tidak disimpan.\n",
      "49. Data untuk link 'https://www.youtube.com/watch?v=k2WEGx4LW0k' sudah ada, tidak disimpan.\n",
      "50. Data untuk link 'https://www.youtube.com/watch?v=LobEhV9Lyz8' sudah ada, tidak disimpan.\n",
      "51. Data untuk link 'https://www.youtube.com/watch?v=G9tXs8468iQ' sudah ada, tidak disimpan.\n",
      "52. Data untuk link 'https://www.youtube.com/watch?v=NaSpR2iQZys' sudah ada, tidak disimpan.\n",
      "53. Data untuk link 'https://www.youtube.com/watch?v=9b-AzR8G5sM' sudah ada, tidak disimpan.\n",
      "54. Data untuk link 'https://www.youtube.com/watch?v=361WsI75Zz8' sudah ada, tidak disimpan.\n",
      "55. Data untuk link 'https://www.youtube.com/watch?v=GG823dd7bVw' sudah ada, tidak disimpan.\n",
      "56. Data untuk link 'https://www.youtube.com/watch?v=e9UtpNvRTPY' sudah ada, tidak disimpan.\n",
      "57. Data untuk link 'https://www.youtube.com/watch?v=a5qnga3HyM0' sudah ada, tidak disimpan.\n",
      "58. Data untuk link 'https://www.youtube.com/watch?v=8E4iVI0BTy8' sudah ada, tidak disimpan.\n",
      "59. Data untuk link 'https://www.youtube.com/watch?v=1bzP3Gxn61s' sudah ada, tidak disimpan.\n",
      "60. Data untuk link 'https://www.youtube.com/watch?v=UgLAH3i7SJk' sudah ada, tidak disimpan.\n",
      "61. Data untuk link 'https://www.youtube.com/watch?v=aeZviTwVcHE' sudah ada, tidak disimpan.\n",
      "62. Data untuk link 'https://www.youtube.com/watch?v=UF41fUIOWWs' sudah ada, tidak disimpan.\n",
      "63. Data untuk link 'https://www.youtube.com/watch?v=UAj3tRtCeHk' sudah ada, tidak disimpan.\n",
      "64. Data untuk link 'https://www.youtube.com/watch?v=-oogyHly2hc' sudah ada, tidak disimpan.\n",
      "65. Data untuk link 'https://www.youtube.com/watch?v=AU7r8kL_96A' sudah ada, tidak disimpan.\n",
      "66. Data untuk link 'https://www.youtube.com/watch?v=Py3SB4wkCBk' sudah ada, tidak disimpan.\n",
      "67. Data untuk link 'https://www.youtube.com/watch?v=oGJsn6HzkpI' sudah ada, tidak disimpan.\n",
      "68. Data untuk link 'https://www.youtube.com/watch?v=TtFD6eDhl4c' sudah ada, tidak disimpan.\n",
      "69. Data untuk link 'https://www.youtube.com/watch?v=3DXw3ikiUrI' sudah ada, tidak disimpan.\n",
      "70. Data untuk link 'https://www.youtube.com/watch?v=qMicMMuRYFg' sudah ada, tidak disimpan.\n",
      "71. Data untuk link 'https://www.youtube.com/watch?v=15OkelvZFqk' sudah ada, tidak disimpan.\n",
      "72. Data untuk link 'https://www.youtube.com/watch?v=OG0aLbbLW1Y' sudah ada, tidak disimpan.\n",
      "73. Data untuk link 'https://www.youtube.com/watch?v=cFUlbP7LHDU' sudah ada, tidak disimpan.\n",
      "74. Data untuk link 'https://www.youtube.com/watch?v=gBPKQfdeoSg' sudah ada, tidak disimpan.\n",
      "75. Data untuk link 'https://www.youtube.com/watch?v=ec2a1JZnmS8' sudah ada, tidak disimpan.\n",
      "76. Data untuk link 'https://www.youtube.com/watch?v=3dX_X_Mv_9g' sudah ada, tidak disimpan.\n",
      "77. Data untuk link 'https://www.youtube.com/watch?v=mMhBZUfvhNY' sudah ada, tidak disimpan.\n",
      "78. Data untuk link 'https://www.youtube.com/watch?v=qInVGVt6N2w' sudah ada, tidak disimpan.\n",
      "79. Data untuk link 'https://www.youtube.com/watch?v=yF-4xHnRQjM' sudah ada, tidak disimpan.\n"
     ]
    },
    {
     "name": "stderr",
     "output_type": "stream",
     "text": [
      "c:\\Users\\ACER-I5\\AppData\\Local\\Programs\\Python\\Python312\\Lib\\site-packages\\whisper\\transcribe.py:115: UserWarning: FP16 is not supported on CPU; using FP32 instead\n",
      "  warnings.warn(\"FP16 is not supported on CPU; using FP32 instead\")\n"
     ]
    },
    {
     "name": "stdout",
     "output_type": "stream",
     "text": [
      "1. Data untuk link 'https://www.youtube.com/watch?v=5gtJBpfQdOA' berhasil ditambahkan ke 'yt-news.csv'.\n"
     ]
    },
    {
     "name": "stderr",
     "output_type": "stream",
     "text": [
      "c:\\Users\\ACER-I5\\AppData\\Local\\Programs\\Python\\Python312\\Lib\\site-packages\\whisper\\transcribe.py:115: UserWarning: FP16 is not supported on CPU; using FP32 instead\n",
      "  warnings.warn(\"FP16 is not supported on CPU; using FP32 instead\")\n"
     ]
    },
    {
     "name": "stdout",
     "output_type": "stream",
     "text": [
      "2. Data untuk link 'https://www.youtube.com/watch?v=YmCukzOpiVo' berhasil ditambahkan ke 'yt-news.csv'.\n"
     ]
    },
    {
     "name": "stderr",
     "output_type": "stream",
     "text": [
      "c:\\Users\\ACER-I5\\AppData\\Local\\Programs\\Python\\Python312\\Lib\\site-packages\\whisper\\transcribe.py:115: UserWarning: FP16 is not supported on CPU; using FP32 instead\n",
      "  warnings.warn(\"FP16 is not supported on CPU; using FP32 instead\")\n"
     ]
    },
    {
     "name": "stdout",
     "output_type": "stream",
     "text": [
      "3. Data untuk link 'https://www.youtube.com/watch?v=plTZftvFb9Q' berhasil ditambahkan ke 'yt-news.csv'.\n"
     ]
    },
    {
     "name": "stderr",
     "output_type": "stream",
     "text": [
      "c:\\Users\\ACER-I5\\AppData\\Local\\Programs\\Python\\Python312\\Lib\\site-packages\\whisper\\transcribe.py:115: UserWarning: FP16 is not supported on CPU; using FP32 instead\n",
      "  warnings.warn(\"FP16 is not supported on CPU; using FP32 instead\")\n"
     ]
    },
    {
     "name": "stdout",
     "output_type": "stream",
     "text": [
      "4. Data untuk link 'https://www.youtube.com/watch?v=uaCAm99y67I' berhasil ditambahkan ke 'yt-news.csv'.\n"
     ]
    },
    {
     "name": "stderr",
     "output_type": "stream",
     "text": [
      "c:\\Users\\ACER-I5\\AppData\\Local\\Programs\\Python\\Python312\\Lib\\site-packages\\whisper\\transcribe.py:115: UserWarning: FP16 is not supported on CPU; using FP32 instead\n",
      "  warnings.warn(\"FP16 is not supported on CPU; using FP32 instead\")\n"
     ]
    },
    {
     "name": "stdout",
     "output_type": "stream",
     "text": [
      "5. Data untuk link 'https://www.youtube.com/watch?v=4MUaqrXQ-Vk' berhasil ditambahkan ke 'yt-news.csv'.\n"
     ]
    },
    {
     "name": "stderr",
     "output_type": "stream",
     "text": [
      "c:\\Users\\ACER-I5\\AppData\\Local\\Programs\\Python\\Python312\\Lib\\site-packages\\whisper\\transcribe.py:115: UserWarning: FP16 is not supported on CPU; using FP32 instead\n",
      "  warnings.warn(\"FP16 is not supported on CPU; using FP32 instead\")\n"
     ]
    },
    {
     "name": "stdout",
     "output_type": "stream",
     "text": [
      "6. Data untuk link 'https://www.youtube.com/watch?v=IQK2PMl2o5g' berhasil ditambahkan ke 'yt-news.csv'.\n"
     ]
    },
    {
     "name": "stderr",
     "output_type": "stream",
     "text": [
      "c:\\Users\\ACER-I5\\AppData\\Local\\Programs\\Python\\Python312\\Lib\\site-packages\\whisper\\transcribe.py:115: UserWarning: FP16 is not supported on CPU; using FP32 instead\n",
      "  warnings.warn(\"FP16 is not supported on CPU; using FP32 instead\")\n"
     ]
    },
    {
     "name": "stdout",
     "output_type": "stream",
     "text": [
      "7. Data untuk link 'https://www.youtube.com/watch?v=d1SMnZV411Q' berhasil ditambahkan ke 'yt-news.csv'.\n"
     ]
    },
    {
     "name": "stderr",
     "output_type": "stream",
     "text": [
      "c:\\Users\\ACER-I5\\AppData\\Local\\Programs\\Python\\Python312\\Lib\\site-packages\\whisper\\transcribe.py:115: UserWarning: FP16 is not supported on CPU; using FP32 instead\n",
      "  warnings.warn(\"FP16 is not supported on CPU; using FP32 instead\")\n"
     ]
    },
    {
     "name": "stdout",
     "output_type": "stream",
     "text": [
      "8. Data untuk link 'https://www.youtube.com/watch?v=B30qilRDRec' berhasil ditambahkan ke 'yt-news.csv'.\n"
     ]
    },
    {
     "name": "stderr",
     "output_type": "stream",
     "text": [
      "c:\\Users\\ACER-I5\\AppData\\Local\\Programs\\Python\\Python312\\Lib\\site-packages\\whisper\\transcribe.py:115: UserWarning: FP16 is not supported on CPU; using FP32 instead\n",
      "  warnings.warn(\"FP16 is not supported on CPU; using FP32 instead\")\n"
     ]
    },
    {
     "name": "stdout",
     "output_type": "stream",
     "text": [
      "9. Data untuk link 'https://www.youtube.com/watch?v=yMwT0YUtPRQ' berhasil ditambahkan ke 'yt-news.csv'.\n"
     ]
    },
    {
     "name": "stderr",
     "output_type": "stream",
     "text": [
      "c:\\Users\\ACER-I5\\AppData\\Local\\Programs\\Python\\Python312\\Lib\\site-packages\\whisper\\transcribe.py:115: UserWarning: FP16 is not supported on CPU; using FP32 instead\n",
      "  warnings.warn(\"FP16 is not supported on CPU; using FP32 instead\")\n"
     ]
    },
    {
     "name": "stdout",
     "output_type": "stream",
     "text": [
      "10. Data untuk link 'https://www.youtube.com/watch?v=OYLHwWhEN3E' berhasil ditambahkan ke 'yt-news.csv'.\n"
     ]
    },
    {
     "name": "stderr",
     "output_type": "stream",
     "text": [
      "c:\\Users\\ACER-I5\\AppData\\Local\\Programs\\Python\\Python312\\Lib\\site-packages\\whisper\\transcribe.py:115: UserWarning: FP16 is not supported on CPU; using FP32 instead\n",
      "  warnings.warn(\"FP16 is not supported on CPU; using FP32 instead\")\n"
     ]
    },
    {
     "name": "stdout",
     "output_type": "stream",
     "text": [
      "11. Data untuk link 'https://www.youtube.com/watch?v=GnpaiW9_vY4' berhasil ditambahkan ke 'yt-news.csv'.\n"
     ]
    },
    {
     "name": "stderr",
     "output_type": "stream",
     "text": [
      "c:\\Users\\ACER-I5\\AppData\\Local\\Programs\\Python\\Python312\\Lib\\site-packages\\whisper\\transcribe.py:115: UserWarning: FP16 is not supported on CPU; using FP32 instead\n",
      "  warnings.warn(\"FP16 is not supported on CPU; using FP32 instead\")\n"
     ]
    },
    {
     "name": "stdout",
     "output_type": "stream",
     "text": [
      "12. Data untuk link 'https://www.youtube.com/watch?v=bp_X3T80DLE' berhasil ditambahkan ke 'yt-news.csv'.\n",
      "80. Data untuk link 'https://www.youtube.com/watch?v=PX69cN_FOgE' sudah ada, tidak disimpan.\n",
      "81. Data untuk link 'https://www.youtube.com/watch?v=p7YNeE_saz4' sudah ada, tidak disimpan.\n",
      "82. Data untuk link 'https://www.youtube.com/watch?v=0VgWN0G_Dio' sudah ada, tidak disimpan.\n",
      "83. Data untuk link 'https://www.youtube.com/watch?v=MzOrdKX7DBo' sudah ada, tidak disimpan.\n",
      "84. Data untuk link 'https://www.youtube.com/watch?v=oQpGuhfmrTE' sudah ada, tidak disimpan.\n"
     ]
    },
    {
     "name": "stderr",
     "output_type": "stream",
     "text": [
      "c:\\Users\\ACER-I5\\AppData\\Local\\Programs\\Python\\Python312\\Lib\\site-packages\\whisper\\transcribe.py:115: UserWarning: FP16 is not supported on CPU; using FP32 instead\n",
      "  warnings.warn(\"FP16 is not supported on CPU; using FP32 instead\")\n"
     ]
    },
    {
     "name": "stdout",
     "output_type": "stream",
     "text": [
      "13. Data untuk link 'https://www.youtube.com/watch?v=koZbepAt_Vo' berhasil ditambahkan ke 'yt-news.csv'.\n"
     ]
    },
    {
     "name": "stderr",
     "output_type": "stream",
     "text": [
      "c:\\Users\\ACER-I5\\AppData\\Local\\Programs\\Python\\Python312\\Lib\\site-packages\\whisper\\transcribe.py:115: UserWarning: FP16 is not supported on CPU; using FP32 instead\n",
      "  warnings.warn(\"FP16 is not supported on CPU; using FP32 instead\")\n"
     ]
    },
    {
     "name": "stdout",
     "output_type": "stream",
     "text": [
      "14. Data untuk link 'https://www.youtube.com/watch?v=RQtnRYWA0Jk' berhasil ditambahkan ke 'yt-news.csv'.\n"
     ]
    },
    {
     "name": "stderr",
     "output_type": "stream",
     "text": [
      "c:\\Users\\ACER-I5\\AppData\\Local\\Programs\\Python\\Python312\\Lib\\site-packages\\whisper\\transcribe.py:115: UserWarning: FP16 is not supported on CPU; using FP32 instead\n",
      "  warnings.warn(\"FP16 is not supported on CPU; using FP32 instead\")\n"
     ]
    },
    {
     "name": "stdout",
     "output_type": "stream",
     "text": [
      "15. Data untuk link 'https://www.youtube.com/watch?v=sCXGOJDDPwI' berhasil ditambahkan ke 'yt-news.csv'.\n"
     ]
    },
    {
     "name": "stderr",
     "output_type": "stream",
     "text": [
      "c:\\Users\\ACER-I5\\AppData\\Local\\Programs\\Python\\Python312\\Lib\\site-packages\\whisper\\transcribe.py:115: UserWarning: FP16 is not supported on CPU; using FP32 instead\n",
      "  warnings.warn(\"FP16 is not supported on CPU; using FP32 instead\")\n"
     ]
    },
    {
     "name": "stdout",
     "output_type": "stream",
     "text": [
      "16. Data untuk link 'https://www.youtube.com/watch?v=rdGJynW0lWI' berhasil ditambahkan ke 'yt-news.csv'.\n"
     ]
    },
    {
     "name": "stderr",
     "output_type": "stream",
     "text": [
      "c:\\Users\\ACER-I5\\AppData\\Local\\Programs\\Python\\Python312\\Lib\\site-packages\\whisper\\transcribe.py:115: UserWarning: FP16 is not supported on CPU; using FP32 instead\n",
      "  warnings.warn(\"FP16 is not supported on CPU; using FP32 instead\")\n"
     ]
    },
    {
     "name": "stdout",
     "output_type": "stream",
     "text": [
      "17. Data untuk link 'https://www.youtube.com/watch?v=B0yj_096Sp8' berhasil ditambahkan ke 'yt-news.csv'.\n"
     ]
    },
    {
     "name": "stderr",
     "output_type": "stream",
     "text": [
      "c:\\Users\\ACER-I5\\AppData\\Local\\Programs\\Python\\Python312\\Lib\\site-packages\\whisper\\transcribe.py:115: UserWarning: FP16 is not supported on CPU; using FP32 instead\n",
      "  warnings.warn(\"FP16 is not supported on CPU; using FP32 instead\")\n"
     ]
    },
    {
     "name": "stdout",
     "output_type": "stream",
     "text": [
      "18. Data untuk link 'https://www.youtube.com/watch?v=qBCv9wVUaa0' berhasil ditambahkan ke 'yt-news.csv'.\n"
     ]
    },
    {
     "name": "stderr",
     "output_type": "stream",
     "text": [
      "c:\\Users\\ACER-I5\\AppData\\Local\\Programs\\Python\\Python312\\Lib\\site-packages\\whisper\\transcribe.py:115: UserWarning: FP16 is not supported on CPU; using FP32 instead\n",
      "  warnings.warn(\"FP16 is not supported on CPU; using FP32 instead\")\n"
     ]
    },
    {
     "name": "stdout",
     "output_type": "stream",
     "text": [
      "19. Data untuk link 'https://www.youtube.com/watch?v=_Ga-Fb3qvDo' berhasil ditambahkan ke 'yt-news.csv'.\n"
     ]
    },
    {
     "name": "stderr",
     "output_type": "stream",
     "text": [
      "c:\\Users\\ACER-I5\\AppData\\Local\\Programs\\Python\\Python312\\Lib\\site-packages\\whisper\\transcribe.py:115: UserWarning: FP16 is not supported on CPU; using FP32 instead\n",
      "  warnings.warn(\"FP16 is not supported on CPU; using FP32 instead\")\n"
     ]
    },
    {
     "name": "stdout",
     "output_type": "stream",
     "text": [
      "20. Data untuk link 'https://www.youtube.com/watch?v=xWb34OAimBM' berhasil ditambahkan ke 'yt-news.csv'.\n"
     ]
    },
    {
     "name": "stderr",
     "output_type": "stream",
     "text": [
      "c:\\Users\\ACER-I5\\AppData\\Local\\Programs\\Python\\Python312\\Lib\\site-packages\\whisper\\transcribe.py:115: UserWarning: FP16 is not supported on CPU; using FP32 instead\n",
      "  warnings.warn(\"FP16 is not supported on CPU; using FP32 instead\")\n"
     ]
    },
    {
     "name": "stdout",
     "output_type": "stream",
     "text": [
      "21. Data untuk link 'https://www.youtube.com/watch?v=z1xn5c8ohCQ' berhasil ditambahkan ke 'yt-news.csv'.\n"
     ]
    },
    {
     "name": "stderr",
     "output_type": "stream",
     "text": [
      "c:\\Users\\ACER-I5\\AppData\\Local\\Programs\\Python\\Python312\\Lib\\site-packages\\whisper\\transcribe.py:115: UserWarning: FP16 is not supported on CPU; using FP32 instead\n",
      "  warnings.warn(\"FP16 is not supported on CPU; using FP32 instead\")\n"
     ]
    },
    {
     "name": "stdout",
     "output_type": "stream",
     "text": [
      "22. Data untuk link 'https://www.youtube.com/watch?v=w62L30njbK0' berhasil ditambahkan ke 'yt-news.csv'.\n"
     ]
    },
    {
     "name": "stderr",
     "output_type": "stream",
     "text": [
      "c:\\Users\\ACER-I5\\AppData\\Local\\Programs\\Python\\Python312\\Lib\\site-packages\\whisper\\transcribe.py:115: UserWarning: FP16 is not supported on CPU; using FP32 instead\n",
      "  warnings.warn(\"FP16 is not supported on CPU; using FP32 instead\")\n"
     ]
    },
    {
     "name": "stdout",
     "output_type": "stream",
     "text": [
      "23. Data untuk link 'https://www.youtube.com/watch?v=Gs9a4yIrlc8' berhasil ditambahkan ke 'yt-news.csv'.\n"
     ]
    },
    {
     "name": "stderr",
     "output_type": "stream",
     "text": [
      "c:\\Users\\ACER-I5\\AppData\\Local\\Programs\\Python\\Python312\\Lib\\site-packages\\whisper\\transcribe.py:115: UserWarning: FP16 is not supported on CPU; using FP32 instead\n",
      "  warnings.warn(\"FP16 is not supported on CPU; using FP32 instead\")\n"
     ]
    },
    {
     "name": "stdout",
     "output_type": "stream",
     "text": [
      "24. Data untuk link 'https://www.youtube.com/watch?v=MC3VHuXb9I4' berhasil ditambahkan ke 'yt-news.csv'.\n"
     ]
    },
    {
     "name": "stderr",
     "output_type": "stream",
     "text": [
      "c:\\Users\\ACER-I5\\AppData\\Local\\Programs\\Python\\Python312\\Lib\\site-packages\\whisper\\transcribe.py:115: UserWarning: FP16 is not supported on CPU; using FP32 instead\n",
      "  warnings.warn(\"FP16 is not supported on CPU; using FP32 instead\")\n"
     ]
    },
    {
     "name": "stdout",
     "output_type": "stream",
     "text": [
      "25. Data untuk link 'https://www.youtube.com/watch?v=gyf3aymIkNQ' berhasil ditambahkan ke 'yt-news.csv'.\n"
     ]
    },
    {
     "name": "stderr",
     "output_type": "stream",
     "text": [
      "c:\\Users\\ACER-I5\\AppData\\Local\\Programs\\Python\\Python312\\Lib\\site-packages\\whisper\\transcribe.py:115: UserWarning: FP16 is not supported on CPU; using FP32 instead\n",
      "  warnings.warn(\"FP16 is not supported on CPU; using FP32 instead\")\n"
     ]
    },
    {
     "name": "stdout",
     "output_type": "stream",
     "text": [
      "26. Data untuk link 'https://www.youtube.com/watch?v=W-ElLFWDseY' berhasil ditambahkan ke 'yt-news.csv'.\n"
     ]
    },
    {
     "name": "stderr",
     "output_type": "stream",
     "text": [
      "c:\\Users\\ACER-I5\\AppData\\Local\\Programs\\Python\\Python312\\Lib\\site-packages\\whisper\\transcribe.py:115: UserWarning: FP16 is not supported on CPU; using FP32 instead\n",
      "  warnings.warn(\"FP16 is not supported on CPU; using FP32 instead\")\n"
     ]
    },
    {
     "name": "stdout",
     "output_type": "stream",
     "text": [
      "27. Data untuk link 'https://www.youtube.com/watch?v=bXpCDMY4gvc' berhasil ditambahkan ke 'yt-news.csv'.\n"
     ]
    },
    {
     "name": "stderr",
     "output_type": "stream",
     "text": [
      "c:\\Users\\ACER-I5\\AppData\\Local\\Programs\\Python\\Python312\\Lib\\site-packages\\whisper\\transcribe.py:115: UserWarning: FP16 is not supported on CPU; using FP32 instead\n",
      "  warnings.warn(\"FP16 is not supported on CPU; using FP32 instead\")\n"
     ]
    },
    {
     "name": "stdout",
     "output_type": "stream",
     "text": [
      "28. Data untuk link 'https://www.youtube.com/watch?v=xFSqTAzSNhE' berhasil ditambahkan ke 'yt-news.csv'.\n"
     ]
    },
    {
     "name": "stderr",
     "output_type": "stream",
     "text": [
      "c:\\Users\\ACER-I5\\AppData\\Local\\Programs\\Python\\Python312\\Lib\\site-packages\\whisper\\transcribe.py:115: UserWarning: FP16 is not supported on CPU; using FP32 instead\n",
      "  warnings.warn(\"FP16 is not supported on CPU; using FP32 instead\")\n"
     ]
    },
    {
     "name": "stdout",
     "output_type": "stream",
     "text": [
      "29. Data untuk link 'https://www.youtube.com/watch?v=iU6HLNLZEUo' berhasil ditambahkan ke 'yt-news.csv'.\n"
     ]
    },
    {
     "name": "stderr",
     "output_type": "stream",
     "text": [
      "c:\\Users\\ACER-I5\\AppData\\Local\\Programs\\Python\\Python312\\Lib\\site-packages\\whisper\\transcribe.py:115: UserWarning: FP16 is not supported on CPU; using FP32 instead\n",
      "  warnings.warn(\"FP16 is not supported on CPU; using FP32 instead\")\n"
     ]
    },
    {
     "name": "stdout",
     "output_type": "stream",
     "text": [
      "30. Data untuk link 'https://www.youtube.com/watch?v=KjVEc6yJrCc' berhasil ditambahkan ke 'yt-news.csv'.\n"
     ]
    },
    {
     "name": "stderr",
     "output_type": "stream",
     "text": [
      "c:\\Users\\ACER-I5\\AppData\\Local\\Programs\\Python\\Python312\\Lib\\site-packages\\whisper\\transcribe.py:115: UserWarning: FP16 is not supported on CPU; using FP32 instead\n",
      "  warnings.warn(\"FP16 is not supported on CPU; using FP32 instead\")\n"
     ]
    },
    {
     "name": "stdout",
     "output_type": "stream",
     "text": [
      "31. Data untuk link 'https://www.youtube.com/watch?v=kLUFuXebdC4' berhasil ditambahkan ke 'yt-news.csv'.\n",
      "85. Data untuk link 'https://www.youtube.com/watch?v=AU7r8kL_96A' sudah ada, tidak disimpan.\n",
      "86. Data untuk link 'https://www.youtube.com/watch?v=Py3SB4wkCBk' sudah ada, tidak disimpan.\n",
      "87. Data untuk link 'https://www.youtube.com/watch?v=oGJsn6HzkpI' sudah ada, tidak disimpan.\n",
      "88. Data untuk link 'https://www.youtube.com/watch?v=TtFD6eDhl4c' sudah ada, tidak disimpan.\n",
      "89. Data untuk link 'https://www.youtube.com/watch?v=3DXw3ikiUrI' sudah ada, tidak disimpan.\n",
      "90. Data untuk link 'https://www.youtube.com/watch?v=qMicMMuRYFg' sudah ada, tidak disimpan.\n",
      "91. Data untuk link 'https://www.youtube.com/watch?v=15OkelvZFqk' sudah ada, tidak disimpan.\n",
      "92. Data untuk link 'https://www.youtube.com/watch?v=OG0aLbbLW1Y' sudah ada, tidak disimpan.\n",
      "93. Data untuk link 'https://www.youtube.com/watch?v=cFUlbP7LHDU' sudah ada, tidak disimpan.\n",
      "94. Data untuk link 'https://www.youtube.com/watch?v=bp_X3T80DLE' sudah ada, tidak disimpan.\n"
     ]
    },
    {
     "name": "stderr",
     "output_type": "stream",
     "text": [
      "c:\\Users\\ACER-I5\\AppData\\Local\\Programs\\Python\\Python312\\Lib\\site-packages\\whisper\\transcribe.py:115: UserWarning: FP16 is not supported on CPU; using FP32 instead\n",
      "  warnings.warn(\"FP16 is not supported on CPU; using FP32 instead\")\n"
     ]
    },
    {
     "name": "stdout",
     "output_type": "stream",
     "text": [
      "32. Data untuk link 'https://www.youtube.com/watch?v=T1w6cDmtYGQ' berhasil ditambahkan ke 'yt-news.csv'.\n"
     ]
    },
    {
     "name": "stderr",
     "output_type": "stream",
     "text": [
      "c:\\Users\\ACER-I5\\AppData\\Local\\Programs\\Python\\Python312\\Lib\\site-packages\\whisper\\transcribe.py:115: UserWarning: FP16 is not supported on CPU; using FP32 instead\n",
      "  warnings.warn(\"FP16 is not supported on CPU; using FP32 instead\")\n"
     ]
    },
    {
     "name": "stdout",
     "output_type": "stream",
     "text": [
      "33. Data untuk link 'https://www.youtube.com/watch?v=xBRO7ZMlMs0' berhasil ditambahkan ke 'yt-news.csv'.\n"
     ]
    },
    {
     "name": "stderr",
     "output_type": "stream",
     "text": [
      "c:\\Users\\ACER-I5\\AppData\\Local\\Programs\\Python\\Python312\\Lib\\site-packages\\whisper\\transcribe.py:115: UserWarning: FP16 is not supported on CPU; using FP32 instead\n",
      "  warnings.warn(\"FP16 is not supported on CPU; using FP32 instead\")\n"
     ]
    },
    {
     "name": "stdout",
     "output_type": "stream",
     "text": [
      "34. Data untuk link 'https://www.youtube.com/watch?v=DBWi-je99D8' berhasil ditambahkan ke 'yt-news.csv'.\n"
     ]
    },
    {
     "name": "stderr",
     "output_type": "stream",
     "text": [
      "c:\\Users\\ACER-I5\\AppData\\Local\\Programs\\Python\\Python312\\Lib\\site-packages\\whisper\\transcribe.py:115: UserWarning: FP16 is not supported on CPU; using FP32 instead\n",
      "  warnings.warn(\"FP16 is not supported on CPU; using FP32 instead\")\n"
     ]
    },
    {
     "name": "stdout",
     "output_type": "stream",
     "text": [
      "35. Data untuk link 'https://www.youtube.com/watch?v=8knCNp9WhYo' berhasil ditambahkan ke 'yt-news.csv'.\n"
     ]
    },
    {
     "name": "stderr",
     "output_type": "stream",
     "text": [
      "c:\\Users\\ACER-I5\\AppData\\Local\\Programs\\Python\\Python312\\Lib\\site-packages\\whisper\\transcribe.py:115: UserWarning: FP16 is not supported on CPU; using FP32 instead\n",
      "  warnings.warn(\"FP16 is not supported on CPU; using FP32 instead\")\n"
     ]
    },
    {
     "name": "stdout",
     "output_type": "stream",
     "text": [
      "36. Data untuk link 'https://www.youtube.com/watch?v=GBS1SPByzMw' berhasil ditambahkan ke 'yt-news.csv'.\n",
      "95. Data untuk link 'https://www.youtube.com/watch?v=LobEhV9Lyz8' sudah ada, tidak disimpan.\n",
      "96. Data untuk link 'https://www.youtube.com/watch?v=G9tXs8468iQ' sudah ada, tidak disimpan.\n",
      "97. Data untuk link 'https://www.youtube.com/watch?v=NaSpR2iQZys' sudah ada, tidak disimpan.\n"
     ]
    },
    {
     "name": "stderr",
     "output_type": "stream",
     "text": [
      "c:\\Users\\ACER-I5\\AppData\\Local\\Programs\\Python\\Python312\\Lib\\site-packages\\whisper\\transcribe.py:115: UserWarning: FP16 is not supported on CPU; using FP32 instead\n",
      "  warnings.warn(\"FP16 is not supported on CPU; using FP32 instead\")\n"
     ]
    },
    {
     "name": "stdout",
     "output_type": "stream",
     "text": [
      "37. Data untuk link 'https://www.youtube.com/watch?v=qEduZP1FBX4' berhasil ditambahkan ke 'yt-news.csv'.\n",
      "98. Data untuk link 'https://www.youtube.com/watch?v=361WsI75Zz8' sudah ada, tidak disimpan.\n",
      "99. Data untuk link 'https://www.youtube.com/watch?v=GG823dd7bVw' sudah ada, tidak disimpan.\n",
      "100. Data untuk link 'https://www.youtube.com/watch?v=e9UtpNvRTPY' sudah ada, tidak disimpan.\n",
      "101. Data untuk link 'https://www.youtube.com/watch?v=a5qnga3HyM0' sudah ada, tidak disimpan.\n",
      "102. Data untuk link 'https://www.youtube.com/watch?v=8E4iVI0BTy8' sudah ada, tidak disimpan.\n",
      "103. Data untuk link 'https://www.youtube.com/watch?v=aeZviTwVcHE' sudah ada, tidak disimpan.\n",
      "104. Data untuk link 'https://www.youtube.com/watch?v=yMwT0YUtPRQ' sudah ada, tidak disimpan.\n",
      "105. Data untuk link 'https://www.youtube.com/watch?v=UAj3tRtCeHk' sudah ada, tidak disimpan.\n",
      "106. Data untuk link 'https://www.youtube.com/watch?v=-oogyHly2hc' sudah ada, tidak disimpan.\n"
     ]
    },
    {
     "name": "stderr",
     "output_type": "stream",
     "text": [
      "c:\\Users\\ACER-I5\\AppData\\Local\\Programs\\Python\\Python312\\Lib\\site-packages\\whisper\\transcribe.py:115: UserWarning: FP16 is not supported on CPU; using FP32 instead\n",
      "  warnings.warn(\"FP16 is not supported on CPU; using FP32 instead\")\n"
     ]
    },
    {
     "name": "stdout",
     "output_type": "stream",
     "text": [
      "38. Data untuk link 'https://www.youtube.com/watch?v=Z8V6A_hPFhs' berhasil ditambahkan ke 'yt-news.csv'.\n"
     ]
    },
    {
     "name": "stderr",
     "output_type": "stream",
     "text": [
      "c:\\Users\\ACER-I5\\AppData\\Local\\Programs\\Python\\Python312\\Lib\\site-packages\\whisper\\transcribe.py:115: UserWarning: FP16 is not supported on CPU; using FP32 instead\n",
      "  warnings.warn(\"FP16 is not supported on CPU; using FP32 instead\")\n"
     ]
    },
    {
     "name": "stdout",
     "output_type": "stream",
     "text": [
      "39. Data untuk link 'https://www.youtube.com/watch?v=-4Z4uynkhCw' berhasil ditambahkan ke 'yt-news.csv'.\n"
     ]
    },
    {
     "name": "stderr",
     "output_type": "stream",
     "text": [
      "c:\\Users\\ACER-I5\\AppData\\Local\\Programs\\Python\\Python312\\Lib\\site-packages\\whisper\\transcribe.py:115: UserWarning: FP16 is not supported on CPU; using FP32 instead\n",
      "  warnings.warn(\"FP16 is not supported on CPU; using FP32 instead\")\n"
     ]
    },
    {
     "name": "stdout",
     "output_type": "stream",
     "text": [
      "40. Data untuk link 'https://www.youtube.com/watch?v=lNIqPPtqgdY' berhasil ditambahkan ke 'yt-news.csv'.\n"
     ]
    },
    {
     "name": "stderr",
     "output_type": "stream",
     "text": [
      "c:\\Users\\ACER-I5\\AppData\\Local\\Programs\\Python\\Python312\\Lib\\site-packages\\whisper\\transcribe.py:115: UserWarning: FP16 is not supported on CPU; using FP32 instead\n",
      "  warnings.warn(\"FP16 is not supported on CPU; using FP32 instead\")\n"
     ]
    },
    {
     "name": "stdout",
     "output_type": "stream",
     "text": [
      "41. Data untuk link 'https://www.youtube.com/watch?v=EyHErgTdniM' berhasil ditambahkan ke 'yt-news.csv'.\n"
     ]
    },
    {
     "name": "stderr",
     "output_type": "stream",
     "text": [
      "c:\\Users\\ACER-I5\\AppData\\Local\\Programs\\Python\\Python312\\Lib\\site-packages\\whisper\\transcribe.py:115: UserWarning: FP16 is not supported on CPU; using FP32 instead\n",
      "  warnings.warn(\"FP16 is not supported on CPU; using FP32 instead\")\n"
     ]
    },
    {
     "name": "stdout",
     "output_type": "stream",
     "text": [
      "42. Data untuk link 'https://www.youtube.com/watch?v=2EvbgmLOv_A' berhasil ditambahkan ke 'yt-news.csv'.\n"
     ]
    },
    {
     "name": "stderr",
     "output_type": "stream",
     "text": [
      "c:\\Users\\ACER-I5\\AppData\\Local\\Programs\\Python\\Python312\\Lib\\site-packages\\whisper\\transcribe.py:115: UserWarning: FP16 is not supported on CPU; using FP32 instead\n",
      "  warnings.warn(\"FP16 is not supported on CPU; using FP32 instead\")\n"
     ]
    },
    {
     "name": "stdout",
     "output_type": "stream",
     "text": [
      "43. Data untuk link 'https://www.youtube.com/watch?v=aENj8ODdw8c' berhasil ditambahkan ke 'yt-news.csv'.\n",
      "107. Data untuk link 'https://www.youtube.com/watch?v=qInVGVt6N2w' sudah ada, tidak disimpan.\n",
      "108. Data untuk link 'https://www.youtube.com/watch?v=yF-4xHnRQjM' sudah ada, tidak disimpan.\n",
      "109. Data untuk link 'https://www.youtube.com/watch?v=5gtJBpfQdOA' sudah ada, tidak disimpan.\n"
     ]
    },
    {
     "name": "stderr",
     "output_type": "stream",
     "text": [
      "c:\\Users\\ACER-I5\\AppData\\Local\\Programs\\Python\\Python312\\Lib\\site-packages\\whisper\\transcribe.py:115: UserWarning: FP16 is not supported on CPU; using FP32 instead\n",
      "  warnings.warn(\"FP16 is not supported on CPU; using FP32 instead\")\n"
     ]
    },
    {
     "name": "stdout",
     "output_type": "stream",
     "text": [
      "44. Data untuk link 'https://www.youtube.com/watch?v=xt-zfgJPato' berhasil ditambahkan ke 'yt-news.csv'.\n"
     ]
    },
    {
     "name": "stderr",
     "output_type": "stream",
     "text": [
      "c:\\Users\\ACER-I5\\AppData\\Local\\Programs\\Python\\Python312\\Lib\\site-packages\\whisper\\transcribe.py:115: UserWarning: FP16 is not supported on CPU; using FP32 instead\n",
      "  warnings.warn(\"FP16 is not supported on CPU; using FP32 instead\")\n"
     ]
    },
    {
     "name": "stdout",
     "output_type": "stream",
     "text": [
      "45. Data untuk link 'https://www.youtube.com/watch?v=0EgvEBAD2sw' berhasil ditambahkan ke 'yt-news.csv'.\n"
     ]
    },
    {
     "name": "stderr",
     "output_type": "stream",
     "text": [
      "c:\\Users\\ACER-I5\\AppData\\Local\\Programs\\Python\\Python312\\Lib\\site-packages\\whisper\\transcribe.py:115: UserWarning: FP16 is not supported on CPU; using FP32 instead\n",
      "  warnings.warn(\"FP16 is not supported on CPU; using FP32 instead\")\n"
     ]
    },
    {
     "name": "stdout",
     "output_type": "stream",
     "text": [
      "46. Data untuk link 'https://www.youtube.com/watch?v=WSs-28mqlJE' berhasil ditambahkan ke 'yt-news.csv'.\n",
      "110. Data untuk link 'https://www.youtube.com/watch?v=PX69cN_FOgE' sudah ada, tidak disimpan.\n",
      "111. Data untuk link 'https://www.youtube.com/watch?v=p7YNeE_saz4' sudah ada, tidak disimpan.\n",
      "112. Data untuk link 'https://www.youtube.com/watch?v=0VgWN0G_Dio' sudah ada, tidak disimpan.\n",
      "113. Data untuk link 'https://www.youtube.com/watch?v=MzOrdKX7DBo' sudah ada, tidak disimpan.\n"
     ]
    },
    {
     "name": "stderr",
     "output_type": "stream",
     "text": [
      "c:\\Users\\ACER-I5\\AppData\\Local\\Programs\\Python\\Python312\\Lib\\site-packages\\whisper\\transcribe.py:115: UserWarning: FP16 is not supported on CPU; using FP32 instead\n",
      "  warnings.warn(\"FP16 is not supported on CPU; using FP32 instead\")\n"
     ]
    },
    {
     "name": "stdout",
     "output_type": "stream",
     "text": [
      "47. Data untuk link 'https://www.youtube.com/watch?v=vWJ_hIAul-0' berhasil ditambahkan ke 'yt-news.csv'.\n",
      "114. Data untuk link 'https://www.youtube.com/watch?v=sCXGOJDDPwI' sudah ada, tidak disimpan.\n"
     ]
    },
    {
     "name": "stderr",
     "output_type": "stream",
     "text": [
      "c:\\Users\\ACER-I5\\AppData\\Local\\Programs\\Python\\Python312\\Lib\\site-packages\\whisper\\transcribe.py:115: UserWarning: FP16 is not supported on CPU; using FP32 instead\n",
      "  warnings.warn(\"FP16 is not supported on CPU; using FP32 instead\")\n"
     ]
    },
    {
     "name": "stdout",
     "output_type": "stream",
     "text": [
      "48. Data untuk link 'https://www.youtube.com/watch?v=yg4zX22j5yE' berhasil ditambahkan ke 'yt-news.csv'.\n"
     ]
    },
    {
     "name": "stderr",
     "output_type": "stream",
     "text": [
      "c:\\Users\\ACER-I5\\AppData\\Local\\Programs\\Python\\Python312\\Lib\\site-packages\\whisper\\transcribe.py:115: UserWarning: FP16 is not supported on CPU; using FP32 instead\n",
      "  warnings.warn(\"FP16 is not supported on CPU; using FP32 instead\")\n"
     ]
    },
    {
     "name": "stdout",
     "output_type": "stream",
     "text": [
      "49. Data untuk link 'https://www.youtube.com/watch?v=32zcwEL2G_c' berhasil ditambahkan ke 'yt-news.csv'.\n"
     ]
    },
    {
     "name": "stderr",
     "output_type": "stream",
     "text": [
      "c:\\Users\\ACER-I5\\AppData\\Local\\Programs\\Python\\Python312\\Lib\\site-packages\\whisper\\transcribe.py:115: UserWarning: FP16 is not supported on CPU; using FP32 instead\n",
      "  warnings.warn(\"FP16 is not supported on CPU; using FP32 instead\")\n"
     ]
    },
    {
     "name": "stdout",
     "output_type": "stream",
     "text": [
      "50. Data untuk link 'https://www.youtube.com/watch?v=gKSuspbVV2s' berhasil ditambahkan ke 'yt-news.csv'.\n"
     ]
    },
    {
     "name": "stderr",
     "output_type": "stream",
     "text": [
      "c:\\Users\\ACER-I5\\AppData\\Local\\Programs\\Python\\Python312\\Lib\\site-packages\\whisper\\transcribe.py:115: UserWarning: FP16 is not supported on CPU; using FP32 instead\n",
      "  warnings.warn(\"FP16 is not supported on CPU; using FP32 instead\")\n"
     ]
    },
    {
     "name": "stdout",
     "output_type": "stream",
     "text": [
      "51. Data untuk link 'https://www.youtube.com/watch?v=FnpOs-TWZ6s' berhasil ditambahkan ke 'yt-news.csv'.\n",
      "115. Data untuk link 'https://www.youtube.com/watch?v=RUSyJMwqiaE' sudah ada, tidak disimpan.\n",
      "116. Data untuk link 'https://www.youtube.com/watch?v=WtNYduU-6Ss' sudah ada, tidak disimpan.\n",
      "117. Data untuk link 'https://www.youtube.com/watch?v=3AWglSkO9uA' sudah ada, tidak disimpan.\n",
      "118. Data untuk link 'https://www.youtube.com/watch?v=D7ZYx2GD3xI' sudah ada, tidak disimpan.\n"
     ]
    },
    {
     "name": "stderr",
     "output_type": "stream",
     "text": [
      "c:\\Users\\ACER-I5\\AppData\\Local\\Programs\\Python\\Python312\\Lib\\site-packages\\whisper\\transcribe.py:115: UserWarning: FP16 is not supported on CPU; using FP32 instead\n",
      "  warnings.warn(\"FP16 is not supported on CPU; using FP32 instead\")\n"
     ]
    },
    {
     "name": "stdout",
     "output_type": "stream",
     "text": [
      "52. Data untuk link 'https://www.youtube.com/watch?v=AlbC-O5Uxsg' berhasil ditambahkan ke 'yt-news.csv'.\n"
     ]
    },
    {
     "name": "stderr",
     "output_type": "stream",
     "text": [
      "c:\\Users\\ACER-I5\\AppData\\Local\\Programs\\Python\\Python312\\Lib\\site-packages\\whisper\\transcribe.py:115: UserWarning: FP16 is not supported on CPU; using FP32 instead\n",
      "  warnings.warn(\"FP16 is not supported on CPU; using FP32 instead\")\n"
     ]
    },
    {
     "name": "stdout",
     "output_type": "stream",
     "text": [
      "53. Data untuk link 'https://www.youtube.com/watch?v=M64xM9XHHbM' berhasil ditambahkan ke 'yt-news.csv'.\n",
      "119. Data untuk link 'https://www.youtube.com/watch?v=UF41fUIOWWs' sudah ada, tidak disimpan.\n"
     ]
    },
    {
     "name": "stderr",
     "output_type": "stream",
     "text": [
      "c:\\Users\\ACER-I5\\AppData\\Local\\Programs\\Python\\Python312\\Lib\\site-packages\\whisper\\transcribe.py:115: UserWarning: FP16 is not supported on CPU; using FP32 instead\n",
      "  warnings.warn(\"FP16 is not supported on CPU; using FP32 instead\")\n"
     ]
    },
    {
     "name": "stdout",
     "output_type": "stream",
     "text": [
      "54. Data untuk link 'https://www.youtube.com/watch?v=MaCGEt9GUIQ' berhasil ditambahkan ke 'yt-news.csv'.\n",
      "120. Data untuk link 'https://www.youtube.com/watch?v=uG1IveapfAc' sudah ada, tidak disimpan.\n",
      "121. Data untuk link 'https://www.youtube.com/watch?v=uUR1HMaluWU' sudah ada, tidak disimpan.\n"
     ]
    },
    {
     "name": "stderr",
     "output_type": "stream",
     "text": [
      "c:\\Users\\ACER-I5\\AppData\\Local\\Programs\\Python\\Python312\\Lib\\site-packages\\whisper\\transcribe.py:115: UserWarning: FP16 is not supported on CPU; using FP32 instead\n",
      "  warnings.warn(\"FP16 is not supported on CPU; using FP32 instead\")\n"
     ]
    },
    {
     "name": "stdout",
     "output_type": "stream",
     "text": [
      "55. Data untuk link 'https://www.youtube.com/watch?v=D9sDibo7BKs' berhasil ditambahkan ke 'yt-news.csv'.\n"
     ]
    },
    {
     "name": "stderr",
     "output_type": "stream",
     "text": [
      "c:\\Users\\ACER-I5\\AppData\\Local\\Programs\\Python\\Python312\\Lib\\site-packages\\whisper\\transcribe.py:115: UserWarning: FP16 is not supported on CPU; using FP32 instead\n",
      "  warnings.warn(\"FP16 is not supported on CPU; using FP32 instead\")\n"
     ]
    },
    {
     "name": "stdout",
     "output_type": "stream",
     "text": [
      "56. Data untuk link 'https://www.youtube.com/watch?v=qiSnVUbZX7I' berhasil ditambahkan ke 'yt-news.csv'.\n",
      "122. Data untuk link 'https://www.youtube.com/watch?v=B0yj_096Sp8' sudah ada, tidak disimpan.\n",
      "123. Data untuk link 'https://www.youtube.com/watch?v=qBCv9wVUaa0' sudah ada, tidak disimpan.\n",
      "124. Data untuk link 'https://www.youtube.com/watch?v=_Ga-Fb3qvDo' sudah ada, tidak disimpan.\n",
      "125. Data untuk link 'https://www.youtube.com/watch?v=xWb34OAimBM' sudah ada, tidak disimpan.\n",
      "126. Data untuk link 'https://www.youtube.com/watch?v=z1xn5c8ohCQ' sudah ada, tidak disimpan.\n",
      "127. Data untuk link 'https://www.youtube.com/watch?v=w62L30njbK0' sudah ada, tidak disimpan.\n",
      "128. Data untuk link 'https://www.youtube.com/watch?v=Gs9a4yIrlc8' sudah ada, tidak disimpan.\n",
      "129. Data untuk link 'https://www.youtube.com/watch?v=rdGJynW0lWI' sudah ada, tidak disimpan.\n",
      "130. Data untuk link 'https://www.youtube.com/watch?v=MC3VHuXb9I4' sudah ada, tidak disimpan.\n",
      "131. Data untuk link 'https://www.youtube.com/watch?v=gyf3aymIkNQ' sudah ada, tidak disimpan.\n"
     ]
    },
    {
     "name": "stderr",
     "output_type": "stream",
     "text": [
      "c:\\Users\\ACER-I5\\AppData\\Local\\Programs\\Python\\Python312\\Lib\\site-packages\\whisper\\transcribe.py:115: UserWarning: FP16 is not supported on CPU; using FP32 instead\n",
      "  warnings.warn(\"FP16 is not supported on CPU; using FP32 instead\")\n"
     ]
    },
    {
     "name": "stdout",
     "output_type": "stream",
     "text": [
      "57. Data untuk link 'https://www.youtube.com/watch?v=6l-iFW7Ynt4' berhasil ditambahkan ke 'yt-news.csv'.\n"
     ]
    },
    {
     "name": "stderr",
     "output_type": "stream",
     "text": [
      "c:\\Users\\ACER-I5\\AppData\\Local\\Programs\\Python\\Python312\\Lib\\site-packages\\whisper\\transcribe.py:115: UserWarning: FP16 is not supported on CPU; using FP32 instead\n",
      "  warnings.warn(\"FP16 is not supported on CPU; using FP32 instead\")\n"
     ]
    },
    {
     "name": "stdout",
     "output_type": "stream",
     "text": [
      "58. Data untuk link 'https://www.youtube.com/watch?v=OSb_iC9XvCs' berhasil ditambahkan ke 'yt-news.csv'.\n"
     ]
    },
    {
     "name": "stderr",
     "output_type": "stream",
     "text": [
      "c:\\Users\\ACER-I5\\AppData\\Local\\Programs\\Python\\Python312\\Lib\\site-packages\\whisper\\transcribe.py:115: UserWarning: FP16 is not supported on CPU; using FP32 instead\n",
      "  warnings.warn(\"FP16 is not supported on CPU; using FP32 instead\")\n"
     ]
    },
    {
     "name": "stdout",
     "output_type": "stream",
     "text": [
      "59. Data untuk link 'https://www.youtube.com/watch?v=Z9q9dC35cEc' berhasil ditambahkan ke 'yt-news.csv'.\n",
      "132. Data untuk link 'https://www.youtube.com/watch?v=-4Z4uynkhCw' sudah ada, tidak disimpan.\n",
      "133. Data untuk link 'https://www.youtube.com/watch?v=EyHErgTdniM' sudah ada, tidak disimpan.\n",
      "134. Data untuk link 'https://www.youtube.com/watch?v=2EvbgmLOv_A' sudah ada, tidak disimpan.\n",
      "135. Data untuk link 'https://www.youtube.com/watch?v=aENj8ODdw8c' sudah ada, tidak disimpan.\n",
      "136. Data untuk link 'https://www.youtube.com/watch?v=qInVGVt6N2w' sudah ada, tidak disimpan.\n",
      "137. Data untuk link 'https://www.youtube.com/watch?v=yF-4xHnRQjM' sudah ada, tidak disimpan.\n",
      "138. Data untuk link 'https://www.youtube.com/watch?v=5gtJBpfQdOA' sudah ada, tidak disimpan.\n",
      "139. Data untuk link 'https://www.youtube.com/watch?v=lNIqPPtqgdY' sudah ada, tidak disimpan.\n"
     ]
    },
    {
     "name": "stderr",
     "output_type": "stream",
     "text": [
      "c:\\Users\\ACER-I5\\AppData\\Local\\Programs\\Python\\Python312\\Lib\\site-packages\\whisper\\transcribe.py:115: UserWarning: FP16 is not supported on CPU; using FP32 instead\n",
      "  warnings.warn(\"FP16 is not supported on CPU; using FP32 instead\")\n"
     ]
    },
    {
     "name": "stdout",
     "output_type": "stream",
     "text": [
      "60. Data untuk link 'https://www.youtube.com/watch?v=nJUq4-hyiYA' berhasil ditambahkan ke 'yt-news.csv'.\n",
      "140. Data untuk link 'https://www.youtube.com/watch?v=yMwT0YUtPRQ' sudah ada, tidak disimpan.\n"
     ]
    },
    {
     "name": "stderr",
     "output_type": "stream",
     "text": [
      "c:\\Users\\ACER-I5\\AppData\\Local\\Programs\\Python\\Python312\\Lib\\site-packages\\whisper\\transcribe.py:115: UserWarning: FP16 is not supported on CPU; using FP32 instead\n",
      "  warnings.warn(\"FP16 is not supported on CPU; using FP32 instead\")\n"
     ]
    },
    {
     "name": "stdout",
     "output_type": "stream",
     "text": [
      "61. Data untuk link 'https://www.youtube.com/watch?v=waTTU9cfJ6M' berhasil ditambahkan ke 'yt-news.csv'.\n",
      "141. Data untuk link 'https://www.youtube.com/watch?v=YWe5pkhKBSY' sudah ada, tidak disimpan.\n"
     ]
    },
    {
     "name": "stderr",
     "output_type": "stream",
     "text": [
      "c:\\Users\\ACER-I5\\AppData\\Local\\Programs\\Python\\Python312\\Lib\\site-packages\\whisper\\transcribe.py:115: UserWarning: FP16 is not supported on CPU; using FP32 instead\n",
      "  warnings.warn(\"FP16 is not supported on CPU; using FP32 instead\")\n"
     ]
    },
    {
     "name": "stdout",
     "output_type": "stream",
     "text": [
      "62. Data untuk link 'https://www.youtube.com/watch?v=w_yjwd-dmLE' berhasil ditambahkan ke 'yt-news.csv'.\n"
     ]
    },
    {
     "name": "stderr",
     "output_type": "stream",
     "text": [
      "c:\\Users\\ACER-I5\\AppData\\Local\\Programs\\Python\\Python312\\Lib\\site-packages\\whisper\\transcribe.py:115: UserWarning: FP16 is not supported on CPU; using FP32 instead\n",
      "  warnings.warn(\"FP16 is not supported on CPU; using FP32 instead\")\n"
     ]
    },
    {
     "name": "stdout",
     "output_type": "stream",
     "text": [
      "63. Data untuk link 'https://www.youtube.com/watch?v=YekquhYMRQY' berhasil ditambahkan ke 'yt-news.csv'.\n",
      "142. Data untuk link 'https://www.youtube.com/watch?v=vWJ_hIAul-0' sudah ada, tidak disimpan.\n",
      "143. Data untuk link 'https://www.youtube.com/watch?v=sCXGOJDDPwI' sudah ada, tidak disimpan.\n"
     ]
    },
    {
     "name": "stderr",
     "output_type": "stream",
     "text": [
      "c:\\Users\\ACER-I5\\AppData\\Local\\Programs\\Python\\Python312\\Lib\\site-packages\\whisper\\transcribe.py:115: UserWarning: FP16 is not supported on CPU; using FP32 instead\n",
      "  warnings.warn(\"FP16 is not supported on CPU; using FP32 instead\")\n"
     ]
    },
    {
     "name": "stdout",
     "output_type": "stream",
     "text": [
      "64. Data untuk link 'https://www.youtube.com/watch?v=Q8zNBxp7HPY' berhasil ditambahkan ke 'yt-news.csv'.\n",
      "144. Data untuk link 'https://www.youtube.com/watch?v=iU6HLNLZEUo' sudah ada, tidak disimpan.\n"
     ]
    },
    {
     "name": "stderr",
     "output_type": "stream",
     "text": [
      "c:\\Users\\ACER-I5\\AppData\\Local\\Programs\\Python\\Python312\\Lib\\site-packages\\whisper\\transcribe.py:115: UserWarning: FP16 is not supported on CPU; using FP32 instead\n",
      "  warnings.warn(\"FP16 is not supported on CPU; using FP32 instead\")\n"
     ]
    },
    {
     "name": "stdout",
     "output_type": "stream",
     "text": [
      "65. Data untuk link 'https://www.youtube.com/watch?v=CHx0jx6WdTg' berhasil ditambahkan ke 'yt-news.csv'.\n"
     ]
    },
    {
     "name": "stderr",
     "output_type": "stream",
     "text": [
      "c:\\Users\\ACER-I5\\AppData\\Local\\Programs\\Python\\Python312\\Lib\\site-packages\\whisper\\transcribe.py:115: UserWarning: FP16 is not supported on CPU; using FP32 instead\n",
      "  warnings.warn(\"FP16 is not supported on CPU; using FP32 instead\")\n"
     ]
    },
    {
     "name": "stdout",
     "output_type": "stream",
     "text": [
      "66. Data untuk link 'https://www.youtube.com/watch?v=Z3iCzLsnd_Q' berhasil ditambahkan ke 'yt-news.csv'.\n",
      "145. Data untuk link 'https://www.youtube.com/watch?v=KjVEc6yJrCc' sudah ada, tidak disimpan.\n",
      "146. Data untuk link 'https://www.youtube.com/watch?v=kLUFuXebdC4' sudah ada, tidak disimpan.\n",
      "147. Data untuk link 'https://www.youtube.com/watch?v=AU7r8kL_96A' sudah ada, tidak disimpan.\n",
      "148. Data untuk link 'https://www.youtube.com/watch?v=Py3SB4wkCBk' sudah ada, tidak disimpan.\n",
      "149. Data untuk link 'https://www.youtube.com/watch?v=oGJsn6HzkpI' sudah ada, tidak disimpan.\n",
      "150. Data untuk link 'https://www.youtube.com/watch?v=TtFD6eDhl4c' sudah ada, tidak disimpan.\n",
      "151. Data untuk link 'https://www.youtube.com/watch?v=3DXw3ikiUrI' sudah ada, tidak disimpan.\n",
      "152. Data untuk link 'https://www.youtube.com/watch?v=qMicMMuRYFg' sudah ada, tidak disimpan.\n"
     ]
    },
    {
     "name": "stderr",
     "output_type": "stream",
     "text": [
      "c:\\Users\\ACER-I5\\AppData\\Local\\Programs\\Python\\Python312\\Lib\\site-packages\\whisper\\transcribe.py:115: UserWarning: FP16 is not supported on CPU; using FP32 instead\n",
      "  warnings.warn(\"FP16 is not supported on CPU; using FP32 instead\")\n"
     ]
    },
    {
     "name": "stdout",
     "output_type": "stream",
     "text": [
      "67. Data untuk link 'https://www.youtube.com/watch?v=5aZZmUOZYWo' berhasil ditambahkan ke 'yt-news.csv'.\n",
      "153. Data untuk link 'https://www.youtube.com/watch?v=a5qnga3HyM0' sudah ada, tidak disimpan.\n",
      "154. Data untuk link 'https://www.youtube.com/watch?v=8E4iVI0BTy8' sudah ada, tidak disimpan.\n",
      "155. Data untuk link 'https://www.youtube.com/watch?v=aeZviTwVcHE' sudah ada, tidak disimpan.\n"
     ]
    },
    {
     "name": "stderr",
     "output_type": "stream",
     "text": [
      "c:\\Users\\ACER-I5\\AppData\\Local\\Programs\\Python\\Python312\\Lib\\site-packages\\whisper\\transcribe.py:115: UserWarning: FP16 is not supported on CPU; using FP32 instead\n",
      "  warnings.warn(\"FP16 is not supported on CPU; using FP32 instead\")\n"
     ]
    },
    {
     "name": "stdout",
     "output_type": "stream",
     "text": [
      "68. Data untuk link 'https://www.youtube.com/watch?v=ZGckRQkmUVI' berhasil ditambahkan ke 'yt-news.csv'.\n",
      "156. Data untuk link 'https://www.youtube.com/watch?v=T1w6cDmtYGQ' sudah ada, tidak disimpan.\n",
      "157. Data untuk link 'https://www.youtube.com/watch?v=xBRO7ZMlMs0' sudah ada, tidak disimpan.\n",
      "158. Data untuk link 'https://www.youtube.com/watch?v=DBWi-je99D8' sudah ada, tidak disimpan.\n",
      "159. Data untuk link 'https://www.youtube.com/watch?v=8knCNp9WhYo' sudah ada, tidak disimpan.\n",
      "160. Data untuk link 'https://www.youtube.com/watch?v=GBS1SPByzMw' sudah ada, tidak disimpan.\n",
      "161. Data untuk link 'https://www.youtube.com/watch?v=LobEhV9Lyz8' sudah ada, tidak disimpan.\n",
      "162. Data untuk link 'https://www.youtube.com/watch?v=G9tXs8468iQ' sudah ada, tidak disimpan.\n",
      "163. Data untuk link 'https://www.youtube.com/watch?v=NaSpR2iQZys' sudah ada, tidak disimpan.\n",
      "164. Data untuk link 'https://www.youtube.com/watch?v=5aZZmUOZYWo' sudah ada, tidak disimpan.\n",
      "165. Data untuk link 'https://www.youtube.com/watch?v=qEduZP1FBX4' sudah ada, tidak disimpan.\n",
      "166. Data untuk link 'https://www.youtube.com/watch?v=361WsI75Zz8' sudah ada, tidak disimpan.\n",
      "167. Data untuk link 'https://www.youtube.com/watch?v=bp_X3T80DLE' sudah ada, tidak disimpan.\n"
     ]
    },
    {
     "name": "stderr",
     "output_type": "stream",
     "text": [
      "c:\\Users\\ACER-I5\\AppData\\Local\\Programs\\Python\\Python312\\Lib\\site-packages\\whisper\\transcribe.py:115: UserWarning: FP16 is not supported on CPU; using FP32 instead\n",
      "  warnings.warn(\"FP16 is not supported on CPU; using FP32 instead\")\n"
     ]
    },
    {
     "name": "stdout",
     "output_type": "stream",
     "text": [
      "69. Data untuk link 'https://www.youtube.com/watch?v=8WOiV6wHHP0' berhasil ditambahkan ke 'yt-news.csv'.\n"
     ]
    },
    {
     "name": "stderr",
     "output_type": "stream",
     "text": [
      "c:\\Users\\ACER-I5\\AppData\\Local\\Programs\\Python\\Python312\\Lib\\site-packages\\whisper\\transcribe.py:115: UserWarning: FP16 is not supported on CPU; using FP32 instead\n",
      "  warnings.warn(\"FP16 is not supported on CPU; using FP32 instead\")\n"
     ]
    },
    {
     "name": "stdout",
     "output_type": "stream",
     "text": [
      "70. Data untuk link 'https://www.youtube.com/watch?v=_Ub_Vs901IA' berhasil ditambahkan ke 'yt-news.csv'.\n"
     ]
    },
    {
     "name": "stderr",
     "output_type": "stream",
     "text": [
      "c:\\Users\\ACER-I5\\AppData\\Local\\Programs\\Python\\Python312\\Lib\\site-packages\\whisper\\transcribe.py:115: UserWarning: FP16 is not supported on CPU; using FP32 instead\n",
      "  warnings.warn(\"FP16 is not supported on CPU; using FP32 instead\")\n"
     ]
    },
    {
     "name": "stdout",
     "output_type": "stream",
     "text": [
      "71. Data untuk link 'https://www.youtube.com/watch?v=pFQEmjYWhLU' berhasil ditambahkan ke 'yt-news.csv'.\n"
     ]
    },
    {
     "name": "stderr",
     "output_type": "stream",
     "text": [
      "c:\\Users\\ACER-I5\\AppData\\Local\\Programs\\Python\\Python312\\Lib\\site-packages\\whisper\\transcribe.py:115: UserWarning: FP16 is not supported on CPU; using FP32 instead\n",
      "  warnings.warn(\"FP16 is not supported on CPU; using FP32 instead\")\n"
     ]
    },
    {
     "name": "stdout",
     "output_type": "stream",
     "text": [
      "72. Data untuk link 'https://www.youtube.com/watch?v=fwXeC39iX8s' berhasil ditambahkan ke 'yt-news.csv'.\n"
     ]
    },
    {
     "name": "stderr",
     "output_type": "stream",
     "text": [
      "c:\\Users\\ACER-I5\\AppData\\Local\\Programs\\Python\\Python312\\Lib\\site-packages\\whisper\\transcribe.py:115: UserWarning: FP16 is not supported on CPU; using FP32 instead\n",
      "  warnings.warn(\"FP16 is not supported on CPU; using FP32 instead\")\n"
     ]
    },
    {
     "name": "stdout",
     "output_type": "stream",
     "text": [
      "73. Data untuk link 'https://www.youtube.com/watch?v=BS7rDofXDjU' berhasil ditambahkan ke 'yt-news.csv'.\n"
     ]
    },
    {
     "name": "stderr",
     "output_type": "stream",
     "text": [
      "c:\\Users\\ACER-I5\\AppData\\Local\\Programs\\Python\\Python312\\Lib\\site-packages\\whisper\\transcribe.py:115: UserWarning: FP16 is not supported on CPU; using FP32 instead\n",
      "  warnings.warn(\"FP16 is not supported on CPU; using FP32 instead\")\n"
     ]
    },
    {
     "name": "stdout",
     "output_type": "stream",
     "text": [
      "74. Data untuk link 'https://www.youtube.com/watch?v=TPOt3VZM_Us' berhasil ditambahkan ke 'yt-news.csv'.\n",
      "168. Data untuk link 'https://www.youtube.com/watch?v=PX69cN_FOgE' sudah ada, tidak disimpan.\n",
      "169. Data untuk link 'https://www.youtube.com/watch?v=0VgWN0G_Dio' sudah ada, tidak disimpan.\n",
      "170. Data untuk link 'https://www.youtube.com/watch?v=MzOrdKX7DBo' sudah ada, tidak disimpan.\n",
      "Sebanyak 170 data tidak ditambahkan ke 'yt-news.csv'.\n",
      "Sebanyak 74 data berhasil ditambahkan ke 'yt-news.csv'.\n",
      "Data berhasil ditambahkan ke 'yt-news.csv'.\n"
     ]
    }
   ],
   "source": [
    "topik = \"olahraga\"\n",
    "url = [\n",
    "    \"https://www.youtube.com/watch?v=sWHB6KwBiP4\",\n",
    "    \"https://www.youtube.com/watch?v=uRxCkujfvS0\",\n",
    "    \"https://www.youtube.com/watch?v=HQ8kfXOt3CY\",\n",
    "    \"https://www.youtube.com/watch?v=uG1IveapfAc\",\n",
    "    \"https://www.youtube.com/watch?v=uUR1HMaluWU\",\n",
    "    \"https://www.youtube.com/watch?v=qMicMMuRYFg\",\n",
    "    \"https://www.youtube.com/watch?v=OG0aLbbLW1Y\",\n",
    "    \"https://www.youtube.com/watch?v=cFUlbP7LHDU\",\n",
    "    \"https://www.youtube.com/watch?v=gBPKQfdeoSg\",\n",
    "    \"https://www.youtube.com/watch?v=ec2a1JZnmS8\",\n",
    "    \"https://www.youtube.com/watch?v=3dX_X_Mv_9g\",\n",
    "    \"https://www.youtube.com/watch?v=34XrI3X-B6Q\",\n",
    "    \"https://www.youtube.com/watch?v=blS2vvidoRs\",\n",
    "    \"https://www.youtube.com/watch?v=ZrTj_psYQzU\",\n",
    "    \"https://www.youtube.com/watch?v=8E4iVI0BTy8\",\n",
    "    \"https://www.youtube.com/watch?v=aeZviTwVcHE\",\n",
    "    \"https://www.youtube.com/watch?v=1bzP3Gxn61s\",\n",
    "    \"https://www.youtube.com/watch?v=UgLAH3i7SJk\",\n",
    "    \"https://www.youtube.com/watch?v=TuKJcUB3MUw\",\n",
    "    \"https://www.youtube.com/watch?v=A97JwQpc6uM\",\n",
    "    \"https://www.youtube.com/watch?v=3AWglSkO9uA\",\n",
    "    \"https://www.youtube.com/watch?v=RUSyJMwqiaE\",\n",
    "    \"https://www.youtube.com/watch?v=WtNYduU-6Ss\",\n",
    "    \"https://www.youtube.com/watch?v=D7ZYx2GD3xI\",\n",
    "    \"https://www.youtube.com/watch?v=35TEePs9JKQ\",\n",
    "    \"https://www.youtube.com/watch?v=dA-hdlbQ1xA\",\n",
    "    \"https://www.youtube.com/watch?v=wyvBUBDR0MY\",\n",
    "    \"https://www.youtube.com/watch?v=WcWhk_lAmnk\",\n",
    "    \"https://www.youtube.com/watch?v=YWe5pkhKBSY\",\n",
    "    \"https://www.youtube.com/watch?v=E2fcuemEc9c\",\n",
    "    \"https://www.youtube.com/watch?v=LrwRtqK3GYg\",\n",
    "    \"https://www.youtube.com/watch?v=Tk1OwiWc7tM\",\n",
    "    \"https://www.youtube.com/watch?v=PX69cN_FOgE\",\n",
    "    \"https://www.youtube.com/watch?v=p7YNeE_saz4\",\n",
    "    \"https://www.youtube.com/watch?v=NrWs2poJOmc\",\n",
    "    \"https://www.youtube.com/watch?v=Gqaa-NcJvuQ\",\n",
    "    \"https://www.youtube.com/watch?v=cj_wZznSwro\",\n",
    "    \"https://www.youtube.com/watch?v=0VgWN0G_Dio\",\n",
    "    \"https://www.youtube.com/watch?v=fVZ__dkVomY\",\n",
    "    \"https://www.youtube.com/watch?v=MzOrdKX7DBo\",\n",
    "    \"https://www.youtube.com/watch?v=oQpGuhfmrTE\",\n",
    "    \"https://www.youtube.com/watch?v=sXqsLdXOBYQ\",\n",
    "    \"https://www.youtube.com/watch?v=RPXU6IBSk3M\",\n",
    "    \"https://www.youtube.com/watch?v=15OkelvZFqk\",\n",
    "    \"https://www.youtube.com/watch?v=qxfsusjCXIc\",\n",
    "    \"https://www.youtube.com/watch?v=TuKJcUB3MUw\",\n",
    "    \"https://www.youtube.com/watch?v=A97JwQpc6uM\",\n",
    "    \"https://www.youtube.com/watch?v=PxjvjXD35CA\",\n",
    "    \"https://www.youtube.com/watch?v=k2WEGx4LW0k\",\n",
    "    \"https://www.youtube.com/watch?v=LobEhV9Lyz8\",\n",
    "    \"https://www.youtube.com/watch?v=G9tXs8468iQ\",\n",
    "    \"https://www.youtube.com/watch?v=NaSpR2iQZys\",\n",
    "    \"https://www.youtube.com/watch?v=9b-AzR8G5sM\",\n",
    "    \"https://www.youtube.com/watch?v=361WsI75Zz8\",\n",
    "    \"https://www.youtube.com/watch?v=GG823dd7bVw\",\n",
    "    \"https://www.youtube.com/watch?v=e9UtpNvRTPY\",\n",
    "    \"https://www.youtube.com/watch?v=a5qnga3HyM0\",\n",
    "    \"https://www.youtube.com/watch?v=8E4iVI0BTy8\",\n",
    "    \"https://www.youtube.com/watch?v=1bzP3Gxn61s\",\n",
    "    \"https://www.youtube.com/watch?v=UgLAH3i7SJk\",\n",
    "    \"https://www.youtube.com/watch?v=aeZviTwVcHE\",\n",
    "    \"https://www.youtube.com/watch?v=UF41fUIOWWs\",\n",
    "    \"https://www.youtube.com/watch?v=UAj3tRtCeHk\",\n",
    "    \"https://www.youtube.com/watch?v=-oogyHly2hc\",\n",
    "    \"https://www.youtube.com/watch?v=AU7r8kL_96A\",\n",
    "    \"https://www.youtube.com/watch?v=Py3SB4wkCBk\",\n",
    "    \"https://www.youtube.com/watch?v=oGJsn6HzkpI\",\n",
    "    \"https://www.youtube.com/watch?v=TtFD6eDhl4c\",\n",
    "    \"https://www.youtube.com/watch?v=3DXw3ikiUrI\",\n",
    "    \"https://www.youtube.com/watch?v=qMicMMuRYFg\",\n",
    "    \"https://www.youtube.com/watch?v=15OkelvZFqk\",\n",
    "    \"https://www.youtube.com/watch?v=OG0aLbbLW1Y\",\n",
    "    \"https://www.youtube.com/watch?v=cFUlbP7LHDU\",\n",
    "    \"https://www.youtube.com/watch?v=gBPKQfdeoSg\",\n",
    "    \"https://www.youtube.com/watch?v=ec2a1JZnmS8\",\n",
    "    \"https://www.youtube.com/watch?v=3dX_X_Mv_9g\",\n",
    "    \"https://www.youtube.com/watch?v=mMhBZUfvhNY\",\n",
    "    \"https://www.youtube.com/watch?v=qInVGVt6N2w\",\n",
    "    \"https://www.youtube.com/watch?v=yF-4xHnRQjM\",\n",
    "    \"https://www.youtube.com/watch?v=5gtJBpfQdOA\",\n",
    "    \"https://www.youtube.com/watch?v=YmCukzOpiVo\",\n",
    "    \"https://www.youtube.com/watch?v=plTZftvFb9Q\",\n",
    "    \"https://www.youtube.com/watch?v=uaCAm99y67I\",\n",
    "    \"https://www.youtube.com/watch?v=4MUaqrXQ-Vk\",\n",
    "    \"https://www.youtube.com/watch?v=IQK2PMl2o5g\",\n",
    "    \"https://www.youtube.com/watch?v=d1SMnZV411Q\",\n",
    "    \"https://www.youtube.com/watch?v=B30qilRDRec\",\n",
    "    \"https://www.youtube.com/watch?v=yMwT0YUtPRQ\",\n",
    "    \"https://www.youtube.com/watch?v=OYLHwWhEN3E\",\n",
    "    \"https://www.youtube.com/watch?v=GnpaiW9_vY4\",\n",
    "    \"https://www.youtube.com/watch?v=bp_X3T80DLE\",\n",
    "    \"https://www.youtube.com/watch?v=PX69cN_FOgE\",\n",
    "    \"https://www.youtube.com/watch?v=p7YNeE_saz4\",\n",
    "    \"https://www.youtube.com/watch?v=0VgWN0G_Dio\",\n",
    "    \"https://www.youtube.com/watch?v=MzOrdKX7DBo\",\n",
    "    \"https://www.youtube.com/watch?v=oQpGuhfmrTE\",\n",
    "    \"https://www.youtube.com/watch?v=koZbepAt_Vo\",\n",
    "    \"https://www.youtube.com/watch?v=RQtnRYWA0Jk\",\n",
    "    \"https://www.youtube.com/watch?v=sCXGOJDDPwI\",\n",
    "    \"https://www.youtube.com/watch?v=rdGJynW0lWI\",\n",
    "    \"https://www.youtube.com/watch?v=B0yj_096Sp8\",\n",
    "    \"https://www.youtube.com/watch?v=qBCv9wVUaa0\",\n",
    "    \"https://www.youtube.com/watch?v=_Ga-Fb3qvDo\",\n",
    "    \"https://www.youtube.com/watch?v=xWb34OAimBM\",\n",
    "    \"https://www.youtube.com/watch?v=z1xn5c8ohCQ\",\n",
    "    \"https://www.youtube.com/watch?v=w62L30njbK0\",\n",
    "    \"https://www.youtube.com/watch?v=Gs9a4yIrlc8\",\n",
    "    \"https://www.youtube.com/watch?v=MC3VHuXb9I4\",\n",
    "    \"https://www.youtube.com/watch?v=gyf3aymIkNQ\",\n",
    "    \"https://www.youtube.com/watch?v=W-ElLFWDseY\",\n",
    "    \"https://www.youtube.com/watch?v=bXpCDMY4gvc\",\n",
    "    \"https://www.youtube.com/watch?v=xFSqTAzSNhE\",\n",
    "    \"https://www.youtube.com/watch?v=iU6HLNLZEUo\",\n",
    "    \"https://www.youtube.com/watch?v=KjVEc6yJrCc\",\n",
    "    \"https://www.youtube.com/watch?v=kLUFuXebdC4\",\n",
    "    \"https://www.youtube.com/watch?v=AU7r8kL_96A\",\n",
    "    \"https://www.youtube.com/watch?v=Py3SB4wkCBk\",\n",
    "    \"https://www.youtube.com/watch?v=oGJsn6HzkpI\",\n",
    "    \"https://www.youtube.com/watch?v=TtFD6eDhl4c\",\n",
    "    \"https://www.youtube.com/watch?v=3DXw3ikiUrI\",\n",
    "    \"https://www.youtube.com/watch?v=qMicMMuRYFg\",\n",
    "    \"https://www.youtube.com/watch?v=15OkelvZFqk\",\n",
    "    \"https://www.youtube.com/watch?v=OG0aLbbLW1Y\",\n",
    "    \"https://www.youtube.com/watch?v=cFUlbP7LHDU\",\n",
    "    \"https://www.youtube.com/watch?v=bp_X3T80DLE\",\n",
    "    \"https://www.youtube.com/watch?v=T1w6cDmtYGQ\",\n",
    "    \"https://www.youtube.com/watch?v=xBRO7ZMlMs0\",\n",
    "    \"https://www.youtube.com/watch?v=DBWi-je99D8\",\n",
    "    \"https://www.youtube.com/watch?v=8knCNp9WhYo\",\n",
    "    \"https://www.youtube.com/watch?v=GBS1SPByzMw\",\n",
    "    \"https://www.youtube.com/watch?v=LobEhV9Lyz8\",\n",
    "    \"https://www.youtube.com/watch?v=G9tXs8468iQ\",\n",
    "    \"https://www.youtube.com/watch?v=NaSpR2iQZys\",\n",
    "    \"https://www.youtube.com/watch?v=qEduZP1FBX4\",\n",
    "    \"https://www.youtube.com/watch?v=361WsI75Zz8\",\n",
    "    \"https://www.youtube.com/watch?v=GG823dd7bVw\",\n",
    "    \"https://www.youtube.com/watch?v=e9UtpNvRTPY\",\n",
    "    \"https://www.youtube.com/watch?v=a5qnga3HyM0\",\n",
    "    \"https://www.youtube.com/watch?v=8E4iVI0BTy8\",\n",
    "    \"https://www.youtube.com/watch?v=aeZviTwVcHE\",\n",
    "    \"https://www.youtube.com/watch?v=yMwT0YUtPRQ\",\n",
    "    \"https://www.youtube.com/watch?v=UAj3tRtCeHk\",\n",
    "    \"https://www.youtube.com/watch?v=-oogyHly2hc\",\n",
    "    \"https://www.youtube.com/watch?v=Z8V6A_hPFhs\",\n",
    "    \"https://www.youtube.com/watch?v=-4Z4uynkhCw\",\n",
    "    \"https://www.youtube.com/watch?v=lNIqPPtqgdY\",\n",
    "    \"https://www.youtube.com/watch?v=EyHErgTdniM\",\n",
    "    \"https://www.youtube.com/watch?v=2EvbgmLOv_A\",\n",
    "    \"https://www.youtube.com/watch?v=aENj8ODdw8c\",\n",
    "    \"https://www.youtube.com/watch?v=qInVGVt6N2w\",\n",
    "    \"https://www.youtube.com/watch?v=yF-4xHnRQjM\",\n",
    "    \"https://www.youtube.com/watch?v=5gtJBpfQdOA\",\n",
    "    \"https://www.youtube.com/watch?v=xt-zfgJPato\",\n",
    "    \"https://www.youtube.com/watch?v=0EgvEBAD2sw\",\n",
    "    \"https://www.youtube.com/watch?v=WSs-28mqlJE\",\n",
    "    \"https://www.youtube.com/watch?v=PX69cN_FOgE\",\n",
    "    \"https://www.youtube.com/watch?v=p7YNeE_saz4\",\n",
    "    \"https://www.youtube.com/watch?v=0VgWN0G_Dio\",\n",
    "    \"https://www.youtube.com/watch?v=MzOrdKX7DBo\",\n",
    "    \"https://www.youtube.com/watch?v=vWJ_hIAul-0\",\n",
    "    \"https://www.youtube.com/watch?v=sCXGOJDDPwI\",\n",
    "    \"https://www.youtube.com/watch?v=yg4zX22j5yE\",\n",
    "    \"https://www.youtube.com/watch?v=32zcwEL2G_c\",\n",
    "    \"https://www.youtube.com/watch?v=gKSuspbVV2s\",\n",
    "    \"https://www.youtube.com/watch?v=FnpOs-TWZ6s\",\n",
    "    \"https://www.youtube.com/watch?v=RUSyJMwqiaE\",\n",
    "    \"https://www.youtube.com/watch?v=WtNYduU-6Ss\",\n",
    "    \"https://www.youtube.com/watch?v=3AWglSkO9uA\",\n",
    "    \"https://www.youtube.com/watch?v=D7ZYx2GD3xI\",\n",
    "    \"https://www.youtube.com/watch?v=AlbC-O5Uxsg\",\n",
    "    \"https://www.youtube.com/watch?v=M64xM9XHHbM\",\n",
    "    \"https://www.youtube.com/watch?v=UF41fUIOWWs\",\n",
    "    \"https://www.youtube.com/watch?v=MaCGEt9GUIQ\",\n",
    "    \"https://www.youtube.com/watch?v=uG1IveapfAc\",\n",
    "    \"https://www.youtube.com/watch?v=uUR1HMaluWU\",\n",
    "    \"https://www.youtube.com/watch?v=D9sDibo7BKs\",\n",
    "    \"https://www.youtube.com/watch?v=qiSnVUbZX7I\",\n",
    "    \"https://www.youtube.com/watch?v=B0yj_096Sp8\",\n",
    "    \"https://www.youtube.com/watch?v=qBCv9wVUaa0\",\n",
    "    \"https://www.youtube.com/watch?v=_Ga-Fb3qvDo\",\n",
    "    \"https://www.youtube.com/watch?v=xWb34OAimBM\",\n",
    "    \"https://www.youtube.com/watch?v=z1xn5c8ohCQ\",\n",
    "    \"https://www.youtube.com/watch?v=w62L30njbK0\",\n",
    "    \"https://www.youtube.com/watch?v=Gs9a4yIrlc8\",\n",
    "    \"https://www.youtube.com/watch?v=rdGJynW0lWI\",\n",
    "    \"https://www.youtube.com/watch?v=MC3VHuXb9I4\",\n",
    "    \"https://www.youtube.com/watch?v=gyf3aymIkNQ\",\n",
    "    \"https://www.youtube.com/watch?v=6l-iFW7Ynt4\",\n",
    "    \"https://www.youtube.com/watch?v=OSb_iC9XvCs\",\n",
    "    \"https://www.youtube.com/watch?v=Z9q9dC35cEc\",\n",
    "    \"https://www.youtube.com/watch?v=-4Z4uynkhCw\",\n",
    "    \"https://www.youtube.com/watch?v=EyHErgTdniM\",\n",
    "    \"https://www.youtube.com/watch?v=2EvbgmLOv_A\",\n",
    "    \"https://www.youtube.com/watch?v=aENj8ODdw8c\",\n",
    "    \"https://www.youtube.com/watch?v=qInVGVt6N2w\",\n",
    "    \"https://www.youtube.com/watch?v=yF-4xHnRQjM\",\n",
    "    \"https://www.youtube.com/watch?v=5gtJBpfQdOA\",\n",
    "    \"https://www.youtube.com/watch?v=lNIqPPtqgdY\",\n",
    "    \"https://www.youtube.com/watch?v=nJUq4-hyiYA\",\n",
    "    \"https://www.youtube.com/watch?v=yMwT0YUtPRQ\",\n",
    "    \"https://www.youtube.com/watch?v=waTTU9cfJ6M\",\n",
    "    \"https://www.youtube.com/watch?v=YWe5pkhKBSY\",\n",
    "    \"https://www.youtube.com/watch?v=w_yjwd-dmLE\",\n",
    "    \"https://www.youtube.com/watch?v=YekquhYMRQY\",\n",
    "    \"https://www.youtube.com/watch?v=vWJ_hIAul-0\",\n",
    "    \"https://www.youtube.com/watch?v=sCXGOJDDPwI\",\n",
    "    \"https://www.youtube.com/watch?v=Q8zNBxp7HPY\",\n",
    "    \"https://www.youtube.com/watch?v=iU6HLNLZEUo\",\n",
    "    \"https://www.youtube.com/watch?v=CHx0jx6WdTg\",\n",
    "    \"https://www.youtube.com/watch?v=Z3iCzLsnd_Q\",\n",
    "    \"https://www.youtube.com/watch?v=KjVEc6yJrCc\",\n",
    "    \"https://www.youtube.com/watch?v=kLUFuXebdC4\",\n",
    "    \"https://www.youtube.com/watch?v=AU7r8kL_96A\",\n",
    "    \"https://www.youtube.com/watch?v=Py3SB4wkCBk\",\n",
    "    \"https://www.youtube.com/watch?v=oGJsn6HzkpI\",\n",
    "    \"https://www.youtube.com/watch?v=TtFD6eDhl4c\",\n",
    "    \"https://www.youtube.com/watch?v=3DXw3ikiUrI\",\n",
    "    \"https://www.youtube.com/watch?v=qMicMMuRYFg\",\n",
    "    \"https://www.youtube.com/watch?v=5aZZmUOZYWo\",\n",
    "    \"https://www.youtube.com/watch?v=a5qnga3HyM0\",\n",
    "    \"https://www.youtube.com/watch?v=8E4iVI0BTy8\",\n",
    "    \"https://www.youtube.com/watch?v=aeZviTwVcHE\",\n",
    "    \"https://www.youtube.com/watch?v=ZGckRQkmUVI\",\n",
    "    \"https://www.youtube.com/watch?v=T1w6cDmtYGQ\",\n",
    "    \"https://www.youtube.com/watch?v=xBRO7ZMlMs0\",\n",
    "    \"https://www.youtube.com/watch?v=DBWi-je99D8\",\n",
    "    \"https://www.youtube.com/watch?v=8knCNp9WhYo\",\n",
    "    \"https://www.youtube.com/watch?v=GBS1SPByzMw\",\n",
    "    \"https://www.youtube.com/watch?v=LobEhV9Lyz8\",\n",
    "    \"https://www.youtube.com/watch?v=G9tXs8468iQ\",\n",
    "    \"https://www.youtube.com/watch?v=NaSpR2iQZys\",\n",
    "    \"https://www.youtube.com/watch?v=5aZZmUOZYWo\",\n",
    "    \"https://www.youtube.com/watch?v=qEduZP1FBX4\",\n",
    "    \"https://www.youtube.com/watch?v=361WsI75Zz8\",\n",
    "    \"https://www.youtube.com/watch?v=bp_X3T80DLE\",\n",
    "    \"https://www.youtube.com/watch?v=8WOiV6wHHP0\",\n",
    "    \"https://www.youtube.com/watch?v=_Ub_Vs901IA\",\n",
    "    \"https://www.youtube.com/watch?v=pFQEmjYWhLU\",\n",
    "    \"https://www.youtube.com/watch?v=fwXeC39iX8s\",\n",
    "    \"https://www.youtube.com/watch?v=BS7rDofXDjU\",\n",
    "    \"https://www.youtube.com/watch?v=TPOt3VZM_Us\",\n",
    "    \"https://www.youtube.com/watch?v=PX69cN_FOgE\",\n",
    "    \"https://www.youtube.com/watch?v=0VgWN0G_Dio\",\n",
    "    \"https://www.youtube.com/watch?v=MzOrdKX7DBo\",\n",
    "]\n",
    "\n",
    "create_and_write_csv(filename, topik, url)"
   ]
  },
  {
   "cell_type": "code",
   "execution_count": 13,
   "metadata": {},
   "outputs": [
    {
     "name": "stdout",
     "output_type": "stream",
     "text": [
      "1. Data untuk link 'https://www.youtube.com/watch?v=G0KAuO8oVNs' sudah ada, tidak disimpan.\n",
      "2. Data untuk link 'https://www.youtube.com/watch?v=lVUbKAsI_jM' sudah ada, tidak disimpan.\n",
      "3. Data untuk link 'https://www.youtube.com/watch?v=Z_3MhoeRJjE' sudah ada, tidak disimpan.\n",
      "4. Data untuk link 'https://www.youtube.com/watch?v=4IrtDBoXJHU' sudah ada, tidak disimpan.\n",
      "5. Data untuk link 'https://www.youtube.com/watch?v=xvURWYtAgks' sudah ada, tidak disimpan.\n",
      "6. Data untuk link 'https://www.youtube.com/watch?v=v0i9ke74Jow' sudah ada, tidak disimpan.\n",
      "7. Data untuk link 'https://www.youtube.com/watch?v=jxLxbfD_II0' sudah ada, tidak disimpan.\n",
      "8. Data untuk link 'https://www.youtube.com/watch?v=5HKKWfrL_Kg' sudah ada, tidak disimpan.\n",
      "9. Data untuk link 'https://www.youtube.com/watch?v=pOeW_kp1KqY' sudah ada, tidak disimpan.\n",
      "10. Data untuk link 'https://www.youtube.com/watch?v=Ad1i1xKr0sA' sudah ada, tidak disimpan.\n",
      "11. Data untuk link 'https://www.youtube.com/watch?v=rgYJVOZfxME' sudah ada, tidak disimpan.\n",
      "12. Data untuk link 'https://www.youtube.com/watch?v=9G9JdnA0nzo' sudah ada, tidak disimpan.\n",
      "13. Data untuk link 'https://www.youtube.com/watch?v=bnjKeOe1wlI' sudah ada, tidak disimpan.\n",
      "14. Data untuk link 'https://www.youtube.com/watch?v=gXhNoAh83xA' sudah ada, tidak disimpan.\n",
      "15. Data untuk link 'https://www.youtube.com/watch?v=GMamifRY0-U' sudah ada, tidak disimpan.\n",
      "16. Data untuk link 'https://www.youtube.com/watch?v=AwjIjKRScHw' sudah ada, tidak disimpan.\n",
      "17. Data untuk link 'https://www.youtube.com/watch?v=hHjafWg8-Y0' sudah ada, tidak disimpan.\n",
      "18. Data untuk link 'https://www.youtube.com/watch?v=zI3YR0VxAKg' sudah ada, tidak disimpan.\n",
      "19. Data untuk link 'https://www.youtube.com/watch?v=FraTKJe3thE' sudah ada, tidak disimpan.\n",
      "20. Data untuk link 'https://www.youtube.com/watch?v=U4JCnsAYG9o' sudah ada, tidak disimpan.\n",
      "21. Data untuk link 'https://www.youtube.com/watch?v=w4lmmXPBiDk' sudah ada, tidak disimpan.\n",
      "22. Data untuk link 'https://www.youtube.com/watch?v=bwZanCM98Pc' sudah ada, tidak disimpan.\n",
      "23. Data untuk link 'https://www.youtube.com/watch?v=nsEtEp6xv4Q' sudah ada, tidak disimpan.\n",
      "24. Data untuk link 'https://www.youtube.com/watch?v=xIX8G90gLRQ' sudah ada, tidak disimpan.\n",
      "25. Data untuk link 'https://www.youtube.com/watch?v=9A3yvF6oCAI' sudah ada, tidak disimpan.\n",
      "26. Data untuk link 'https://www.youtube.com/watch?v=KrZBrk5h1Ug' sudah ada, tidak disimpan.\n",
      "27. Data untuk link 'https://www.youtube.com/watch?v=ePPqoDjXc64' sudah ada, tidak disimpan.\n",
      "28. Data untuk link 'https://www.youtube.com/watch?v=4RgqKua4xds' sudah ada, tidak disimpan.\n",
      "29. Data untuk link 'https://www.youtube.com/watch?v=RWQmGp51WIU' sudah ada, tidak disimpan.\n",
      "30. Data untuk link 'https://www.youtube.com/watch?v=wecKlOamWG8' sudah ada, tidak disimpan.\n",
      "31. Data untuk link 'https://www.youtube.com/watch?v=9wKRnckVh4A' sudah ada, tidak disimpan.\n",
      "32. Data untuk link 'https://www.youtube.com/watch?v=cJbY8UFgQbU' sudah ada, tidak disimpan.\n",
      "33. Data untuk link 'https://www.youtube.com/watch?v=heyXJ0QKBbo' sudah ada, tidak disimpan.\n",
      "34. Data untuk link 'https://www.youtube.com/watch?v=RmJjhXPZGB0' sudah ada, tidak disimpan.\n",
      "35. Data untuk link 'https://www.youtube.com/watch?v=nFEw7PxzKcQ' sudah ada, tidak disimpan.\n",
      "36. Data untuk link 'https://www.youtube.com/watch?v=GHIFh8ChL_M' sudah ada, tidak disimpan.\n",
      "37. Data untuk link 'https://www.youtube.com/watch?v=Pe3PbagA1EY' sudah ada, tidak disimpan.\n",
      "38. Data untuk link 'https://www.youtube.com/watch?v=6Wb19Nc4_cU' sudah ada, tidak disimpan.\n",
      "39. Data untuk link 'https://www.youtube.com/watch?v=IB8Jfs_NbMU' sudah ada, tidak disimpan.\n",
      "40. Data untuk link 'https://www.youtube.com/watch?v=rvHkoufcIog' sudah ada, tidak disimpan.\n",
      "41. Data untuk link 'https://www.youtube.com/watch?v=X-Pv-R5El5o' sudah ada, tidak disimpan.\n",
      "42. Data untuk link 'https://www.youtube.com/watch?v=77cBhP042hE' sudah ada, tidak disimpan.\n",
      "43. Data untuk link 'https://www.youtube.com/watch?v=W5SIgkf-Fp4' sudah ada, tidak disimpan.\n",
      "44. Data untuk link 'https://www.youtube.com/watch?v=A6WsztySO88' sudah ada, tidak disimpan.\n",
      "45. Data untuk link 'https://www.youtube.com/watch?v=DmLNSe1jKD0' sudah ada, tidak disimpan.\n",
      "46. Data untuk link 'https://www.youtube.com/watch?v=a_VwypnQiDQ' sudah ada, tidak disimpan.\n",
      "47. Data untuk link 'https://www.youtube.com/watch?v=hTlk5c_-_54' sudah ada, tidak disimpan.\n",
      "48. Data untuk link 'https://www.youtube.com/watch?v=HL1e0maJpvg' sudah ada, tidak disimpan.\n",
      "49. Data untuk link 'https://www.youtube.com/watch?v=uWMeDPjqoVA' sudah ada, tidak disimpan.\n",
      "50. Data untuk link 'https://www.youtube.com/watch?v=ntzL3ncYzvU' sudah ada, tidak disimpan.\n",
      "51. Data untuk link 'https://www.youtube.com/watch?v=4HxCgz-_8q0' sudah ada, tidak disimpan.\n",
      "52. Data untuk link 'https://www.youtube.com/watch?v=z2FzSMoAsXU' sudah ada, tidak disimpan.\n",
      "53. Data untuk link 'https://www.youtube.com/watch?v=FjxqiRSEMWk' sudah ada, tidak disimpan.\n",
      "54. Data untuk link 'https://www.youtube.com/watch?v=5ZyZj8hBdL0' sudah ada, tidak disimpan.\n",
      "55. Data untuk link 'https://www.youtube.com/watch?v=XRjxh3AMUhw' sudah ada, tidak disimpan.\n",
      "56. Data untuk link 'https://www.youtube.com/watch?v=nNe3bF08VrU' sudah ada, tidak disimpan.\n",
      "57. Data untuk link 'https://www.youtube.com/watch?v=ZdhaASUHeFk' sudah ada, tidak disimpan.\n",
      "58. Data untuk link 'https://www.youtube.com/watch?v=iRDn8ZwS798' sudah ada, tidak disimpan.\n",
      "59. Data untuk link 'https://www.youtube.com/watch?v=SF-iKdDhMSk' sudah ada, tidak disimpan.\n",
      "60. Data untuk link 'https://www.youtube.com/watch?v=76jMvjAa01w' sudah ada, tidak disimpan.\n",
      "61. Data untuk link 'https://www.youtube.com/watch?v=jUUFrhGc5sQ' sudah ada, tidak disimpan.\n",
      "62. Data untuk link 'https://www.youtube.com/watch?v=CAg8ffvs6IU' sudah ada, tidak disimpan.\n",
      "63. Data untuk link 'https://www.youtube.com/watch?v=lTQhP7Iu_pw' sudah ada, tidak disimpan.\n",
      "64. Data untuk link 'https://www.youtube.com/watch?v=U1qyyOD8CrA' sudah ada, tidak disimpan.\n",
      "65. Data untuk link 'https://www.youtube.com/watch?v=SLepoBtQ9Ns' sudah ada, tidak disimpan.\n",
      "66. Data untuk link 'https://www.youtube.com/watch?v=9zgrAI28BQI' sudah ada, tidak disimpan.\n",
      "67. Data untuk link 'https://www.youtube.com/watch?v=nXvHCXmPpFM' sudah ada, tidak disimpan.\n",
      "68. Data untuk link 'https://www.youtube.com/watch?v=hHjafWg8-Y0' sudah ada, tidak disimpan.\n",
      "69. Data untuk link 'https://www.youtube.com/watch?v=zI3YR0VxAKg' sudah ada, tidak disimpan.\n",
      "70. Data untuk link 'https://www.youtube.com/watch?v=FraTKJe3thE' sudah ada, tidak disimpan.\n",
      "71. Data untuk link 'https://www.youtube.com/watch?v=U4JCnsAYG9o' sudah ada, tidak disimpan.\n",
      "72. Data untuk link 'https://www.youtube.com/watch?v=w4lmmXPBiDk' sudah ada, tidak disimpan.\n",
      "73. Data untuk link 'https://www.youtube.com/watch?v=bwZanCM98Pc' sudah ada, tidak disimpan.\n",
      "74. Data untuk link 'https://www.youtube.com/watch?v=nsEtEp6xv4Q' sudah ada, tidak disimpan.\n",
      "75. Data untuk link 'https://www.youtube.com/watch?v=xIX8G90gLRQ' sudah ada, tidak disimpan.\n",
      "76. Data untuk link 'https://www.youtube.com/watch?v=KrZBrk5h1Ug' sudah ada, tidak disimpan.\n",
      "77. Data untuk link 'https://www.youtube.com/watch?v=edH8dHaFRhA' sudah ada, tidak disimpan.\n",
      "78. Data untuk link 'https://www.youtube.com/watch?v=L0pOMSJAoIc' sudah ada, tidak disimpan.\n",
      "79. Data untuk link 'https://www.youtube.com/watch?v=hTlk5c_-_54' sudah ada, tidak disimpan.\n",
      "80. Data untuk link 'https://www.youtube.com/watch?v=HL1e0maJpvg' sudah ada, tidak disimpan.\n",
      "81. Data untuk link 'https://www.youtube.com/watch?v=ntzL3ncYzvU' sudah ada, tidak disimpan.\n",
      "82. Data untuk link 'https://www.youtube.com/watch?v=mj3l4N0O4co' sudah ada, tidak disimpan.\n",
      "83. Data untuk link 'https://www.youtube.com/watch?v=lX8FcHuodcE' sudah ada, tidak disimpan.\n",
      "84. Data untuk link 'https://www.youtube.com/watch?v=w-K2GUSY180' sudah ada, tidak disimpan.\n",
      "85. Data untuk link 'https://www.youtube.com/watch?v=L_vcWAoQdwc' sudah ada, tidak disimpan.\n",
      "86. Data untuk link 'https://www.youtube.com/watch?v=XjtnXM7wk88' sudah ada, tidak disimpan.\n",
      "87. Data untuk link 'https://www.youtube.com/watch?v=YXJFevUbSAg' sudah ada, tidak disimpan.\n",
      "88. Data untuk link 'https://www.youtube.com/watch?v=RWQmGp51WIU' sudah ada, tidak disimpan.\n",
      "89. Data untuk link 'https://www.youtube.com/watch?v=9wKRnckVh4A' sudah ada, tidak disimpan.\n",
      "90. Data untuk link 'https://www.youtube.com/watch?v=cJbY8UFgQbU' sudah ada, tidak disimpan.\n",
      "91. Data untuk link 'https://www.youtube.com/watch?v=wecKlOamWG8' sudah ada, tidak disimpan.\n",
      "92. Data untuk link 'https://www.youtube.com/watch?v=RmJjhXPZGB0' sudah ada, tidak disimpan.\n",
      "93. Data untuk link 'https://www.youtube.com/watch?v=heyXJ0QKBbo' sudah ada, tidak disimpan.\n",
      "94. Data untuk link 'https://www.youtube.com/watch?v=Au_ndPxdZm8' sudah ada, tidak disimpan.\n",
      "95. Data untuk link 'https://www.youtube.com/watch?v=u8vy2771qWk' sudah ada, tidak disimpan.\n",
      "96. Data untuk link 'https://www.youtube.com/watch?v=HE7XvadjoBg' sudah ada, tidak disimpan.\n",
      "97. Data untuk link 'https://www.youtube.com/watch?v=zKd2CBU_rjU' sudah ada, tidak disimpan.\n",
      "98. Data untuk link 'https://www.youtube.com/watch?v=MWeg2UxIVdY' sudah ada, tidak disimpan.\n",
      "99. Data untuk link 'https://www.youtube.com/watch?v=n26CkDUsRAo' sudah ada, tidak disimpan.\n",
      "100. Data untuk link 'https://www.youtube.com/watch?v=9ZLSMPfsnmA' sudah ada, tidak disimpan.\n"
     ]
    },
    {
     "name": "stderr",
     "output_type": "stream",
     "text": [
      "c:\\Users\\ACER-I5\\AppData\\Local\\Programs\\Python\\Python312\\Lib\\site-packages\\whisper\\transcribe.py:115: UserWarning: FP16 is not supported on CPU; using FP32 instead\n",
      "  warnings.warn(\"FP16 is not supported on CPU; using FP32 instead\")\n"
     ]
    },
    {
     "name": "stdout",
     "output_type": "stream",
     "text": [
      "1. Data untuk link 'https://www.youtube.com/watch?v=zx7hvUDEXVs' berhasil ditambahkan ke 'yt-news.csv'.\n"
     ]
    },
    {
     "name": "stderr",
     "output_type": "stream",
     "text": [
      "c:\\Users\\ACER-I5\\AppData\\Local\\Programs\\Python\\Python312\\Lib\\site-packages\\whisper\\transcribe.py:115: UserWarning: FP16 is not supported on CPU; using FP32 instead\n",
      "  warnings.warn(\"FP16 is not supported on CPU; using FP32 instead\")\n"
     ]
    },
    {
     "name": "stdout",
     "output_type": "stream",
     "text": [
      "2. Data untuk link 'https://www.youtube.com/watch?v=A9dGeaSDzdA' berhasil ditambahkan ke 'yt-news.csv'.\n"
     ]
    },
    {
     "name": "stderr",
     "output_type": "stream",
     "text": [
      "c:\\Users\\ACER-I5\\AppData\\Local\\Programs\\Python\\Python312\\Lib\\site-packages\\whisper\\transcribe.py:115: UserWarning: FP16 is not supported on CPU; using FP32 instead\n",
      "  warnings.warn(\"FP16 is not supported on CPU; using FP32 instead\")\n"
     ]
    },
    {
     "name": "stdout",
     "output_type": "stream",
     "text": [
      "3. Data untuk link 'https://www.youtube.com/watch?v=rzKO84iSW4A' berhasil ditambahkan ke 'yt-news.csv'.\n"
     ]
    },
    {
     "name": "stderr",
     "output_type": "stream",
     "text": [
      "c:\\Users\\ACER-I5\\AppData\\Local\\Programs\\Python\\Python312\\Lib\\site-packages\\whisper\\transcribe.py:115: UserWarning: FP16 is not supported on CPU; using FP32 instead\n",
      "  warnings.warn(\"FP16 is not supported on CPU; using FP32 instead\")\n"
     ]
    },
    {
     "name": "stdout",
     "output_type": "stream",
     "text": [
      "4. Data untuk link 'https://www.youtube.com/watch?v=4y0orBVOKf8' berhasil ditambahkan ke 'yt-news.csv'.\n"
     ]
    },
    {
     "name": "stderr",
     "output_type": "stream",
     "text": [
      "c:\\Users\\ACER-I5\\AppData\\Local\\Programs\\Python\\Python312\\Lib\\site-packages\\whisper\\transcribe.py:115: UserWarning: FP16 is not supported on CPU; using FP32 instead\n",
      "  warnings.warn(\"FP16 is not supported on CPU; using FP32 instead\")\n"
     ]
    },
    {
     "name": "stdout",
     "output_type": "stream",
     "text": [
      "5. Data untuk link 'https://www.youtube.com/watch?v=Oxmt2PO4194' berhasil ditambahkan ke 'yt-news.csv'.\n"
     ]
    },
    {
     "name": "stderr",
     "output_type": "stream",
     "text": [
      "c:\\Users\\ACER-I5\\AppData\\Local\\Programs\\Python\\Python312\\Lib\\site-packages\\whisper\\transcribe.py:115: UserWarning: FP16 is not supported on CPU; using FP32 instead\n",
      "  warnings.warn(\"FP16 is not supported on CPU; using FP32 instead\")\n"
     ]
    },
    {
     "name": "stdout",
     "output_type": "stream",
     "text": [
      "6. Data untuk link 'https://www.youtube.com/watch?v=d5mcuGawsRY' berhasil ditambahkan ke 'yt-news.csv'.\n"
     ]
    },
    {
     "name": "stderr",
     "output_type": "stream",
     "text": [
      "c:\\Users\\ACER-I5\\AppData\\Local\\Programs\\Python\\Python312\\Lib\\site-packages\\whisper\\transcribe.py:115: UserWarning: FP16 is not supported on CPU; using FP32 instead\n",
      "  warnings.warn(\"FP16 is not supported on CPU; using FP32 instead\")\n"
     ]
    },
    {
     "name": "stdout",
     "output_type": "stream",
     "text": [
      "7. Data untuk link 'https://www.youtube.com/watch?v=HjoKWFGjLII' berhasil ditambahkan ke 'yt-news.csv'.\n"
     ]
    },
    {
     "name": "stderr",
     "output_type": "stream",
     "text": [
      "c:\\Users\\ACER-I5\\AppData\\Local\\Programs\\Python\\Python312\\Lib\\site-packages\\whisper\\transcribe.py:115: UserWarning: FP16 is not supported on CPU; using FP32 instead\n",
      "  warnings.warn(\"FP16 is not supported on CPU; using FP32 instead\")\n"
     ]
    },
    {
     "name": "stdout",
     "output_type": "stream",
     "text": [
      "8. Data untuk link 'https://www.youtube.com/watch?v=8uW01ZlgcIg' berhasil ditambahkan ke 'yt-news.csv'.\n",
      "101. Data untuk link 'https://www.youtube.com/watch?v=GHIFh8ChL_M' sudah ada, tidak disimpan.\n",
      "102. Data untuk link 'https://www.youtube.com/watch?v=Pe3PbagA1EY' sudah ada, tidak disimpan.\n",
      "103. Data untuk link 'https://www.youtube.com/watch?v=6Wb19Nc4_cU' sudah ada, tidak disimpan.\n"
     ]
    },
    {
     "name": "stderr",
     "output_type": "stream",
     "text": [
      "c:\\Users\\ACER-I5\\AppData\\Local\\Programs\\Python\\Python312\\Lib\\site-packages\\whisper\\transcribe.py:115: UserWarning: FP16 is not supported on CPU; using FP32 instead\n",
      "  warnings.warn(\"FP16 is not supported on CPU; using FP32 instead\")\n"
     ]
    },
    {
     "name": "stdout",
     "output_type": "stream",
     "text": [
      "9. Data untuk link 'https://www.youtube.com/watch?v=GhQcZCOG_TU' berhasil ditambahkan ke 'yt-news.csv'.\n",
      "104. Data untuk link 'https://www.youtube.com/watch?v=bnjKeOe1wlI' sudah ada, tidak disimpan.\n",
      "105. Data untuk link 'https://www.youtube.com/watch?v=gXhNoAh83xA' sudah ada, tidak disimpan.\n",
      "106. Data untuk link 'https://www.youtube.com/watch?v=GMamifRY0-U' sudah ada, tidak disimpan.\n",
      "107. Data untuk link 'https://www.youtube.com/watch?v=AwjIjKRScHw' sudah ada, tidak disimpan.\n",
      "108. Data untuk link 'https://www.youtube.com/watch?v=edH8dHaFRhA' sudah ada, tidak disimpan.\n",
      "109. Data untuk link 'https://www.youtube.com/watch?v=L0pOMSJAoIc' sudah ada, tidak disimpan.\n",
      "110. Data untuk link 'https://www.youtube.com/watch?v=hTlk5c_-_54' sudah ada, tidak disimpan.\n",
      "111. Data untuk link 'https://www.youtube.com/watch?v=HL1e0maJpvg' sudah ada, tidak disimpan.\n",
      "112. Data untuk link 'https://www.youtube.com/watch?v=ntzL3ncYzvU' sudah ada, tidak disimpan.\n"
     ]
    },
    {
     "name": "stderr",
     "output_type": "stream",
     "text": [
      "c:\\Users\\ACER-I5\\AppData\\Local\\Programs\\Python\\Python312\\Lib\\site-packages\\whisper\\transcribe.py:115: UserWarning: FP16 is not supported on CPU; using FP32 instead\n",
      "  warnings.warn(\"FP16 is not supported on CPU; using FP32 instead\")\n"
     ]
    },
    {
     "name": "stdout",
     "output_type": "stream",
     "text": [
      "10. Data untuk link 'https://www.youtube.com/watch?v=encp9taCeYw' berhasil ditambahkan ke 'yt-news.csv'.\n"
     ]
    },
    {
     "name": "stderr",
     "output_type": "stream",
     "text": [
      "c:\\Users\\ACER-I5\\AppData\\Local\\Programs\\Python\\Python312\\Lib\\site-packages\\whisper\\transcribe.py:115: UserWarning: FP16 is not supported on CPU; using FP32 instead\n",
      "  warnings.warn(\"FP16 is not supported on CPU; using FP32 instead\")\n"
     ]
    },
    {
     "name": "stdout",
     "output_type": "stream",
     "text": [
      "11. Data untuk link 'https://www.youtube.com/watch?v=oa9NVhTuhv8' berhasil ditambahkan ke 'yt-news.csv'.\n"
     ]
    },
    {
     "name": "stderr",
     "output_type": "stream",
     "text": [
      "c:\\Users\\ACER-I5\\AppData\\Local\\Programs\\Python\\Python312\\Lib\\site-packages\\whisper\\transcribe.py:115: UserWarning: FP16 is not supported on CPU; using FP32 instead\n",
      "  warnings.warn(\"FP16 is not supported on CPU; using FP32 instead\")\n"
     ]
    },
    {
     "name": "stdout",
     "output_type": "stream",
     "text": [
      "12. Data untuk link 'https://www.youtube.com/watch?v=IQ1Z2MyyMSY' berhasil ditambahkan ke 'yt-news.csv'.\n"
     ]
    },
    {
     "name": "stderr",
     "output_type": "stream",
     "text": [
      "c:\\Users\\ACER-I5\\AppData\\Local\\Programs\\Python\\Python312\\Lib\\site-packages\\whisper\\transcribe.py:115: UserWarning: FP16 is not supported on CPU; using FP32 instead\n",
      "  warnings.warn(\"FP16 is not supported on CPU; using FP32 instead\")\n"
     ]
    },
    {
     "name": "stdout",
     "output_type": "stream",
     "text": [
      "13. Data untuk link 'https://www.youtube.com/watch?v=NaO42Mb4RCA' berhasil ditambahkan ke 'yt-news.csv'.\n"
     ]
    },
    {
     "name": "stderr",
     "output_type": "stream",
     "text": [
      "c:\\Users\\ACER-I5\\AppData\\Local\\Programs\\Python\\Python312\\Lib\\site-packages\\whisper\\transcribe.py:115: UserWarning: FP16 is not supported on CPU; using FP32 instead\n",
      "  warnings.warn(\"FP16 is not supported on CPU; using FP32 instead\")\n"
     ]
    },
    {
     "name": "stdout",
     "output_type": "stream",
     "text": [
      "14. Data untuk link 'https://www.youtube.com/watch?v=MA64yxAAh5s' berhasil ditambahkan ke 'yt-news.csv'.\n"
     ]
    },
    {
     "name": "stderr",
     "output_type": "stream",
     "text": [
      "c:\\Users\\ACER-I5\\AppData\\Local\\Programs\\Python\\Python312\\Lib\\site-packages\\whisper\\transcribe.py:115: UserWarning: FP16 is not supported on CPU; using FP32 instead\n",
      "  warnings.warn(\"FP16 is not supported on CPU; using FP32 instead\")\n"
     ]
    },
    {
     "name": "stdout",
     "output_type": "stream",
     "text": [
      "15. Data untuk link 'https://www.youtube.com/watch?v=X090YTbt3yU' berhasil ditambahkan ke 'yt-news.csv'.\n"
     ]
    },
    {
     "name": "stderr",
     "output_type": "stream",
     "text": [
      "c:\\Users\\ACER-I5\\AppData\\Local\\Programs\\Python\\Python312\\Lib\\site-packages\\whisper\\transcribe.py:115: UserWarning: FP16 is not supported on CPU; using FP32 instead\n",
      "  warnings.warn(\"FP16 is not supported on CPU; using FP32 instead\")\n"
     ]
    },
    {
     "name": "stdout",
     "output_type": "stream",
     "text": [
      "16. Data untuk link 'https://www.youtube.com/watch?v=tFX2LOJamW4' berhasil ditambahkan ke 'yt-news.csv'.\n"
     ]
    },
    {
     "name": "stderr",
     "output_type": "stream",
     "text": [
      "c:\\Users\\ACER-I5\\AppData\\Local\\Programs\\Python\\Python312\\Lib\\site-packages\\whisper\\transcribe.py:115: UserWarning: FP16 is not supported on CPU; using FP32 instead\n",
      "  warnings.warn(\"FP16 is not supported on CPU; using FP32 instead\")\n"
     ]
    },
    {
     "name": "stdout",
     "output_type": "stream",
     "text": [
      "17. Data untuk link 'https://www.youtube.com/watch?v=lF2OfYxR9WQ' berhasil ditambahkan ke 'yt-news.csv'.\n",
      "113. Data untuk link 'https://www.youtube.com/watch?v=FjxqiRSEMWk' sudah ada, tidak disimpan.\n",
      "114. Data untuk link 'https://www.youtube.com/watch?v=5ZyZj8hBdL0' sudah ada, tidak disimpan.\n",
      "115. Data untuk link 'https://www.youtube.com/watch?v=nNe3bF08VrU' sudah ada, tidak disimpan.\n",
      "116. Data untuk link 'https://www.youtube.com/watch?v=ZdhaASUHeFk' sudah ada, tidak disimpan.\n",
      "117. Data untuk link 'https://www.youtube.com/watch?v=iRDn8ZwS798' sudah ada, tidak disimpan.\n"
     ]
    },
    {
     "name": "stderr",
     "output_type": "stream",
     "text": [
      "c:\\Users\\ACER-I5\\AppData\\Local\\Programs\\Python\\Python312\\Lib\\site-packages\\whisper\\transcribe.py:115: UserWarning: FP16 is not supported on CPU; using FP32 instead\n",
      "  warnings.warn(\"FP16 is not supported on CPU; using FP32 instead\")\n"
     ]
    },
    {
     "name": "stdout",
     "output_type": "stream",
     "text": [
      "18. Data untuk link 'https://www.youtube.com/watch?v=m6rKXuF2b5o' berhasil ditambahkan ke 'yt-news.csv'.\n"
     ]
    },
    {
     "name": "stderr",
     "output_type": "stream",
     "text": [
      "c:\\Users\\ACER-I5\\AppData\\Local\\Programs\\Python\\Python312\\Lib\\site-packages\\whisper\\transcribe.py:115: UserWarning: FP16 is not supported on CPU; using FP32 instead\n",
      "  warnings.warn(\"FP16 is not supported on CPU; using FP32 instead\")\n"
     ]
    },
    {
     "name": "stdout",
     "output_type": "stream",
     "text": [
      "19. Data untuk link 'https://www.youtube.com/watch?v=oOf2FSJA-UI' berhasil ditambahkan ke 'yt-news.csv'.\n"
     ]
    },
    {
     "name": "stderr",
     "output_type": "stream",
     "text": [
      "c:\\Users\\ACER-I5\\AppData\\Local\\Programs\\Python\\Python312\\Lib\\site-packages\\whisper\\transcribe.py:115: UserWarning: FP16 is not supported on CPU; using FP32 instead\n",
      "  warnings.warn(\"FP16 is not supported on CPU; using FP32 instead\")\n"
     ]
    },
    {
     "name": "stdout",
     "output_type": "stream",
     "text": [
      "20. Data untuk link 'https://www.youtube.com/watch?v=yikNCG373-M' berhasil ditambahkan ke 'yt-news.csv'.\n"
     ]
    },
    {
     "name": "stderr",
     "output_type": "stream",
     "text": [
      "c:\\Users\\ACER-I5\\AppData\\Local\\Programs\\Python\\Python312\\Lib\\site-packages\\whisper\\transcribe.py:115: UserWarning: FP16 is not supported on CPU; using FP32 instead\n",
      "  warnings.warn(\"FP16 is not supported on CPU; using FP32 instead\")\n"
     ]
    },
    {
     "name": "stdout",
     "output_type": "stream",
     "text": [
      "21. Data untuk link 'https://www.youtube.com/watch?v=GlSzP6Ja42U' berhasil ditambahkan ke 'yt-news.csv'.\n"
     ]
    },
    {
     "name": "stderr",
     "output_type": "stream",
     "text": [
      "c:\\Users\\ACER-I5\\AppData\\Local\\Programs\\Python\\Python312\\Lib\\site-packages\\whisper\\transcribe.py:115: UserWarning: FP16 is not supported on CPU; using FP32 instead\n",
      "  warnings.warn(\"FP16 is not supported on CPU; using FP32 instead\")\n"
     ]
    },
    {
     "name": "stdout",
     "output_type": "stream",
     "text": [
      "22. Data untuk link 'https://www.youtube.com/watch?v=YzMc1JtqrLs' berhasil ditambahkan ke 'yt-news.csv'.\n"
     ]
    },
    {
     "name": "stderr",
     "output_type": "stream",
     "text": [
      "c:\\Users\\ACER-I5\\AppData\\Local\\Programs\\Python\\Python312\\Lib\\site-packages\\whisper\\transcribe.py:115: UserWarning: FP16 is not supported on CPU; using FP32 instead\n",
      "  warnings.warn(\"FP16 is not supported on CPU; using FP32 instead\")\n"
     ]
    },
    {
     "name": "stdout",
     "output_type": "stream",
     "text": [
      "23. Data untuk link 'https://www.youtube.com/watch?v=aKESxxceq0A' berhasil ditambahkan ke 'yt-news.csv'.\n"
     ]
    },
    {
     "name": "stderr",
     "output_type": "stream",
     "text": [
      "c:\\Users\\ACER-I5\\AppData\\Local\\Programs\\Python\\Python312\\Lib\\site-packages\\whisper\\transcribe.py:115: UserWarning: FP16 is not supported on CPU; using FP32 instead\n",
      "  warnings.warn(\"FP16 is not supported on CPU; using FP32 instead\")\n"
     ]
    },
    {
     "name": "stdout",
     "output_type": "stream",
     "text": [
      "24. Data untuk link 'https://www.youtube.com/watch?v=OsvMmVITiWw' berhasil ditambahkan ke 'yt-news.csv'.\n",
      "118. Data untuk link 'https://www.youtube.com/watch?v=9zgrAI28BQI' sudah ada, tidak disimpan.\n",
      "119. Data untuk link 'https://www.youtube.com/watch?v=hHjafWg8-Y0' sudah ada, tidak disimpan.\n",
      "120. Data untuk link 'https://www.youtube.com/watch?v=zI3YR0VxAKg' sudah ada, tidak disimpan.\n",
      "121. Data untuk link 'https://www.youtube.com/watch?v=U4JCnsAYG9o' sudah ada, tidak disimpan.\n",
      "122. Data untuk link 'https://www.youtube.com/watch?v=w4lmmXPBiDk' sudah ada, tidak disimpan.\n"
     ]
    },
    {
     "name": "stderr",
     "output_type": "stream",
     "text": [
      "c:\\Users\\ACER-I5\\AppData\\Local\\Programs\\Python\\Python312\\Lib\\site-packages\\whisper\\transcribe.py:115: UserWarning: FP16 is not supported on CPU; using FP32 instead\n",
      "  warnings.warn(\"FP16 is not supported on CPU; using FP32 instead\")\n"
     ]
    },
    {
     "name": "stdout",
     "output_type": "stream",
     "text": [
      "25. Data untuk link 'https://www.youtube.com/watch?v=um5sjd9d94I' berhasil ditambahkan ke 'yt-news.csv'.\n"
     ]
    },
    {
     "name": "stderr",
     "output_type": "stream",
     "text": [
      "c:\\Users\\ACER-I5\\AppData\\Local\\Programs\\Python\\Python312\\Lib\\site-packages\\whisper\\transcribe.py:115: UserWarning: FP16 is not supported on CPU; using FP32 instead\n",
      "  warnings.warn(\"FP16 is not supported on CPU; using FP32 instead\")\n"
     ]
    },
    {
     "name": "stdout",
     "output_type": "stream",
     "text": [
      "26. Data untuk link 'https://www.youtube.com/watch?v=7CKbkWoPjAQ' berhasil ditambahkan ke 'yt-news.csv'.\n"
     ]
    },
    {
     "name": "stderr",
     "output_type": "stream",
     "text": [
      "c:\\Users\\ACER-I5\\AppData\\Local\\Programs\\Python\\Python312\\Lib\\site-packages\\whisper\\transcribe.py:115: UserWarning: FP16 is not supported on CPU; using FP32 instead\n",
      "  warnings.warn(\"FP16 is not supported on CPU; using FP32 instead\")\n"
     ]
    },
    {
     "name": "stdout",
     "output_type": "stream",
     "text": [
      "27. Data untuk link 'https://www.youtube.com/watch?v=ONPMIDMfq1A' berhasil ditambahkan ke 'yt-news.csv'.\n"
     ]
    },
    {
     "name": "stderr",
     "output_type": "stream",
     "text": [
      "c:\\Users\\ACER-I5\\AppData\\Local\\Programs\\Python\\Python312\\Lib\\site-packages\\whisper\\transcribe.py:115: UserWarning: FP16 is not supported on CPU; using FP32 instead\n",
      "  warnings.warn(\"FP16 is not supported on CPU; using FP32 instead\")\n"
     ]
    },
    {
     "name": "stdout",
     "output_type": "stream",
     "text": [
      "28. Data untuk link 'https://www.youtube.com/watch?v=iRVjDwkqYQE' berhasil ditambahkan ke 'yt-news.csv'.\n"
     ]
    },
    {
     "name": "stderr",
     "output_type": "stream",
     "text": [
      "c:\\Users\\ACER-I5\\AppData\\Local\\Programs\\Python\\Python312\\Lib\\site-packages\\whisper\\transcribe.py:115: UserWarning: FP16 is not supported on CPU; using FP32 instead\n",
      "  warnings.warn(\"FP16 is not supported on CPU; using FP32 instead\")\n"
     ]
    },
    {
     "name": "stdout",
     "output_type": "stream",
     "text": [
      "29. Data untuk link 'https://www.youtube.com/watch?v=IwtGB0XCYCg' berhasil ditambahkan ke 'yt-news.csv'.\n"
     ]
    },
    {
     "name": "stderr",
     "output_type": "stream",
     "text": [
      "c:\\Users\\ACER-I5\\AppData\\Local\\Programs\\Python\\Python312\\Lib\\site-packages\\whisper\\transcribe.py:115: UserWarning: FP16 is not supported on CPU; using FP32 instead\n",
      "  warnings.warn(\"FP16 is not supported on CPU; using FP32 instead\")\n"
     ]
    },
    {
     "name": "stdout",
     "output_type": "stream",
     "text": [
      "30. Data untuk link 'https://www.youtube.com/watch?v=hwSjkKUq3Cc' berhasil ditambahkan ke 'yt-news.csv'.\n"
     ]
    },
    {
     "name": "stderr",
     "output_type": "stream",
     "text": [
      "c:\\Users\\ACER-I5\\AppData\\Local\\Programs\\Python\\Python312\\Lib\\site-packages\\whisper\\transcribe.py:115: UserWarning: FP16 is not supported on CPU; using FP32 instead\n",
      "  warnings.warn(\"FP16 is not supported on CPU; using FP32 instead\")\n"
     ]
    },
    {
     "name": "stdout",
     "output_type": "stream",
     "text": [
      "31. Data untuk link 'https://www.youtube.com/watch?v=C00PB0F2NFY' berhasil ditambahkan ke 'yt-news.csv'.\n"
     ]
    },
    {
     "name": "stderr",
     "output_type": "stream",
     "text": [
      "c:\\Users\\ACER-I5\\AppData\\Local\\Programs\\Python\\Python312\\Lib\\site-packages\\whisper\\transcribe.py:115: UserWarning: FP16 is not supported on CPU; using FP32 instead\n",
      "  warnings.warn(\"FP16 is not supported on CPU; using FP32 instead\")\n"
     ]
    },
    {
     "name": "stdout",
     "output_type": "stream",
     "text": [
      "32. Data untuk link 'https://www.youtube.com/watch?v=EWRxzvsbQEw' berhasil ditambahkan ke 'yt-news.csv'.\n"
     ]
    },
    {
     "name": "stderr",
     "output_type": "stream",
     "text": [
      "c:\\Users\\ACER-I5\\AppData\\Local\\Programs\\Python\\Python312\\Lib\\site-packages\\whisper\\transcribe.py:115: UserWarning: FP16 is not supported on CPU; using FP32 instead\n",
      "  warnings.warn(\"FP16 is not supported on CPU; using FP32 instead\")\n"
     ]
    },
    {
     "name": "stdout",
     "output_type": "stream",
     "text": [
      "33. Data untuk link 'https://www.youtube.com/watch?v=hyKIMXr0jbY' berhasil ditambahkan ke 'yt-news.csv'.\n"
     ]
    },
    {
     "name": "stderr",
     "output_type": "stream",
     "text": [
      "c:\\Users\\ACER-I5\\AppData\\Local\\Programs\\Python\\Python312\\Lib\\site-packages\\whisper\\transcribe.py:115: UserWarning: FP16 is not supported on CPU; using FP32 instead\n",
      "  warnings.warn(\"FP16 is not supported on CPU; using FP32 instead\")\n"
     ]
    },
    {
     "name": "stdout",
     "output_type": "stream",
     "text": [
      "34. Data untuk link 'https://www.youtube.com/watch?v=7IiUpGA-YUA' berhasil ditambahkan ke 'yt-news.csv'.\n"
     ]
    },
    {
     "name": "stderr",
     "output_type": "stream",
     "text": [
      "c:\\Users\\ACER-I5\\AppData\\Local\\Programs\\Python\\Python312\\Lib\\site-packages\\whisper\\transcribe.py:115: UserWarning: FP16 is not supported on CPU; using FP32 instead\n",
      "  warnings.warn(\"FP16 is not supported on CPU; using FP32 instead\")\n"
     ]
    },
    {
     "name": "stdout",
     "output_type": "stream",
     "text": [
      "35. Data untuk link 'https://www.youtube.com/watch?v=4KJJ--NYwV8' berhasil ditambahkan ke 'yt-news.csv'.\n"
     ]
    },
    {
     "name": "stderr",
     "output_type": "stream",
     "text": [
      "c:\\Users\\ACER-I5\\AppData\\Local\\Programs\\Python\\Python312\\Lib\\site-packages\\whisper\\transcribe.py:115: UserWarning: FP16 is not supported on CPU; using FP32 instead\n",
      "  warnings.warn(\"FP16 is not supported on CPU; using FP32 instead\")\n"
     ]
    },
    {
     "name": "stdout",
     "output_type": "stream",
     "text": [
      "36. Data untuk link 'https://www.youtube.com/watch?v=2LV1XYuSPzg' berhasil ditambahkan ke 'yt-news.csv'.\n"
     ]
    },
    {
     "name": "stderr",
     "output_type": "stream",
     "text": [
      "c:\\Users\\ACER-I5\\AppData\\Local\\Programs\\Python\\Python312\\Lib\\site-packages\\whisper\\transcribe.py:115: UserWarning: FP16 is not supported on CPU; using FP32 instead\n",
      "  warnings.warn(\"FP16 is not supported on CPU; using FP32 instead\")\n"
     ]
    },
    {
     "name": "stdout",
     "output_type": "stream",
     "text": [
      "37. Data untuk link 'https://www.youtube.com/watch?v=atpXXk7OBFI' berhasil ditambahkan ke 'yt-news.csv'.\n"
     ]
    },
    {
     "name": "stderr",
     "output_type": "stream",
     "text": [
      "c:\\Users\\ACER-I5\\AppData\\Local\\Programs\\Python\\Python312\\Lib\\site-packages\\whisper\\transcribe.py:115: UserWarning: FP16 is not supported on CPU; using FP32 instead\n",
      "  warnings.warn(\"FP16 is not supported on CPU; using FP32 instead\")\n"
     ]
    },
    {
     "name": "stdout",
     "output_type": "stream",
     "text": [
      "38. Data untuk link 'https://www.youtube.com/watch?v=zft1t2DvvRw' berhasil ditambahkan ke 'yt-news.csv'.\n"
     ]
    },
    {
     "name": "stderr",
     "output_type": "stream",
     "text": [
      "c:\\Users\\ACER-I5\\AppData\\Local\\Programs\\Python\\Python312\\Lib\\site-packages\\whisper\\transcribe.py:115: UserWarning: FP16 is not supported on CPU; using FP32 instead\n",
      "  warnings.warn(\"FP16 is not supported on CPU; using FP32 instead\")\n"
     ]
    },
    {
     "name": "stdout",
     "output_type": "stream",
     "text": [
      "39. Data untuk link 'https://www.youtube.com/watch?v=QG8m0rxrOfs' berhasil ditambahkan ke 'yt-news.csv'.\n"
     ]
    },
    {
     "name": "stderr",
     "output_type": "stream",
     "text": [
      "c:\\Users\\ACER-I5\\AppData\\Local\\Programs\\Python\\Python312\\Lib\\site-packages\\whisper\\transcribe.py:115: UserWarning: FP16 is not supported on CPU; using FP32 instead\n",
      "  warnings.warn(\"FP16 is not supported on CPU; using FP32 instead\")\n"
     ]
    },
    {
     "name": "stdout",
     "output_type": "stream",
     "text": [
      "40. Data untuk link 'https://www.youtube.com/watch?v=1EW64DNee9c' berhasil ditambahkan ke 'yt-news.csv'.\n"
     ]
    },
    {
     "name": "stderr",
     "output_type": "stream",
     "text": [
      "c:\\Users\\ACER-I5\\AppData\\Local\\Programs\\Python\\Python312\\Lib\\site-packages\\whisper\\transcribe.py:115: UserWarning: FP16 is not supported on CPU; using FP32 instead\n",
      "  warnings.warn(\"FP16 is not supported on CPU; using FP32 instead\")\n"
     ]
    },
    {
     "name": "stdout",
     "output_type": "stream",
     "text": [
      "41. Data untuk link 'https://www.youtube.com/watch?v=w1Ee9UGqidE' berhasil ditambahkan ke 'yt-news.csv'.\n"
     ]
    },
    {
     "name": "stderr",
     "output_type": "stream",
     "text": [
      "c:\\Users\\ACER-I5\\AppData\\Local\\Programs\\Python\\Python312\\Lib\\site-packages\\whisper\\transcribe.py:115: UserWarning: FP16 is not supported on CPU; using FP32 instead\n",
      "  warnings.warn(\"FP16 is not supported on CPU; using FP32 instead\")\n"
     ]
    },
    {
     "name": "stdout",
     "output_type": "stream",
     "text": [
      "42. Data untuk link 'https://www.youtube.com/watch?v=JK3JPi8MjQk' berhasil ditambahkan ke 'yt-news.csv'.\n"
     ]
    },
    {
     "name": "stderr",
     "output_type": "stream",
     "text": [
      "c:\\Users\\ACER-I5\\AppData\\Local\\Programs\\Python\\Python312\\Lib\\site-packages\\whisper\\transcribe.py:115: UserWarning: FP16 is not supported on CPU; using FP32 instead\n",
      "  warnings.warn(\"FP16 is not supported on CPU; using FP32 instead\")\n"
     ]
    },
    {
     "name": "stdout",
     "output_type": "stream",
     "text": [
      "43. Data untuk link 'https://www.youtube.com/watch?v=PHJIViktCZQ' berhasil ditambahkan ke 'yt-news.csv'.\n"
     ]
    },
    {
     "name": "stderr",
     "output_type": "stream",
     "text": [
      "c:\\Users\\ACER-I5\\AppData\\Local\\Programs\\Python\\Python312\\Lib\\site-packages\\whisper\\transcribe.py:115: UserWarning: FP16 is not supported on CPU; using FP32 instead\n",
      "  warnings.warn(\"FP16 is not supported on CPU; using FP32 instead\")\n"
     ]
    },
    {
     "name": "stdout",
     "output_type": "stream",
     "text": [
      "44. Data untuk link 'https://www.youtube.com/watch?v=JxEcOjTyIpc' berhasil ditambahkan ke 'yt-news.csv'.\n"
     ]
    },
    {
     "name": "stderr",
     "output_type": "stream",
     "text": [
      "c:\\Users\\ACER-I5\\AppData\\Local\\Programs\\Python\\Python312\\Lib\\site-packages\\whisper\\transcribe.py:115: UserWarning: FP16 is not supported on CPU; using FP32 instead\n",
      "  warnings.warn(\"FP16 is not supported on CPU; using FP32 instead\")\n"
     ]
    },
    {
     "name": "stdout",
     "output_type": "stream",
     "text": [
      "45. Data untuk link 'https://www.youtube.com/watch?v=Bkq9vG--x8w' berhasil ditambahkan ke 'yt-news.csv'.\n"
     ]
    },
    {
     "name": "stderr",
     "output_type": "stream",
     "text": [
      "c:\\Users\\ACER-I5\\AppData\\Local\\Programs\\Python\\Python312\\Lib\\site-packages\\whisper\\transcribe.py:115: UserWarning: FP16 is not supported on CPU; using FP32 instead\n",
      "  warnings.warn(\"FP16 is not supported on CPU; using FP32 instead\")\n"
     ]
    },
    {
     "name": "stdout",
     "output_type": "stream",
     "text": [
      "46. Data untuk link 'https://www.youtube.com/watch?v=ERGcqgBAbSs' berhasil ditambahkan ke 'yt-news.csv'.\n",
      "123. Data untuk link 'https://www.youtube.com/watch?v=edH8dHaFRhA' sudah ada, tidak disimpan.\n",
      "124. Data untuk link 'https://www.youtube.com/watch?v=L0pOMSJAoIc' sudah ada, tidak disimpan.\n",
      "125. Data untuk link 'https://www.youtube.com/watch?v=hTlk5c_-_54' sudah ada, tidak disimpan.\n",
      "126. Data untuk link 'https://www.youtube.com/watch?v=HL1e0maJpvg' sudah ada, tidak disimpan.\n",
      "127. Data untuk link 'https://www.youtube.com/watch?v=ntzL3ncYzvU' sudah ada, tidak disimpan.\n"
     ]
    },
    {
     "name": "stderr",
     "output_type": "stream",
     "text": [
      "c:\\Users\\ACER-I5\\AppData\\Local\\Programs\\Python\\Python312\\Lib\\site-packages\\whisper\\transcribe.py:115: UserWarning: FP16 is not supported on CPU; using FP32 instead\n",
      "  warnings.warn(\"FP16 is not supported on CPU; using FP32 instead\")\n"
     ]
    },
    {
     "name": "stdout",
     "output_type": "stream",
     "text": [
      "47. Data untuk link 'https://www.youtube.com/watch?v=Jl9lgXLeYTA' berhasil ditambahkan ke 'yt-news.csv'.\n"
     ]
    },
    {
     "name": "stderr",
     "output_type": "stream",
     "text": [
      "c:\\Users\\ACER-I5\\AppData\\Local\\Programs\\Python\\Python312\\Lib\\site-packages\\whisper\\transcribe.py:115: UserWarning: FP16 is not supported on CPU; using FP32 instead\n",
      "  warnings.warn(\"FP16 is not supported on CPU; using FP32 instead\")\n"
     ]
    },
    {
     "name": "stdout",
     "output_type": "stream",
     "text": [
      "48. Data untuk link 'https://www.youtube.com/watch?v=9dW8mvE7G40' berhasil ditambahkan ke 'yt-news.csv'.\n",
      "128. Data untuk link 'https://www.youtube.com/watch?v=mj3l4N0O4co' sudah ada, tidak disimpan.\n",
      "129. Data untuk link 'https://www.youtube.com/watch?v=lX8FcHuodcE' sudah ada, tidak disimpan.\n",
      "130. Data untuk link 'https://www.youtube.com/watch?v=w-K2GUSY180' sudah ada, tidak disimpan.\n",
      "131. Data untuk link 'https://www.youtube.com/watch?v=L_vcWAoQdwc' sudah ada, tidak disimpan.\n",
      "132. Data untuk link 'https://www.youtube.com/watch?v=XjtnXM7wk88' sudah ada, tidak disimpan.\n",
      "133. Data untuk link 'https://www.youtube.com/watch?v=YXJFevUbSAg' sudah ada, tidak disimpan.\n",
      "134. Data untuk link 'https://www.youtube.com/watch?v=RWQmGp51WIU' sudah ada, tidak disimpan.\n",
      "135. Data untuk link 'https://www.youtube.com/watch?v=9wKRnckVh4A' sudah ada, tidak disimpan.\n",
      "136. Data untuk link 'https://www.youtube.com/watch?v=cJbY8UFgQbU' sudah ada, tidak disimpan.\n",
      "137. Data untuk link 'https://www.youtube.com/watch?v=wecKlOamWG8' sudah ada, tidak disimpan.\n",
      "138. Data untuk link 'https://www.youtube.com/watch?v=RmJjhXPZGB0' sudah ada, tidak disimpan.\n",
      "139. Data untuk link 'https://www.youtube.com/watch?v=8uW01ZlgcIg' sudah ada, tidak disimpan.\n"
     ]
    },
    {
     "name": "stderr",
     "output_type": "stream",
     "text": [
      "c:\\Users\\ACER-I5\\AppData\\Local\\Programs\\Python\\Python312\\Lib\\site-packages\\whisper\\transcribe.py:115: UserWarning: FP16 is not supported on CPU; using FP32 instead\n",
      "  warnings.warn(\"FP16 is not supported on CPU; using FP32 instead\")\n"
     ]
    },
    {
     "name": "stdout",
     "output_type": "stream",
     "text": [
      "49. Data untuk link 'https://www.youtube.com/watch?v=CS_xC5mw5Sw' berhasil ditambahkan ke 'yt-news.csv'.\n"
     ]
    },
    {
     "name": "stderr",
     "output_type": "stream",
     "text": [
      "c:\\Users\\ACER-I5\\AppData\\Local\\Programs\\Python\\Python312\\Lib\\site-packages\\whisper\\transcribe.py:115: UserWarning: FP16 is not supported on CPU; using FP32 instead\n",
      "  warnings.warn(\"FP16 is not supported on CPU; using FP32 instead\")\n"
     ]
    },
    {
     "name": "stdout",
     "output_type": "stream",
     "text": [
      "50. Data untuk link 'https://www.youtube.com/watch?v=6ffQenHwLqY' berhasil ditambahkan ke 'yt-news.csv'.\n",
      "140. Data untuk link 'https://www.youtube.com/watch?v=u8vy2771qWk' sudah ada, tidak disimpan.\n",
      "141. Data untuk link 'https://www.youtube.com/watch?v=HE7XvadjoBg' sudah ada, tidak disimpan.\n",
      "142. Data untuk link 'https://www.youtube.com/watch?v=Au_ndPxdZm8' sudah ada, tidak disimpan.\n",
      "143. Data untuk link 'https://www.youtube.com/watch?v=zKd2CBU_rjU' sudah ada, tidak disimpan.\n"
     ]
    },
    {
     "name": "stderr",
     "output_type": "stream",
     "text": [
      "c:\\Users\\ACER-I5\\AppData\\Local\\Programs\\Python\\Python312\\Lib\\site-packages\\whisper\\transcribe.py:115: UserWarning: FP16 is not supported on CPU; using FP32 instead\n",
      "  warnings.warn(\"FP16 is not supported on CPU; using FP32 instead\")\n"
     ]
    },
    {
     "name": "stdout",
     "output_type": "stream",
     "text": [
      "51. Data untuk link 'https://www.youtube.com/watch?v=T0_XbL3iEH0' berhasil ditambahkan ke 'yt-news.csv'.\n",
      "144. Data untuk link 'https://www.youtube.com/watch?v=GHIFh8ChL_M' sudah ada, tidak disimpan.\n",
      "145. Data untuk link 'https://www.youtube.com/watch?v=Pe3PbagA1EY' sudah ada, tidak disimpan.\n",
      "146. Data untuk link 'https://www.youtube.com/watch?v=6Wb19Nc4_cU' sudah ada, tidak disimpan.\n"
     ]
    },
    {
     "name": "stderr",
     "output_type": "stream",
     "text": [
      "c:\\Users\\ACER-I5\\AppData\\Local\\Programs\\Python\\Python312\\Lib\\site-packages\\whisper\\transcribe.py:115: UserWarning: FP16 is not supported on CPU; using FP32 instead\n",
      "  warnings.warn(\"FP16 is not supported on CPU; using FP32 instead\")\n"
     ]
    },
    {
     "name": "stdout",
     "output_type": "stream",
     "text": [
      "52. Data untuk link 'https://www.youtube.com/watch?v=tRWjySbCj0U' berhasil ditambahkan ke 'yt-news.csv'.\n"
     ]
    },
    {
     "name": "stderr",
     "output_type": "stream",
     "text": [
      "c:\\Users\\ACER-I5\\AppData\\Local\\Programs\\Python\\Python312\\Lib\\site-packages\\whisper\\transcribe.py:115: UserWarning: FP16 is not supported on CPU; using FP32 instead\n",
      "  warnings.warn(\"FP16 is not supported on CPU; using FP32 instead\")\n"
     ]
    },
    {
     "name": "stdout",
     "output_type": "stream",
     "text": [
      "53. Data untuk link 'https://www.youtube.com/watch?v=9riXkg07-aw' berhasil ditambahkan ke 'yt-news.csv'.\n"
     ]
    },
    {
     "name": "stderr",
     "output_type": "stream",
     "text": [
      "c:\\Users\\ACER-I5\\AppData\\Local\\Programs\\Python\\Python312\\Lib\\site-packages\\whisper\\transcribe.py:115: UserWarning: FP16 is not supported on CPU; using FP32 instead\n",
      "  warnings.warn(\"FP16 is not supported on CPU; using FP32 instead\")\n"
     ]
    },
    {
     "name": "stdout",
     "output_type": "stream",
     "text": [
      "54. Data untuk link 'https://www.youtube.com/watch?v=QoGmP34HgWc' berhasil ditambahkan ke 'yt-news.csv'.\n"
     ]
    },
    {
     "name": "stderr",
     "output_type": "stream",
     "text": [
      "c:\\Users\\ACER-I5\\AppData\\Local\\Programs\\Python\\Python312\\Lib\\site-packages\\whisper\\transcribe.py:115: UserWarning: FP16 is not supported on CPU; using FP32 instead\n",
      "  warnings.warn(\"FP16 is not supported on CPU; using FP32 instead\")\n"
     ]
    },
    {
     "name": "stdout",
     "output_type": "stream",
     "text": [
      "55. Data untuk link 'https://www.youtube.com/watch?v=VcNdaBWFQrM' berhasil ditambahkan ke 'yt-news.csv'.\n"
     ]
    },
    {
     "name": "stderr",
     "output_type": "stream",
     "text": [
      "c:\\Users\\ACER-I5\\AppData\\Local\\Programs\\Python\\Python312\\Lib\\site-packages\\whisper\\transcribe.py:115: UserWarning: FP16 is not supported on CPU; using FP32 instead\n",
      "  warnings.warn(\"FP16 is not supported on CPU; using FP32 instead\")\n"
     ]
    },
    {
     "name": "stdout",
     "output_type": "stream",
     "text": [
      "56. Data untuk link 'https://www.youtube.com/watch?v=1ykp9undAag' berhasil ditambahkan ke 'yt-news.csv'.\n"
     ]
    },
    {
     "name": "stderr",
     "output_type": "stream",
     "text": [
      "c:\\Users\\ACER-I5\\AppData\\Local\\Programs\\Python\\Python312\\Lib\\site-packages\\whisper\\transcribe.py:115: UserWarning: FP16 is not supported on CPU; using FP32 instead\n",
      "  warnings.warn(\"FP16 is not supported on CPU; using FP32 instead\")\n"
     ]
    },
    {
     "name": "stdout",
     "output_type": "stream",
     "text": [
      "57. Data untuk link 'https://www.youtube.com/watch?v=XIsi-2Ry0ik' berhasil ditambahkan ke 'yt-news.csv'.\n"
     ]
    },
    {
     "name": "stderr",
     "output_type": "stream",
     "text": [
      "c:\\Users\\ACER-I5\\AppData\\Local\\Programs\\Python\\Python312\\Lib\\site-packages\\whisper\\transcribe.py:115: UserWarning: FP16 is not supported on CPU; using FP32 instead\n",
      "  warnings.warn(\"FP16 is not supported on CPU; using FP32 instead\")\n"
     ]
    },
    {
     "name": "stdout",
     "output_type": "stream",
     "text": [
      "58. Data untuk link 'https://www.youtube.com/watch?v=5VsJRxNhDV4' berhasil ditambahkan ke 'yt-news.csv'.\n"
     ]
    },
    {
     "name": "stderr",
     "output_type": "stream",
     "text": [
      "c:\\Users\\ACER-I5\\AppData\\Local\\Programs\\Python\\Python312\\Lib\\site-packages\\whisper\\transcribe.py:115: UserWarning: FP16 is not supported on CPU; using FP32 instead\n",
      "  warnings.warn(\"FP16 is not supported on CPU; using FP32 instead\")\n"
     ]
    },
    {
     "name": "stdout",
     "output_type": "stream",
     "text": [
      "59. Data untuk link 'https://www.youtube.com/watch?v=1zKdjstJDxI' berhasil ditambahkan ke 'yt-news.csv'.\n",
      "147. Data untuk link 'https://www.youtube.com/watch?v=ONPMIDMfq1A' sudah ada, tidak disimpan.\n",
      "148. Data untuk link 'https://www.youtube.com/watch?v=iRVjDwkqYQE' sudah ada, tidak disimpan.\n"
     ]
    },
    {
     "name": "stderr",
     "output_type": "stream",
     "text": [
      "c:\\Users\\ACER-I5\\AppData\\Local\\Programs\\Python\\Python312\\Lib\\site-packages\\whisper\\transcribe.py:115: UserWarning: FP16 is not supported on CPU; using FP32 instead\n",
      "  warnings.warn(\"FP16 is not supported on CPU; using FP32 instead\")\n"
     ]
    },
    {
     "name": "stdout",
     "output_type": "stream",
     "text": [
      "60. Data untuk link 'https://www.youtube.com/watch?v=d_bTbNdIWZs' berhasil ditambahkan ke 'yt-news.csv'.\n",
      "149. Data untuk link 'https://www.youtube.com/watch?v=um5sjd9d94I' sudah ada, tidak disimpan.\n"
     ]
    },
    {
     "name": "stderr",
     "output_type": "stream",
     "text": [
      "c:\\Users\\ACER-I5\\AppData\\Local\\Programs\\Python\\Python312\\Lib\\site-packages\\whisper\\transcribe.py:115: UserWarning: FP16 is not supported on CPU; using FP32 instead\n",
      "  warnings.warn(\"FP16 is not supported on CPU; using FP32 instead\")\n"
     ]
    },
    {
     "name": "stdout",
     "output_type": "stream",
     "text": [
      "61. Data untuk link 'https://www.youtube.com/watch?v=-D5ujtzQj_4' berhasil ditambahkan ke 'yt-news.csv'.\n"
     ]
    },
    {
     "name": "stderr",
     "output_type": "stream",
     "text": [
      "c:\\Users\\ACER-I5\\AppData\\Local\\Programs\\Python\\Python312\\Lib\\site-packages\\whisper\\transcribe.py:115: UserWarning: FP16 is not supported on CPU; using FP32 instead\n",
      "  warnings.warn(\"FP16 is not supported on CPU; using FP32 instead\")\n"
     ]
    },
    {
     "name": "stdout",
     "output_type": "stream",
     "text": [
      "62. Data untuk link 'https://www.youtube.com/watch?v=waQvGSXO5I8' berhasil ditambahkan ke 'yt-news.csv'.\n"
     ]
    },
    {
     "name": "stderr",
     "output_type": "stream",
     "text": [
      "c:\\Users\\ACER-I5\\AppData\\Local\\Programs\\Python\\Python312\\Lib\\site-packages\\whisper\\transcribe.py:115: UserWarning: FP16 is not supported on CPU; using FP32 instead\n",
      "  warnings.warn(\"FP16 is not supported on CPU; using FP32 instead\")\n"
     ]
    },
    {
     "name": "stdout",
     "output_type": "stream",
     "text": [
      "63. Data untuk link 'https://www.youtube.com/watch?v=u7M-G25gTgg' berhasil ditambahkan ke 'yt-news.csv'.\n",
      "150. Data untuk link 'https://www.youtube.com/watch?v=1EW64DNee9c' sudah ada, tidak disimpan.\n",
      "151. Data untuk link 'https://www.youtube.com/watch?v=w1Ee9UGqidE' sudah ada, tidak disimpan.\n",
      "152. Data untuk link 'https://www.youtube.com/watch?v=PHJIViktCZQ' sudah ada, tidak disimpan.\n",
      "153. Data untuk link 'https://www.youtube.com/watch?v=JK3JPi8MjQk' sudah ada, tidak disimpan.\n",
      "154. Data untuk link 'https://www.youtube.com/watch?v=JxEcOjTyIpc' sudah ada, tidak disimpan.\n"
     ]
    },
    {
     "name": "stderr",
     "output_type": "stream",
     "text": [
      "c:\\Users\\ACER-I5\\AppData\\Local\\Programs\\Python\\Python312\\Lib\\site-packages\\whisper\\transcribe.py:115: UserWarning: FP16 is not supported on CPU; using FP32 instead\n",
      "  warnings.warn(\"FP16 is not supported on CPU; using FP32 instead\")\n"
     ]
    },
    {
     "name": "stdout",
     "output_type": "stream",
     "text": [
      "64. Data untuk link 'https://www.youtube.com/watch?v=akFxVpqa2YY' berhasil ditambahkan ke 'yt-news.csv'.\n"
     ]
    },
    {
     "name": "stderr",
     "output_type": "stream",
     "text": [
      "c:\\Users\\ACER-I5\\AppData\\Local\\Programs\\Python\\Python312\\Lib\\site-packages\\whisper\\transcribe.py:115: UserWarning: FP16 is not supported on CPU; using FP32 instead\n",
      "  warnings.warn(\"FP16 is not supported on CPU; using FP32 instead\")\n"
     ]
    },
    {
     "name": "stdout",
     "output_type": "stream",
     "text": [
      "65. Data untuk link 'https://www.youtube.com/watch?v=TOO4qqqKMUk' berhasil ditambahkan ke 'yt-news.csv'.\n"
     ]
    },
    {
     "name": "stderr",
     "output_type": "stream",
     "text": [
      "c:\\Users\\ACER-I5\\AppData\\Local\\Programs\\Python\\Python312\\Lib\\site-packages\\whisper\\transcribe.py:115: UserWarning: FP16 is not supported on CPU; using FP32 instead\n",
      "  warnings.warn(\"FP16 is not supported on CPU; using FP32 instead\")\n"
     ]
    },
    {
     "name": "stdout",
     "output_type": "stream",
     "text": [
      "66. Data untuk link 'https://www.youtube.com/watch?v=z-gvdvBRmkw' berhasil ditambahkan ke 'yt-news.csv'.\n"
     ]
    },
    {
     "name": "stderr",
     "output_type": "stream",
     "text": [
      "c:\\Users\\ACER-I5\\AppData\\Local\\Programs\\Python\\Python312\\Lib\\site-packages\\whisper\\transcribe.py:115: UserWarning: FP16 is not supported on CPU; using FP32 instead\n",
      "  warnings.warn(\"FP16 is not supported on CPU; using FP32 instead\")\n"
     ]
    },
    {
     "name": "stdout",
     "output_type": "stream",
     "text": [
      "67. Data untuk link 'https://www.youtube.com/watch?v=4M0zXOPUWUo' berhasil ditambahkan ke 'yt-news.csv'.\n",
      "155. Data untuk link 'https://www.youtube.com/watch?v=oOf2FSJA-UI' sudah ada, tidak disimpan.\n",
      "156. Data untuk link 'https://www.youtube.com/watch?v=m6rKXuF2b5o' sudah ada, tidak disimpan.\n",
      "157. Data untuk link 'https://www.youtube.com/watch?v=yikNCG373-M' sudah ada, tidak disimpan.\n",
      "158. Data untuk link 'https://www.youtube.com/watch?v=YzMc1JtqrLs' sudah ada, tidak disimpan.\n",
      "159. Data untuk link 'https://www.youtube.com/watch?v=aKESxxceq0A' sudah ada, tidak disimpan.\n",
      "160. Data untuk link 'https://www.youtube.com/watch?v=OsvMmVITiWw' sudah ada, tidak disimpan.\n"
     ]
    },
    {
     "name": "stderr",
     "output_type": "stream",
     "text": [
      "c:\\Users\\ACER-I5\\AppData\\Local\\Programs\\Python\\Python312\\Lib\\site-packages\\whisper\\transcribe.py:115: UserWarning: FP16 is not supported on CPU; using FP32 instead\n",
      "  warnings.warn(\"FP16 is not supported on CPU; using FP32 instead\")\n"
     ]
    },
    {
     "name": "stdout",
     "output_type": "stream",
     "text": [
      "68. Data untuk link 'https://www.youtube.com/watch?v=uxjMRNpRT0E' berhasil ditambahkan ke 'yt-news.csv'.\n",
      "161. Data untuk link 'https://www.youtube.com/watch?v=9zgrAI28BQI' sudah ada, tidak disimpan.\n"
     ]
    },
    {
     "name": "stderr",
     "output_type": "stream",
     "text": [
      "c:\\Users\\ACER-I5\\AppData\\Local\\Programs\\Python\\Python312\\Lib\\site-packages\\whisper\\transcribe.py:115: UserWarning: FP16 is not supported on CPU; using FP32 instead\n",
      "  warnings.warn(\"FP16 is not supported on CPU; using FP32 instead\")\n"
     ]
    },
    {
     "name": "stdout",
     "output_type": "stream",
     "text": [
      "69. Data untuk link 'https://www.youtube.com/watch?v=VXEK5eaRV-8' berhasil ditambahkan ke 'yt-news.csv'.\n"
     ]
    },
    {
     "name": "stderr",
     "output_type": "stream",
     "text": [
      "c:\\Users\\ACER-I5\\AppData\\Local\\Programs\\Python\\Python312\\Lib\\site-packages\\whisper\\transcribe.py:115: UserWarning: FP16 is not supported on CPU; using FP32 instead\n",
      "  warnings.warn(\"FP16 is not supported on CPU; using FP32 instead\")\n"
     ]
    },
    {
     "name": "stdout",
     "output_type": "stream",
     "text": [
      "70. Data untuk link 'https://www.youtube.com/watch?v=t3q4LanaXCE' berhasil ditambahkan ke 'yt-news.csv'.\n"
     ]
    },
    {
     "name": "stderr",
     "output_type": "stream",
     "text": [
      "c:\\Users\\ACER-I5\\AppData\\Local\\Programs\\Python\\Python312\\Lib\\site-packages\\whisper\\transcribe.py:115: UserWarning: FP16 is not supported on CPU; using FP32 instead\n",
      "  warnings.warn(\"FP16 is not supported on CPU; using FP32 instead\")\n"
     ]
    },
    {
     "name": "stdout",
     "output_type": "stream",
     "text": [
      "71. Data untuk link 'https://www.youtube.com/watch?v=b1sE7z9mG_w' berhasil ditambahkan ke 'yt-news.csv'.\n",
      "162. Data untuk link 'https://www.youtube.com/watch?v=u8vy2771qWk' sudah ada, tidak disimpan.\n",
      "163. Data untuk link 'https://www.youtube.com/watch?v=HE7XvadjoBg' sudah ada, tidak disimpan.\n"
     ]
    },
    {
     "name": "stderr",
     "output_type": "stream",
     "text": [
      "c:\\Users\\ACER-I5\\AppData\\Local\\Programs\\Python\\Python312\\Lib\\site-packages\\whisper\\transcribe.py:115: UserWarning: FP16 is not supported on CPU; using FP32 instead\n",
      "  warnings.warn(\"FP16 is not supported on CPU; using FP32 instead\")\n"
     ]
    },
    {
     "name": "stdout",
     "output_type": "stream",
     "text": [
      "72. Data untuk link 'https://www.youtube.com/watch?v=baYU31fxQyU' berhasil ditambahkan ke 'yt-news.csv'.\n",
      "164. Data untuk link 'https://www.youtube.com/watch?v=CS_xC5mw5Sw' sudah ada, tidak disimpan.\n",
      "165. Data untuk link 'https://www.youtube.com/watch?v=6ffQenHwLqY' sudah ada, tidak disimpan.\n",
      "166. Data untuk link 'https://www.youtube.com/watch?v=Au_ndPxdZm8' sudah ada, tidak disimpan.\n",
      "167. Data untuk link 'https://www.youtube.com/watch?v=zKd2CBU_rjU' sudah ada, tidak disimpan.\n"
     ]
    },
    {
     "name": "stderr",
     "output_type": "stream",
     "text": [
      "c:\\Users\\ACER-I5\\AppData\\Local\\Programs\\Python\\Python312\\Lib\\site-packages\\whisper\\transcribe.py:115: UserWarning: FP16 is not supported on CPU; using FP32 instead\n",
      "  warnings.warn(\"FP16 is not supported on CPU; using FP32 instead\")\n"
     ]
    },
    {
     "name": "stdout",
     "output_type": "stream",
     "text": [
      "73. Data untuk link 'https://www.youtube.com/watch?v=KUpuAIqrOOk' berhasil ditambahkan ke 'yt-news.csv'.\n"
     ]
    },
    {
     "name": "stderr",
     "output_type": "stream",
     "text": [
      "c:\\Users\\ACER-I5\\AppData\\Local\\Programs\\Python\\Python312\\Lib\\site-packages\\whisper\\transcribe.py:115: UserWarning: FP16 is not supported on CPU; using FP32 instead\n",
      "  warnings.warn(\"FP16 is not supported on CPU; using FP32 instead\")\n"
     ]
    },
    {
     "name": "stdout",
     "output_type": "stream",
     "text": [
      "74. Data untuk link 'https://www.youtube.com/watch?v=xDpoWRjH-oM' berhasil ditambahkan ke 'yt-news.csv'.\n"
     ]
    },
    {
     "name": "stderr",
     "output_type": "stream",
     "text": [
      "c:\\Users\\ACER-I5\\AppData\\Local\\Programs\\Python\\Python312\\Lib\\site-packages\\whisper\\transcribe.py:115: UserWarning: FP16 is not supported on CPU; using FP32 instead\n",
      "  warnings.warn(\"FP16 is not supported on CPU; using FP32 instead\")\n"
     ]
    },
    {
     "name": "stdout",
     "output_type": "stream",
     "text": [
      "75. Data untuk link 'https://www.youtube.com/watch?v=ruEJBV6K5bY' berhasil ditambahkan ke 'yt-news.csv'.\n"
     ]
    },
    {
     "name": "stderr",
     "output_type": "stream",
     "text": [
      "c:\\Users\\ACER-I5\\AppData\\Local\\Programs\\Python\\Python312\\Lib\\site-packages\\whisper\\transcribe.py:115: UserWarning: FP16 is not supported on CPU; using FP32 instead\n",
      "  warnings.warn(\"FP16 is not supported on CPU; using FP32 instead\")\n"
     ]
    },
    {
     "name": "stdout",
     "output_type": "stream",
     "text": [
      "76. Data untuk link 'https://www.youtube.com/watch?v=ZNaYKb1Kjcc' berhasil ditambahkan ke 'yt-news.csv'.\n",
      "168. Data untuk link 'https://www.youtube.com/watch?v=2LV1XYuSPzg' sudah ada, tidak disimpan.\n",
      "169. Data untuk link 'https://www.youtube.com/watch?v=atpXXk7OBFI' sudah ada, tidak disimpan.\n"
     ]
    },
    {
     "name": "stderr",
     "output_type": "stream",
     "text": [
      "c:\\Users\\ACER-I5\\AppData\\Local\\Programs\\Python\\Python312\\Lib\\site-packages\\whisper\\transcribe.py:115: UserWarning: FP16 is not supported on CPU; using FP32 instead\n",
      "  warnings.warn(\"FP16 is not supported on CPU; using FP32 instead\")\n"
     ]
    },
    {
     "name": "stdout",
     "output_type": "stream",
     "text": [
      "77. Data untuk link 'https://www.youtube.com/watch?v=X_j5T-6Q3U8' berhasil ditambahkan ke 'yt-news.csv'.\n",
      "170. Data untuk link 'https://www.youtube.com/watch?v=oa9NVhTuhv8' sudah ada, tidak disimpan.\n",
      "171. Data untuk link 'https://www.youtube.com/watch?v=IQ1Z2MyyMSY' sudah ada, tidak disimpan.\n",
      "172. Data untuk link 'https://www.youtube.com/watch?v=NaO42Mb4RCA' sudah ada, tidak disimpan.\n",
      "173. Data untuk link 'https://www.youtube.com/watch?v=MA64yxAAh5s' sudah ada, tidak disimpan.\n",
      "174. Data untuk link 'https://www.youtube.com/watch?v=X090YTbt3yU' sudah ada, tidak disimpan.\n",
      "175. Data untuk link 'https://www.youtube.com/watch?v=tFX2LOJamW4' sudah ada, tidak disimpan.\n",
      "176. Data untuk link 'https://www.youtube.com/watch?v=lF2OfYxR9WQ' sudah ada, tidak disimpan.\n",
      "177. Data untuk link 'https://www.youtube.com/watch?v=FjxqiRSEMWk' sudah ada, tidak disimpan.\n",
      "178. Data untuk link 'https://www.youtube.com/watch?v=5ZyZj8hBdL0' sudah ada, tidak disimpan.\n",
      "179. Data untuk link 'https://www.youtube.com/watch?v=nNe3bF08VrU' sudah ada, tidak disimpan.\n",
      "180. Data untuk link 'https://www.youtube.com/watch?v=iRDn8ZwS798' sudah ada, tidak disimpan.\n"
     ]
    },
    {
     "name": "stderr",
     "output_type": "stream",
     "text": [
      "c:\\Users\\ACER-I5\\AppData\\Local\\Programs\\Python\\Python312\\Lib\\site-packages\\whisper\\transcribe.py:115: UserWarning: FP16 is not supported on CPU; using FP32 instead\n",
      "  warnings.warn(\"FP16 is not supported on CPU; using FP32 instead\")\n"
     ]
    },
    {
     "name": "stdout",
     "output_type": "stream",
     "text": [
      "78. Data untuk link 'https://www.youtube.com/watch?v=K0fHe-yG3Lg' berhasil ditambahkan ke 'yt-news.csv'.\n",
      "181. Data untuk link 'https://www.youtube.com/watch?v=8uW01ZlgcIg' sudah ada, tidak disimpan.\n",
      "182. Data untuk link 'https://www.youtube.com/watch?v=9dW8mvE7G40' sudah ada, tidak disimpan.\n",
      "183. Data untuk link 'https://www.youtube.com/watch?v=mj3l4N0O4co' sudah ada, tidak disimpan.\n",
      "184. Data untuk link 'https://www.youtube.com/watch?v=lX8FcHuodcE' sudah ada, tidak disimpan.\n",
      "185. Data untuk link 'https://www.youtube.com/watch?v=w-K2GUSY180' sudah ada, tidak disimpan.\n",
      "186. Data untuk link 'https://www.youtube.com/watch?v=L_vcWAoQdwc' sudah ada, tidak disimpan.\n",
      "187. Data untuk link 'https://www.youtube.com/watch?v=XjtnXM7wk88' sudah ada, tidak disimpan.\n",
      "188. Data untuk link 'https://www.youtube.com/watch?v=YXJFevUbSAg' sudah ada, tidak disimpan.\n",
      "189. Data untuk link 'https://www.youtube.com/watch?v=RWQmGp51WIU' sudah ada, tidak disimpan.\n",
      "190. Data untuk link 'https://www.youtube.com/watch?v=9wKRnckVh4A' sudah ada, tidak disimpan.\n",
      "191. Data untuk link 'https://www.youtube.com/watch?v=cJbY8UFgQbU' sudah ada, tidak disimpan.\n",
      "192. Data untuk link 'https://www.youtube.com/watch?v=wecKlOamWG8' sudah ada, tidak disimpan.\n",
      "193. Data untuk link 'https://www.youtube.com/watch?v=RmJjhXPZGB0' sudah ada, tidak disimpan.\n",
      "194. Data untuk link 'https://www.youtube.com/watch?v=Jl9lgXLeYTA' sudah ada, tidak disimpan.\n",
      "195. Data untuk link 'https://www.youtube.com/watch?v=edH8dHaFRhA' sudah ada, tidak disimpan.\n",
      "196. Data untuk link 'https://www.youtube.com/watch?v=L0pOMSJAoIc' sudah ada, tidak disimpan.\n",
      "197. Data untuk link 'https://www.youtube.com/watch?v=hTlk5c_-_54' sudah ada, tidak disimpan.\n",
      "198. Data untuk link 'https://www.youtube.com/watch?v=HL1e0maJpvg' sudah ada, tidak disimpan.\n",
      "199. Data untuk link 'https://www.youtube.com/watch?v=ntzL3ncYzvU' sudah ada, tidak disimpan.\n",
      "Sebanyak 199 data tidak ditambahkan ke 'yt-news.csv'.\n",
      "Sebanyak 78 data berhasil ditambahkan ke 'yt-news.csv'.\n",
      "Data berhasil ditambahkan ke 'yt-news.csv'.\n"
     ]
    }
   ],
   "source": [
    "topik = \"hiburan\"\n",
    "url = [\n",
    "    \"https://www.youtube.com/watch?v=G0KAuO8oVNs\",\n",
    "    \"https://www.youtube.com/watch?v=lVUbKAsI_jM\",\n",
    "    \"https://www.youtube.com/watch?v=Z_3MhoeRJjE\",\n",
    "    \"https://www.youtube.com/watch?v=4IrtDBoXJHU\",\n",
    "    \"https://www.youtube.com/watch?v=xvURWYtAgks\",\n",
    "    \"https://www.youtube.com/watch?v=v0i9ke74Jow\",\n",
    "    \"https://www.youtube.com/watch?v=jxLxbfD_II0\",\n",
    "    \"https://www.youtube.com/watch?v=5HKKWfrL_Kg\",\n",
    "    \"https://www.youtube.com/watch?v=pOeW_kp1KqY\",\n",
    "    \"https://www.youtube.com/watch?v=Ad1i1xKr0sA\",\n",
    "    \"https://www.youtube.com/watch?v=rgYJVOZfxME\",\n",
    "    \"https://www.youtube.com/watch?v=9G9JdnA0nzo\",\n",
    "    \"https://www.youtube.com/watch?v=bnjKeOe1wlI\",\n",
    "    \"https://www.youtube.com/watch?v=gXhNoAh83xA\",\n",
    "    \"https://www.youtube.com/watch?v=GMamifRY0-U\",\n",
    "    \"https://www.youtube.com/watch?v=AwjIjKRScHw\",\n",
    "    \"https://www.youtube.com/watch?v=hHjafWg8-Y0\",\n",
    "    \"https://www.youtube.com/watch?v=zI3YR0VxAKg\",\n",
    "    \"https://www.youtube.com/watch?v=FraTKJe3thE\",\n",
    "    \"https://www.youtube.com/watch?v=U4JCnsAYG9o\",\n",
    "    \"https://www.youtube.com/watch?v=w4lmmXPBiDk\",\n",
    "    \"https://www.youtube.com/watch?v=bwZanCM98Pc\",\n",
    "    \"https://www.youtube.com/watch?v=nsEtEp6xv4Q\",\n",
    "    \"https://www.youtube.com/watch?v=xIX8G90gLRQ\",\n",
    "    \"https://www.youtube.com/watch?v=9A3yvF6oCAI\",\n",
    "    \"https://www.youtube.com/watch?v=KrZBrk5h1Ug\",\n",
    "    \"https://www.youtube.com/watch?v=ePPqoDjXc64\",\n",
    "    \"https://www.youtube.com/watch?v=4RgqKua4xds\",\n",
    "    \"https://www.youtube.com/watch?v=RWQmGp51WIU\",\n",
    "    \"https://www.youtube.com/watch?v=wecKlOamWG8\",\n",
    "    \"https://www.youtube.com/watch?v=9wKRnckVh4A\",\n",
    "    \"https://www.youtube.com/watch?v=cJbY8UFgQbU\",\n",
    "    \"https://www.youtube.com/watch?v=heyXJ0QKBbo\",\n",
    "    \"https://www.youtube.com/watch?v=RmJjhXPZGB0\",\n",
    "    \"https://www.youtube.com/watch?v=nFEw7PxzKcQ\",\n",
    "    \"https://www.youtube.com/watch?v=GHIFh8ChL_M\",\n",
    "    \"https://www.youtube.com/watch?v=Pe3PbagA1EY\",\n",
    "    \"https://www.youtube.com/watch?v=6Wb19Nc4_cU\",\n",
    "    \"https://www.youtube.com/watch?v=IB8Jfs_NbMU\",\n",
    "    \"https://www.youtube.com/watch?v=rvHkoufcIog\",\n",
    "    \"https://www.youtube.com/watch?v=X-Pv-R5El5o\",\n",
    "    \"https://www.youtube.com/watch?v=77cBhP042hE\",\n",
    "    \"https://www.youtube.com/watch?v=W5SIgkf-Fp4\",\n",
    "    \"https://www.youtube.com/watch?v=A6WsztySO88\",\n",
    "    \"https://www.youtube.com/watch?v=DmLNSe1jKD0\",\n",
    "    \"https://www.youtube.com/watch?v=a_VwypnQiDQ\",\n",
    "    \"https://www.youtube.com/watch?v=hTlk5c_-_54\",\n",
    "    \"https://www.youtube.com/watch?v=HL1e0maJpvg\",\n",
    "    \"https://www.youtube.com/watch?v=uWMeDPjqoVA\",\n",
    "    \"https://www.youtube.com/watch?v=ntzL3ncYzvU\",\n",
    "    \"https://www.youtube.com/watch?v=4HxCgz-_8q0\",\n",
    "    \"https://www.youtube.com/watch?v=z2FzSMoAsXU\",\n",
    "    \"https://www.youtube.com/watch?v=FjxqiRSEMWk\",\n",
    "    \"https://www.youtube.com/watch?v=5ZyZj8hBdL0\",\n",
    "    \"https://www.youtube.com/watch?v=XRjxh3AMUhw\",\n",
    "    \"https://www.youtube.com/watch?v=nNe3bF08VrU\",\n",
    "    \"https://www.youtube.com/watch?v=ZdhaASUHeFk\",\n",
    "    \"https://www.youtube.com/watch?v=iRDn8ZwS798\",\n",
    "    \"https://www.youtube.com/watch?v=SF-iKdDhMSk\",\n",
    "    \"https://www.youtube.com/watch?v=76jMvjAa01w\",\n",
    "    \"https://www.youtube.com/watch?v=jUUFrhGc5sQ\",\n",
    "    \"https://www.youtube.com/watch?v=CAg8ffvs6IU\",\n",
    "    \"https://www.youtube.com/watch?v=lTQhP7Iu_pw\",\n",
    "    \"https://www.youtube.com/watch?v=U1qyyOD8CrA\",\n",
    "    \"https://www.youtube.com/watch?v=SLepoBtQ9Ns\",\n",
    "    \"https://www.youtube.com/watch?v=9zgrAI28BQI\",\n",
    "    \"https://www.youtube.com/watch?v=nXvHCXmPpFM\",\n",
    "    \"https://www.youtube.com/watch?v=hHjafWg8-Y0\",\n",
    "    \"https://www.youtube.com/watch?v=zI3YR0VxAKg\",\n",
    "    \"https://www.youtube.com/watch?v=FraTKJe3thE\",\n",
    "    \"https://www.youtube.com/watch?v=U4JCnsAYG9o\",\n",
    "    \"https://www.youtube.com/watch?v=w4lmmXPBiDk\",\n",
    "    \"https://www.youtube.com/watch?v=bwZanCM98Pc\",\n",
    "    \"https://www.youtube.com/watch?v=nsEtEp6xv4Q\",\n",
    "    \"https://www.youtube.com/watch?v=xIX8G90gLRQ\",\n",
    "    \"https://www.youtube.com/watch?v=KrZBrk5h1Ug\",\n",
    "    \"https://www.youtube.com/watch?v=edH8dHaFRhA\",\n",
    "    \"https://www.youtube.com/watch?v=L0pOMSJAoIc\",\n",
    "    \"https://www.youtube.com/watch?v=hTlk5c_-_54\",\n",
    "    \"https://www.youtube.com/watch?v=HL1e0maJpvg\",\n",
    "    \"https://www.youtube.com/watch?v=ntzL3ncYzvU\",\n",
    "    \"https://www.youtube.com/watch?v=mj3l4N0O4co\",\n",
    "    \"https://www.youtube.com/watch?v=lX8FcHuodcE\",\n",
    "    \"https://www.youtube.com/watch?v=w-K2GUSY180\",\n",
    "    \"https://www.youtube.com/watch?v=L_vcWAoQdwc\",\n",
    "    \"https://www.youtube.com/watch?v=XjtnXM7wk88\",\n",
    "    \"https://www.youtube.com/watch?v=YXJFevUbSAg\",\n",
    "    \"https://www.youtube.com/watch?v=RWQmGp51WIU\",\n",
    "    \"https://www.youtube.com/watch?v=9wKRnckVh4A\",\n",
    "    \"https://www.youtube.com/watch?v=cJbY8UFgQbU\",\n",
    "    \"https://www.youtube.com/watch?v=wecKlOamWG8\",\n",
    "    \"https://www.youtube.com/watch?v=RmJjhXPZGB0\",\n",
    "    \"https://www.youtube.com/watch?v=heyXJ0QKBbo\",\n",
    "    \"https://www.youtube.com/watch?v=Au_ndPxdZm8\",\n",
    "    \"https://www.youtube.com/watch?v=u8vy2771qWk\",\n",
    "    \"https://www.youtube.com/watch?v=HE7XvadjoBg\",\n",
    "    \"https://www.youtube.com/watch?v=zKd2CBU_rjU\",\n",
    "    \"https://www.youtube.com/watch?v=MWeg2UxIVdY\",\n",
    "    #\"https://www.youtube.com/watch?v=6Wpz5-esLGY\",\n",
    "    \"https://www.youtube.com/watch?v=n26CkDUsRAo\",\n",
    "    \"https://www.youtube.com/watch?v=9ZLSMPfsnmA\",\n",
    "    #\"https://www.youtube.com/watch?v=h1D1kiVCpNk\",\n",
    "    \"https://www.youtube.com/watch?v=zx7hvUDEXVs\",\n",
    "    \"https://www.youtube.com/watch?v=A9dGeaSDzdA\",\n",
    "    \"https://www.youtube.com/watch?v=rzKO84iSW4A\",\n",
    "    \"https://www.youtube.com/watch?v=4y0orBVOKf8\",\n",
    "    \"https://www.youtube.com/watch?v=Oxmt2PO4194\",\n",
    "    \"https://www.youtube.com/watch?v=d5mcuGawsRY\",\n",
    "    \"https://www.youtube.com/watch?v=HjoKWFGjLII\",\n",
    "    \"https://www.youtube.com/watch?v=8uW01ZlgcIg\",\n",
    "    \"https://www.youtube.com/watch?v=GHIFh8ChL_M\",\n",
    "    \"https://www.youtube.com/watch?v=Pe3PbagA1EY\",\n",
    "    \"https://www.youtube.com/watch?v=6Wb19Nc4_cU\",\n",
    "    \"https://www.youtube.com/watch?v=GhQcZCOG_TU\",\n",
    "    \"https://www.youtube.com/watch?v=bnjKeOe1wlI\",\n",
    "    \"https://www.youtube.com/watch?v=gXhNoAh83xA\",\n",
    "    \"https://www.youtube.com/watch?v=GMamifRY0-U\",\n",
    "    \"https://www.youtube.com/watch?v=AwjIjKRScHw\",\n",
    "    \"https://www.youtube.com/watch?v=edH8dHaFRhA\",\n",
    "    \"https://www.youtube.com/watch?v=L0pOMSJAoIc\",\n",
    "    \"https://www.youtube.com/watch?v=hTlk5c_-_54\",\n",
    "    \"https://www.youtube.com/watch?v=HL1e0maJpvg\",\n",
    "    \"https://www.youtube.com/watch?v=ntzL3ncYzvU\",\n",
    "    \"https://www.youtube.com/watch?v=encp9taCeYw\",\n",
    "    \"https://www.youtube.com/watch?v=oa9NVhTuhv8\",\n",
    "    \"https://www.youtube.com/watch?v=IQ1Z2MyyMSY\",\n",
    "    \"https://www.youtube.com/watch?v=NaO42Mb4RCA\",\n",
    "    \"https://www.youtube.com/watch?v=MA64yxAAh5s\",\n",
    "    \"https://www.youtube.com/watch?v=X090YTbt3yU\",\n",
    "    \"https://www.youtube.com/watch?v=tFX2LOJamW4\",\n",
    "    \"https://www.youtube.com/watch?v=lF2OfYxR9WQ\",\n",
    "    \"https://www.youtube.com/watch?v=FjxqiRSEMWk\",\n",
    "    \"https://www.youtube.com/watch?v=5ZyZj8hBdL0\",\n",
    "    \"https://www.youtube.com/watch?v=nNe3bF08VrU\",\n",
    "    \"https://www.youtube.com/watch?v=ZdhaASUHeFk\",\n",
    "    \"https://www.youtube.com/watch?v=iRDn8ZwS798\",\n",
    "    \"https://www.youtube.com/watch?v=m6rKXuF2b5o\",\n",
    "    \"https://www.youtube.com/watch?v=oOf2FSJA-UI\",\n",
    "    \"https://www.youtube.com/watch?v=yikNCG373-M\",\n",
    "    \"https://www.youtube.com/watch?v=GlSzP6Ja42U\",\n",
    "    \"https://www.youtube.com/watch?v=YzMc1JtqrLs\",\n",
    "    \"https://www.youtube.com/watch?v=aKESxxceq0A\",\n",
    "    \"https://www.youtube.com/watch?v=OsvMmVITiWw\",\n",
    "    \"https://www.youtube.com/watch?v=9zgrAI28BQI\",\n",
    "    \"https://www.youtube.com/watch?v=hHjafWg8-Y0\",\n",
    "    \"https://www.youtube.com/watch?v=zI3YR0VxAKg\",\n",
    "    \"https://www.youtube.com/watch?v=U4JCnsAYG9o\",\n",
    "    \"https://www.youtube.com/watch?v=w4lmmXPBiDk\",\n",
    "    \"https://www.youtube.com/watch?v=um5sjd9d94I\",\n",
    "    \"https://www.youtube.com/watch?v=7CKbkWoPjAQ\",\n",
    "    \"https://www.youtube.com/watch?v=ONPMIDMfq1A\",\n",
    "    \"https://www.youtube.com/watch?v=iRVjDwkqYQE\",\n",
    "    \"https://www.youtube.com/watch?v=IwtGB0XCYCg\",\n",
    "    \"https://www.youtube.com/watch?v=hwSjkKUq3Cc\",\n",
    "    \"https://www.youtube.com/watch?v=C00PB0F2NFY\",\n",
    "    \"https://www.youtube.com/watch?v=EWRxzvsbQEw\",\n",
    "    \"https://www.youtube.com/watch?v=hyKIMXr0jbY\",\n",
    "    \"https://www.youtube.com/watch?v=7IiUpGA-YUA\",\n",
    "    \"https://www.youtube.com/watch?v=4KJJ--NYwV8\",\n",
    "    \"https://www.youtube.com/watch?v=2LV1XYuSPzg\",\n",
    "    \"https://www.youtube.com/watch?v=atpXXk7OBFI\",\n",
    "    \"https://www.youtube.com/watch?v=zft1t2DvvRw\",\n",
    "    \"https://www.youtube.com/watch?v=QG8m0rxrOfs\",\n",
    "    \"https://www.youtube.com/watch?v=1EW64DNee9c\",\n",
    "    \"https://www.youtube.com/watch?v=w1Ee9UGqidE\",\n",
    "    \"https://www.youtube.com/watch?v=JK3JPi8MjQk\",\n",
    "    \"https://www.youtube.com/watch?v=PHJIViktCZQ\",\n",
    "    \"https://www.youtube.com/watch?v=JxEcOjTyIpc\",\n",
    "    \"https://www.youtube.com/watch?v=Bkq9vG--x8w\",\n",
    "    \"https://www.youtube.com/watch?v=ERGcqgBAbSs\",\n",
    "    \"https://www.youtube.com/watch?v=edH8dHaFRhA\",\n",
    "    \"https://www.youtube.com/watch?v=L0pOMSJAoIc\",\n",
    "    \"https://www.youtube.com/watch?v=hTlk5c_-_54\",\n",
    "    \"https://www.youtube.com/watch?v=HL1e0maJpvg\",\n",
    "    \"https://www.youtube.com/watch?v=ntzL3ncYzvU\",\n",
    "    \"https://www.youtube.com/watch?v=Jl9lgXLeYTA\",\n",
    "    \"https://www.youtube.com/watch?v=9dW8mvE7G40\",\n",
    "    \"https://www.youtube.com/watch?v=mj3l4N0O4co\",\n",
    "    \"https://www.youtube.com/watch?v=lX8FcHuodcE\",\n",
    "    \"https://www.youtube.com/watch?v=w-K2GUSY180\",\n",
    "    \"https://www.youtube.com/watch?v=L_vcWAoQdwc\",\n",
    "    \"https://www.youtube.com/watch?v=XjtnXM7wk88\",\n",
    "    \"https://www.youtube.com/watch?v=YXJFevUbSAg\",\n",
    "    \"https://www.youtube.com/watch?v=RWQmGp51WIU\",\n",
    "    \"https://www.youtube.com/watch?v=9wKRnckVh4A\",\n",
    "    \"https://www.youtube.com/watch?v=cJbY8UFgQbU\",\n",
    "    \"https://www.youtube.com/watch?v=wecKlOamWG8\",\n",
    "    \"https://www.youtube.com/watch?v=RmJjhXPZGB0\",\n",
    "    \"https://www.youtube.com/watch?v=8uW01ZlgcIg\",\n",
    "    \"https://www.youtube.com/watch?v=CS_xC5mw5Sw\",\n",
    "    \"https://www.youtube.com/watch?v=6ffQenHwLqY\",\n",
    "    \"https://www.youtube.com/watch?v=u8vy2771qWk\",\n",
    "    \"https://www.youtube.com/watch?v=HE7XvadjoBg\",\n",
    "    \"https://www.youtube.com/watch?v=Au_ndPxdZm8\",\n",
    "    \"https://www.youtube.com/watch?v=zKd2CBU_rjU\",\n",
    "    \"https://www.youtube.com/watch?v=T0_XbL3iEH0\",\n",
    "    \"https://www.youtube.com/watch?v=GHIFh8ChL_M\",\n",
    "    \"https://www.youtube.com/watch?v=Pe3PbagA1EY\",\n",
    "    \"https://www.youtube.com/watch?v=6Wb19Nc4_cU\",\n",
    "    \"https://www.youtube.com/watch?v=tRWjySbCj0U\",\n",
    "    \"https://www.youtube.com/watch?v=9riXkg07-aw\",\n",
    "    \"https://www.youtube.com/watch?v=QoGmP34HgWc\",\n",
    "    \"https://www.youtube.com/watch?v=VcNdaBWFQrM\",\n",
    "    \"https://www.youtube.com/watch?v=1ykp9undAag\",\n",
    "    \"https://www.youtube.com/watch?v=XIsi-2Ry0ik\",\n",
    "    \"https://www.youtube.com/watch?v=5VsJRxNhDV4\",\n",
    "    \"https://www.youtube.com/watch?v=1zKdjstJDxI\",\n",
    "    \"https://www.youtube.com/watch?v=ONPMIDMfq1A\",\n",
    "    \"https://www.youtube.com/watch?v=iRVjDwkqYQE\",\n",
    "    \"https://www.youtube.com/watch?v=d_bTbNdIWZs\",\n",
    "    \"https://www.youtube.com/watch?v=um5sjd9d94I\",\n",
    "    \"https://www.youtube.com/watch?v=-D5ujtzQj_4\",\n",
    "    \"https://www.youtube.com/watch?v=waQvGSXO5I8\",\n",
    "    \"https://www.youtube.com/watch?v=u7M-G25gTgg\",\n",
    "    \"https://www.youtube.com/watch?v=1EW64DNee9c\",\n",
    "    \"https://www.youtube.com/watch?v=w1Ee9UGqidE\",\n",
    "    \"https://www.youtube.com/watch?v=PHJIViktCZQ\",\n",
    "    \"https://www.youtube.com/watch?v=JK3JPi8MjQk\",\n",
    "    \"https://www.youtube.com/watch?v=JxEcOjTyIpc\",\n",
    "    \"https://www.youtube.com/watch?v=akFxVpqa2YY\",\n",
    "    \"https://www.youtube.com/watch?v=TOO4qqqKMUk\",\n",
    "    \"https://www.youtube.com/watch?v=z-gvdvBRmkw\",\n",
    "    \"https://www.youtube.com/watch?v=4M0zXOPUWUo\",\n",
    "    \"https://www.youtube.com/watch?v=oOf2FSJA-UI\",\n",
    "    \"https://www.youtube.com/watch?v=m6rKXuF2b5o\",\n",
    "    \"https://www.youtube.com/watch?v=yikNCG373-M\",\n",
    "    \"https://www.youtube.com/watch?v=YzMc1JtqrLs\",\n",
    "    \"https://www.youtube.com/watch?v=aKESxxceq0A\",\n",
    "    \"https://www.youtube.com/watch?v=OsvMmVITiWw\",\n",
    "    \"https://www.youtube.com/watch?v=uxjMRNpRT0E\",\n",
    "    \"https://www.youtube.com/watch?v=9zgrAI28BQI\",\n",
    "    \"https://www.youtube.com/watch?v=VXEK5eaRV-8\",\n",
    "    \"https://www.youtube.com/watch?v=t3q4LanaXCE\",\n",
    "    \"https://www.youtube.com/watch?v=b1sE7z9mG_w\",\n",
    "    \"https://www.youtube.com/watch?v=u8vy2771qWk\",\n",
    "    \"https://www.youtube.com/watch?v=HE7XvadjoBg\",\n",
    "    \"https://www.youtube.com/watch?v=baYU31fxQyU\",\n",
    "    \"https://www.youtube.com/watch?v=CS_xC5mw5Sw\",\n",
    "    \"https://www.youtube.com/watch?v=6ffQenHwLqY\",\n",
    "    \"https://www.youtube.com/watch?v=Au_ndPxdZm8\",\n",
    "    \"https://www.youtube.com/watch?v=zKd2CBU_rjU\",\n",
    "    \"https://www.youtube.com/watch?v=KUpuAIqrOOk\",\n",
    "    \"https://www.youtube.com/watch?v=xDpoWRjH-oM\",\n",
    "    \"https://www.youtube.com/watch?v=ruEJBV6K5bY\",\n",
    "    \"https://www.youtube.com/watch?v=ZNaYKb1Kjcc\",\n",
    "    \"https://www.youtube.com/watch?v=2LV1XYuSPzg\",\n",
    "    \"https://www.youtube.com/watch?v=atpXXk7OBFI\",\n",
    "    \"https://www.youtube.com/watch?v=X_j5T-6Q3U8\",\n",
    "    \"https://www.youtube.com/watch?v=oa9NVhTuhv8\",\n",
    "    \"https://www.youtube.com/watch?v=IQ1Z2MyyMSY\",\n",
    "    \"https://www.youtube.com/watch?v=NaO42Mb4RCA\",\n",
    "    \"https://www.youtube.com/watch?v=MA64yxAAh5s\",\n",
    "    \"https://www.youtube.com/watch?v=X090YTbt3yU\",\n",
    "    \"https://www.youtube.com/watch?v=tFX2LOJamW4\",\n",
    "    \"https://www.youtube.com/watch?v=lF2OfYxR9WQ\",\n",
    "    \"https://www.youtube.com/watch?v=FjxqiRSEMWk\",\n",
    "    \"https://www.youtube.com/watch?v=5ZyZj8hBdL0\",\n",
    "    \"https://www.youtube.com/watch?v=nNe3bF08VrU\",\n",
    "    \"https://www.youtube.com/watch?v=iRDn8ZwS798\",\n",
    "    \"https://www.youtube.com/watch?v=K0fHe-yG3Lg\",\n",
    "    \"https://www.youtube.com/watch?v=8uW01ZlgcIg\",\n",
    "    \"https://www.youtube.com/watch?v=9dW8mvE7G40\",\n",
    "    \"https://www.youtube.com/watch?v=mj3l4N0O4co\",\n",
    "    \"https://www.youtube.com/watch?v=lX8FcHuodcE\",\n",
    "    \"https://www.youtube.com/watch?v=w-K2GUSY180\",\n",
    "    \"https://www.youtube.com/watch?v=L_vcWAoQdwc\",\n",
    "    \"https://www.youtube.com/watch?v=XjtnXM7wk88\",\n",
    "    \"https://www.youtube.com/watch?v=YXJFevUbSAg\",\n",
    "    \"https://www.youtube.com/watch?v=RWQmGp51WIU\",\n",
    "    \"https://www.youtube.com/watch?v=9wKRnckVh4A\",\n",
    "    \"https://www.youtube.com/watch?v=cJbY8UFgQbU\",\n",
    "    \"https://www.youtube.com/watch?v=wecKlOamWG8\",\n",
    "    \"https://www.youtube.com/watch?v=RmJjhXPZGB0\",\n",
    "    \"https://www.youtube.com/watch?v=Jl9lgXLeYTA\",\n",
    "    \"https://www.youtube.com/watch?v=edH8dHaFRhA\",\n",
    "    \"https://www.youtube.com/watch?v=L0pOMSJAoIc\",\n",
    "    \"https://www.youtube.com/watch?v=hTlk5c_-_54\",\n",
    "    \"https://www.youtube.com/watch?v=HL1e0maJpvg\",\n",
    "    \"https://www.youtube.com/watch?v=ntzL3ncYzvU\",\n",
    "]\n",
    "\n",
    "create_and_write_csv(filename, topik, url)"
   ]
  },
  {
   "cell_type": "code",
   "execution_count": 12,
   "metadata": {},
   "outputs": [
    {
     "name": "stdout",
     "output_type": "stream",
     "text": [
      "1. Data untuk link 'https://www.youtube.com/watch?v=b6f7R4cIRII' sudah ada, tidak disimpan.\n",
      "2. Data untuk link 'https://www.youtube.com/watch?v=vClGFaDN5eM' sudah ada, tidak disimpan.\n",
      "3. Data untuk link 'https://www.youtube.com/watch?v=2vAgjI0R6r8' sudah ada, tidak disimpan.\n",
      "4. Data untuk link 'https://www.youtube.com/watch?v=Exr067-2PK4' sudah ada, tidak disimpan.\n",
      "5. Data untuk link 'https://www.youtube.com/watch?v=H0DTpGb2cNg' sudah ada, tidak disimpan.\n",
      "6. Data untuk link 'https://www.youtube.com/watch?v=4G2b66NTtwY' sudah ada, tidak disimpan.\n",
      "7. Data untuk link 'https://www.youtube.com/watch?v=IqKEI_RJFjs' sudah ada, tidak disimpan.\n",
      "8. Data untuk link 'https://www.youtube.com/watch?v=pKIg6u6YGKA' sudah ada, tidak disimpan.\n",
      "9. Data untuk link 'https://www.youtube.com/watch?v=51lVlDeZxYQ' sudah ada, tidak disimpan.\n",
      "10. Data untuk link 'https://www.youtube.com/watch?v=h7Goff1OtiU' sudah ada, tidak disimpan.\n",
      "11. Data untuk link 'https://www.youtube.com/watch?v=-F62XyJBuYI' sudah ada, tidak disimpan.\n",
      "12. Data untuk link 'https://www.youtube.com/watch?v=LhQCljHuE-0' sudah ada, tidak disimpan.\n",
      "13. Data untuk link 'https://www.youtube.com/watch?v=21tf40bduEg' sudah ada, tidak disimpan.\n",
      "14. Data untuk link 'https://www.youtube.com/watch?v=B8JoiPxL3rE' sudah ada, tidak disimpan.\n",
      "15. Data untuk link 'https://www.youtube.com/watch?v=NtbXAxGLJyg' sudah ada, tidak disimpan.\n",
      "16. Data untuk link 'https://www.youtube.com/watch?v=cGvUN1uDSyY' sudah ada, tidak disimpan.\n",
      "17. Data untuk link 'https://www.youtube.com/watch?v=JlLVxJszOVs' sudah ada, tidak disimpan.\n",
      "18. Data untuk link 'https://www.youtube.com/watch?v=863DJXSIIW0' sudah ada, tidak disimpan.\n",
      "19. Data untuk link 'https://www.youtube.com/watch?v=L97PZmdX5Hk' sudah ada, tidak disimpan.\n",
      "20. Data untuk link 'https://www.youtube.com/watch?v=Du4VnN-V7qE' sudah ada, tidak disimpan.\n",
      "21. Data untuk link 'https://www.youtube.com/watch?v=2AJGNcrhz78' sudah ada, tidak disimpan.\n",
      "22. Data untuk link 'https://www.youtube.com/watch?v=ekKZtke1aBE' sudah ada, tidak disimpan.\n",
      "23. Data untuk link 'https://www.youtube.com/watch?v=cNmHv0wkAho' sudah ada, tidak disimpan.\n",
      "24. Data untuk link 'https://www.youtube.com/watch?v=-Hxfj-haGSo' sudah ada, tidak disimpan.\n",
      "25. Data untuk link 'https://www.youtube.com/watch?v=qDSqaSp2Esw' sudah ada, tidak disimpan.\n",
      "26. Data untuk link 'https://www.youtube.com/watch?v=SJB2Yo0UImU' sudah ada, tidak disimpan.\n",
      "27. Data untuk link 'https://www.youtube.com/watch?v=4IPIFA12bTg' sudah ada, tidak disimpan.\n",
      "28. Data untuk link 'https://www.youtube.com/watch?v=HipgZRs--30' sudah ada, tidak disimpan.\n",
      "29. Data untuk link 'https://www.youtube.com/watch?v=94iHARIh9Cs' sudah ada, tidak disimpan.\n",
      "30. Data untuk link 'https://www.youtube.com/watch?v=5akXfOCbH8o' sudah ada, tidak disimpan.\n",
      "31. Data untuk link 'https://www.youtube.com/watch?v=qw7HTzc-coU' sudah ada, tidak disimpan.\n",
      "32. Data untuk link 'https://www.youtube.com/watch?v=L1gh6wi5XqE' sudah ada, tidak disimpan.\n",
      "33. Data untuk link 'https://www.youtube.com/watch?v=FeYw1t4uIBo' sudah ada, tidak disimpan.\n",
      "34. Data untuk link 'https://www.youtube.com/watch?v=H0I5byqcdIw' sudah ada, tidak disimpan.\n",
      "35. Data untuk link 'https://www.youtube.com/watch?v=6VTCRgC6Lfo' sudah ada, tidak disimpan.\n",
      "36. Data untuk link 'https://www.youtube.com/watch?v=LmIkkkN1Wu0' sudah ada, tidak disimpan.\n",
      "37. Data untuk link 'https://www.youtube.com/watch?v=TAD_Tx2VBA0' sudah ada, tidak disimpan.\n",
      "38. Data untuk link 'https://www.youtube.com/watch?v=iFVOhg3rTbQ' sudah ada, tidak disimpan.\n",
      "39. Data untuk link 'https://www.youtube.com/watch?v=ZGH6CJ_0_qQ' sudah ada, tidak disimpan.\n",
      "40. Data untuk link 'https://www.youtube.com/watch?v=Y4H4fNq9xDQ' sudah ada, tidak disimpan.\n",
      "41. Data untuk link 'https://www.youtube.com/watch?v=Lg32eTdryao' sudah ada, tidak disimpan.\n",
      "42. Data untuk link 'https://www.youtube.com/watch?v=81qyyVt2rIc' sudah ada, tidak disimpan.\n",
      "43. Data untuk link 'https://www.youtube.com/watch?v=c3HsiiTzwEY' sudah ada, tidak disimpan.\n",
      "44. Data untuk link 'https://www.youtube.com/watch?v=w0EYfnw-bLs' sudah ada, tidak disimpan.\n",
      "45. Data untuk link 'https://www.youtube.com/watch?v=vfiRp4p1RqM' sudah ada, tidak disimpan.\n",
      "46. Data untuk link 'https://www.youtube.com/watch?v=kck7bsUUVbQ' sudah ada, tidak disimpan.\n",
      "47. Data untuk link 'https://www.youtube.com/watch?v=DOyNlcqaa9A' sudah ada, tidak disimpan.\n",
      "48. Data untuk link 'https://www.youtube.com/watch?v=QjiKlFm441w' sudah ada, tidak disimpan.\n",
      "49. Data untuk link 'https://www.youtube.com/watch?v=L4326oRFuwU' sudah ada, tidak disimpan.\n",
      "50. Data untuk link 'https://www.youtube.com/watch?v=HBBIYfXlbnw' sudah ada, tidak disimpan.\n",
      "51. Data untuk link 'https://www.youtube.com/watch?v=PLQpR3aGPUs' sudah ada, tidak disimpan.\n",
      "52. Data untuk link 'https://www.youtube.com/watch?v=QrlGSGQJs1k' sudah ada, tidak disimpan.\n",
      "53. Data untuk link 'https://www.youtube.com/watch?v=ObwMto-iDmU' sudah ada, tidak disimpan.\n",
      "54. Data untuk link 'https://www.youtube.com/watch?v=Com2q6nJdoo' sudah ada, tidak disimpan.\n",
      "55. Data untuk link 'https://www.youtube.com/watch?v=9faPX0zpKHs' sudah ada, tidak disimpan.\n",
      "56. Data untuk link 'https://www.youtube.com/watch?v=3B8r2Zl2U10' sudah ada, tidak disimpan.\n",
      "57. Data untuk link 'https://www.youtube.com/watch?v=Q8VB4syUD30' sudah ada, tidak disimpan.\n",
      "58. Data untuk link 'https://www.youtube.com/watch?v=fxmGJG_mJpQ' sudah ada, tidak disimpan.\n",
      "59. Data untuk link 'https://www.youtube.com/watch?v=1IWUYeYuGb4' sudah ada, tidak disimpan.\n",
      "60. Data untuk link 'https://www.youtube.com/watch?v=apcae8_pEhk' sudah ada, tidak disimpan.\n",
      "61. Data untuk link 'https://www.youtube.com/watch?v=Wz62W9fjrhk' sudah ada, tidak disimpan.\n",
      "62. Data untuk link 'https://www.youtube.com/watch?v=fb4GVqfvwAA' sudah ada, tidak disimpan.\n",
      "63. Data untuk link 'https://www.youtube.com/watch?v=thp4VHgJssI' sudah ada, tidak disimpan.\n",
      "64. Data untuk link 'https://www.youtube.com/watch?v=ixylyFCVWnQ' sudah ada, tidak disimpan.\n",
      "65. Data untuk link 'https://www.youtube.com/watch?v=NTtHs3ev2dA' sudah ada, tidak disimpan.\n",
      "66. Data untuk link 'https://www.youtube.com/watch?v=cpyvJ5N1Xs4' sudah ada, tidak disimpan.\n",
      "67. Data untuk link 'https://www.youtube.com/watch?v=JjSacpq49qc' sudah ada, tidak disimpan.\n",
      "68. Data untuk link 'https://www.youtube.com/watch?v=NNV4DWAkmeM' sudah ada, tidak disimpan.\n",
      "69. Data untuk link 'https://www.youtube.com/watch?v=fqGb8-TvHrY' sudah ada, tidak disimpan.\n",
      "70. Data untuk link 'https://www.youtube.com/watch?v=gb4zgNrv0jo' sudah ada, tidak disimpan.\n",
      "71. Data untuk link 'https://www.youtube.com/watch?v=ZEo-wsM2jm8' sudah ada, tidak disimpan.\n",
      "72. Data untuk link 'https://www.youtube.com/watch?v=3aqbk-bY0xc' sudah ada, tidak disimpan.\n",
      "73. Data untuk link 'https://www.youtube.com/watch?v=B8bCYuFd-NE' sudah ada, tidak disimpan.\n",
      "74. Data untuk link 'https://www.youtube.com/watch?v=4bB88NgJtJw' sudah ada, tidak disimpan.\n",
      "75. Data untuk link 'https://www.youtube.com/watch?v=6Eo92zr18uw' sudah ada, tidak disimpan.\n",
      "76. Data untuk link 'https://www.youtube.com/watch?v=WSbQTLW5nIw' sudah ada, tidak disimpan.\n",
      "77. Data untuk link 'https://www.youtube.com/watch?v=g2OsaKpRPY0' sudah ada, tidak disimpan.\n",
      "78. Data untuk link 'https://www.youtube.com/watch?v=VxlGZjpUOLU' sudah ada, tidak disimpan.\n",
      "79. Data untuk link 'https://www.youtube.com/watch?v=HkU2y9jRzrE' sudah ada, tidak disimpan.\n",
      "80. Data untuk link 'https://www.youtube.com/watch?v=-HKB5dCG23Q' sudah ada, tidak disimpan.\n",
      "81. Data untuk link 'https://www.youtube.com/watch?v=TG4CspIohB0' sudah ada, tidak disimpan.\n",
      "82. Data untuk link 'https://www.youtube.com/watch?v=yfnZSmeG9eI' sudah ada, tidak disimpan.\n",
      "83. Data untuk link 'https://www.youtube.com/watch?v=vClGFaDN5eM' sudah ada, tidak disimpan.\n",
      "84. Data untuk link 'https://www.youtube.com/watch?v=1k_f5c_ONc0' sudah ada, tidak disimpan.\n",
      "85. Data untuk link 'https://www.youtube.com/watch?v=Exr067-2PK4' sudah ada, tidak disimpan.\n",
      "86. Data untuk link 'https://www.youtube.com/watch?v=HOU-t1LcLm8' sudah ada, tidak disimpan.\n",
      "87. Data untuk link 'https://www.youtube.com/watch?v=4G2b66NTtwY' sudah ada, tidak disimpan.\n",
      "88. Data untuk link 'https://www.youtube.com/watch?v=gsCVmVJ7zGs' sudah ada, tidak disimpan.\n",
      "89. Data untuk link 'https://www.youtube.com/watch?v=pKIg6u6YGKA' sudah ada, tidak disimpan.\n",
      "90. Data untuk link 'https://www.youtube.com/watch?v=2vAgjI0R6r8' sudah ada, tidak disimpan.\n",
      "91. Data untuk link 'https://www.youtube.com/watch?v=h7Goff1OtiU' sudah ada, tidak disimpan.\n",
      "92. Data untuk link 'https://www.youtube.com/watch?v=cM0Yk-JzE5k' sudah ada, tidak disimpan.\n",
      "93. Data untuk link 'https://www.youtube.com/watch?v=R_DFq7JAIHM' sudah ada, tidak disimpan.\n",
      "94. Data untuk link 'https://www.youtube.com/watch?v=0rt9Yv5YCXg' sudah ada, tidak disimpan.\n",
      "95. Data untuk link 'https://www.youtube.com/watch?v=X85AcXPaTAE' sudah ada, tidak disimpan.\n",
      "96. Data untuk link 'https://www.youtube.com/watch?v=2EKxPADX-X4' sudah ada, tidak disimpan.\n",
      "97. Data untuk link 'https://www.youtube.com/watch?v=qDSqaSp2Esw' sudah ada, tidak disimpan.\n",
      "98. Data untuk link 'https://www.youtube.com/watch?v=b6f7R4cIRII' sudah ada, tidak disimpan.\n",
      "99. Data untuk link 'https://www.youtube.com/watch?v=SJB2Yo0UImU' sudah ada, tidak disimpan.\n",
      "100. Data untuk link 'https://www.youtube.com/watch?v=4IPIFA12bTg' sudah ada, tidak disimpan.\n",
      "101. Data untuk link 'https://www.youtube.com/watch?v=HipgZRs--30' sudah ada, tidak disimpan.\n",
      "102. Data untuk link 'https://www.youtube.com/watch?v=94iHARIh9Cs' sudah ada, tidak disimpan.\n",
      "103. Data untuk link 'https://www.youtube.com/watch?v=5akXfOCbH8o' sudah ada, tidak disimpan.\n",
      "104. Data untuk link 'https://www.youtube.com/watch?v=jr7Xbet6X_Y' sudah ada, tidak disimpan.\n",
      "105. Data untuk link 'https://www.youtube.com/watch?v=Exr067-2PK4' sudah ada, tidak disimpan.\n",
      "106. Data untuk link 'https://www.youtube.com/watch?v=0J-TYZPyi6w' sudah ada, tidak disimpan.\n",
      "107. Data untuk link 'https://www.youtube.com/watch?v=pKIg6u6YGKA' sudah ada, tidak disimpan.\n",
      "108. Data untuk link 'https://www.youtube.com/watch?v=mHhwvr4jRME' sudah ada, tidak disimpan.\n",
      "109. Data untuk link 'https://www.youtube.com/watch?v=cNmHv0wkAho' sudah ada, tidak disimpan.\n",
      "110. Data untuk link 'https://www.youtube.com/watch?v=ekKZtke1aBE' sudah ada, tidak disimpan.\n",
      "111. Data untuk link 'https://www.youtube.com/watch?v=-Hxfj-haGSo' sudah ada, tidak disimpan.\n",
      "112. Data untuk link 'https://www.youtube.com/watch?v=yJCXMEWig3U' sudah ada, tidak disimpan.\n",
      "113. Data untuk link 'https://www.youtube.com/watch?v=OLaC3mYYQfU' sudah ada, tidak disimpan.\n",
      "114. Data untuk link 'https://www.youtube.com/watch?v=s3BisMrxX08' sudah ada, tidak disimpan.\n",
      "115. Data untuk link 'https://www.youtube.com/watch?v=7UdUm1KrJVo' sudah ada, tidak disimpan.\n",
      "116. Data untuk link 'https://www.youtube.com/watch?v=Ue_DMePyjAE' sudah ada, tidak disimpan.\n",
      "117. Data untuk link 'https://www.youtube.com/watch?v=L97PZmdX5Hk' sudah ada, tidak disimpan.\n",
      "118. Data untuk link 'https://www.youtube.com/watch?v=863DJXSIIW0' sudah ada, tidak disimpan.\n",
      "119. Data untuk link 'https://www.youtube.com/watch?v=2AJGNcrhz78' sudah ada, tidak disimpan.\n",
      "120. Data untuk link 'https://www.youtube.com/watch?v=Du4VnN-V7qE' sudah ada, tidak disimpan.\n",
      "121. Data untuk link 'https://www.youtube.com/watch?v=My--VIpNEOM' sudah ada, tidak disimpan.\n",
      "122. Data untuk link 'https://www.youtube.com/watch?v=LmzjXVM3N2o' sudah ada, tidak disimpan.\n",
      "123. Data untuk link 'https://www.youtube.com/watch?v=GHngnWh-DX8' sudah ada, tidak disimpan.\n",
      "124. Data untuk link 'https://www.youtube.com/watch?v=H-yOicjWndo' sudah ada, tidak disimpan.\n",
      "125. Data untuk link 'https://www.youtube.com/watch?v=mHhwvr4jRME' sudah ada, tidak disimpan.\n",
      "126. Data untuk link 'https://www.youtube.com/watch?v=JUcWCF_4elY' sudah ada, tidak disimpan.\n",
      "127. Data untuk link 'https://www.youtube.com/watch?v=dUu2f9AFxkU' sudah ada, tidak disimpan.\n",
      "128. Data untuk link 'https://www.youtube.com/watch?v=Exr067-2PK4' sudah ada, tidak disimpan.\n",
      "129. Data untuk link 'https://www.youtube.com/watch?v=pKIg6u6YGKA' sudah ada, tidak disimpan.\n",
      "130. Data untuk link 'https://www.youtube.com/watch?v=WsU3lDkhUV0' sudah ada, tidak disimpan.\n",
      "131. Data untuk link 'https://www.youtube.com/watch?v=-KVLuZ8xX6Q' sudah ada, tidak disimpan.\n",
      "132. Data untuk link 'https://www.youtube.com/watch?v=J-Xn_IMfvW0' sudah ada, tidak disimpan.\n",
      "133. Data untuk link 'https://www.youtube.com/watch?v=Lg32eTdryao' sudah ada, tidak disimpan.\n",
      "134. Data untuk link 'https://www.youtube.com/watch?v=81qyyVt2rIc' sudah ada, tidak disimpan.\n",
      "135. Data untuk link 'https://www.youtube.com/watch?v=c3HsiiTzwEY' sudah ada, tidak disimpan.\n",
      "136. Data untuk link 'https://www.youtube.com/watch?v=w0EYfnw-bLs' sudah ada, tidak disimpan.\n",
      "137. Data untuk link 'https://www.youtube.com/watch?v=vfiRp4p1RqM' sudah ada, tidak disimpan.\n",
      "138. Data untuk link 'https://www.youtube.com/watch?v=kck7bsUUVbQ' sudah ada, tidak disimpan.\n",
      "139. Data untuk link 'https://www.youtube.com/watch?v=Y4H4fNq9xDQ' sudah ada, tidak disimpan.\n",
      "140. Data untuk link 'https://www.youtube.com/watch?v=QjiKlFm441w' sudah ada, tidak disimpan.\n",
      "141. Data untuk link 'https://www.youtube.com/watch?v=L4326oRFuwU' sudah ada, tidak disimpan.\n",
      "142. Data untuk link 'https://www.youtube.com/watch?v=DOyNlcqaa9A' sudah ada, tidak disimpan.\n",
      "143. Data untuk link 'https://www.youtube.com/watch?v=sLYe0XWmXUg' sudah ada, tidak disimpan.\n",
      "144. Data untuk link 'https://www.youtube.com/watch?v=B8JoiPxL3rE' sudah ada, tidak disimpan.\n",
      "145. Data untuk link 'https://www.youtube.com/watch?v=K-SqtcDvB3Y' sudah ada, tidak disimpan.\n",
      "146. Data untuk link 'https://www.youtube.com/watch?v=BMbtSF6TLf8' sudah ada, tidak disimpan.\n",
      "147. Data untuk link 'https://www.youtube.com/watch?v=kf_KloKdM-Q' sudah ada, tidak disimpan.\n",
      "148. Data untuk link 'https://www.youtube.com/watch?v=Et0l4-5G3eU' sudah ada, tidak disimpan.\n",
      "149. Data untuk link 'https://www.youtube.com/watch?v=B33Yw0trwqM' sudah ada, tidak disimpan.\n",
      "150. Data untuk link 'https://www.youtube.com/watch?v=jS4FqsQn9kA' sudah ada, tidak disimpan.\n",
      "151. Data untuk link 'https://www.youtube.com/watch?v=4zKIPdlnsDE' sudah ada, tidak disimpan.\n",
      "152. Data untuk link 'https://www.youtube.com/watch?v=ZdQgVniI0Y0' sudah ada, tidak disimpan.\n",
      "153. Data untuk link 'https://www.youtube.com/watch?v=QrlGSGQJs1k' sudah ada, tidak disimpan.\n",
      "154. Data untuk link 'https://www.youtube.com/watch?v=ObwMto-iDmU' sudah ada, tidak disimpan.\n",
      "155. Data untuk link 'https://www.youtube.com/watch?v=Com2q6nJdoo' sudah ada, tidak disimpan.\n",
      "156. Data untuk link 'https://www.youtube.com/watch?v=rCXo8EVFGSY' sudah ada, tidak disimpan.\n",
      "157. Data untuk link 'https://www.youtube.com/watch?v=apcae8_pEhk' sudah ada, tidak disimpan.\n",
      "158. Data untuk link 'https://www.youtube.com/watch?v=Wz62W9fjrhk' sudah ada, tidak disimpan.\n",
      "159. Data untuk link 'https://www.youtube.com/watch?v=fb4GVqfvwAA' sudah ada, tidak disimpan.\n",
      "160. Data untuk link 'https://www.youtube.com/watch?v=thp4VHgJssI' sudah ada, tidak disimpan.\n",
      "161. Data untuk link 'https://www.youtube.com/watch?v=ixylyFCVWnQ' sudah ada, tidak disimpan.\n",
      "162. Data untuk link 'https://www.youtube.com/watch?v=NTtHs3ev2dA' sudah ada, tidak disimpan.\n",
      "163. Data untuk link 'https://www.youtube.com/watch?v=cpyvJ5N1Xs4' sudah ada, tidak disimpan.\n",
      "164. Data untuk link 'https://www.youtube.com/watch?v=JjSacpq49qc' sudah ada, tidak disimpan.\n",
      "165. Data untuk link 'https://www.youtube.com/watch?v=NNV4DWAkmeM' sudah ada, tidak disimpan.\n",
      "166. Data untuk link 'https://www.youtube.com/watch?v=fqGb8-TvHrY' sudah ada, tidak disimpan.\n",
      "167. Data untuk link 'https://www.youtube.com/watch?v=gb4zgNrv0jo' sudah ada, tidak disimpan.\n",
      "168. Data untuk link 'https://www.youtube.com/watch?v=ZEo-wsM2jm8' sudah ada, tidak disimpan.\n",
      "169. Data untuk link 'https://www.youtube.com/watch?v=6tZHfLZFoHk' sudah ada, tidak disimpan.\n",
      "170. Data untuk link 'https://www.youtube.com/watch?v=OC9EUWEe3G4' sudah ada, tidak disimpan.\n",
      "171. Data untuk link 'https://www.youtube.com/watch?v=WqNMtq4xz8U' sudah ada, tidak disimpan.\n",
      "172. Data untuk link 'https://www.youtube.com/watch?v=DK-9TdrF2ps' sudah ada, tidak disimpan.\n",
      "173. Data untuk link 'https://www.youtube.com/watch?v=7JVLT3oefwo' sudah ada, tidak disimpan.\n",
      "174. Data untuk link 'https://www.youtube.com/watch?v=z58F4pcqV9E' sudah ada, tidak disimpan.\n",
      "175. Data untuk link 'https://www.youtube.com/watch?v=TG4CspIohB0' sudah ada, tidak disimpan.\n",
      "176. Data untuk link 'https://www.youtube.com/watch?v=-HKB5dCG23Q' sudah ada, tidak disimpan.\n",
      "177. Data untuk link 'https://www.youtube.com/watch?v=vClGFaDN5eM' sudah ada, tidak disimpan.\n",
      "178. Data untuk link 'https://www.youtube.com/watch?v=yfnZSmeG9eI' sudah ada, tidak disimpan.\n",
      "179. Data untuk link 'https://www.youtube.com/watch?v=Exr067-2PK4' sudah ada, tidak disimpan.\n",
      "180. Data untuk link 'https://www.youtube.com/watch?v=1k_f5c_ONc0' sudah ada, tidak disimpan.\n",
      "181. Data untuk link 'https://www.youtube.com/watch?v=cWxmhQKDZDI' sudah ada, tidak disimpan.\n",
      "182. Data untuk link 'https://www.youtube.com/watch?v=CPccd_8FygQ' sudah ada, tidak disimpan.\n",
      "183. Data untuk link 'https://www.youtube.com/watch?v=3y7W9z6MSDg' sudah ada, tidak disimpan.\n",
      "184. Data untuk link 'https://www.youtube.com/watch?v=cM0Yk-JzE5k' sudah ada, tidak disimpan.\n",
      "185. Data untuk link 'https://www.youtube.com/watch?v=R_DFq7JAIHM' sudah ada, tidak disimpan.\n",
      "186. Data untuk link 'https://www.youtube.com/watch?v=0rt9Yv5YCXg' sudah ada, tidak disimpan.\n",
      "187. Data untuk link 'https://www.youtube.com/watch?v=X85AcXPaTAE' sudah ada, tidak disimpan.\n",
      "188. Data untuk link 'https://www.youtube.com/watch?v=2EKxPADX-X4' sudah ada, tidak disimpan.\n",
      "189. Data untuk link 'https://www.youtube.com/watch?v=qDSqaSp2Esw' sudah ada, tidak disimpan.\n",
      "190. Data untuk link 'https://www.youtube.com/watch?v=b6f7R4cIRII' sudah ada, tidak disimpan.\n",
      "191. Data untuk link 'https://www.youtube.com/watch?v=SJB2Yo0UImU' sudah ada, tidak disimpan.\n",
      "192. Data untuk link 'https://www.youtube.com/watch?v=4IPIFA12bTg' sudah ada, tidak disimpan.\n",
      "193. Data untuk link 'https://www.youtube.com/watch?v=lfOlndCF54s' sudah ada, tidak disimpan.\n",
      "194. Data untuk link 'https://www.youtube.com/watch?v=Exr067-2PK4' sudah ada, tidak disimpan.\n",
      "195. Data untuk link 'https://www.youtube.com/watch?v=jr7Xbet6X_Y' sudah ada, tidak disimpan.\n",
      "196. Data untuk link 'https://www.youtube.com/watch?v=pKIg6u6YGKA' sudah ada, tidak disimpan.\n",
      "197. Data untuk link 'https://www.youtube.com/watch?v=0J-TYZPyi6w' sudah ada, tidak disimpan.\n",
      "198. Data untuk link 'https://www.youtube.com/watch?v=cNmHv0wkAho' sudah ada, tidak disimpan.\n",
      "199. Data untuk link 'https://www.youtube.com/watch?v=mHhwvr4jRME' sudah ada, tidak disimpan.\n",
      "200. Data untuk link 'https://www.youtube.com/watch?v=ekKZtke1aBE' sudah ada, tidak disimpan.\n",
      "201. Data untuk link 'https://www.youtube.com/watch?v=-Hxfj-haGSo' sudah ada, tidak disimpan.\n",
      "202. Data untuk link 'https://www.youtube.com/watch?v=NBn10N2Rm2E' sudah ada, tidak disimpan.\n",
      "203. Data untuk link 'https://www.youtube.com/watch?v=7UdUm1KrJVo' sudah ada, tidak disimpan.\n",
      "204. Data untuk link 'https://www.youtube.com/watch?v=KpHf39e-BHE' sudah ada, tidak disimpan.\n",
      "205. Data untuk link 'https://www.youtube.com/watch?v=s3BisMrxX08' sudah ada, tidak disimpan.\n",
      "206. Data untuk link 'https://www.youtube.com/watch?v=My--VIpNEOM' sudah ada, tidak disimpan.\n",
      "207. Data untuk link 'https://www.youtube.com/watch?v=LmzjXVM3N2o' sudah ada, tidak disimpan.\n",
      "208. Data untuk link 'https://www.youtube.com/watch?v=GHngnWh-DX8' sudah ada, tidak disimpan.\n",
      "209. Data untuk link 'https://www.youtube.com/watch?v=H-yOicjWndo' sudah ada, tidak disimpan.\n",
      "210. Data untuk link 'https://www.youtube.com/watch?v=mHhwvr4jRME' sudah ada, tidak disimpan.\n",
      "211. Data untuk link 'https://www.youtube.com/watch?v=JUcWCF_4elY' sudah ada, tidak disimpan.\n",
      "212. Data untuk link 'https://www.youtube.com/watch?v=dUu2f9AFxkU' sudah ada, tidak disimpan.\n",
      "213. Data untuk link 'https://www.youtube.com/watch?v=Exr067-2PK4' sudah ada, tidak disimpan.\n",
      "214. Data untuk link 'https://www.youtube.com/watch?v=pKIg6u6YGKA' sudah ada, tidak disimpan.\n",
      "215. Data untuk link 'https://www.youtube.com/watch?v=WsU3lDkhUV0' sudah ada, tidak disimpan.\n",
      "216. Data untuk link 'https://www.youtube.com/watch?v=sy8278khLl0' sudah ada, tidak disimpan.\n",
      "217. Data untuk link 'https://www.youtube.com/watch?v=mU2KaYPU2WI' sudah ada, tidak disimpan.\n",
      "218. Data untuk link 'https://www.youtube.com/watch?v=F282FoW5BPg' sudah ada, tidak disimpan.\n",
      "219. Data untuk link 'https://www.youtube.com/watch?v=-KVLuZ8xX6Q' sudah ada, tidak disimpan.\n",
      "220. Data untuk link 'https://www.youtube.com/watch?v=J-Xn_IMfvW0' sudah ada, tidak disimpan.\n",
      "221. Data untuk link 'https://www.youtube.com/watch?v=Lg32eTdryao' sudah ada, tidak disimpan.\n",
      "222. Data untuk link 'https://www.youtube.com/watch?v=81qyyVt2rIc' sudah ada, tidak disimpan.\n",
      "223. Data untuk link 'https://www.youtube.com/watch?v=c3HsiiTzwEY' sudah ada, tidak disimpan.\n",
      "224. Data untuk link 'https://www.youtube.com/watch?v=w0EYfnw-bLs' sudah ada, tidak disimpan.\n",
      "225. Data untuk link 'https://www.youtube.com/watch?v=Y4H4fNq9xDQ' sudah ada, tidak disimpan.\n",
      "226. Data untuk link 'https://www.youtube.com/watch?v=QjiKlFm441w' sudah ada, tidak disimpan.\n",
      "227. Data untuk link 'https://www.youtube.com/watch?v=DOyNlcqaa9A' sudah ada, tidak disimpan.\n",
      "228. Data untuk link 'https://www.youtube.com/watch?v=HBBIYfXlbnw' sudah ada, tidak disimpan.\n",
      "229. Data untuk link 'https://www.youtube.com/watch?v=uaUVtr6qyiA' sudah ada, tidak disimpan.\n",
      "230. Data untuk link 'https://www.youtube.com/watch?v=545vqphnqzI' sudah ada, tidak disimpan.\n",
      "231. Data untuk link 'https://www.youtube.com/watch?v=RX0YYmjpR4o' sudah ada, tidak disimpan.\n",
      "232. Data untuk link 'https://www.youtube.com/watch?v=8K8QauNr26Y' sudah ada, tidak disimpan.\n"
     ]
    },
    {
     "name": "stderr",
     "output_type": "stream",
     "text": [
      "c:\\Users\\ACER-I5\\AppData\\Local\\Programs\\Python\\Python312\\Lib\\site-packages\\whisper\\transcribe.py:115: UserWarning: FP16 is not supported on CPU; using FP32 instead\n",
      "  warnings.warn(\"FP16 is not supported on CPU; using FP32 instead\")\n"
     ]
    },
    {
     "name": "stdout",
     "output_type": "stream",
     "text": [
      "1. Data untuk link 'https://www.youtube.com/watch?v=cedQgZ2a6-0' berhasil ditambahkan ke 'yt-news.csv'.\n",
      "233. Data untuk link 'https://www.youtube.com/watch?v=6Eo92zr18uw' sudah ada, tidak disimpan.\n",
      "234. Data untuk link 'https://www.youtube.com/watch?v=WSbQTLW5nIw' sudah ada, tidak disimpan.\n",
      "235. Data untuk link 'https://www.youtube.com/watch?v=g2OsaKpRPY0' sudah ada, tidak disimpan.\n"
     ]
    },
    {
     "name": "stderr",
     "output_type": "stream",
     "text": [
      "c:\\Users\\ACER-I5\\AppData\\Local\\Programs\\Python\\Python312\\Lib\\site-packages\\whisper\\transcribe.py:115: UserWarning: FP16 is not supported on CPU; using FP32 instead\n",
      "  warnings.warn(\"FP16 is not supported on CPU; using FP32 instead\")\n"
     ]
    },
    {
     "name": "stdout",
     "output_type": "stream",
     "text": [
      "2. Data untuk link 'https://www.youtube.com/watch?v=cGQTz0ylqBQ' berhasil ditambahkan ke 'yt-news.csv'.\n",
      "236. Data untuk link 'https://www.youtube.com/watch?v=yJCXMEWig3U' sudah ada, tidak disimpan.\n",
      "237. Data untuk link 'https://www.youtube.com/watch?v=OLaC3mYYQfU' sudah ada, tidak disimpan.\n",
      "238. Data untuk link 'https://www.youtube.com/watch?v=sLYe0XWmXUg' sudah ada, tidak disimpan.\n",
      "239. Data untuk link 'https://www.youtube.com/watch?v=B8JoiPxL3rE' sudah ada, tidak disimpan.\n",
      "240. Data untuk link 'https://www.youtube.com/watch?v=apcae8_pEhk' sudah ada, tidak disimpan.\n",
      "241. Data untuk link 'https://www.youtube.com/watch?v=Wz62W9fjrhk' sudah ada, tidak disimpan.\n",
      "242. Data untuk link 'https://www.youtube.com/watch?v=fb4GVqfvwAA' sudah ada, tidak disimpan.\n",
      "243. Data untuk link 'https://www.youtube.com/watch?v=thp4VHgJssI' sudah ada, tidak disimpan.\n",
      "244. Data untuk link 'https://www.youtube.com/watch?v=ixylyFCVWnQ' sudah ada, tidak disimpan.\n",
      "245. Data untuk link 'https://www.youtube.com/watch?v=NTtHs3ev2dA' sudah ada, tidak disimpan.\n",
      "246. Data untuk link 'https://www.youtube.com/watch?v=cpyvJ5N1Xs4' sudah ada, tidak disimpan.\n",
      "247. Data untuk link 'https://www.youtube.com/watch?v=JjSacpq49qc' sudah ada, tidak disimpan.\n",
      "248. Data untuk link 'https://www.youtube.com/watch?v=NNV4DWAkmeM' sudah ada, tidak disimpan.\n",
      "249. Data untuk link 'https://www.youtube.com/watch?v=fqGb8-TvHrY' sudah ada, tidak disimpan.\n",
      "250. Data untuk link 'https://www.youtube.com/watch?v=gb4zgNrv0jo' sudah ada, tidak disimpan.\n",
      "251. Data untuk link 'https://www.youtube.com/watch?v=ZEo-wsM2jm8' sudah ada, tidak disimpan.\n"
     ]
    },
    {
     "name": "stderr",
     "output_type": "stream",
     "text": [
      "c:\\Users\\ACER-I5\\AppData\\Local\\Programs\\Python\\Python312\\Lib\\site-packages\\whisper\\transcribe.py:115: UserWarning: FP16 is not supported on CPU; using FP32 instead\n",
      "  warnings.warn(\"FP16 is not supported on CPU; using FP32 instead\")\n"
     ]
    },
    {
     "name": "stdout",
     "output_type": "stream",
     "text": [
      "3. Data untuk link 'https://www.youtube.com/watch?v=CxKjvAhQU0M' berhasil ditambahkan ke 'yt-news.csv'.\n"
     ]
    },
    {
     "name": "stderr",
     "output_type": "stream",
     "text": [
      "c:\\Users\\ACER-I5\\AppData\\Local\\Programs\\Python\\Python312\\Lib\\site-packages\\whisper\\transcribe.py:115: UserWarning: FP16 is not supported on CPU; using FP32 instead\n",
      "  warnings.warn(\"FP16 is not supported on CPU; using FP32 instead\")\n"
     ]
    },
    {
     "name": "stdout",
     "output_type": "stream",
     "text": [
      "4. Data untuk link 'https://www.youtube.com/watch?v=52YaPLAdu7E' berhasil ditambahkan ke 'yt-news.csv'.\n"
     ]
    },
    {
     "name": "stderr",
     "output_type": "stream",
     "text": [
      "c:\\Users\\ACER-I5\\AppData\\Local\\Programs\\Python\\Python312\\Lib\\site-packages\\whisper\\transcribe.py:115: UserWarning: FP16 is not supported on CPU; using FP32 instead\n",
      "  warnings.warn(\"FP16 is not supported on CPU; using FP32 instead\")\n"
     ]
    },
    {
     "name": "stdout",
     "output_type": "stream",
     "text": [
      "5. Data untuk link 'https://www.youtube.com/watch?v=Gf53vMVtEbY' berhasil ditambahkan ke 'yt-news.csv'.\n",
      "252. Data untuk link 'https://www.youtube.com/watch?v=4zKIPdlnsDE' sudah ada, tidak disimpan.\n",
      "253. Data untuk link 'https://www.youtube.com/watch?v=rCXo8EVFGSY' sudah ada, tidak disimpan.\n",
      "254. Data untuk link 'https://www.youtube.com/watch?v=cWxmhQKDZDI' sudah ada, tidak disimpan.\n",
      "255. Data untuk link 'https://www.youtube.com/watch?v=CPccd_8FygQ' sudah ada, tidak disimpan.\n",
      "256. Data untuk link 'https://www.youtube.com/watch?v=3y7W9z6MSDg' sudah ada, tidak disimpan.\n",
      "257. Data untuk link 'https://www.youtube.com/watch?v=cM0Yk-JzE5k' sudah ada, tidak disimpan.\n",
      "258. Data untuk link 'https://www.youtube.com/watch?v=R_DFq7JAIHM' sudah ada, tidak disimpan.\n",
      "259. Data untuk link 'https://www.youtube.com/watch?v=0rt9Yv5YCXg' sudah ada, tidak disimpan.\n",
      "260. Data untuk link 'https://www.youtube.com/watch?v=X85AcXPaTAE' sudah ada, tidak disimpan.\n",
      "261. Data untuk link 'https://www.youtube.com/watch?v=2EKxPADX-X4' sudah ada, tidak disimpan.\n",
      "262. Data untuk link 'https://www.youtube.com/watch?v=qDSqaSp2Esw' sudah ada, tidak disimpan.\n",
      "263. Data untuk link 'https://www.youtube.com/watch?v=b6f7R4cIRII' sudah ada, tidak disimpan.\n",
      "264. Data untuk link 'https://www.youtube.com/watch?v=SJB2Yo0UImU' sudah ada, tidak disimpan.\n",
      "265. Data untuk link 'https://www.youtube.com/watch?v=4IPIFA12bTg' sudah ada, tidak disimpan.\n",
      "266. Data untuk link 'https://www.youtube.com/watch?v=KpHf39e-BHE' sudah ada, tidak disimpan.\n",
      "267. Data untuk link 'https://www.youtube.com/watch?v=7UdUm1KrJVo' sudah ada, tidak disimpan.\n",
      "268. Data untuk link 'https://www.youtube.com/watch?v=NBn10N2Rm2E' sudah ada, tidak disimpan.\n",
      "269. Data untuk link 'https://www.youtube.com/watch?v=s3BisMrxX08' sudah ada, tidak disimpan.\n",
      "270. Data untuk link 'https://www.youtube.com/watch?v=6tZHfLZFoHk' sudah ada, tidak disimpan.\n",
      "271. Data untuk link 'https://www.youtube.com/watch?v=OC9EUWEe3G4' sudah ada, tidak disimpan.\n",
      "272. Data untuk link 'https://www.youtube.com/watch?v=WqNMtq4xz8U' sudah ada, tidak disimpan.\n",
      "273. Data untuk link 'https://www.youtube.com/watch?v=DK-9TdrF2ps' sudah ada, tidak disimpan.\n",
      "274. Data untuk link 'https://www.youtube.com/watch?v=7JVLT3oefwo' sudah ada, tidak disimpan.\n",
      "275. Data untuk link 'https://www.youtube.com/watch?v=z58F4pcqV9E' sudah ada, tidak disimpan.\n",
      "276. Data untuk link 'https://www.youtube.com/watch?v=TG4CspIohB0' sudah ada, tidak disimpan.\n",
      "277. Data untuk link 'https://www.youtube.com/watch?v=-HKB5dCG23Q' sudah ada, tidak disimpan.\n",
      "278. Data untuk link 'https://www.youtube.com/watch?v=vClGFaDN5eM' sudah ada, tidak disimpan.\n",
      "279. Data untuk link 'https://www.youtube.com/watch?v=yfnZSmeG9eI' sudah ada, tidak disimpan.\n",
      "280. Data untuk link 'https://www.youtube.com/watch?v=Exr067-2PK4' sudah ada, tidak disimpan.\n",
      "281. Data untuk link 'https://www.youtube.com/watch?v=1k_f5c_ONc0' sudah ada, tidak disimpan.\n"
     ]
    },
    {
     "name": "stderr",
     "output_type": "stream",
     "text": [
      "c:\\Users\\ACER-I5\\AppData\\Local\\Programs\\Python\\Python312\\Lib\\site-packages\\whisper\\transcribe.py:115: UserWarning: FP16 is not supported on CPU; using FP32 instead\n",
      "  warnings.warn(\"FP16 is not supported on CPU; using FP32 instead\")\n"
     ]
    },
    {
     "name": "stdout",
     "output_type": "stream",
     "text": [
      "6. Data untuk link 'https://www.youtube.com/watch?v=9a5-b9nF_Ug' berhasil ditambahkan ke 'yt-news.csv'.\n"
     ]
    },
    {
     "name": "stderr",
     "output_type": "stream",
     "text": [
      "c:\\Users\\ACER-I5\\AppData\\Local\\Programs\\Python\\Python312\\Lib\\site-packages\\whisper\\transcribe.py:115: UserWarning: FP16 is not supported on CPU; using FP32 instead\n",
      "  warnings.warn(\"FP16 is not supported on CPU; using FP32 instead\")\n"
     ]
    },
    {
     "name": "stdout",
     "output_type": "stream",
     "text": [
      "7. Data untuk link 'https://www.youtube.com/watch?v=v-gzCvMcybg' berhasil ditambahkan ke 'yt-news.csv'.\n"
     ]
    },
    {
     "name": "stderr",
     "output_type": "stream",
     "text": [
      "c:\\Users\\ACER-I5\\AppData\\Local\\Programs\\Python\\Python312\\Lib\\site-packages\\whisper\\transcribe.py:115: UserWarning: FP16 is not supported on CPU; using FP32 instead\n",
      "  warnings.warn(\"FP16 is not supported on CPU; using FP32 instead\")\n"
     ]
    },
    {
     "name": "stdout",
     "output_type": "stream",
     "text": [
      "8. Data untuk link 'https://www.youtube.com/watch?v=t246KTNLDz4' berhasil ditambahkan ke 'yt-news.csv'.\n"
     ]
    },
    {
     "name": "stderr",
     "output_type": "stream",
     "text": [
      "c:\\Users\\ACER-I5\\AppData\\Local\\Programs\\Python\\Python312\\Lib\\site-packages\\whisper\\transcribe.py:115: UserWarning: FP16 is not supported on CPU; using FP32 instead\n",
      "  warnings.warn(\"FP16 is not supported on CPU; using FP32 instead\")\n"
     ]
    },
    {
     "name": "stdout",
     "output_type": "stream",
     "text": [
      "9. Data untuk link 'https://www.youtube.com/watch?v=Nsy0Y5AUvw4' berhasil ditambahkan ke 'yt-news.csv'.\n"
     ]
    },
    {
     "name": "stderr",
     "output_type": "stream",
     "text": [
      "c:\\Users\\ACER-I5\\AppData\\Local\\Programs\\Python\\Python312\\Lib\\site-packages\\whisper\\transcribe.py:115: UserWarning: FP16 is not supported on CPU; using FP32 instead\n",
      "  warnings.warn(\"FP16 is not supported on CPU; using FP32 instead\")\n"
     ]
    },
    {
     "name": "stdout",
     "output_type": "stream",
     "text": [
      "10. Data untuk link 'https://www.youtube.com/watch?v=M83nu91gtrk' berhasil ditambahkan ke 'yt-news.csv'.\n",
      "282. Data untuk link 'https://www.youtube.com/watch?v=sLYe0XWmXUg' sudah ada, tidak disimpan.\n",
      "283. Data untuk link 'https://www.youtube.com/watch?v=B8JoiPxL3rE' sudah ada, tidak disimpan.\n",
      "284. Data untuk link 'https://www.youtube.com/watch?v=sy8278khLl0' sudah ada, tidak disimpan.\n",
      "285. Data untuk link 'https://www.youtube.com/watch?v=mU2KaYPU2WI' sudah ada, tidak disimpan.\n"
     ]
    },
    {
     "name": "stderr",
     "output_type": "stream",
     "text": [
      "c:\\Users\\ACER-I5\\AppData\\Local\\Programs\\Python\\Python312\\Lib\\site-packages\\whisper\\transcribe.py:115: UserWarning: FP16 is not supported on CPU; using FP32 instead\n",
      "  warnings.warn(\"FP16 is not supported on CPU; using FP32 instead\")\n"
     ]
    },
    {
     "name": "stdout",
     "output_type": "stream",
     "text": [
      "11. Data untuk link 'https://www.youtube.com/watch?v=sGKcSGSumi4' berhasil ditambahkan ke 'yt-news.csv'.\n",
      "286. Data untuk link 'https://www.youtube.com/watch?v=My--VIpNEOM' sudah ada, tidak disimpan.\n",
      "287. Data untuk link 'https://www.youtube.com/watch?v=LmzjXVM3N2o' sudah ada, tidak disimpan.\n",
      "288. Data untuk link 'https://www.youtube.com/watch?v=GHngnWh-DX8' sudah ada, tidak disimpan.\n",
      "289. Data untuk link 'https://www.youtube.com/watch?v=H-yOicjWndo' sudah ada, tidak disimpan.\n",
      "290. Data untuk link 'https://www.youtube.com/watch?v=mHhwvr4jRME' sudah ada, tidak disimpan.\n",
      "291. Data untuk link 'https://www.youtube.com/watch?v=JUcWCF_4elY' sudah ada, tidak disimpan.\n",
      "292. Data untuk link 'https://www.youtube.com/watch?v=dUu2f9AFxkU' sudah ada, tidak disimpan.\n",
      "293. Data untuk link 'https://www.youtube.com/watch?v=Exr067-2PK4' sudah ada, tidak disimpan.\n",
      "294. Data untuk link 'https://www.youtube.com/watch?v=pKIg6u6YGKA' sudah ada, tidak disimpan.\n",
      "295. Data untuk link 'https://www.youtube.com/watch?v=WsU3lDkhUV0' sudah ada, tidak disimpan.\n",
      "296. Data untuk link 'https://www.youtube.com/watch?v=cGQTz0ylqBQ' sudah ada, tidak disimpan.\n",
      "297. Data untuk link 'https://www.youtube.com/watch?v=yJCXMEWig3U' sudah ada, tidak disimpan.\n",
      "298. Data untuk link 'https://www.youtube.com/watch?v=OLaC3mYYQfU' sudah ada, tidak disimpan.\n"
     ]
    },
    {
     "name": "stderr",
     "output_type": "stream",
     "text": [
      "c:\\Users\\ACER-I5\\AppData\\Local\\Programs\\Python\\Python312\\Lib\\site-packages\\whisper\\transcribe.py:115: UserWarning: FP16 is not supported on CPU; using FP32 instead\n",
      "  warnings.warn(\"FP16 is not supported on CPU; using FP32 instead\")\n"
     ]
    },
    {
     "name": "stdout",
     "output_type": "stream",
     "text": [
      "12. Data untuk link 'https://www.youtube.com/watch?v=llS9a2_A4ek' berhasil ditambahkan ke 'yt-news.csv'.\n",
      "299. Data untuk link 'https://www.youtube.com/watch?v=CxKjvAhQU0M' sudah ada, tidak disimpan.\n"
     ]
    },
    {
     "name": "stderr",
     "output_type": "stream",
     "text": [
      "c:\\Users\\ACER-I5\\AppData\\Local\\Programs\\Python\\Python312\\Lib\\site-packages\\whisper\\transcribe.py:115: UserWarning: FP16 is not supported on CPU; using FP32 instead\n",
      "  warnings.warn(\"FP16 is not supported on CPU; using FP32 instead\")\n"
     ]
    },
    {
     "name": "stdout",
     "output_type": "stream",
     "text": [
      "13. Data untuk link 'https://www.youtube.com/watch?v=ErQPNizRzq0' berhasil ditambahkan ke 'yt-news.csv'.\n",
      "300. Data untuk link 'https://www.youtube.com/watch?v=52YaPLAdu7E' sudah ada, tidak disimpan.\n",
      "301. Data untuk link 'https://www.youtube.com/watch?v=Gf53vMVtEbY' sudah ada, tidak disimpan.\n"
     ]
    },
    {
     "name": "stderr",
     "output_type": "stream",
     "text": [
      "c:\\Users\\ACER-I5\\AppData\\Local\\Programs\\Python\\Python312\\Lib\\site-packages\\whisper\\transcribe.py:115: UserWarning: FP16 is not supported on CPU; using FP32 instead\n",
      "  warnings.warn(\"FP16 is not supported on CPU; using FP32 instead\")\n"
     ]
    },
    {
     "name": "stdout",
     "output_type": "stream",
     "text": [
      "14. Data untuk link 'https://www.youtube.com/watch?v=dGuswdrtYhU' berhasil ditambahkan ke 'yt-news.csv'.\n"
     ]
    },
    {
     "name": "stderr",
     "output_type": "stream",
     "text": [
      "c:\\Users\\ACER-I5\\AppData\\Local\\Programs\\Python\\Python312\\Lib\\site-packages\\whisper\\transcribe.py:115: UserWarning: FP16 is not supported on CPU; using FP32 instead\n",
      "  warnings.warn(\"FP16 is not supported on CPU; using FP32 instead\")\n"
     ]
    },
    {
     "name": "stdout",
     "output_type": "stream",
     "text": [
      "15. Data untuk link 'https://www.youtube.com/watch?v=S6XFHnGbdZI' berhasil ditambahkan ke 'yt-news.csv'.\n"
     ]
    },
    {
     "name": "stderr",
     "output_type": "stream",
     "text": [
      "c:\\Users\\ACER-I5\\AppData\\Local\\Programs\\Python\\Python312\\Lib\\site-packages\\whisper\\transcribe.py:115: UserWarning: FP16 is not supported on CPU; using FP32 instead\n",
      "  warnings.warn(\"FP16 is not supported on CPU; using FP32 instead\")\n"
     ]
    },
    {
     "name": "stdout",
     "output_type": "stream",
     "text": [
      "16. Data untuk link 'https://www.youtube.com/watch?v=Od7MaME-OR8' berhasil ditambahkan ke 'yt-news.csv'.\n"
     ]
    },
    {
     "name": "stderr",
     "output_type": "stream",
     "text": [
      "c:\\Users\\ACER-I5\\AppData\\Local\\Programs\\Python\\Python312\\Lib\\site-packages\\whisper\\transcribe.py:115: UserWarning: FP16 is not supported on CPU; using FP32 instead\n",
      "  warnings.warn(\"FP16 is not supported on CPU; using FP32 instead\")\n"
     ]
    },
    {
     "name": "stdout",
     "output_type": "stream",
     "text": [
      "17. Data untuk link 'https://www.youtube.com/watch?v=EKSviVz44eQ' berhasil ditambahkan ke 'yt-news.csv'.\n"
     ]
    },
    {
     "name": "stderr",
     "output_type": "stream",
     "text": [
      "c:\\Users\\ACER-I5\\AppData\\Local\\Programs\\Python\\Python312\\Lib\\site-packages\\whisper\\transcribe.py:115: UserWarning: FP16 is not supported on CPU; using FP32 instead\n",
      "  warnings.warn(\"FP16 is not supported on CPU; using FP32 instead\")\n"
     ]
    },
    {
     "name": "stdout",
     "output_type": "stream",
     "text": [
      "18. Data untuk link 'https://www.youtube.com/watch?v=LrEHXY0yoHE' berhasil ditambahkan ke 'yt-news.csv'.\n"
     ]
    },
    {
     "name": "stderr",
     "output_type": "stream",
     "text": [
      "c:\\Users\\ACER-I5\\AppData\\Local\\Programs\\Python\\Python312\\Lib\\site-packages\\whisper\\transcribe.py:115: UserWarning: FP16 is not supported on CPU; using FP32 instead\n",
      "  warnings.warn(\"FP16 is not supported on CPU; using FP32 instead\")\n"
     ]
    },
    {
     "name": "stdout",
     "output_type": "stream",
     "text": [
      "19. Data untuk link 'https://www.youtube.com/watch?v=E3zM5iAVL_Y' berhasil ditambahkan ke 'yt-news.csv'.\n",
      "302. Data untuk link 'https://www.youtube.com/watch?v=rCXo8EVFGSY' sudah ada, tidak disimpan.\n",
      "303. Data untuk link 'https://www.youtube.com/watch?v=4zKIPdlnsDE' sudah ada, tidak disimpan.\n",
      "Sebanyak 303 data tidak ditambahkan ke 'yt-news.csv'.\n",
      "Sebanyak 19 data berhasil ditambahkan ke 'yt-news.csv'.\n",
      "Data berhasil ditambahkan ke 'yt-news.csv'.\n"
     ]
    }
   ],
   "source": [
    "topik = \"bisnis\"\n",
    "url = [\n",
    "    \"https://www.youtube.com/watch?v=b6f7R4cIRII\",\n",
    "    \"https://www.youtube.com/watch?v=vClGFaDN5eM\",\n",
    "    \"https://www.youtube.com/watch?v=2vAgjI0R6r8\",\n",
    "    \"https://www.youtube.com/watch?v=Exr067-2PK4\",\n",
    "    \"https://www.youtube.com/watch?v=H0DTpGb2cNg\",\n",
    "    \"https://www.youtube.com/watch?v=4G2b66NTtwY\",\n",
    "    \"https://www.youtube.com/watch?v=IqKEI_RJFjs\",\n",
    "    \"https://www.youtube.com/watch?v=pKIg6u6YGKA\",\n",
    "    \"https://www.youtube.com/watch?v=51lVlDeZxYQ\",\n",
    "    \"https://www.youtube.com/watch?v=h7Goff1OtiU\",\n",
    "    \"https://www.youtube.com/watch?v=-F62XyJBuYI\",\n",
    "    \"https://www.youtube.com/watch?v=LhQCljHuE-0\",\n",
    "    \"https://www.youtube.com/watch?v=21tf40bduEg\",\n",
    "    \"https://www.youtube.com/watch?v=B8JoiPxL3rE\",\n",
    "    \"https://www.youtube.com/watch?v=NtbXAxGLJyg\",\n",
    "    \"https://www.youtube.com/watch?v=cGvUN1uDSyY\",\n",
    "    \"https://www.youtube.com/watch?v=JlLVxJszOVs\",\n",
    "    \"https://www.youtube.com/watch?v=863DJXSIIW0\",\n",
    "    \"https://www.youtube.com/watch?v=L97PZmdX5Hk\",\n",
    "    \"https://www.youtube.com/watch?v=Du4VnN-V7qE\",\n",
    "    \"https://www.youtube.com/watch?v=2AJGNcrhz78\",\n",
    "    \"https://www.youtube.com/watch?v=ekKZtke1aBE\",\n",
    "    \"https://www.youtube.com/watch?v=cNmHv0wkAho\",\n",
    "    \"https://www.youtube.com/watch?v=-Hxfj-haGSo\",\n",
    "    \"https://www.youtube.com/watch?v=qDSqaSp2Esw\",\n",
    "    \"https://www.youtube.com/watch?v=SJB2Yo0UImU\",\n",
    "    \"https://www.youtube.com/watch?v=4IPIFA12bTg\",\n",
    "    \"https://www.youtube.com/watch?v=HipgZRs--30\",\n",
    "    \"https://www.youtube.com/watch?v=94iHARIh9Cs\",\n",
    "    \"https://www.youtube.com/watch?v=5akXfOCbH8o\",\n",
    "    \"https://www.youtube.com/watch?v=qw7HTzc-coU\",\n",
    "    \"https://www.youtube.com/watch?v=L1gh6wi5XqE\",\n",
    "    \"https://www.youtube.com/watch?v=FeYw1t4uIBo\",\n",
    "    \"https://www.youtube.com/watch?v=H0I5byqcdIw\",\n",
    "    \"https://www.youtube.com/watch?v=6VTCRgC6Lfo\",\n",
    "    \"https://www.youtube.com/watch?v=LmIkkkN1Wu0\",\n",
    "    \"https://www.youtube.com/watch?v=TAD_Tx2VBA0\",\n",
    "    \"https://www.youtube.com/watch?v=iFVOhg3rTbQ\",\n",
    "    \"https://www.youtube.com/watch?v=ZGH6CJ_0_qQ\",\n",
    "    \"https://www.youtube.com/watch?v=Y4H4fNq9xDQ\",\n",
    "    \"https://www.youtube.com/watch?v=Lg32eTdryao\",\n",
    "    \"https://www.youtube.com/watch?v=81qyyVt2rIc\",\n",
    "    \"https://www.youtube.com/watch?v=c3HsiiTzwEY\",\n",
    "    \"https://www.youtube.com/watch?v=w0EYfnw-bLs\",\n",
    "    \"https://www.youtube.com/watch?v=vfiRp4p1RqM\",\n",
    "    \"https://www.youtube.com/watch?v=kck7bsUUVbQ\",\n",
    "    \"https://www.youtube.com/watch?v=DOyNlcqaa9A\",\n",
    "    \"https://www.youtube.com/watch?v=QjiKlFm441w\",\n",
    "    \"https://www.youtube.com/watch?v=L4326oRFuwU\",\n",
    "    \"https://www.youtube.com/watch?v=HBBIYfXlbnw\",\n",
    "    \"https://www.youtube.com/watch?v=PLQpR3aGPUs\",\n",
    "    \"https://www.youtube.com/watch?v=QrlGSGQJs1k\",\n",
    "    \"https://www.youtube.com/watch?v=ObwMto-iDmU\",\n",
    "    \"https://www.youtube.com/watch?v=Com2q6nJdoo\",\n",
    "    \"https://www.youtube.com/watch?v=9faPX0zpKHs\",\n",
    "    \"https://www.youtube.com/watch?v=3B8r2Zl2U10\",\n",
    "    \"https://www.youtube.com/watch?v=Q8VB4syUD30\",\n",
    "    \"https://www.youtube.com/watch?v=fxmGJG_mJpQ\",\n",
    "    \"https://www.youtube.com/watch?v=1IWUYeYuGb4\",\n",
    "    \"https://www.youtube.com/watch?v=apcae8_pEhk\",\n",
    "    \"https://www.youtube.com/watch?v=Wz62W9fjrhk\",\n",
    "    \"https://www.youtube.com/watch?v=fb4GVqfvwAA\",\n",
    "    \"https://www.youtube.com/watch?v=thp4VHgJssI\",\n",
    "    \"https://www.youtube.com/watch?v=ixylyFCVWnQ\",\n",
    "    \"https://www.youtube.com/watch?v=NTtHs3ev2dA\",\n",
    "    \"https://www.youtube.com/watch?v=cpyvJ5N1Xs4\",\n",
    "    \"https://www.youtube.com/watch?v=JjSacpq49qc\",\n",
    "    \"https://www.youtube.com/watch?v=NNV4DWAkmeM\",\n",
    "    \"https://www.youtube.com/watch?v=fqGb8-TvHrY\",\n",
    "    \"https://www.youtube.com/watch?v=gb4zgNrv0jo\",\n",
    "    \"https://www.youtube.com/watch?v=ZEo-wsM2jm8\",\n",
    "    \"https://www.youtube.com/watch?v=3aqbk-bY0xc\",\n",
    "    \"https://www.youtube.com/watch?v=B8bCYuFd-NE\",\n",
    "    \"https://www.youtube.com/watch?v=4bB88NgJtJw\",\n",
    "    \"https://www.youtube.com/watch?v=6Eo92zr18uw\",\n",
    "    \"https://www.youtube.com/watch?v=WSbQTLW5nIw\",\n",
    "    \"https://www.youtube.com/watch?v=g2OsaKpRPY0\",\n",
    "    \"https://www.youtube.com/watch?v=VxlGZjpUOLU\",\n",
    "    \"https://www.youtube.com/watch?v=HkU2y9jRzrE\",\n",
    "    \"https://www.youtube.com/watch?v=-HKB5dCG23Q\",\n",
    "    \"https://www.youtube.com/watch?v=TG4CspIohB0\",\n",
    "    \"https://www.youtube.com/watch?v=yfnZSmeG9eI\",\n",
    "    \"https://www.youtube.com/watch?v=vClGFaDN5eM\",\n",
    "    \"https://www.youtube.com/watch?v=1k_f5c_ONc0\",\n",
    "    \"https://www.youtube.com/watch?v=Exr067-2PK4\",\n",
    "    \"https://www.youtube.com/watch?v=HOU-t1LcLm8\",\n",
    "    \"https://www.youtube.com/watch?v=4G2b66NTtwY\",\n",
    "    \"https://www.youtube.com/watch?v=gsCVmVJ7zGs\",\n",
    "    \"https://www.youtube.com/watch?v=pKIg6u6YGKA\",\n",
    "    \"https://www.youtube.com/watch?v=2vAgjI0R6r8\",\n",
    "    \"https://www.youtube.com/watch?v=h7Goff1OtiU\",\n",
    "    \"https://www.youtube.com/watch?v=cM0Yk-JzE5k\",\n",
    "    \"https://www.youtube.com/watch?v=R_DFq7JAIHM\",\n",
    "    \"https://www.youtube.com/watch?v=0rt9Yv5YCXg\",\n",
    "    \"https://www.youtube.com/watch?v=X85AcXPaTAE\",\n",
    "    \"https://www.youtube.com/watch?v=2EKxPADX-X4\",\n",
    "    \"https://www.youtube.com/watch?v=qDSqaSp2Esw\",\n",
    "    \"https://www.youtube.com/watch?v=b6f7R4cIRII\",\n",
    "    \"https://www.youtube.com/watch?v=SJB2Yo0UImU\",\n",
    "    \"https://www.youtube.com/watch?v=4IPIFA12bTg\",\n",
    "    \"https://www.youtube.com/watch?v=HipgZRs--30\",\n",
    "    \"https://www.youtube.com/watch?v=94iHARIh9Cs\",\n",
    "    \"https://www.youtube.com/watch?v=5akXfOCbH8o\",\n",
    "    \"https://www.youtube.com/watch?v=jr7Xbet6X_Y\",\n",
    "    \"https://www.youtube.com/watch?v=Exr067-2PK4\",\n",
    "    \"https://www.youtube.com/watch?v=0J-TYZPyi6w\",\n",
    "    \"https://www.youtube.com/watch?v=pKIg6u6YGKA\",\n",
    "    \"https://www.youtube.com/watch?v=mHhwvr4jRME\",\n",
    "    \"https://www.youtube.com/watch?v=cNmHv0wkAho\",\n",
    "    \"https://www.youtube.com/watch?v=ekKZtke1aBE\",\n",
    "    \"https://www.youtube.com/watch?v=-Hxfj-haGSo\",\n",
    "    \"https://www.youtube.com/watch?v=yJCXMEWig3U\",\n",
    "    \"https://www.youtube.com/watch?v=OLaC3mYYQfU\",\n",
    "    \"https://www.youtube.com/watch?v=s3BisMrxX08\",\n",
    "    \"https://www.youtube.com/watch?v=7UdUm1KrJVo\",\n",
    "    \"https://www.youtube.com/watch?v=Ue_DMePyjAE\",\n",
    "    \"https://www.youtube.com/watch?v=L97PZmdX5Hk\",\n",
    "    \"https://www.youtube.com/watch?v=863DJXSIIW0\",\n",
    "    \"https://www.youtube.com/watch?v=2AJGNcrhz78\",\n",
    "    \"https://www.youtube.com/watch?v=Du4VnN-V7qE\",\n",
    "    \"https://www.youtube.com/watch?v=My--VIpNEOM\",\n",
    "    \"https://www.youtube.com/watch?v=LmzjXVM3N2o\",\n",
    "    \"https://www.youtube.com/watch?v=GHngnWh-DX8\",\n",
    "    \"https://www.youtube.com/watch?v=H-yOicjWndo\",\n",
    "    \"https://www.youtube.com/watch?v=mHhwvr4jRME\",\n",
    "    \"https://www.youtube.com/watch?v=JUcWCF_4elY\",\n",
    "    \"https://www.youtube.com/watch?v=dUu2f9AFxkU\",\n",
    "    \"https://www.youtube.com/watch?v=Exr067-2PK4\",\n",
    "    \"https://www.youtube.com/watch?v=pKIg6u6YGKA\",\n",
    "    \"https://www.youtube.com/watch?v=WsU3lDkhUV0\",\n",
    "    \"https://www.youtube.com/watch?v=-KVLuZ8xX6Q\",\n",
    "    \"https://www.youtube.com/watch?v=J-Xn_IMfvW0\",\n",
    "    \"https://www.youtube.com/watch?v=Lg32eTdryao\",\n",
    "    \"https://www.youtube.com/watch?v=81qyyVt2rIc\",\n",
    "    \"https://www.youtube.com/watch?v=c3HsiiTzwEY\",\n",
    "    \"https://www.youtube.com/watch?v=w0EYfnw-bLs\",\n",
    "    \"https://www.youtube.com/watch?v=vfiRp4p1RqM\",\n",
    "    \"https://www.youtube.com/watch?v=kck7bsUUVbQ\",\n",
    "    \"https://www.youtube.com/watch?v=Y4H4fNq9xDQ\",\n",
    "    \"https://www.youtube.com/watch?v=QjiKlFm441w\",\n",
    "    \"https://www.youtube.com/watch?v=L4326oRFuwU\",\n",
    "    \"https://www.youtube.com/watch?v=DOyNlcqaa9A\",\n",
    "    \"https://www.youtube.com/watch?v=sLYe0XWmXUg\",\n",
    "    \"https://www.youtube.com/watch?v=B8JoiPxL3rE\",\n",
    "    \"https://www.youtube.com/watch?v=K-SqtcDvB3Y\",\n",
    "    \"https://www.youtube.com/watch?v=BMbtSF6TLf8\",\n",
    "    \"https://www.youtube.com/watch?v=kf_KloKdM-Q\",\n",
    "    \"https://www.youtube.com/watch?v=Et0l4-5G3eU\",\n",
    "    \"https://www.youtube.com/watch?v=B33Yw0trwqM\",\n",
    "    \"https://www.youtube.com/watch?v=jS4FqsQn9kA\",\n",
    "    \"https://www.youtube.com/watch?v=4zKIPdlnsDE\",\n",
    "    \"https://www.youtube.com/watch?v=ZdQgVniI0Y0\",\n",
    "    \"https://www.youtube.com/watch?v=QrlGSGQJs1k\",\n",
    "    \"https://www.youtube.com/watch?v=ObwMto-iDmU\",\n",
    "    \"https://www.youtube.com/watch?v=Com2q6nJdoo\",\n",
    "    \"https://www.youtube.com/watch?v=rCXo8EVFGSY\",\n",
    "    \"https://www.youtube.com/watch?v=apcae8_pEhk\",\n",
    "    \"https://www.youtube.com/watch?v=Wz62W9fjrhk\",\n",
    "    \"https://www.youtube.com/watch?v=fb4GVqfvwAA\",\n",
    "    \"https://www.youtube.com/watch?v=thp4VHgJssI\",\n",
    "    \"https://www.youtube.com/watch?v=ixylyFCVWnQ\",\n",
    "    \"https://www.youtube.com/watch?v=NTtHs3ev2dA\",\n",
    "    \"https://www.youtube.com/watch?v=cpyvJ5N1Xs4\",\n",
    "    \"https://www.youtube.com/watch?v=JjSacpq49qc\",\n",
    "    \"https://www.youtube.com/watch?v=NNV4DWAkmeM\",\n",
    "    \"https://www.youtube.com/watch?v=fqGb8-TvHrY\",\n",
    "    \"https://www.youtube.com/watch?v=gb4zgNrv0jo\",\n",
    "    \"https://www.youtube.com/watch?v=ZEo-wsM2jm8\",\n",
    "    \"https://www.youtube.com/watch?v=6tZHfLZFoHk\",\n",
    "    \"https://www.youtube.com/watch?v=OC9EUWEe3G4\",\n",
    "    \"https://www.youtube.com/watch?v=WqNMtq4xz8U\",\n",
    "    \"https://www.youtube.com/watch?v=DK-9TdrF2ps\",\n",
    "    \"https://www.youtube.com/watch?v=7JVLT3oefwo\",\n",
    "    \"https://www.youtube.com/watch?v=z58F4pcqV9E\",\n",
    "    \"https://www.youtube.com/watch?v=TG4CspIohB0\",\n",
    "    \"https://www.youtube.com/watch?v=-HKB5dCG23Q\",\n",
    "    \"https://www.youtube.com/watch?v=vClGFaDN5eM\",\n",
    "    \"https://www.youtube.com/watch?v=yfnZSmeG9eI\",\n",
    "    \"https://www.youtube.com/watch?v=Exr067-2PK4\",\n",
    "    \"https://www.youtube.com/watch?v=1k_f5c_ONc0\",\n",
    "    \"https://www.youtube.com/watch?v=cWxmhQKDZDI\",\n",
    "    \"https://www.youtube.com/watch?v=CPccd_8FygQ\",\n",
    "    \"https://www.youtube.com/watch?v=3y7W9z6MSDg\",\n",
    "    \"https://www.youtube.com/watch?v=cM0Yk-JzE5k\",\n",
    "    \"https://www.youtube.com/watch?v=R_DFq7JAIHM\",\n",
    "    \"https://www.youtube.com/watch?v=0rt9Yv5YCXg\",\n",
    "    \"https://www.youtube.com/watch?v=X85AcXPaTAE\",\n",
    "    \"https://www.youtube.com/watch?v=2EKxPADX-X4\",\n",
    "    \"https://www.youtube.com/watch?v=qDSqaSp2Esw\",\n",
    "    \"https://www.youtube.com/watch?v=b6f7R4cIRII\",\n",
    "    \"https://www.youtube.com/watch?v=SJB2Yo0UImU\",\n",
    "    \"https://www.youtube.com/watch?v=4IPIFA12bTg\",\n",
    "    \"https://www.youtube.com/watch?v=lfOlndCF54s\",\n",
    "    \"https://www.youtube.com/watch?v=Exr067-2PK4\",\n",
    "    \"https://www.youtube.com/watch?v=jr7Xbet6X_Y\",\n",
    "    \"https://www.youtube.com/watch?v=pKIg6u6YGKA\",\n",
    "    \"https://www.youtube.com/watch?v=0J-TYZPyi6w\",\n",
    "    \"https://www.youtube.com/watch?v=cNmHv0wkAho\",\n",
    "    \"https://www.youtube.com/watch?v=mHhwvr4jRME\",\n",
    "    \"https://www.youtube.com/watch?v=ekKZtke1aBE\",\n",
    "    \"https://www.youtube.com/watch?v=-Hxfj-haGSo\",\n",
    "    \"https://www.youtube.com/watch?v=NBn10N2Rm2E\",\n",
    "    \"https://www.youtube.com/watch?v=7UdUm1KrJVo\",\n",
    "    \"https://www.youtube.com/watch?v=KpHf39e-BHE\",\n",
    "    \"https://www.youtube.com/watch?v=s3BisMrxX08\",\n",
    "    \"https://www.youtube.com/watch?v=My--VIpNEOM\",\n",
    "    \"https://www.youtube.com/watch?v=LmzjXVM3N2o\",\n",
    "    \"https://www.youtube.com/watch?v=GHngnWh-DX8\",\n",
    "    \"https://www.youtube.com/watch?v=H-yOicjWndo\",\n",
    "    \"https://www.youtube.com/watch?v=mHhwvr4jRME\",\n",
    "    \"https://www.youtube.com/watch?v=JUcWCF_4elY\",\n",
    "    \"https://www.youtube.com/watch?v=dUu2f9AFxkU\",\n",
    "    \"https://www.youtube.com/watch?v=Exr067-2PK4\",\n",
    "    \"https://www.youtube.com/watch?v=pKIg6u6YGKA\",\n",
    "    \"https://www.youtube.com/watch?v=WsU3lDkhUV0\",\n",
    "    \"https://www.youtube.com/watch?v=sy8278khLl0\",\n",
    "    \"https://www.youtube.com/watch?v=mU2KaYPU2WI\",\n",
    "    \"https://www.youtube.com/watch?v=F282FoW5BPg\",\n",
    "    \"https://www.youtube.com/watch?v=-KVLuZ8xX6Q\",\n",
    "    \"https://www.youtube.com/watch?v=J-Xn_IMfvW0\",\n",
    "    \"https://www.youtube.com/watch?v=Lg32eTdryao\",\n",
    "    \"https://www.youtube.com/watch?v=81qyyVt2rIc\",\n",
    "    \"https://www.youtube.com/watch?v=c3HsiiTzwEY\",\n",
    "    \"https://www.youtube.com/watch?v=w0EYfnw-bLs\",\n",
    "    \"https://www.youtube.com/watch?v=Y4H4fNq9xDQ\",\n",
    "    \"https://www.youtube.com/watch?v=QjiKlFm441w\",\n",
    "    \"https://www.youtube.com/watch?v=DOyNlcqaa9A\",\n",
    "    \"https://www.youtube.com/watch?v=HBBIYfXlbnw\",\n",
    "    \"https://www.youtube.com/watch?v=uaUVtr6qyiA\",\n",
    "    \"https://www.youtube.com/watch?v=545vqphnqzI\",\n",
    "    \"https://www.youtube.com/watch?v=RX0YYmjpR4o\",\n",
    "    \"https://www.youtube.com/watch?v=8K8QauNr26Y\",\n",
    "    \"https://www.youtube.com/watch?v=cedQgZ2a6-0\",\n",
    "    \"https://www.youtube.com/watch?v=6Eo92zr18uw\",\n",
    "    \"https://www.youtube.com/watch?v=WSbQTLW5nIw\",\n",
    "    \"https://www.youtube.com/watch?v=g2OsaKpRPY0\",\n",
    "    \"https://www.youtube.com/watch?v=cGQTz0ylqBQ\",\n",
    "    \"https://www.youtube.com/watch?v=yJCXMEWig3U\",\n",
    "    \"https://www.youtube.com/watch?v=OLaC3mYYQfU\",\n",
    "    \"https://www.youtube.com/watch?v=sLYe0XWmXUg\",\n",
    "    \"https://www.youtube.com/watch?v=B8JoiPxL3rE\",\n",
    "    \"https://www.youtube.com/watch?v=apcae8_pEhk\",\n",
    "    \"https://www.youtube.com/watch?v=Wz62W9fjrhk\",\n",
    "    \"https://www.youtube.com/watch?v=fb4GVqfvwAA\",\n",
    "    \"https://www.youtube.com/watch?v=thp4VHgJssI\",\n",
    "    \"https://www.youtube.com/watch?v=ixylyFCVWnQ\",\n",
    "    \"https://www.youtube.com/watch?v=NTtHs3ev2dA\",\n",
    "    \"https://www.youtube.com/watch?v=cpyvJ5N1Xs4\",\n",
    "    \"https://www.youtube.com/watch?v=JjSacpq49qc\",\n",
    "    \"https://www.youtube.com/watch?v=NNV4DWAkmeM\",\n",
    "    \"https://www.youtube.com/watch?v=fqGb8-TvHrY\",\n",
    "    \"https://www.youtube.com/watch?v=gb4zgNrv0jo\",\n",
    "    \"https://www.youtube.com/watch?v=ZEo-wsM2jm8\",\n",
    "    \"https://www.youtube.com/watch?v=CxKjvAhQU0M\",\n",
    "    \"https://www.youtube.com/watch?v=52YaPLAdu7E\",\n",
    "    \"https://www.youtube.com/watch?v=Gf53vMVtEbY\",\n",
    "    \"https://www.youtube.com/watch?v=4zKIPdlnsDE\",\n",
    "    \"https://www.youtube.com/watch?v=rCXo8EVFGSY\",\n",
    "    \"https://www.youtube.com/watch?v=cWxmhQKDZDI\",\n",
    "    \"https://www.youtube.com/watch?v=CPccd_8FygQ\",\n",
    "    \"https://www.youtube.com/watch?v=3y7W9z6MSDg\",\n",
    "    \"https://www.youtube.com/watch?v=cM0Yk-JzE5k\",\n",
    "    \"https://www.youtube.com/watch?v=R_DFq7JAIHM\",\n",
    "    \"https://www.youtube.com/watch?v=0rt9Yv5YCXg\",\n",
    "    \"https://www.youtube.com/watch?v=X85AcXPaTAE\",\n",
    "    \"https://www.youtube.com/watch?v=2EKxPADX-X4\",\n",
    "    \"https://www.youtube.com/watch?v=qDSqaSp2Esw\",\n",
    "    \"https://www.youtube.com/watch?v=b6f7R4cIRII\",\n",
    "    \"https://www.youtube.com/watch?v=SJB2Yo0UImU\",\n",
    "    \"https://www.youtube.com/watch?v=4IPIFA12bTg\",\n",
    "    \"https://www.youtube.com/watch?v=KpHf39e-BHE\",\n",
    "    \"https://www.youtube.com/watch?v=7UdUm1KrJVo\",\n",
    "    \"https://www.youtube.com/watch?v=NBn10N2Rm2E\",\n",
    "    \"https://www.youtube.com/watch?v=s3BisMrxX08\",\n",
    "    \"https://www.youtube.com/watch?v=6tZHfLZFoHk\",\n",
    "    \"https://www.youtube.com/watch?v=OC9EUWEe3G4\",\n",
    "    \"https://www.youtube.com/watch?v=WqNMtq4xz8U\",\n",
    "    \"https://www.youtube.com/watch?v=DK-9TdrF2ps\",\n",
    "    \"https://www.youtube.com/watch?v=7JVLT3oefwo\",\n",
    "    \"https://www.youtube.com/watch?v=z58F4pcqV9E\",\n",
    "    \"https://www.youtube.com/watch?v=TG4CspIohB0\",\n",
    "    \"https://www.youtube.com/watch?v=-HKB5dCG23Q\",\n",
    "    \"https://www.youtube.com/watch?v=vClGFaDN5eM\",\n",
    "    \"https://www.youtube.com/watch?v=yfnZSmeG9eI\",\n",
    "    \"https://www.youtube.com/watch?v=Exr067-2PK4\",\n",
    "    \"https://www.youtube.com/watch?v=1k_f5c_ONc0\",\n",
    "    \"https://www.youtube.com/watch?v=9a5-b9nF_Ug\",\n",
    "    \"https://www.youtube.com/watch?v=v-gzCvMcybg\",\n",
    "    \"https://www.youtube.com/watch?v=t246KTNLDz4\",\n",
    "    \"https://www.youtube.com/watch?v=Nsy0Y5AUvw4\",\n",
    "    \"https://www.youtube.com/watch?v=M83nu91gtrk\",\n",
    "    \"https://www.youtube.com/watch?v=sLYe0XWmXUg\",\n",
    "    \"https://www.youtube.com/watch?v=B8JoiPxL3rE\",\n",
    "    \"https://www.youtube.com/watch?v=sy8278khLl0\",\n",
    "    \"https://www.youtube.com/watch?v=mU2KaYPU2WI\",\n",
    "    \"https://www.youtube.com/watch?v=sGKcSGSumi4\",\n",
    "    \"https://www.youtube.com/watch?v=My--VIpNEOM\",\n",
    "    \"https://www.youtube.com/watch?v=LmzjXVM3N2o\",\n",
    "    \"https://www.youtube.com/watch?v=GHngnWh-DX8\",\n",
    "    \"https://www.youtube.com/watch?v=H-yOicjWndo\",\n",
    "    \"https://www.youtube.com/watch?v=mHhwvr4jRME\",\n",
    "    \"https://www.youtube.com/watch?v=JUcWCF_4elY\",\n",
    "    \"https://www.youtube.com/watch?v=dUu2f9AFxkU\",\n",
    "    \"https://www.youtube.com/watch?v=Exr067-2PK4\",\n",
    "    \"https://www.youtube.com/watch?v=pKIg6u6YGKA\",\n",
    "    \"https://www.youtube.com/watch?v=WsU3lDkhUV0\",\n",
    "    \"https://www.youtube.com/watch?v=cGQTz0ylqBQ\",\n",
    "    \"https://www.youtube.com/watch?v=yJCXMEWig3U\",\n",
    "    \"https://www.youtube.com/watch?v=OLaC3mYYQfU\",\n",
    "    \"https://www.youtube.com/watch?v=llS9a2_A4ek\",\n",
    "    \"https://www.youtube.com/watch?v=CxKjvAhQU0M\",\n",
    "    \"https://www.youtube.com/watch?v=ErQPNizRzq0\",\n",
    "    \"https://www.youtube.com/watch?v=52YaPLAdu7E\",\n",
    "    \"https://www.youtube.com/watch?v=Gf53vMVtEbY\",\n",
    "    \"https://www.youtube.com/watch?v=dGuswdrtYhU\",\n",
    "    \"https://www.youtube.com/watch?v=S6XFHnGbdZI\",\n",
    "    \"https://www.youtube.com/watch?v=Od7MaME-OR8\",\n",
    "    \"https://www.youtube.com/watch?v=EKSviVz44eQ\",\n",
    "    \"https://www.youtube.com/watch?v=LrEHXY0yoHE\",\n",
    "    \"https://www.youtube.com/watch?v=E3zM5iAVL_Y\",\n",
    "    \"https://www.youtube.com/watch?v=rCXo8EVFGSY\",\n",
    "    \"https://www.youtube.com/watch?v=4zKIPdlnsDE\",\n",
    "]\n",
    "\n",
    "create_and_write_csv(filename, topik, url)"
   ]
  },
  {
   "cell_type": "code",
   "execution_count": null,
   "metadata": {},
   "outputs": [],
   "source": [
    "topik = \"teknologi\"\n",
    "url = []\n",
    "\n",
    "create_and_write_csv(filename, topik, url)"
   ]
  },
  {
   "cell_type": "code",
   "execution_count": 26,
   "metadata": {},
   "outputs": [
    {
     "name": "stdout",
     "output_type": "stream",
     "text": [
      "1. Data untuk link 'https://www.youtube.com/watch?v=W0ALqofTBEM' sudah ada, tidak disimpan.\n",
      "2. Data untuk link 'https://www.youtube.com/watch?v=KqsVAQdSE3s' sudah ada, tidak disimpan.\n",
      "3. Data untuk link 'https://www.youtube.com/watch?v=pKpJjKEzbWg' sudah ada, tidak disimpan.\n",
      "4. Data untuk link 'https://www.youtube.com/watch?v=UUGuIyRP4Ks' sudah ada, tidak disimpan.\n",
      "5. Data untuk link 'https://www.youtube.com/watch?v=VVb1PdVc68U' sudah ada, tidak disimpan.\n",
      "6. Data untuk link 'https://www.youtube.com/watch?v=XMo3c6URN8k' sudah ada, tidak disimpan.\n",
      "7. Data untuk link 'https://www.youtube.com/watch?v=P6uZ1PgUGX0' sudah ada, tidak disimpan.\n",
      "8. Data untuk link 'https://www.youtube.com/watch?v=r9giHXhA5OI' sudah ada, tidak disimpan.\n",
      "9. Data untuk link 'https://www.youtube.com/watch?v=azhi2aOvjLA' sudah ada, tidak disimpan.\n",
      "10. Data untuk link 'https://www.youtube.com/watch?v=-dbZdvs2GuI' sudah ada, tidak disimpan.\n",
      "11. Data untuk link 'https://www.youtube.com/watch?v=Se4v4n52odI' sudah ada, tidak disimpan.\n",
      "12. Data untuk link 'https://www.youtube.com/watch?v=FU7s_SyHcRw' sudah ada, tidak disimpan.\n",
      "13. Data untuk link 'https://www.youtube.com/watch?v=dazmgzDD-pc' sudah ada, tidak disimpan.\n",
      "14. Data untuk link 'https://www.youtube.com/watch?v=DsUvBogJm6Y' sudah ada, tidak disimpan.\n",
      "15. Data untuk link 'https://www.youtube.com/watch?v=YedXEd8eRDM' sudah ada, tidak disimpan.\n",
      "16. Data untuk link 'https://www.youtube.com/watch?v=11lmPw-nwnI' sudah ada, tidak disimpan.\n",
      "17. Data untuk link 'https://www.youtube.com/watch?v=BMsqsyBnwec' sudah ada, tidak disimpan.\n",
      "18. Data untuk link 'https://www.youtube.com/watch?v=EVobrXvM4x0' sudah ada, tidak disimpan.\n",
      "19. Data untuk link 'https://www.youtube.com/watch?v=4Z5P9z5zvKo' sudah ada, tidak disimpan.\n",
      "20. Data untuk link 'https://www.youtube.com/watch?v=IXki9AkGtKk' sudah ada, tidak disimpan.\n",
      "21. Data untuk link 'https://www.youtube.com/watch?v=8TiXekWyUc4' sudah ada, tidak disimpan.\n",
      "22. Data untuk link 'https://www.youtube.com/watch?v=gk-givCQM44' sudah ada, tidak disimpan.\n",
      "23. Data untuk link 'https://www.youtube.com/watch?v=WGsMIKfRy2w' sudah ada, tidak disimpan.\n",
      "24. Data untuk link 'https://www.youtube.com/watch?v=Tf5SAeRaz34' sudah ada, tidak disimpan.\n",
      "25. Data untuk link 'https://www.youtube.com/watch?v=qz1sZGgaKI4' sudah ada, tidak disimpan.\n",
      "26. Data untuk link 'https://www.youtube.com/watch?v=kPJVz4pR5JQ' sudah ada, tidak disimpan.\n",
      "27. Data untuk link 'https://www.youtube.com/watch?v=CLEw0WXb_mE' sudah ada, tidak disimpan.\n",
      "28. Data untuk link 'https://www.youtube.com/watch?v=7LF-fedyutM' sudah ada, tidak disimpan.\n",
      "29. Data untuk link 'https://www.youtube.com/watch?v=sDAkPrOiBnc' sudah ada, tidak disimpan.\n",
      "30. Data untuk link 'https://www.youtube.com/watch?v=DPCNoDLB1po' sudah ada, tidak disimpan.\n",
      "31. Data untuk link 'https://www.youtube.com/watch?v=A0ce2NGgtBQ' sudah ada, tidak disimpan.\n",
      "32. Data untuk link 'https://www.youtube.com/watch?v=Zth4NO6xX_Y' sudah ada, tidak disimpan.\n",
      "33. Data untuk link 'https://www.youtube.com/watch?v=QyxgqND6-DY' sudah ada, tidak disimpan.\n",
      "34. Data untuk link 'https://www.youtube.com/watch?v=GXkV9AS1wOg' sudah ada, tidak disimpan.\n",
      "35. Data untuk link 'https://www.youtube.com/watch?v=5wEXihpBm24' sudah ada, tidak disimpan.\n",
      "36. Data untuk link 'https://www.youtube.com/watch?v=Xxf9VudnKfY' sudah ada, tidak disimpan.\n",
      "37. Data untuk link 'https://www.youtube.com/watch?v=LxEFmIzTa7o' sudah ada, tidak disimpan.\n",
      "38. Data untuk link 'https://www.youtube.com/watch?v=UmjoufoGbnM' sudah ada, tidak disimpan.\n",
      "39. Data untuk link 'https://www.youtube.com/watch?v=u-3kE8__iaU' sudah ada, tidak disimpan.\n",
      "40. Data untuk link 'https://www.youtube.com/watch?v=vwRdiQ44z4A' sudah ada, tidak disimpan.\n",
      "41. Data untuk link 'https://www.youtube.com/watch?v=z02S6g6EldU' sudah ada, tidak disimpan.\n",
      "42. Data untuk link 'https://www.youtube.com/watch?v=Y5WkWbVkKTw' sudah ada, tidak disimpan.\n",
      "43. Data untuk link 'https://www.youtube.com/watch?v=6dPyYImzSx0' sudah ada, tidak disimpan.\n",
      "44. Data untuk link 'https://www.youtube.com/watch?v=ONGjHzguXnw' sudah ada, tidak disimpan.\n",
      "45. Data untuk link 'https://www.youtube.com/watch?v=tdT3nqUzODw' sudah ada, tidak disimpan.\n",
      "46. Data untuk link 'https://www.youtube.com/watch?v=_JmXDw_uZYc' sudah ada, tidak disimpan.\n",
      "47. Data untuk link 'https://www.youtube.com/watch?v=8n6yGO87MmI' sudah ada, tidak disimpan.\n",
      "48. Data untuk link 'https://www.youtube.com/watch?v=xP66HnbZ9bo' sudah ada, tidak disimpan.\n",
      "49. Data untuk link 'https://www.youtube.com/watch?v=0pBGW6v3h20' sudah ada, tidak disimpan.\n",
      "50. Data untuk link 'https://www.youtube.com/watch?v=sD5sB6Nh5oA' sudah ada, tidak disimpan.\n",
      "51. Data untuk link 'https://www.youtube.com/watch?v=aqu602VSJkk' sudah ada, tidak disimpan.\n",
      "52. Data untuk link 'https://www.youtube.com/watch?v=vpq0kAe0osw' sudah ada, tidak disimpan.\n",
      "53. Data untuk link 'https://www.youtube.com/watch?v=uSnwQQ8OvZE' sudah ada, tidak disimpan.\n",
      "54. Data untuk link 'https://www.youtube.com/watch?v=Jo0GgOmEN4g' sudah ada, tidak disimpan.\n",
      "55. Data untuk link 'https://www.youtube.com/watch?v=JH8bTyf3t0U' sudah ada, tidak disimpan.\n",
      "56. Data untuk link 'https://www.youtube.com/watch?v=YdZyY4jV3Jc' sudah ada, tidak disimpan.\n",
      "57. Data untuk link 'https://www.youtube.com/watch?v=c1rlu4yOmco' sudah ada, tidak disimpan.\n",
      "58. Data untuk link 'https://www.youtube.com/watch?v=U7FG7AfEw_s' sudah ada, tidak disimpan.\n",
      "59. Data untuk link 'https://www.youtube.com/watch?v=YEITI82MwYo' sudah ada, tidak disimpan.\n",
      "60. Data untuk link 'https://www.youtube.com/watch?v=gLq4HYl6Z5Q' sudah ada, tidak disimpan.\n",
      "61. Data untuk link 'https://www.youtube.com/watch?v=6D2NONQnCcc' sudah ada, tidak disimpan.\n",
      "62. Data untuk link 'https://www.youtube.com/watch?v=N6r_5a5vYl4' sudah ada, tidak disimpan.\n",
      "63. Data untuk link 'https://www.youtube.com/watch?v=5j4ya49mnwc' sudah ada, tidak disimpan.\n",
      "64. Data untuk link 'https://www.youtube.com/watch?v=ewVRjdCrht8' sudah ada, tidak disimpan.\n",
      "65. Data untuk link 'https://www.youtube.com/watch?v=Kd9hJ3ji0lo' sudah ada, tidak disimpan.\n",
      "66. Data untuk link 'https://www.youtube.com/watch?v=rxUpFmydqOo' sudah ada, tidak disimpan.\n",
      "67. Data untuk link 'https://www.youtube.com/watch?v=BxzIZ6oP8Tg' sudah ada, tidak disimpan.\n",
      "68. Data untuk link 'https://www.youtube.com/watch?v=ZfJL7bVrNJE' sudah ada, tidak disimpan.\n",
      "69. Data untuk link 'https://www.youtube.com/watch?v=yDtUUDVcYrU' sudah ada, tidak disimpan.\n",
      "70. Data untuk link 'https://www.youtube.com/watch?v=mmWl0WiiPW4' sudah ada, tidak disimpan.\n",
      "71. Data untuk link 'https://www.youtube.com/watch?v=XRApwkCclxw' sudah ada, tidak disimpan.\n",
      "72. Data untuk link 'https://www.youtube.com/watch?v=n9G0pBD3ZCA' sudah ada, tidak disimpan.\n",
      "73. Data untuk link 'https://www.youtube.com/watch?v=eg0Prw--BCc' sudah ada, tidak disimpan.\n",
      "74. Data untuk link 'https://www.youtube.com/watch?v=Onex77G52Gc' sudah ada, tidak disimpan.\n",
      "75. Data untuk link 'https://www.youtube.com/watch?v=1nWCoK2WhuY' sudah ada, tidak disimpan.\n",
      "76. Data untuk link 'https://www.youtube.com/watch?v=bABAFS-HQVc' sudah ada, tidak disimpan.\n",
      "77. Data untuk link 'https://www.youtube.com/watch?v=U_f7XSo035I' sudah ada, tidak disimpan.\n",
      "78. Data untuk link 'https://www.youtube.com/watch?v=hxCaO7dr9-o' sudah ada, tidak disimpan.\n",
      "79. Data untuk link 'https://www.youtube.com/watch?v=bcpyxop8vVk' sudah ada, tidak disimpan.\n",
      "80. Data untuk link 'https://www.youtube.com/watch?v=JnHtb4wPCeU' sudah ada, tidak disimpan.\n",
      "81. Data untuk link 'https://www.youtube.com/watch?v=KChCA9ZBKBE' sudah ada, tidak disimpan.\n",
      "82. Data untuk link 'https://www.youtube.com/watch?v=uHe05GG6wCs' sudah ada, tidak disimpan.\n",
      "83. Data untuk link 'https://www.youtube.com/watch?v=6hJIefbSv7M' sudah ada, tidak disimpan.\n",
      "84. Data untuk link 'https://www.youtube.com/watch?v=DBU_QmoKvAQ' sudah ada, tidak disimpan.\n",
      "85. Data untuk link 'https://www.youtube.com/watch?v=QIbidAB6d6I' sudah ada, tidak disimpan.\n",
      "86. Data untuk link 'https://www.youtube.com/watch?v=sVaXoa7juyk' sudah ada, tidak disimpan.\n",
      "87. Data untuk link 'https://www.youtube.com/watch?v=hJrwZ59XQD0' sudah ada, tidak disimpan.\n",
      "88. Data untuk link 'https://www.youtube.com/watch?v=dkMZZ2ZxKEw' sudah ada, tidak disimpan.\n",
      "89. Data untuk link 'https://www.youtube.com/watch?v=KmLx4P9ihd8' sudah ada, tidak disimpan.\n",
      "90. Data untuk link 'https://www.youtube.com/watch?v=y25mWIUb7XI' sudah ada, tidak disimpan.\n",
      "91. Data untuk link 'https://www.youtube.com/watch?v=bQt1BD_gnyI' sudah ada, tidak disimpan.\n",
      "92. Data untuk link 'https://www.youtube.com/watch?v=c1N9sX96UyA' sudah ada, tidak disimpan.\n",
      "93. Data untuk link 'https://www.youtube.com/watch?v=EoHTgo0X-h0' sudah ada, tidak disimpan.\n",
      "94. Data untuk link 'https://www.youtube.com/watch?v=e2I3VO0aI5c' sudah ada, tidak disimpan.\n",
      "95. Data untuk link 'https://www.youtube.com/watch?v=oIZVgTZ7R0c' sudah ada, tidak disimpan.\n",
      "96. Data untuk link 'https://www.youtube.com/watch?v=h2mhlEuCmzk' sudah ada, tidak disimpan.\n",
      "97. Data untuk link 'https://www.youtube.com/watch?v=Pz_6OYnymWg' sudah ada, tidak disimpan.\n",
      "98. Data untuk link 'https://www.youtube.com/watch?v=_qtRnNIALLc' sudah ada, tidak disimpan.\n",
      "99. Data untuk link 'https://www.youtube.com/watch?v=x2-cRmeL2rM' sudah ada, tidak disimpan.\n",
      "100. Data untuk link 'https://www.youtube.com/watch?v=5MFtsIKBFX0' sudah ada, tidak disimpan.\n",
      "101. Data untuk link 'https://www.youtube.com/watch?v=k4qm822ZQUM' sudah ada, tidak disimpan.\n",
      "102. Data untuk link 'https://www.youtube.com/watch?v=sPQRekbdLi0' sudah ada, tidak disimpan.\n",
      "103. Data untuk link 'https://www.youtube.com/watch?v=8gdFqpxoPw4' sudah ada, tidak disimpan.\n",
      "104. Data untuk link 'https://www.youtube.com/watch?v=pIql1dJpzT4' sudah ada, tidak disimpan.\n",
      "105. Data untuk link 'https://www.youtube.com/watch?v=Shiu6Eo3Q9g' sudah ada, tidak disimpan.\n",
      "106. Data untuk link 'https://www.youtube.com/watch?v=2UbjgO-1cPU' sudah ada, tidak disimpan.\n",
      "107. Data untuk link 'https://www.youtube.com/watch?v=83hhi6G2_Qk' sudah ada, tidak disimpan.\n",
      "108. Data untuk link 'https://www.youtube.com/watch?v=reyO516z0eg' sudah ada, tidak disimpan.\n",
      "109. Data untuk link 'https://www.youtube.com/watch?v=K2DD4K04HNU' sudah ada, tidak disimpan.\n",
      "110. Data untuk link 'https://www.youtube.com/watch?v=b8HB8rFCoS8' sudah ada, tidak disimpan.\n",
      "111. Data untuk link 'https://www.youtube.com/watch?v=mquts8WYubE' sudah ada, tidak disimpan.\n",
      "112. Data untuk link 'https://www.youtube.com/watch?v=9vv6y9cI2_w' sudah ada, tidak disimpan.\n",
      "113. Data untuk link 'https://www.youtube.com/watch?v=V7UIbZ_L0YY' sudah ada, tidak disimpan.\n",
      "114. Data untuk link 'https://www.youtube.com/watch?v=WTP5r491LyU' sudah ada, tidak disimpan.\n",
      "115. Data untuk link 'https://www.youtube.com/watch?v=XSCUMFnrPDc' sudah ada, tidak disimpan.\n",
      "116. Data untuk link 'https://www.youtube.com/watch?v=pgXAqfOW0l0' sudah ada, tidak disimpan.\n",
      "117. Data untuk link 'https://www.youtube.com/watch?v=FQsd2wqsv0A' sudah ada, tidak disimpan.\n",
      "118. Data untuk link 'https://www.youtube.com/watch?v=JL745kOxD1Q' sudah ada, tidak disimpan.\n",
      "119. Data untuk link 'https://www.youtube.com/watch?v=5vvY5bS0ag0' sudah ada, tidak disimpan.\n",
      "120. Data untuk link 'https://www.youtube.com/watch?v=ck51Vv8sang' sudah ada, tidak disimpan.\n",
      "121. Data untuk link 'https://www.youtube.com/watch?v=xS5_crfbJRc' sudah ada, tidak disimpan.\n",
      "122. Data untuk link 'https://www.youtube.com/watch?v=JEroDnjf8wc' sudah ada, tidak disimpan.\n",
      "123. Data untuk link 'https://www.youtube.com/watch?v=eL7KustASHY' sudah ada, tidak disimpan.\n",
      "124. Data untuk link 'https://www.youtube.com/watch?v=9vQYhhKW1ik' sudah ada, tidak disimpan.\n",
      "125. Data untuk link 'https://www.youtube.com/watch?v=kDeORYc2DK0' sudah ada, tidak disimpan.\n",
      "126. Data untuk link 'https://www.youtube.com/watch?v=CkQipvUoKFU' sudah ada, tidak disimpan.\n",
      "127. Data untuk link 'https://www.youtube.com/watch?v=hxs_ODsSq24' sudah ada, tidak disimpan.\n",
      "128. Data untuk link 'https://www.youtube.com/watch?v=Ue37SuXY9y4' sudah ada, tidak disimpan.\n",
      "129. Data untuk link 'https://www.youtube.com/watch?v=JM1yeJqsMLs' sudah ada, tidak disimpan.\n",
      "130. Data untuk link 'https://www.youtube.com/watch?v=fzC9X_bqJWI' sudah ada, tidak disimpan.\n",
      "131. Data untuk link 'https://www.youtube.com/watch?v=_ulXRitoBXQ' sudah ada, tidak disimpan.\n",
      "132. Data untuk link 'https://www.youtube.com/watch?v=aP1pUknBRSM' sudah ada, tidak disimpan.\n",
      "133. Data untuk link 'https://www.youtube.com/watch?v=kTU6tMLJZTU' sudah ada, tidak disimpan.\n",
      "134. Data untuk link 'https://www.youtube.com/watch?v=xjD7uG5FemM' sudah ada, tidak disimpan.\n",
      "135. Data untuk link 'https://www.youtube.com/watch?v=Da6jOelI8tU' sudah ada, tidak disimpan.\n",
      "136. Data untuk link 'https://www.youtube.com/watch?v=0bAuGwkXaAw' sudah ada, tidak disimpan.\n",
      "137. Data untuk link 'https://www.youtube.com/watch?v=b3Bm4xr2RHg' sudah ada, tidak disimpan.\n",
      "138. Data untuk link 'https://www.youtube.com/watch?v=z4_ERBsMKNA' sudah ada, tidak disimpan.\n",
      "139. Data untuk link 'https://www.youtube.com/watch?v=BNxEZJTobD4' sudah ada, tidak disimpan.\n",
      "140. Data untuk link 'https://www.youtube.com/watch?v=6mdbGZkvQss' sudah ada, tidak disimpan.\n",
      "141. Data untuk link 'https://www.youtube.com/watch?v=858dgojp4J0' sudah ada, tidak disimpan.\n",
      "142. Data untuk link 'https://www.youtube.com/watch?v=fJI08tvYouc' sudah ada, tidak disimpan.\n",
      "143. Data untuk link 'https://www.youtube.com/watch?v=G_QjXNOGwlM' sudah ada, tidak disimpan.\n",
      "144. Data untuk link 'https://www.youtube.com/watch?v=kZTpZZfFEY8' sudah ada, tidak disimpan.\n",
      "145. Data untuk link 'https://www.youtube.com/watch?v=I0mZ1YGpVKg' sudah ada, tidak disimpan.\n",
      "146. Data untuk link 'https://www.youtube.com/watch?v=DHVHRNHGUdM' sudah ada, tidak disimpan.\n",
      "147. Data untuk link 'https://www.youtube.com/watch?v=mNUaBx77ODM' sudah ada, tidak disimpan.\n",
      "148. Data untuk link 'https://www.youtube.com/watch?v=NSW3D2XXiKE' sudah ada, tidak disimpan.\n",
      "149. Data untuk link 'https://www.youtube.com/watch?v=vpq0kAe0osw' sudah ada, tidak disimpan.\n",
      "150. Data untuk link 'https://www.youtube.com/watch?v=U41PaEeKNeQ' sudah ada, tidak disimpan.\n",
      "151. Data untuk link 'https://www.youtube.com/watch?v=btv__lw2ME4' sudah ada, tidak disimpan.\n",
      "152. Data untuk link 'https://www.youtube.com/watch?v=jVvmTOthjHY' sudah ada, tidak disimpan.\n",
      "153. Data untuk link 'https://www.youtube.com/watch?v=t6SP1pCIWzQ' sudah ada, tidak disimpan.\n",
      "154. Data untuk link 'https://www.youtube.com/watch?v=E_Hjs-UvsgM' sudah ada, tidak disimpan.\n",
      "155. Data untuk link 'https://www.youtube.com/watch?v=oxOyQBR5Kj4' sudah ada, tidak disimpan.\n",
      "156. Data untuk link 'https://www.youtube.com/watch?v=-KUfP2HX6-s' sudah ada, tidak disimpan.\n",
      "157. Data untuk link 'https://www.youtube.com/watch?v=MXwsAjeP9vA' sudah ada, tidak disimpan.\n",
      "158. Data untuk link 'https://www.youtube.com/watch?v=5pL7HlCQ6PE' sudah ada, tidak disimpan.\n",
      "159. Data untuk link 'https://www.youtube.com/watch?v=bQt1BD_gnyI' sudah ada, tidak disimpan.\n",
      "160. Data untuk link 'https://www.youtube.com/watch?v=c1N9sX96UyA' sudah ada, tidak disimpan.\n",
      "161. Data untuk link 'https://www.youtube.com/watch?v=iW-1Nd99InQ' sudah ada, tidak disimpan.\n",
      "162. Data untuk link 'https://www.youtube.com/watch?v=8bjJPzBgOkQ' sudah ada, tidak disimpan.\n",
      "163. Data untuk link 'https://www.youtube.com/watch?v=ZmESFdFwfA4' sudah ada, tidak disimpan.\n",
      "164. Data untuk link 'https://www.youtube.com/watch?v=VnImbftNKgs' sudah ada, tidak disimpan.\n",
      "165. Data untuk link 'https://www.youtube.com/watch?v=uKbl-6s8A1Y' sudah ada, tidak disimpan.\n",
      "166. Data untuk link 'https://www.youtube.com/watch?v=dazmgzDD-pc' sudah ada, tidak disimpan.\n",
      "167. Data untuk link 'https://www.youtube.com/watch?v=11lmPw-nwnI' sudah ada, tidak disimpan.\n",
      "168. Data untuk link 'https://www.youtube.com/watch?v=BMsqsyBnwec' sudah ada, tidak disimpan.\n",
      "169. Data untuk link 'https://www.youtube.com/watch?v=EVobrXvM4x0' sudah ada, tidak disimpan.\n",
      "170. Data untuk link 'https://www.youtube.com/watch?v=4Z5P9z5zvKo' sudah ada, tidak disimpan.\n",
      "171. Data untuk link 'https://www.youtube.com/watch?v=DsUvBogJm6Y' sudah ada, tidak disimpan.\n",
      "172. Data untuk link 'https://www.youtube.com/watch?v=YedXEd8eRDM' sudah ada, tidak disimpan.\n",
      "173. Data untuk link 'https://www.youtube.com/watch?v=IXki9AkGtKk' sudah ada, tidak disimpan.\n",
      "174. Data untuk link 'https://www.youtube.com/watch?v=tUkfCahKdjk' sudah ada, tidak disimpan.\n",
      "175. Data untuk link 'https://www.youtube.com/watch?v=6w29PRcvNAE' sudah ada, tidak disimpan.\n",
      "176. Data untuk link 'https://www.youtube.com/watch?v=FnLfGV79Grk' sudah ada, tidak disimpan.\n",
      "177. Data untuk link 'https://www.youtube.com/watch?v=ZFSNBLHV0Os' sudah ada, tidak disimpan.\n",
      "178. Data untuk link 'https://www.youtube.com/watch?v=Dqt383IfePI' sudah ada, tidak disimpan.\n",
      "179. Data untuk link 'https://www.youtube.com/watch?v=9nqyMGv_xz8' sudah ada, tidak disimpan.\n",
      "180. Data untuk link 'https://www.youtube.com/watch?v=Uc-WYYP1gdw' sudah ada, tidak disimpan.\n",
      "181. Data untuk link 'https://www.youtube.com/watch?v=q7EEhOedrHA' sudah ada, tidak disimpan.\n",
      "182. Data untuk link 'https://www.youtube.com/watch?v=KLLzDLt8UYQ' sudah ada, tidak disimpan.\n",
      "183. Data untuk link 'https://www.youtube.com/watch?v=KNOOg3yRadQ' sudah ada, tidak disimpan.\n",
      "184. Data untuk link 'https://www.youtube.com/watch?v=dvCivykzs1E' sudah ada, tidak disimpan.\n",
      "185. Data untuk link 'https://www.youtube.com/watch?v=W0ALqofTBEM' sudah ada, tidak disimpan.\n",
      "186. Data untuk link 'https://www.youtube.com/watch?v=yXl5C1gRTWM' sudah ada, tidak disimpan.\n",
      "187. Data untuk link 'https://www.youtube.com/watch?v=y2htPf7eUo0' sudah ada, tidak disimpan.\n",
      "188. Data untuk link 'https://www.youtube.com/watch?v=VGl72jbYKuY' sudah ada, tidak disimpan.\n",
      "189. Data untuk link 'https://www.youtube.com/watch?v=YuCN_MYOSSY' sudah ada, tidak disimpan.\n",
      "190. Data untuk link 'https://www.youtube.com/watch?v=DDQEddViGNM' sudah ada, tidak disimpan.\n",
      "191. Data untuk link 'https://www.youtube.com/watch?v=JQh5m2nfk9E' sudah ada, tidak disimpan.\n",
      "192. Data untuk link 'https://www.youtube.com/watch?v=etCpLlVp4Xc' sudah ada, tidak disimpan.\n",
      "193. Data untuk link 'https://www.youtube.com/watch?v=Tf5SAeRaz34' sudah ada, tidak disimpan.\n",
      "194. Data untuk link 'https://www.youtube.com/watch?v=qz1sZGgaKI4' sudah ada, tidak disimpan.\n",
      "195. Data untuk link 'https://www.youtube.com/watch?v=kPJVz4pR5JQ' sudah ada, tidak disimpan.\n",
      "196. Data untuk link 'https://www.youtube.com/watch?v=CLEw0WXb_mE' sudah ada, tidak disimpan.\n",
      "197. Data untuk link 'https://www.youtube.com/watch?v=DPCNoDLB1po' sudah ada, tidak disimpan.\n",
      "198. Data untuk link 'https://www.youtube.com/watch?v=o85vyxMRA_Y' sudah ada, tidak disimpan.\n",
      "199. Data untuk link 'https://www.youtube.com/watch?v=iQQVCagFyxk' sudah ada, tidak disimpan.\n",
      "200. Data untuk link 'https://www.youtube.com/watch?v=puwiNwu9JhA' sudah ada, tidak disimpan.\n",
      "201. Data untuk link 'https://www.youtube.com/watch?v=tv0FNlJhQKs' sudah ada, tidak disimpan.\n",
      "202. Data untuk link 'https://www.youtube.com/watch?v=FgzZnvY3hM8' sudah ada, tidak disimpan.\n",
      "203. Data untuk link 'https://www.youtube.com/watch?v=Mk6QWN9MW1Y' sudah ada, tidak disimpan.\n",
      "204. Data untuk link 'https://www.youtube.com/watch?v=Kd9hJ3ji0lo' sudah ada, tidak disimpan.\n",
      "205. Data untuk link 'https://www.youtube.com/watch?v=ZfJL7bVrNJE' sudah ada, tidak disimpan.\n",
      "206. Data untuk link 'https://www.youtube.com/watch?v=yDtUUDVcYrU' sudah ada, tidak disimpan.\n",
      "207. Data untuk link 'https://www.youtube.com/watch?v=H4k1DB1HRMA' sudah ada, tidak disimpan.\n",
      "208. Data untuk link 'https://www.youtube.com/watch?v=GRSzkm4E2oU' sudah ada, tidak disimpan.\n",
      "209. Data untuk link 'https://www.youtube.com/watch?v=IgHdYq3nL0I' sudah ada, tidak disimpan.\n",
      "210. Data untuk link 'https://www.youtube.com/watch?v=XqVXiDLOZFU' sudah ada, tidak disimpan.\n",
      "211. Data untuk link 'https://www.youtube.com/watch?v=CXr9GAOcFpU' sudah ada, tidak disimpan.\n",
      "212. Data untuk link 'https://www.youtube.com/watch?v=qWPPTmD7vYo' sudah ada, tidak disimpan.\n",
      "213. Data untuk link 'https://www.youtube.com/watch?v=VNRHjYZEQOw' sudah ada, tidak disimpan.\n",
      "214. Data untuk link 'https://www.youtube.com/watch?v=giX5L3Ccx8A' sudah ada, tidak disimpan.\n",
      "215. Data untuk link 'https://www.youtube.com/watch?v=ck51Vv8sang' sudah ada, tidak disimpan.\n",
      "216. Data untuk link 'https://www.youtube.com/watch?v=5vvY5bS0ag0' sudah ada, tidak disimpan.\n",
      "217. Data untuk link 'https://www.youtube.com/watch?v=xS5_crfbJRc' sudah ada, tidak disimpan.\n",
      "218. Data untuk link 'https://www.youtube.com/watch?v=JEroDnjf8wc' sudah ada, tidak disimpan.\n",
      "219. Data untuk link 'https://www.youtube.com/watch?v=eL7KustASHY' sudah ada, tidak disimpan.\n",
      "220. Data untuk link 'https://www.youtube.com/watch?v=9vQYhhKW1ik' sudah ada, tidak disimpan.\n",
      "221. Data untuk link 'https://www.youtube.com/watch?v=4V8yOPWqQgs' sudah ada, tidak disimpan.\n",
      "222. Data untuk link 'https://www.youtube.com/watch?v=pRUBrYNxOUk' sudah ada, tidak disimpan.\n",
      "223. Data untuk link 'https://www.youtube.com/watch?v=LlpdQ3Ra-jM' sudah ada, tidak disimpan.\n",
      "224. Data untuk link 'https://www.youtube.com/watch?v=I4OAkImF3hY' sudah ada, tidak disimpan.\n",
      "225. Data untuk link 'https://www.youtube.com/watch?v=Lhf_Q-fvYUA' sudah ada, tidak disimpan.\n",
      "226. Data untuk link 'https://www.youtube.com/watch?v=F5HCGdx_scw' sudah ada, tidak disimpan.\n",
      "227. Data untuk link 'https://www.youtube.com/watch?v=uamF9jdIOp4' sudah ada, tidak disimpan.\n",
      "228. Data untuk link 'https://www.youtube.com/watch?v=wtc1fPY_jEM' sudah ada, tidak disimpan.\n",
      "229. Data untuk link 'https://www.youtube.com/watch?v=jn0YA9SQBiM' sudah ada, tidak disimpan.\n",
      "230. Data untuk link 'https://www.youtube.com/watch?v=zrC2ZsTUsxc' sudah ada, tidak disimpan.\n",
      "231. Data untuk link 'https://www.youtube.com/watch?v=1qurjeRXuoo' sudah ada, tidak disimpan.\n",
      "232. Data untuk link 'https://www.youtube.com/watch?v=EuVxJ-_IH_Y' sudah ada, tidak disimpan.\n",
      "233. Data untuk link 'https://www.youtube.com/watch?v=crckynwdtW0' sudah ada, tidak disimpan.\n",
      "234. Data untuk link 'https://www.youtube.com/watch?v=ad86LUarMy4' sudah ada, tidak disimpan.\n",
      "235. Data untuk link 'https://www.youtube.com/watch?v=3NMTsMoqYO0' sudah ada, tidak disimpan.\n",
      "236. Data untuk link 'https://www.youtube.com/watch?v=_s6cZesA5l4' sudah ada, tidak disimpan.\n",
      "237. Data untuk link 'https://www.youtube.com/watch?v=epxhFyfZ7LM' sudah ada, tidak disimpan.\n",
      "238. Data untuk link 'https://www.youtube.com/watch?v=c7eYnl9tqew' sudah ada, tidak disimpan.\n",
      "239. Data untuk link 'https://www.youtube.com/watch?v=509HC4c-p7o' sudah ada, tidak disimpan.\n",
      "240. Data untuk link 'https://www.youtube.com/watch?v=bcpyxop8vVk' sudah ada, tidak disimpan.\n",
      "241. Data untuk link 'https://www.youtube.com/watch?v=6hJIefbSv7M' sudah ada, tidak disimpan.\n",
      "242. Data untuk link 'https://www.youtube.com/watch?v=DBU_QmoKvAQ' sudah ada, tidak disimpan.\n",
      "243. Data untuk link 'https://www.youtube.com/watch?v=QIbidAB6d6I' sudah ada, tidak disimpan.\n",
      "244. Data untuk link 'https://www.youtube.com/watch?v=w5OP3jERkys' sudah ada, tidak disimpan.\n",
      "245. Data untuk link 'https://www.youtube.com/watch?v=vBrQojB3m90' sudah ada, tidak disimpan.\n",
      "246. Data untuk link 'https://www.youtube.com/watch?v=EWJDsgBnonk' sudah ada, tidak disimpan.\n",
      "247. Data untuk link 'https://www.youtube.com/watch?v=_IIUEmlrp7I' sudah ada, tidak disimpan.\n",
      "248. Data untuk link 'https://www.youtube.com/watch?v=JPs1dcNDzJc' sudah ada, tidak disimpan.\n",
      "249. Data untuk link 'https://www.youtube.com/watch?v=GW2vaPuIn4k' sudah ada, tidak disimpan.\n",
      "250. Data untuk link 'https://www.youtube.com/watch?v=odlVh734t6o' sudah ada, tidak disimpan.\n",
      "251. Data untuk link 'https://www.youtube.com/watch?v=0rHL4ReDhM8' sudah ada, tidak disimpan.\n",
      "252. Data untuk link 'https://www.youtube.com/watch?v=gLq4HYl6Z5Q' sudah ada, tidak disimpan.\n",
      "253. Data untuk link 'https://www.youtube.com/watch?v=6D2NONQnCcc' sudah ada, tidak disimpan.\n",
      "254. Data untuk link 'https://www.youtube.com/watch?v=N6r_5a5vYl4' sudah ada, tidak disimpan.\n",
      "255. Data untuk link 'https://www.youtube.com/watch?v=5j4ya49mnwc' sudah ada, tidak disimpan.\n",
      "256. Data untuk link 'https://www.youtube.com/watch?v=Eh8GcfYYeUA' sudah ada, tidak disimpan.\n",
      "257. Data untuk link 'https://www.youtube.com/watch?v=xjD7uG5FemM' sudah ada, tidak disimpan.\n",
      "258. Data untuk link 'https://www.youtube.com/watch?v=Da6jOelI8tU' sudah ada, tidak disimpan.\n",
      "259. Data untuk link 'https://www.youtube.com/watch?v=0bAuGwkXaAw' sudah ada, tidak disimpan.\n",
      "260. Data untuk link 'https://www.youtube.com/watch?v=b3Bm4xr2RHg' sudah ada, tidak disimpan.\n",
      "261. Data untuk link 'https://www.youtube.com/watch?v=z4_ERBsMKNA' sudah ada, tidak disimpan.\n",
      "262. Data untuk link 'https://www.youtube.com/watch?v=YHWf1Q-OZZY' sudah ada, tidak disimpan.\n",
      "263. Data untuk link 'https://www.youtube.com/watch?v=pYQkwS39TBA' sudah ada, tidak disimpan.\n",
      "264. Data untuk link 'https://www.youtube.com/watch?v=Xxf9VudnKfY' sudah ada, tidak disimpan.\n",
      "265. Data untuk link 'https://www.youtube.com/watch?v=LxEFmIzTa7o' sudah ada, tidak disimpan.\n",
      "266. Data untuk link 'https://www.youtube.com/watch?v=UmjoufoGbnM' sudah ada, tidak disimpan.\n",
      "267. Data untuk link 'https://www.youtube.com/watch?v=u-3kE8__iaU' sudah ada, tidak disimpan.\n",
      "268. Data untuk link 'https://www.youtube.com/watch?v=vwRdiQ44z4A' sudah ada, tidak disimpan.\n",
      "269. Data untuk link 'https://www.youtube.com/watch?v=z02S6g6EldU' sudah ada, tidak disimpan.\n",
      "270. Data untuk link 'https://www.youtube.com/watch?v=Y5WkWbVkKTw' sudah ada, tidak disimpan.\n",
      "271. Data untuk link 'https://www.youtube.com/watch?v=6dPyYImzSx0' sudah ada, tidak disimpan.\n",
      "272. Data untuk link 'https://www.youtube.com/watch?v=ONGjHzguXnw' sudah ada, tidak disimpan.\n",
      "273. Data untuk link 'https://www.youtube.com/watch?v=tdT3nqUzODw' sudah ada, tidak disimpan.\n",
      "274. Data untuk link 'https://www.youtube.com/watch?v=hkZBhAKtmfQ' sudah ada, tidak disimpan.\n",
      "275. Data untuk link 'https://www.youtube.com/watch?v=oCejZzpzeHs' sudah ada, tidak disimpan.\n",
      "276. Data untuk link 'https://www.youtube.com/watch?v=KMhYc0x7Y18' sudah ada, tidak disimpan.\n",
      "277. Data untuk link 'https://www.youtube.com/watch?v=-rAQpT_KjKM' sudah ada, tidak disimpan.\n",
      "278. Data untuk link 'https://www.youtube.com/watch?v=4rKn9p6pGRA' sudah ada, tidak disimpan.\n",
      "279. Data untuk link 'https://www.youtube.com/watch?v=s-_LaD424uI' sudah ada, tidak disimpan.\n",
      "280. Data untuk link 'https://www.youtube.com/watch?v=Yg4J95Fs8mw' sudah ada, tidak disimpan.\n",
      "281. Data untuk link 'https://www.youtube.com/watch?v=H9Vm1fzIGT4' sudah ada, tidak disimpan.\n",
      "282. Data untuk link 'https://www.youtube.com/watch?v=tsB2RO9PARc' sudah ada, tidak disimpan.\n",
      "283. Data untuk link 'https://www.youtube.com/watch?v=SyF-x3e7GXM' sudah ada, tidak disimpan.\n",
      "284. Data untuk link 'https://www.youtube.com/watch?v=590gLSDV_1g' sudah ada, tidak disimpan.\n",
      "285. Data untuk link 'https://www.youtube.com/watch?v=_6dOuywiVhs' sudah ada, tidak disimpan.\n",
      "286. Data untuk link 'https://www.youtube.com/watch?v=xZqHwk5I5-g' sudah ada, tidak disimpan.\n",
      "287. Data untuk link 'https://www.youtube.com/watch?v=QMrdzFCJvyc' sudah ada, tidak disimpan.\n",
      "288. Data untuk link 'https://www.youtube.com/watch?v=-YlLFf0GqTA' sudah ada, tidak disimpan.\n",
      "289. Data untuk link 'https://www.youtube.com/watch?v=8EdP3CgXAsE' sudah ada, tidak disimpan.\n",
      "290. Data untuk link 'https://www.youtube.com/watch?v=LHtvWClNpuY' sudah ada, tidak disimpan.\n",
      "291. Data untuk link 'https://www.youtube.com/watch?v=MQZXYS-B8-Q' sudah ada, tidak disimpan.\n",
      "292. Data untuk link 'https://www.youtube.com/watch?v=y6k7ArLehzo' sudah ada, tidak disimpan.\n",
      "293. Data untuk link 'https://www.youtube.com/watch?v=SGHUDgym124' sudah ada, tidak disimpan.\n",
      "294. Data untuk link 'https://www.youtube.com/watch?v=ZqSxNq8-KSc' sudah ada, tidak disimpan.\n",
      "295. Data untuk link 'https://www.youtube.com/watch?v=AWD10TzuWLw' sudah ada, tidak disimpan.\n",
      "296. Data untuk link 'https://www.youtube.com/watch?v=7vBOHBXPd9o' sudah ada, tidak disimpan.\n",
      "297. Data untuk link 'https://www.youtube.com/watch?v=5beBMoSS8k8' sudah ada, tidak disimpan.\n",
      "298. Data untuk link 'https://www.youtube.com/watch?v=0HkgzcJ-vTc' sudah ada, tidak disimpan.\n",
      "299. Data untuk link 'https://www.youtube.com/watch?v=9WERgb_6o5E' sudah ada, tidak disimpan.\n",
      "300. Data untuk link 'https://www.youtube.com/watch?v=BNxEZJTobD4' sudah ada, tidak disimpan.\n",
      "301. Data untuk link 'https://www.youtube.com/watch?v=858dgojp4J0' sudah ada, tidak disimpan.\n",
      "302. Data untuk link 'https://www.youtube.com/watch?v=fJI08tvYouc' sudah ada, tidak disimpan.\n",
      "303. Data untuk link 'https://www.youtube.com/watch?v=G_QjXNOGwlM' sudah ada, tidak disimpan.\n",
      "304. Data untuk link 'https://www.youtube.com/watch?v=kZTpZZfFEY8' sudah ada, tidak disimpan.\n",
      "305. Data untuk link 'https://www.youtube.com/watch?v=UCKzpLpILXY' sudah ada, tidak disimpan.\n",
      "306. Data untuk link 'https://www.youtube.com/watch?v=XxUmKbMqGeo' sudah ada, tidak disimpan.\n",
      "307. Data untuk link 'https://www.youtube.com/watch?v=k1GkSv-JM0A' sudah ada, tidak disimpan.\n",
      "308. Data untuk link 'https://www.youtube.com/watch?v=URXh1HByfEU' sudah ada, tidak disimpan.\n",
      "309. Data untuk link 'https://www.youtube.com/watch?v=8bjJPzBgOkQ' sudah ada, tidak disimpan.\n",
      "310. Data untuk link 'https://www.youtube.com/watch?v=ZmESFdFwfA4' sudah ada, tidak disimpan.\n",
      "311. Data untuk link 'https://www.youtube.com/watch?v=VnImbftNKgs' sudah ada, tidak disimpan.\n",
      "312. Data untuk link 'https://www.youtube.com/watch?v=dazmgzDD-pc' sudah ada, tidak disimpan.\n",
      "313. Data untuk link 'https://www.youtube.com/watch?v=11lmPw-nwnI' sudah ada, tidak disimpan.\n",
      "314. Data untuk link 'https://www.youtube.com/watch?v=BMsqsyBnwec' sudah ada, tidak disimpan.\n",
      "315. Data untuk link 'https://www.youtube.com/watch?v=EVobrXvM4x0' sudah ada, tidak disimpan.\n",
      "316. Data untuk link 'https://www.youtube.com/watch?v=KGGwowlG6AY' sudah ada, tidak disimpan.\n",
      "317. Data untuk link 'https://www.youtube.com/watch?v=WCITtbqwTmE' sudah ada, tidak disimpan.\n",
      "318. Data untuk link 'https://www.youtube.com/watch?v=xG5RZP20-d0' sudah ada, tidak disimpan.\n",
      "319. Data untuk link 'https://www.youtube.com/watch?v=R_rv5W2WCaI' sudah ada, tidak disimpan.\n",
      "320. Data untuk link 'https://www.youtube.com/watch?v=Xug2grotiT0' sudah ada, tidak disimpan.\n",
      "321. Data untuk link 'https://www.youtube.com/watch?v=8EdP3CgXAsE' sudah ada, tidak disimpan.\n",
      "322. Data untuk link 'https://www.youtube.com/watch?v=ad86LUarMy4' sudah ada, tidak disimpan.\n",
      "323. Data untuk link 'https://www.youtube.com/watch?v=YuCN_MYOSSY' sudah ada, tidak disimpan.\n",
      "324. Data untuk link 'https://www.youtube.com/watch?v=DDQEddViGNM' sudah ada, tidak disimpan.\n",
      "325. Data untuk link 'https://www.youtube.com/watch?v=JQh5m2nfk9E' sudah ada, tidak disimpan.\n",
      "326. Data untuk link 'https://www.youtube.com/watch?v=etCpLlVp4Xc' sudah ada, tidak disimpan.\n",
      "327. Data untuk link 'https://www.youtube.com/watch?v=Tf5SAeRaz34' sudah ada, tidak disimpan.\n",
      "328. Data untuk link 'https://www.youtube.com/watch?v=qz1sZGgaKI4' sudah ada, tidak disimpan.\n",
      "329. Data untuk link 'https://www.youtube.com/watch?v=qyjuxYWiB8E' sudah ada, tidak disimpan.\n",
      "330. Data untuk link 'https://www.youtube.com/watch?v=gb3LTRdxhhc' sudah ada, tidak disimpan.\n",
      "331. Data untuk link 'https://www.youtube.com/watch?v=TP0nzgPi9Wk' sudah ada, tidak disimpan.\n",
      "332. Data untuk link 'https://www.youtube.com/watch?v=Sz_Dqdy_UYw' sudah ada, tidak disimpan.\n",
      "333. Data untuk link 'https://www.youtube.com/watch?v=O7mQM9-wlOs' sudah ada, tidak disimpan.\n",
      "334. Data untuk link 'https://www.youtube.com/watch?v=k_APpv84Q2s' sudah ada, tidak disimpan.\n",
      "335. Data untuk link 'https://www.youtube.com/watch?v=_9SKzHBnPEY' sudah ada, tidak disimpan.\n",
      "336. Data untuk link 'https://www.youtube.com/watch?v=0p05lDmFUwA' sudah ada, tidak disimpan.\n",
      "337. Data untuk link 'https://www.youtube.com/watch?v=tUkfCahKdjk' sudah ada, tidak disimpan.\n",
      "338. Data untuk link 'https://www.youtube.com/watch?v=6w29PRcvNAE' sudah ada, tidak disimpan.\n",
      "339. Data untuk link 'https://www.youtube.com/watch?v=FnLfGV79Grk' sudah ada, tidak disimpan.\n",
      "340. Data untuk link 'https://www.youtube.com/watch?v=ZFSNBLHV0Os' sudah ada, tidak disimpan.\n",
      "341. Data untuk link 'https://www.youtube.com/watch?v=YVx1r5ddL1o' sudah ada, tidak disimpan.\n",
      "342. Data untuk link 'https://www.youtube.com/watch?v=OglYQ383zDw' sudah ada, tidak disimpan.\n",
      "343. Data untuk link 'https://www.youtube.com/watch?v=PMq7Omh3bCk' sudah ada, tidak disimpan.\n",
      "344. Data untuk link 'https://www.youtube.com/watch?v=q8_ynflKe7o' sudah ada, tidak disimpan.\n",
      "345. Data untuk link 'https://www.youtube.com/watch?v=cgp4kfY__CM' sudah ada, tidak disimpan.\n",
      "346. Data untuk link 'https://www.youtube.com/watch?v=RfaNZlizpbg' sudah ada, tidak disimpan.\n",
      "347. Data untuk link 'https://www.youtube.com/watch?v=NzVd7K4wDDA' sudah ada, tidak disimpan.\n",
      "348. Data untuk link 'https://www.youtube.com/watch?v=-5pvUW2dUJs' sudah ada, tidak disimpan.\n",
      "349. Data untuk link 'https://www.youtube.com/watch?v=3ChFN--DhdI' sudah ada, tidak disimpan.\n",
      "350. Data untuk link 'https://www.youtube.com/watch?v=QxTOvbv6uFc' sudah ada, tidak disimpan.\n",
      "351. Data untuk link 'https://www.youtube.com/watch?v=Ah2X7zpZcaU' sudah ada, tidak disimpan.\n",
      "352. Data untuk link 'https://www.youtube.com/watch?v=zv5Ko3UmQ-E' sudah ada, tidak disimpan.\n",
      "353. Data untuk link 'https://www.youtube.com/watch?v=ZtCFaU2iok4' sudah ada, tidak disimpan.\n",
      "354. Data untuk link 'https://www.youtube.com/watch?v=d-Y7UCWvLqw' sudah ada, tidak disimpan.\n",
      "355. Data untuk link 'https://www.youtube.com/watch?v=MvxMpyfhJfE' sudah ada, tidak disimpan.\n",
      "356. Data untuk link 'https://www.youtube.com/watch?v=2yq3mSPIG6Q' sudah ada, tidak disimpan.\n",
      "357. Data untuk link 'https://www.youtube.com/watch?v=hkZBhAKtmfQ' sudah ada, tidak disimpan.\n",
      "358. Data untuk link 'https://www.youtube.com/watch?v=KMhYc0x7Y18' sudah ada, tidak disimpan.\n",
      "359. Data untuk link 'https://www.youtube.com/watch?v=-rAQpT_KjKM' sudah ada, tidak disimpan.\n",
      "360. Data untuk link 'https://www.youtube.com/watch?v=oCejZzpzeHs' sudah ada, tidak disimpan.\n",
      "361. Data untuk link 'https://www.youtube.com/watch?v=4rKn9p6pGRA' sudah ada, tidak disimpan.\n",
      "362. Data untuk link 'https://www.youtube.com/watch?v=s-_LaD424uI' sudah ada, tidak disimpan.\n",
      "363. Data untuk link 'https://www.youtube.com/watch?v=Yg4J95Fs8mw' sudah ada, tidak disimpan.\n",
      "364. Data untuk link 'https://www.youtube.com/watch?v=eQGQgjt4IPk' sudah ada, tidak disimpan.\n",
      "365. Data untuk link 'https://www.youtube.com/watch?v=tbs6V-xfBsE' sudah ada, tidak disimpan.\n",
      "366. Data untuk link 'https://www.youtube.com/watch?v=QBvjH-a0CRY' sudah ada, tidak disimpan.\n",
      "367. Data untuk link 'https://www.youtube.com/watch?v=btv__lw2ME4' sudah ada, tidak disimpan.\n",
      "368. Data untuk link 'https://www.youtube.com/watch?v=jVvmTOthjHY' sudah ada, tidak disimpan.\n",
      "369. Data untuk link 'https://www.youtube.com/watch?v=t6SP1pCIWzQ' sudah ada, tidak disimpan.\n",
      "370. Data untuk link 'https://www.youtube.com/watch?v=E_Hjs-UvsgM' sudah ada, tidak disimpan.\n",
      "371. Data untuk link 'https://www.youtube.com/watch?v=oxOyQBR5Kj4' sudah ada, tidak disimpan.\n",
      "372. Data untuk link 'https://www.youtube.com/watch?v=-KUfP2HX6-s' sudah ada, tidak disimpan.\n",
      "373. Data untuk link 'https://www.youtube.com/watch?v=MXwsAjeP9vA' sudah ada, tidak disimpan.\n",
      "374. Data untuk link 'https://www.youtube.com/watch?v=bQt1BD_gnyI' sudah ada, tidak disimpan.\n",
      "375. Data untuk link 'https://www.youtube.com/watch?v=c1N9sX96UyA' sudah ada, tidak disimpan.\n",
      "376. Data untuk link 'https://www.youtube.com/watch?v=w5OP3jERkys' sudah ada, tidak disimpan.\n",
      "377. Data untuk link 'https://www.youtube.com/watch?v=vBrQojB3m90' sudah ada, tidak disimpan.\n",
      "378. Data untuk link 'https://www.youtube.com/watch?v=EWJDsgBnonk' sudah ada, tidak disimpan.\n",
      "379. Data untuk link 'https://www.youtube.com/watch?v=_IIUEmlrp7I' sudah ada, tidak disimpan.\n"
     ]
    },
    {
     "name": "stderr",
     "output_type": "stream",
     "text": [
      "c:\\Users\\ACER-I5\\AppData\\Local\\Programs\\Python\\Python312\\Lib\\site-packages\\whisper\\transcribe.py:115: UserWarning: FP16 is not supported on CPU; using FP32 instead\n",
      "  warnings.warn(\"FP16 is not supported on CPU; using FP32 instead\")\n"
     ]
    },
    {
     "name": "stdout",
     "output_type": "stream",
     "text": [
      "1. Data untuk link 'https://www.youtube.com/watch?v=qaJ4hH3nGn4' berhasil ditambahkan ke 'yt-news.csv'.\n",
      "380. Data untuk link 'https://www.youtube.com/watch?v=GW2vaPuIn4k' sudah ada, tidak disimpan.\n"
     ]
    },
    {
     "name": "stderr",
     "output_type": "stream",
     "text": [
      "c:\\Users\\ACER-I5\\AppData\\Local\\Programs\\Python\\Python312\\Lib\\site-packages\\whisper\\transcribe.py:115: UserWarning: FP16 is not supported on CPU; using FP32 instead\n",
      "  warnings.warn(\"FP16 is not supported on CPU; using FP32 instead\")\n"
     ]
    },
    {
     "name": "stdout",
     "output_type": "stream",
     "text": [
      "2. Data untuk link 'https://www.youtube.com/watch?v=1giYsUMlnfU' berhasil ditambahkan ke 'yt-news.csv'.\n",
      "381. Data untuk link 'https://www.youtube.com/watch?v=XqVXiDLOZFU' sudah ada, tidak disimpan.\n",
      "382. Data untuk link 'https://www.youtube.com/watch?v=CXr9GAOcFpU' sudah ada, tidak disimpan.\n",
      "383. Data untuk link 'https://www.youtube.com/watch?v=qWPPTmD7vYo' sudah ada, tidak disimpan.\n",
      "384. Data untuk link 'https://www.youtube.com/watch?v=VNRHjYZEQOw' sudah ada, tidak disimpan.\n",
      "385. Data untuk link 'https://www.youtube.com/watch?v=giX5L3Ccx8A' sudah ada, tidak disimpan.\n",
      "386. Data untuk link 'https://www.youtube.com/watch?v=ck51Vv8sang' sudah ada, tidak disimpan.\n",
      "387. Data untuk link 'https://www.youtube.com/watch?v=5vvY5bS0ag0' sudah ada, tidak disimpan.\n",
      "388. Data untuk link 'https://www.youtube.com/watch?v=xS5_crfbJRc' sudah ada, tidak disimpan.\n",
      "389. Data untuk link 'https://www.youtube.com/watch?v=JEroDnjf8wc' sudah ada, tidak disimpan.\n",
      "390. Data untuk link 'https://www.youtube.com/watch?v=eL7KustASHY' sudah ada, tidak disimpan.\n",
      "391. Data untuk link 'https://www.youtube.com/watch?v=9vQYhhKW1ik' sudah ada, tidak disimpan.\n"
     ]
    },
    {
     "name": "stderr",
     "output_type": "stream",
     "text": [
      "c:\\Users\\ACER-I5\\AppData\\Local\\Programs\\Python\\Python312\\Lib\\site-packages\\whisper\\transcribe.py:115: UserWarning: FP16 is not supported on CPU; using FP32 instead\n",
      "  warnings.warn(\"FP16 is not supported on CPU; using FP32 instead\")\n"
     ]
    },
    {
     "name": "stdout",
     "output_type": "stream",
     "text": [
      "3. Data untuk link 'https://www.youtube.com/watch?v=7o0TXq77xNs' berhasil ditambahkan ke 'yt-news.csv'.\n"
     ]
    },
    {
     "name": "stderr",
     "output_type": "stream",
     "text": [
      "c:\\Users\\ACER-I5\\AppData\\Local\\Programs\\Python\\Python312\\Lib\\site-packages\\whisper\\transcribe.py:115: UserWarning: FP16 is not supported on CPU; using FP32 instead\n",
      "  warnings.warn(\"FP16 is not supported on CPU; using FP32 instead\")\n"
     ]
    },
    {
     "name": "stdout",
     "output_type": "stream",
     "text": [
      "4. Data untuk link 'https://www.youtube.com/watch?v=XhZbjidanqg' berhasil ditambahkan ke 'yt-news.csv'.\n"
     ]
    },
    {
     "name": "stderr",
     "output_type": "stream",
     "text": [
      "c:\\Users\\ACER-I5\\AppData\\Local\\Programs\\Python\\Python312\\Lib\\site-packages\\whisper\\transcribe.py:115: UserWarning: FP16 is not supported on CPU; using FP32 instead\n",
      "  warnings.warn(\"FP16 is not supported on CPU; using FP32 instead\")\n"
     ]
    },
    {
     "name": "stdout",
     "output_type": "stream",
     "text": [
      "5. Data untuk link 'https://www.youtube.com/watch?v=NfYNIpKI0R0' berhasil ditambahkan ke 'yt-news.csv'.\n"
     ]
    },
    {
     "name": "stderr",
     "output_type": "stream",
     "text": [
      "c:\\Users\\ACER-I5\\AppData\\Local\\Programs\\Python\\Python312\\Lib\\site-packages\\whisper\\transcribe.py:115: UserWarning: FP16 is not supported on CPU; using FP32 instead\n",
      "  warnings.warn(\"FP16 is not supported on CPU; using FP32 instead\")\n"
     ]
    },
    {
     "name": "stdout",
     "output_type": "stream",
     "text": [
      "6. Data untuk link 'https://www.youtube.com/watch?v=Pb9CdlADH3c' berhasil ditambahkan ke 'yt-news.csv'.\n"
     ]
    },
    {
     "name": "stderr",
     "output_type": "stream",
     "text": [
      "c:\\Users\\ACER-I5\\AppData\\Local\\Programs\\Python\\Python312\\Lib\\site-packages\\whisper\\transcribe.py:115: UserWarning: FP16 is not supported on CPU; using FP32 instead\n",
      "  warnings.warn(\"FP16 is not supported on CPU; using FP32 instead\")\n"
     ]
    },
    {
     "name": "stdout",
     "output_type": "stream",
     "text": [
      "7. Data untuk link 'https://www.youtube.com/watch?v=Zl8KFjWAgIU' berhasil ditambahkan ke 'yt-news.csv'.\n"
     ]
    },
    {
     "name": "stderr",
     "output_type": "stream",
     "text": [
      "c:\\Users\\ACER-I5\\AppData\\Local\\Programs\\Python\\Python312\\Lib\\site-packages\\whisper\\transcribe.py:115: UserWarning: FP16 is not supported on CPU; using FP32 instead\n",
      "  warnings.warn(\"FP16 is not supported on CPU; using FP32 instead\")\n"
     ]
    },
    {
     "name": "stdout",
     "output_type": "stream",
     "text": [
      "8. Data untuk link 'https://www.youtube.com/watch?v=M5CMl5fBMJ0' berhasil ditambahkan ke 'yt-news.csv'.\n"
     ]
    },
    {
     "name": "stderr",
     "output_type": "stream",
     "text": [
      "c:\\Users\\ACER-I5\\AppData\\Local\\Programs\\Python\\Python312\\Lib\\site-packages\\whisper\\transcribe.py:115: UserWarning: FP16 is not supported on CPU; using FP32 instead\n",
      "  warnings.warn(\"FP16 is not supported on CPU; using FP32 instead\")\n"
     ]
    },
    {
     "name": "stdout",
     "output_type": "stream",
     "text": [
      "9. Data untuk link 'https://www.youtube.com/watch?v=7Is8-lnT1H8' berhasil ditambahkan ke 'yt-news.csv'.\n"
     ]
    },
    {
     "name": "stderr",
     "output_type": "stream",
     "text": [
      "c:\\Users\\ACER-I5\\AppData\\Local\\Programs\\Python\\Python312\\Lib\\site-packages\\whisper\\transcribe.py:115: UserWarning: FP16 is not supported on CPU; using FP32 instead\n",
      "  warnings.warn(\"FP16 is not supported on CPU; using FP32 instead\")\n"
     ]
    },
    {
     "name": "stdout",
     "output_type": "stream",
     "text": [
      "10. Data untuk link 'https://www.youtube.com/watch?v=OKJpLhqF3EE' berhasil ditambahkan ke 'yt-news.csv'.\n"
     ]
    },
    {
     "name": "stderr",
     "output_type": "stream",
     "text": [
      "c:\\Users\\ACER-I5\\AppData\\Local\\Programs\\Python\\Python312\\Lib\\site-packages\\whisper\\transcribe.py:115: UserWarning: FP16 is not supported on CPU; using FP32 instead\n",
      "  warnings.warn(\"FP16 is not supported on CPU; using FP32 instead\")\n"
     ]
    },
    {
     "name": "stdout",
     "output_type": "stream",
     "text": [
      "11. Data untuk link 'https://www.youtube.com/watch?v=bJiPLHSGnxM' berhasil ditambahkan ke 'yt-news.csv'.\n"
     ]
    },
    {
     "name": "stderr",
     "output_type": "stream",
     "text": [
      "c:\\Users\\ACER-I5\\AppData\\Local\\Programs\\Python\\Python312\\Lib\\site-packages\\whisper\\transcribe.py:115: UserWarning: FP16 is not supported on CPU; using FP32 instead\n",
      "  warnings.warn(\"FP16 is not supported on CPU; using FP32 instead\")\n"
     ]
    },
    {
     "name": "stdout",
     "output_type": "stream",
     "text": [
      "12. Data untuk link 'https://www.youtube.com/watch?v=aTtbpunpdbA' berhasil ditambahkan ke 'yt-news.csv'.\n"
     ]
    },
    {
     "name": "stderr",
     "output_type": "stream",
     "text": [
      "c:\\Users\\ACER-I5\\AppData\\Local\\Programs\\Python\\Python312\\Lib\\site-packages\\whisper\\transcribe.py:115: UserWarning: FP16 is not supported on CPU; using FP32 instead\n",
      "  warnings.warn(\"FP16 is not supported on CPU; using FP32 instead\")\n"
     ]
    },
    {
     "name": "stdout",
     "output_type": "stream",
     "text": [
      "13. Data untuk link 'https://www.youtube.com/watch?v=nplOxWZG9lk' berhasil ditambahkan ke 'yt-news.csv'.\n"
     ]
    },
    {
     "name": "stderr",
     "output_type": "stream",
     "text": [
      "c:\\Users\\ACER-I5\\AppData\\Local\\Programs\\Python\\Python312\\Lib\\site-packages\\whisper\\transcribe.py:115: UserWarning: FP16 is not supported on CPU; using FP32 instead\n",
      "  warnings.warn(\"FP16 is not supported on CPU; using FP32 instead\")\n"
     ]
    },
    {
     "name": "stdout",
     "output_type": "stream",
     "text": [
      "14. Data untuk link 'https://www.youtube.com/watch?v=kcH4g-2R4-E' berhasil ditambahkan ke 'yt-news.csv'.\n"
     ]
    },
    {
     "name": "stderr",
     "output_type": "stream",
     "text": [
      "c:\\Users\\ACER-I5\\AppData\\Local\\Programs\\Python\\Python312\\Lib\\site-packages\\whisper\\transcribe.py:115: UserWarning: FP16 is not supported on CPU; using FP32 instead\n",
      "  warnings.warn(\"FP16 is not supported on CPU; using FP32 instead\")\n"
     ]
    },
    {
     "name": "stdout",
     "output_type": "stream",
     "text": [
      "15. Data untuk link 'https://www.youtube.com/watch?v=jPoXcveS36k' berhasil ditambahkan ke 'yt-news.csv'.\n"
     ]
    },
    {
     "name": "stderr",
     "output_type": "stream",
     "text": [
      "c:\\Users\\ACER-I5\\AppData\\Local\\Programs\\Python\\Python312\\Lib\\site-packages\\whisper\\transcribe.py:115: UserWarning: FP16 is not supported on CPU; using FP32 instead\n",
      "  warnings.warn(\"FP16 is not supported on CPU; using FP32 instead\")\n"
     ]
    },
    {
     "name": "stdout",
     "output_type": "stream",
     "text": [
      "16. Data untuk link 'https://www.youtube.com/watch?v=nZNHCBaPdj0' berhasil ditambahkan ke 'yt-news.csv'.\n"
     ]
    },
    {
     "name": "stderr",
     "output_type": "stream",
     "text": [
      "c:\\Users\\ACER-I5\\AppData\\Local\\Programs\\Python\\Python312\\Lib\\site-packages\\whisper\\transcribe.py:115: UserWarning: FP16 is not supported on CPU; using FP32 instead\n",
      "  warnings.warn(\"FP16 is not supported on CPU; using FP32 instead\")\n"
     ]
    },
    {
     "name": "stdout",
     "output_type": "stream",
     "text": [
      "17. Data untuk link 'https://www.youtube.com/watch?v=yPaPi7SjE88' berhasil ditambahkan ke 'yt-news.csv'.\n"
     ]
    },
    {
     "name": "stderr",
     "output_type": "stream",
     "text": [
      "c:\\Users\\ACER-I5\\AppData\\Local\\Programs\\Python\\Python312\\Lib\\site-packages\\whisper\\transcribe.py:115: UserWarning: FP16 is not supported on CPU; using FP32 instead\n",
      "  warnings.warn(\"FP16 is not supported on CPU; using FP32 instead\")\n"
     ]
    },
    {
     "name": "stdout",
     "output_type": "stream",
     "text": [
      "18. Data untuk link 'https://www.youtube.com/watch?v=03TL7bV4e_w' berhasil ditambahkan ke 'yt-news.csv'.\n"
     ]
    },
    {
     "name": "stderr",
     "output_type": "stream",
     "text": [
      "c:\\Users\\ACER-I5\\AppData\\Local\\Programs\\Python\\Python312\\Lib\\site-packages\\whisper\\transcribe.py:115: UserWarning: FP16 is not supported on CPU; using FP32 instead\n",
      "  warnings.warn(\"FP16 is not supported on CPU; using FP32 instead\")\n"
     ]
    },
    {
     "name": "stdout",
     "output_type": "stream",
     "text": [
      "19. Data untuk link 'https://www.youtube.com/watch?v=dMCWaKCoKD8' berhasil ditambahkan ke 'yt-news.csv'.\n"
     ]
    },
    {
     "name": "stderr",
     "output_type": "stream",
     "text": [
      "c:\\Users\\ACER-I5\\AppData\\Local\\Programs\\Python\\Python312\\Lib\\site-packages\\whisper\\transcribe.py:115: UserWarning: FP16 is not supported on CPU; using FP32 instead\n",
      "  warnings.warn(\"FP16 is not supported on CPU; using FP32 instead\")\n"
     ]
    },
    {
     "name": "stdout",
     "output_type": "stream",
     "text": [
      "20. Data untuk link 'https://www.youtube.com/watch?v=j7xLw4t4miM' berhasil ditambahkan ke 'yt-news.csv'.\n"
     ]
    },
    {
     "name": "stderr",
     "output_type": "stream",
     "text": [
      "c:\\Users\\ACER-I5\\AppData\\Local\\Programs\\Python\\Python312\\Lib\\site-packages\\whisper\\transcribe.py:115: UserWarning: FP16 is not supported on CPU; using FP32 instead\n",
      "  warnings.warn(\"FP16 is not supported on CPU; using FP32 instead\")\n"
     ]
    },
    {
     "name": "stdout",
     "output_type": "stream",
     "text": [
      "21. Data untuk link 'https://www.youtube.com/watch?v=Qpkd4cvlNfI' berhasil ditambahkan ke 'yt-news.csv'.\n"
     ]
    },
    {
     "name": "stderr",
     "output_type": "stream",
     "text": [
      "c:\\Users\\ACER-I5\\AppData\\Local\\Programs\\Python\\Python312\\Lib\\site-packages\\whisper\\transcribe.py:115: UserWarning: FP16 is not supported on CPU; using FP32 instead\n",
      "  warnings.warn(\"FP16 is not supported on CPU; using FP32 instead\")\n"
     ]
    },
    {
     "name": "stdout",
     "output_type": "stream",
     "text": [
      "22. Data untuk link 'https://www.youtube.com/watch?v=a-qEvZjp24w' berhasil ditambahkan ke 'yt-news.csv'.\n"
     ]
    },
    {
     "name": "stderr",
     "output_type": "stream",
     "text": [
      "c:\\Users\\ACER-I5\\AppData\\Local\\Programs\\Python\\Python312\\Lib\\site-packages\\whisper\\transcribe.py:115: UserWarning: FP16 is not supported on CPU; using FP32 instead\n",
      "  warnings.warn(\"FP16 is not supported on CPU; using FP32 instead\")\n"
     ]
    },
    {
     "name": "stdout",
     "output_type": "stream",
     "text": [
      "23. Data untuk link 'https://www.youtube.com/watch?v=LZFxu1VkeOU' berhasil ditambahkan ke 'yt-news.csv'.\n"
     ]
    },
    {
     "name": "stderr",
     "output_type": "stream",
     "text": [
      "c:\\Users\\ACER-I5\\AppData\\Local\\Programs\\Python\\Python312\\Lib\\site-packages\\whisper\\transcribe.py:115: UserWarning: FP16 is not supported on CPU; using FP32 instead\n",
      "  warnings.warn(\"FP16 is not supported on CPU; using FP32 instead\")\n"
     ]
    },
    {
     "name": "stdout",
     "output_type": "stream",
     "text": [
      "24. Data untuk link 'https://www.youtube.com/watch?v=L-tuXMg1Dw4' berhasil ditambahkan ke 'yt-news.csv'.\n"
     ]
    },
    {
     "name": "stderr",
     "output_type": "stream",
     "text": [
      "c:\\Users\\ACER-I5\\AppData\\Local\\Programs\\Python\\Python312\\Lib\\site-packages\\whisper\\transcribe.py:115: UserWarning: FP16 is not supported on CPU; using FP32 instead\n",
      "  warnings.warn(\"FP16 is not supported on CPU; using FP32 instead\")\n"
     ]
    },
    {
     "name": "stdout",
     "output_type": "stream",
     "text": [
      "25. Data untuk link 'https://www.youtube.com/watch?v=CCAYHKP8ptk' berhasil ditambahkan ke 'yt-news.csv'.\n"
     ]
    },
    {
     "name": "stderr",
     "output_type": "stream",
     "text": [
      "c:\\Users\\ACER-I5\\AppData\\Local\\Programs\\Python\\Python312\\Lib\\site-packages\\whisper\\transcribe.py:115: UserWarning: FP16 is not supported on CPU; using FP32 instead\n",
      "  warnings.warn(\"FP16 is not supported on CPU; using FP32 instead\")\n"
     ]
    },
    {
     "name": "stdout",
     "output_type": "stream",
     "text": [
      "26. Data untuk link 'https://www.youtube.com/watch?v=au1xdP_2LUQ' berhasil ditambahkan ke 'yt-news.csv'.\n",
      "392. Data untuk link 'https://www.youtube.com/watch?v=Eh8GcfYYeUA' sudah ada, tidak disimpan.\n",
      "393. Data untuk link 'https://www.youtube.com/watch?v=xjD7uG5FemM' sudah ada, tidak disimpan.\n",
      "394. Data untuk link 'https://www.youtube.com/watch?v=Da6jOelI8tU' sudah ada, tidak disimpan.\n",
      "395. Data untuk link 'https://www.youtube.com/watch?v=0bAuGwkXaAw' sudah ada, tidak disimpan.\n",
      "396. Data untuk link 'https://www.youtube.com/watch?v=b3Bm4xr2RHg' sudah ada, tidak disimpan.\n",
      "397. Data untuk link 'https://www.youtube.com/watch?v=z4_ERBsMKNA' sudah ada, tidak disimpan.\n"
     ]
    },
    {
     "name": "stderr",
     "output_type": "stream",
     "text": [
      "c:\\Users\\ACER-I5\\AppData\\Local\\Programs\\Python\\Python312\\Lib\\site-packages\\whisper\\transcribe.py:115: UserWarning: FP16 is not supported on CPU; using FP32 instead\n",
      "  warnings.warn(\"FP16 is not supported on CPU; using FP32 instead\")\n"
     ]
    },
    {
     "name": "stdout",
     "output_type": "stream",
     "text": [
      "27. Data untuk link 'https://www.youtube.com/watch?v=3_ZXX5PiiSg' berhasil ditambahkan ke 'yt-news.csv'.\n"
     ]
    },
    {
     "name": "stderr",
     "output_type": "stream",
     "text": [
      "c:\\Users\\ACER-I5\\AppData\\Local\\Programs\\Python\\Python312\\Lib\\site-packages\\whisper\\transcribe.py:115: UserWarning: FP16 is not supported on CPU; using FP32 instead\n",
      "  warnings.warn(\"FP16 is not supported on CPU; using FP32 instead\")\n"
     ]
    },
    {
     "name": "stdout",
     "output_type": "stream",
     "text": [
      "28. Data untuk link 'https://www.youtube.com/watch?v=x_RUapQ31c0' berhasil ditambahkan ke 'yt-news.csv'.\n"
     ]
    },
    {
     "name": "stderr",
     "output_type": "stream",
     "text": [
      "c:\\Users\\ACER-I5\\AppData\\Local\\Programs\\Python\\Python312\\Lib\\site-packages\\whisper\\transcribe.py:115: UserWarning: FP16 is not supported on CPU; using FP32 instead\n",
      "  warnings.warn(\"FP16 is not supported on CPU; using FP32 instead\")\n"
     ]
    },
    {
     "name": "stdout",
     "output_type": "stream",
     "text": [
      "29. Data untuk link 'https://www.youtube.com/watch?v=XNQ6OAV9CTc' berhasil ditambahkan ke 'yt-news.csv'.\n"
     ]
    },
    {
     "name": "stderr",
     "output_type": "stream",
     "text": [
      "c:\\Users\\ACER-I5\\AppData\\Local\\Programs\\Python\\Python312\\Lib\\site-packages\\whisper\\transcribe.py:115: UserWarning: FP16 is not supported on CPU; using FP32 instead\n",
      "  warnings.warn(\"FP16 is not supported on CPU; using FP32 instead\")\n"
     ]
    },
    {
     "name": "stdout",
     "output_type": "stream",
     "text": [
      "30. Data untuk link 'https://www.youtube.com/watch?v=3uUd9WII_M4' berhasil ditambahkan ke 'yt-news.csv'.\n"
     ]
    },
    {
     "name": "stderr",
     "output_type": "stream",
     "text": [
      "c:\\Users\\ACER-I5\\AppData\\Local\\Programs\\Python\\Python312\\Lib\\site-packages\\whisper\\transcribe.py:115: UserWarning: FP16 is not supported on CPU; using FP32 instead\n",
      "  warnings.warn(\"FP16 is not supported on CPU; using FP32 instead\")\n"
     ]
    },
    {
     "name": "stdout",
     "output_type": "stream",
     "text": [
      "31. Data untuk link 'https://www.youtube.com/watch?v=Lh85TVY5Hg4' berhasil ditambahkan ke 'yt-news.csv'.\n"
     ]
    },
    {
     "name": "stderr",
     "output_type": "stream",
     "text": [
      "c:\\Users\\ACER-I5\\AppData\\Local\\Programs\\Python\\Python312\\Lib\\site-packages\\whisper\\transcribe.py:115: UserWarning: FP16 is not supported on CPU; using FP32 instead\n",
      "  warnings.warn(\"FP16 is not supported on CPU; using FP32 instead\")\n"
     ]
    },
    {
     "name": "stdout",
     "output_type": "stream",
     "text": [
      "32. Data untuk link 'https://www.youtube.com/watch?v=1G9AChnchF4' berhasil ditambahkan ke 'yt-news.csv'.\n"
     ]
    },
    {
     "name": "stderr",
     "output_type": "stream",
     "text": [
      "c:\\Users\\ACER-I5\\AppData\\Local\\Programs\\Python\\Python312\\Lib\\site-packages\\whisper\\transcribe.py:115: UserWarning: FP16 is not supported on CPU; using FP32 instead\n",
      "  warnings.warn(\"FP16 is not supported on CPU; using FP32 instead\")\n"
     ]
    },
    {
     "name": "stdout",
     "output_type": "stream",
     "text": [
      "33. Data untuk link 'https://www.youtube.com/watch?v=ZN2rcz0JQ8s' berhasil ditambahkan ke 'yt-news.csv'.\n"
     ]
    },
    {
     "name": "stderr",
     "output_type": "stream",
     "text": [
      "c:\\Users\\ACER-I5\\AppData\\Local\\Programs\\Python\\Python312\\Lib\\site-packages\\whisper\\transcribe.py:115: UserWarning: FP16 is not supported on CPU; using FP32 instead\n",
      "  warnings.warn(\"FP16 is not supported on CPU; using FP32 instead\")\n"
     ]
    },
    {
     "name": "stdout",
     "output_type": "stream",
     "text": [
      "34. Data untuk link 'https://www.youtube.com/watch?v=ZkNT706-Pq4' berhasil ditambahkan ke 'yt-news.csv'.\n"
     ]
    },
    {
     "name": "stderr",
     "output_type": "stream",
     "text": [
      "c:\\Users\\ACER-I5\\AppData\\Local\\Programs\\Python\\Python312\\Lib\\site-packages\\whisper\\transcribe.py:115: UserWarning: FP16 is not supported on CPU; using FP32 instead\n",
      "  warnings.warn(\"FP16 is not supported on CPU; using FP32 instead\")\n"
     ]
    },
    {
     "name": "stdout",
     "output_type": "stream",
     "text": [
      "35. Data untuk link 'https://www.youtube.com/watch?v=sw5DX-hLZT4' berhasil ditambahkan ke 'yt-news.csv'.\n"
     ]
    },
    {
     "name": "stderr",
     "output_type": "stream",
     "text": [
      "c:\\Users\\ACER-I5\\AppData\\Local\\Programs\\Python\\Python312\\Lib\\site-packages\\whisper\\transcribe.py:115: UserWarning: FP16 is not supported on CPU; using FP32 instead\n",
      "  warnings.warn(\"FP16 is not supported on CPU; using FP32 instead\")\n"
     ]
    },
    {
     "name": "stdout",
     "output_type": "stream",
     "text": [
      "36. Data untuk link 'https://www.youtube.com/watch?v=v73ftU27DB0' berhasil ditambahkan ke 'yt-news.csv'.\n"
     ]
    },
    {
     "name": "stderr",
     "output_type": "stream",
     "text": [
      "c:\\Users\\ACER-I5\\AppData\\Local\\Programs\\Python\\Python312\\Lib\\site-packages\\whisper\\transcribe.py:115: UserWarning: FP16 is not supported on CPU; using FP32 instead\n",
      "  warnings.warn(\"FP16 is not supported on CPU; using FP32 instead\")\n"
     ]
    },
    {
     "name": "stdout",
     "output_type": "stream",
     "text": [
      "37. Data untuk link 'https://www.youtube.com/watch?v=Q-MHEnnKGKE' berhasil ditambahkan ke 'yt-news.csv'.\n"
     ]
    },
    {
     "name": "stderr",
     "output_type": "stream",
     "text": [
      "c:\\Users\\ACER-I5\\AppData\\Local\\Programs\\Python\\Python312\\Lib\\site-packages\\whisper\\transcribe.py:115: UserWarning: FP16 is not supported on CPU; using FP32 instead\n",
      "  warnings.warn(\"FP16 is not supported on CPU; using FP32 instead\")\n"
     ]
    },
    {
     "name": "stdout",
     "output_type": "stream",
     "text": [
      "38. Data untuk link 'https://www.youtube.com/watch?v=cuwST3BjsvY' berhasil ditambahkan ke 'yt-news.csv'.\n"
     ]
    },
    {
     "name": "stderr",
     "output_type": "stream",
     "text": [
      "c:\\Users\\ACER-I5\\AppData\\Local\\Programs\\Python\\Python312\\Lib\\site-packages\\whisper\\transcribe.py:115: UserWarning: FP16 is not supported on CPU; using FP32 instead\n",
      "  warnings.warn(\"FP16 is not supported on CPU; using FP32 instead\")\n"
     ]
    },
    {
     "name": "stdout",
     "output_type": "stream",
     "text": [
      "39. Data untuk link 'https://www.youtube.com/watch?v=VP0l7xyR8hQ' berhasil ditambahkan ke 'yt-news.csv'.\n"
     ]
    },
    {
     "name": "stderr",
     "output_type": "stream",
     "text": [
      "c:\\Users\\ACER-I5\\AppData\\Local\\Programs\\Python\\Python312\\Lib\\site-packages\\whisper\\transcribe.py:115: UserWarning: FP16 is not supported on CPU; using FP32 instead\n",
      "  warnings.warn(\"FP16 is not supported on CPU; using FP32 instead\")\n"
     ]
    },
    {
     "name": "stdout",
     "output_type": "stream",
     "text": [
      "40. Data untuk link 'https://www.youtube.com/watch?v=tYFuuAz7DDE' berhasil ditambahkan ke 'yt-news.csv'.\n"
     ]
    },
    {
     "name": "stderr",
     "output_type": "stream",
     "text": [
      "c:\\Users\\ACER-I5\\AppData\\Local\\Programs\\Python\\Python312\\Lib\\site-packages\\whisper\\transcribe.py:115: UserWarning: FP16 is not supported on CPU; using FP32 instead\n",
      "  warnings.warn(\"FP16 is not supported on CPU; using FP32 instead\")\n"
     ]
    },
    {
     "name": "stdout",
     "output_type": "stream",
     "text": [
      "41. Data untuk link 'https://www.youtube.com/watch?v=eeGxna1LZ-k' berhasil ditambahkan ke 'yt-news.csv'.\n"
     ]
    },
    {
     "name": "stderr",
     "output_type": "stream",
     "text": [
      "c:\\Users\\ACER-I5\\AppData\\Local\\Programs\\Python\\Python312\\Lib\\site-packages\\whisper\\transcribe.py:115: UserWarning: FP16 is not supported on CPU; using FP32 instead\n",
      "  warnings.warn(\"FP16 is not supported on CPU; using FP32 instead\")\n"
     ]
    },
    {
     "name": "stdout",
     "output_type": "stream",
     "text": [
      "42. Data untuk link 'https://www.youtube.com/watch?v=j5pO-q_3m5o' berhasil ditambahkan ke 'yt-news.csv'.\n"
     ]
    },
    {
     "name": "stderr",
     "output_type": "stream",
     "text": [
      "c:\\Users\\ACER-I5\\AppData\\Local\\Programs\\Python\\Python312\\Lib\\site-packages\\whisper\\transcribe.py:115: UserWarning: FP16 is not supported on CPU; using FP32 instead\n",
      "  warnings.warn(\"FP16 is not supported on CPU; using FP32 instead\")\n"
     ]
    },
    {
     "name": "stdout",
     "output_type": "stream",
     "text": [
      "43. Data untuk link 'https://www.youtube.com/watch?v=7EacI8lWD_w' berhasil ditambahkan ke 'yt-news.csv'.\n"
     ]
    },
    {
     "name": "stderr",
     "output_type": "stream",
     "text": [
      "c:\\Users\\ACER-I5\\AppData\\Local\\Programs\\Python\\Python312\\Lib\\site-packages\\whisper\\transcribe.py:115: UserWarning: FP16 is not supported on CPU; using FP32 instead\n",
      "  warnings.warn(\"FP16 is not supported on CPU; using FP32 instead\")\n"
     ]
    },
    {
     "name": "stdout",
     "output_type": "stream",
     "text": [
      "44. Data untuk link 'https://www.youtube.com/watch?v=BFRbA1Awzm0' berhasil ditambahkan ke 'yt-news.csv'.\n"
     ]
    },
    {
     "name": "stderr",
     "output_type": "stream",
     "text": [
      "c:\\Users\\ACER-I5\\AppData\\Local\\Programs\\Python\\Python312\\Lib\\site-packages\\whisper\\transcribe.py:115: UserWarning: FP16 is not supported on CPU; using FP32 instead\n",
      "  warnings.warn(\"FP16 is not supported on CPU; using FP32 instead\")\n"
     ]
    },
    {
     "name": "stdout",
     "output_type": "stream",
     "text": [
      "45. Data untuk link 'https://www.youtube.com/watch?v=ZdUbJApl1wA' berhasil ditambahkan ke 'yt-news.csv'.\n"
     ]
    },
    {
     "name": "stderr",
     "output_type": "stream",
     "text": [
      "c:\\Users\\ACER-I5\\AppData\\Local\\Programs\\Python\\Python312\\Lib\\site-packages\\whisper\\transcribe.py:115: UserWarning: FP16 is not supported on CPU; using FP32 instead\n",
      "  warnings.warn(\"FP16 is not supported on CPU; using FP32 instead\")\n"
     ]
    },
    {
     "name": "stdout",
     "output_type": "stream",
     "text": [
      "46. Data untuk link 'https://www.youtube.com/watch?v=2YufxInrsqA' berhasil ditambahkan ke 'yt-news.csv'.\n"
     ]
    },
    {
     "name": "stderr",
     "output_type": "stream",
     "text": [
      "c:\\Users\\ACER-I5\\AppData\\Local\\Programs\\Python\\Python312\\Lib\\site-packages\\whisper\\transcribe.py:115: UserWarning: FP16 is not supported on CPU; using FP32 instead\n",
      "  warnings.warn(\"FP16 is not supported on CPU; using FP32 instead\")\n"
     ]
    },
    {
     "name": "stdout",
     "output_type": "stream",
     "text": [
      "47. Data untuk link 'https://www.youtube.com/watch?v=Lwa1OJd0jg4' berhasil ditambahkan ke 'yt-news.csv'.\n"
     ]
    },
    {
     "name": "stderr",
     "output_type": "stream",
     "text": [
      "c:\\Users\\ACER-I5\\AppData\\Local\\Programs\\Python\\Python312\\Lib\\site-packages\\whisper\\transcribe.py:115: UserWarning: FP16 is not supported on CPU; using FP32 instead\n",
      "  warnings.warn(\"FP16 is not supported on CPU; using FP32 instead\")\n"
     ]
    },
    {
     "name": "stdout",
     "output_type": "stream",
     "text": [
      "48. Data untuk link 'https://www.youtube.com/watch?v=XX2Lvirp48Y' berhasil ditambahkan ke 'yt-news.csv'.\n",
      "398. Data untuk link 'https://www.youtube.com/watch?v=gb3LTRdxhhc' sudah ada, tidak disimpan.\n",
      "399. Data untuk link 'https://www.youtube.com/watch?v=O7mQM9-wlOs' sudah ada, tidak disimpan.\n",
      "400. Data untuk link 'https://www.youtube.com/watch?v=k_APpv84Q2s' sudah ada, tidak disimpan.\n",
      "401. Data untuk link 'https://www.youtube.com/watch?v=0p05lDmFUwA' sudah ada, tidak disimpan.\n"
     ]
    },
    {
     "name": "stderr",
     "output_type": "stream",
     "text": [
      "c:\\Users\\ACER-I5\\AppData\\Local\\Programs\\Python\\Python312\\Lib\\site-packages\\whisper\\transcribe.py:115: UserWarning: FP16 is not supported on CPU; using FP32 instead\n",
      "  warnings.warn(\"FP16 is not supported on CPU; using FP32 instead\")\n"
     ]
    },
    {
     "name": "stdout",
     "output_type": "stream",
     "text": [
      "49. Data untuk link 'https://www.youtube.com/watch?v=qxkfLYDsMio' berhasil ditambahkan ke 'yt-news.csv'.\n",
      "402. Data untuk link 'https://www.youtube.com/watch?v=XxUmKbMqGeo' sudah ada, tidak disimpan.\n",
      "403. Data untuk link 'https://www.youtube.com/watch?v=k1GkSv-JM0A' sudah ada, tidak disimpan.\n",
      "404. Data untuk link 'https://www.youtube.com/watch?v=URXh1HByfEU' sudah ada, tidak disimpan.\n",
      "405. Data untuk link 'https://www.youtube.com/watch?v=8bjJPzBgOkQ' sudah ada, tidak disimpan.\n",
      "406. Data untuk link 'https://www.youtube.com/watch?v=ZmESFdFwfA4' sudah ada, tidak disimpan.\n",
      "407. Data untuk link 'https://www.youtube.com/watch?v=VnImbftNKgs' sudah ada, tidak disimpan.\n",
      "408. Data untuk link 'https://www.youtube.com/watch?v=dazmgzDD-pc' sudah ada, tidak disimpan.\n",
      "409. Data untuk link 'https://www.youtube.com/watch?v=11lmPw-nwnI' sudah ada, tidak disimpan.\n",
      "410. Data untuk link 'https://www.youtube.com/watch?v=BMsqsyBnwec' sudah ada, tidak disimpan.\n",
      "411. Data untuk link 'https://www.youtube.com/watch?v=EVobrXvM4x0' sudah ada, tidak disimpan.\n",
      "412. Data untuk link 'https://www.youtube.com/watch?v=UCKzpLpILXY' sudah ada, tidak disimpan.\n"
     ]
    },
    {
     "name": "stderr",
     "output_type": "stream",
     "text": [
      "c:\\Users\\ACER-I5\\AppData\\Local\\Programs\\Python\\Python312\\Lib\\site-packages\\whisper\\transcribe.py:115: UserWarning: FP16 is not supported on CPU; using FP32 instead\n",
      "  warnings.warn(\"FP16 is not supported on CPU; using FP32 instead\")\n"
     ]
    },
    {
     "name": "stdout",
     "output_type": "stream",
     "text": [
      "50. Data untuk link 'https://www.youtube.com/watch?v=g18vEyYLKYE' berhasil ditambahkan ke 'yt-news.csv'.\n"
     ]
    },
    {
     "name": "stderr",
     "output_type": "stream",
     "text": [
      "c:\\Users\\ACER-I5\\AppData\\Local\\Programs\\Python\\Python312\\Lib\\site-packages\\whisper\\transcribe.py:115: UserWarning: FP16 is not supported on CPU; using FP32 instead\n",
      "  warnings.warn(\"FP16 is not supported on CPU; using FP32 instead\")\n"
     ]
    },
    {
     "name": "stdout",
     "output_type": "stream",
     "text": [
      "51. Data untuk link 'https://www.youtube.com/watch?v=O4Sfkhrn0IE' berhasil ditambahkan ke 'yt-news.csv'.\n"
     ]
    },
    {
     "name": "stderr",
     "output_type": "stream",
     "text": [
      "c:\\Users\\ACER-I5\\AppData\\Local\\Programs\\Python\\Python312\\Lib\\site-packages\\whisper\\transcribe.py:115: UserWarning: FP16 is not supported on CPU; using FP32 instead\n",
      "  warnings.warn(\"FP16 is not supported on CPU; using FP32 instead\")\n"
     ]
    },
    {
     "name": "stdout",
     "output_type": "stream",
     "text": [
      "52. Data untuk link 'https://www.youtube.com/watch?v=ti93UgA_rtE' berhasil ditambahkan ke 'yt-news.csv'.\n"
     ]
    },
    {
     "name": "stderr",
     "output_type": "stream",
     "text": [
      "c:\\Users\\ACER-I5\\AppData\\Local\\Programs\\Python\\Python312\\Lib\\site-packages\\whisper\\transcribe.py:115: UserWarning: FP16 is not supported on CPU; using FP32 instead\n",
      "  warnings.warn(\"FP16 is not supported on CPU; using FP32 instead\")\n"
     ]
    },
    {
     "name": "stdout",
     "output_type": "stream",
     "text": [
      "53. Data untuk link 'https://www.youtube.com/watch?v=xbulR4O05_I' berhasil ditambahkan ke 'yt-news.csv'.\n"
     ]
    },
    {
     "name": "stderr",
     "output_type": "stream",
     "text": [
      "c:\\Users\\ACER-I5\\AppData\\Local\\Programs\\Python\\Python312\\Lib\\site-packages\\whisper\\transcribe.py:115: UserWarning: FP16 is not supported on CPU; using FP32 instead\n",
      "  warnings.warn(\"FP16 is not supported on CPU; using FP32 instead\")\n"
     ]
    },
    {
     "name": "stdout",
     "output_type": "stream",
     "text": [
      "54. Data untuk link 'https://www.youtube.com/watch?v=M-qq9bDdpiE' berhasil ditambahkan ke 'yt-news.csv'.\n"
     ]
    },
    {
     "name": "stderr",
     "output_type": "stream",
     "text": [
      "c:\\Users\\ACER-I5\\AppData\\Local\\Programs\\Python\\Python312\\Lib\\site-packages\\whisper\\transcribe.py:115: UserWarning: FP16 is not supported on CPU; using FP32 instead\n",
      "  warnings.warn(\"FP16 is not supported on CPU; using FP32 instead\")\n"
     ]
    },
    {
     "name": "stdout",
     "output_type": "stream",
     "text": [
      "55. Data untuk link 'https://www.youtube.com/watch?v=vE6geAmgmjU' berhasil ditambahkan ke 'yt-news.csv'.\n"
     ]
    },
    {
     "name": "stderr",
     "output_type": "stream",
     "text": [
      "c:\\Users\\ACER-I5\\AppData\\Local\\Programs\\Python\\Python312\\Lib\\site-packages\\whisper\\transcribe.py:115: UserWarning: FP16 is not supported on CPU; using FP32 instead\n",
      "  warnings.warn(\"FP16 is not supported on CPU; using FP32 instead\")\n"
     ]
    },
    {
     "name": "stdout",
     "output_type": "stream",
     "text": [
      "56. Data untuk link 'https://www.youtube.com/watch?v=lmiMeiwif4Q' berhasil ditambahkan ke 'yt-news.csv'.\n"
     ]
    },
    {
     "name": "stderr",
     "output_type": "stream",
     "text": [
      "c:\\Users\\ACER-I5\\AppData\\Local\\Programs\\Python\\Python312\\Lib\\site-packages\\whisper\\transcribe.py:115: UserWarning: FP16 is not supported on CPU; using FP32 instead\n",
      "  warnings.warn(\"FP16 is not supported on CPU; using FP32 instead\")\n"
     ]
    },
    {
     "name": "stdout",
     "output_type": "stream",
     "text": [
      "57. Data untuk link 'https://www.youtube.com/watch?v=WmrxVZuqSSM' berhasil ditambahkan ke 'yt-news.csv'.\n"
     ]
    },
    {
     "name": "stderr",
     "output_type": "stream",
     "text": [
      "c:\\Users\\ACER-I5\\AppData\\Local\\Programs\\Python\\Python312\\Lib\\site-packages\\whisper\\transcribe.py:115: UserWarning: FP16 is not supported on CPU; using FP32 instead\n",
      "  warnings.warn(\"FP16 is not supported on CPU; using FP32 instead\")\n"
     ]
    },
    {
     "name": "stdout",
     "output_type": "stream",
     "text": [
      "58. Data untuk link 'https://www.youtube.com/watch?v=Xk_Af_BTqfg' berhasil ditambahkan ke 'yt-news.csv'.\n"
     ]
    },
    {
     "name": "stderr",
     "output_type": "stream",
     "text": [
      "c:\\Users\\ACER-I5\\AppData\\Local\\Programs\\Python\\Python312\\Lib\\site-packages\\whisper\\transcribe.py:115: UserWarning: FP16 is not supported on CPU; using FP32 instead\n",
      "  warnings.warn(\"FP16 is not supported on CPU; using FP32 instead\")\n"
     ]
    },
    {
     "name": "stdout",
     "output_type": "stream",
     "text": [
      "59. Data untuk link 'https://www.youtube.com/watch?v=cyXNZhHVzyI' berhasil ditambahkan ke 'yt-news.csv'.\n",
      "413. Data untuk link 'https://www.youtube.com/watch?v=ZqSxNq8-KSc' sudah ada, tidak disimpan.\n",
      "414. Data untuk link 'https://www.youtube.com/watch?v=AWD10TzuWLw' sudah ada, tidak disimpan.\n",
      "415. Data untuk link 'https://www.youtube.com/watch?v=7vBOHBXPd9o' sudah ada, tidak disimpan.\n",
      "416. Data untuk link 'https://www.youtube.com/watch?v=0HkgzcJ-vTc' sudah ada, tidak disimpan.\n",
      "417. Data untuk link 'https://www.youtube.com/watch?v=9WERgb_6o5E' sudah ada, tidak disimpan.\n",
      "418. Data untuk link 'https://www.youtube.com/watch?v=BNxEZJTobD4' sudah ada, tidak disimpan.\n",
      "419. Data untuk link 'https://www.youtube.com/watch?v=858dgojp4J0' sudah ada, tidak disimpan.\n",
      "420. Data untuk link 'https://www.youtube.com/watch?v=fJI08tvYouc' sudah ada, tidak disimpan.\n",
      "421. Data untuk link 'https://www.youtube.com/watch?v=G_QjXNOGwlM' sudah ada, tidak disimpan.\n"
     ]
    },
    {
     "name": "stderr",
     "output_type": "stream",
     "text": [
      "c:\\Users\\ACER-I5\\AppData\\Local\\Programs\\Python\\Python312\\Lib\\site-packages\\whisper\\transcribe.py:115: UserWarning: FP16 is not supported on CPU; using FP32 instead\n",
      "  warnings.warn(\"FP16 is not supported on CPU; using FP32 instead\")\n"
     ]
    },
    {
     "name": "stdout",
     "output_type": "stream",
     "text": [
      "60. Data untuk link 'https://www.youtube.com/watch?v=xIBbcIWBo2I' berhasil ditambahkan ke 'yt-news.csv'.\n"
     ]
    },
    {
     "name": "stderr",
     "output_type": "stream",
     "text": [
      "c:\\Users\\ACER-I5\\AppData\\Local\\Programs\\Python\\Python312\\Lib\\site-packages\\whisper\\transcribe.py:115: UserWarning: FP16 is not supported on CPU; using FP32 instead\n",
      "  warnings.warn(\"FP16 is not supported on CPU; using FP32 instead\")\n"
     ]
    },
    {
     "name": "stdout",
     "output_type": "stream",
     "text": [
      "61. Data untuk link 'https://www.youtube.com/watch?v=IQUNz-EL0s4' berhasil ditambahkan ke 'yt-news.csv'.\n"
     ]
    },
    {
     "name": "stderr",
     "output_type": "stream",
     "text": [
      "c:\\Users\\ACER-I5\\AppData\\Local\\Programs\\Python\\Python312\\Lib\\site-packages\\whisper\\transcribe.py:115: UserWarning: FP16 is not supported on CPU; using FP32 instead\n",
      "  warnings.warn(\"FP16 is not supported on CPU; using FP32 instead\")\n"
     ]
    },
    {
     "name": "stdout",
     "output_type": "stream",
     "text": [
      "62. Data untuk link 'https://www.youtube.com/watch?v=yapEPFog0T8' berhasil ditambahkan ke 'yt-news.csv'.\n",
      "422. Data untuk link 'https://www.youtube.com/watch?v=eQGQgjt4IPk' sudah ada, tidak disimpan.\n",
      "423. Data untuk link 'https://www.youtube.com/watch?v=tbs6V-xfBsE' sudah ada, tidak disimpan.\n",
      "424. Data untuk link 'https://www.youtube.com/watch?v=QBvjH-a0CRY' sudah ada, tidak disimpan.\n",
      "425. Data untuk link 'https://www.youtube.com/watch?v=btv__lw2ME4' sudah ada, tidak disimpan.\n",
      "426. Data untuk link 'https://www.youtube.com/watch?v=jVvmTOthjHY' sudah ada, tidak disimpan.\n",
      "427. Data untuk link 'https://www.youtube.com/watch?v=t6SP1pCIWzQ' sudah ada, tidak disimpan.\n",
      "428. Data untuk link 'https://www.youtube.com/watch?v=E_Hjs-UvsgM' sudah ada, tidak disimpan.\n",
      "429. Data untuk link 'https://www.youtube.com/watch?v=oxOyQBR5Kj4' sudah ada, tidak disimpan.\n",
      "430. Data untuk link 'https://www.youtube.com/watch?v=-KUfP2HX6-s' sudah ada, tidak disimpan.\n",
      "431. Data untuk link 'https://www.youtube.com/watch?v=MXwsAjeP9vA' sudah ada, tidak disimpan.\n",
      "432. Data untuk link 'https://www.youtube.com/watch?v=bQt1BD_gnyI' sudah ada, tidak disimpan.\n",
      "433. Data untuk link 'https://www.youtube.com/watch?v=c1N9sX96UyA' sudah ada, tidak disimpan.\n"
     ]
    },
    {
     "name": "stderr",
     "output_type": "stream",
     "text": [
      "c:\\Users\\ACER-I5\\AppData\\Local\\Programs\\Python\\Python312\\Lib\\site-packages\\whisper\\transcribe.py:115: UserWarning: FP16 is not supported on CPU; using FP32 instead\n",
      "  warnings.warn(\"FP16 is not supported on CPU; using FP32 instead\")\n"
     ]
    },
    {
     "name": "stdout",
     "output_type": "stream",
     "text": [
      "63. Data untuk link 'https://www.youtube.com/watch?v=B0-pgI6Zirk' berhasil ditambahkan ke 'yt-news.csv'.\n"
     ]
    },
    {
     "name": "stderr",
     "output_type": "stream",
     "text": [
      "c:\\Users\\ACER-I5\\AppData\\Local\\Programs\\Python\\Python312\\Lib\\site-packages\\whisper\\transcribe.py:115: UserWarning: FP16 is not supported on CPU; using FP32 instead\n",
      "  warnings.warn(\"FP16 is not supported on CPU; using FP32 instead\")\n"
     ]
    },
    {
     "name": "stdout",
     "output_type": "stream",
     "text": [
      "64. Data untuk link 'https://www.youtube.com/watch?v=AMbNxThmru0' berhasil ditambahkan ke 'yt-news.csv'.\n"
     ]
    },
    {
     "name": "stderr",
     "output_type": "stream",
     "text": [
      "c:\\Users\\ACER-I5\\AppData\\Local\\Programs\\Python\\Python312\\Lib\\site-packages\\whisper\\transcribe.py:115: UserWarning: FP16 is not supported on CPU; using FP32 instead\n",
      "  warnings.warn(\"FP16 is not supported on CPU; using FP32 instead\")\n"
     ]
    },
    {
     "name": "stdout",
     "output_type": "stream",
     "text": [
      "65. Data untuk link 'https://www.youtube.com/watch?v=yAW3NZzKSPc' berhasil ditambahkan ke 'yt-news.csv'.\n"
     ]
    },
    {
     "name": "stderr",
     "output_type": "stream",
     "text": [
      "c:\\Users\\ACER-I5\\AppData\\Local\\Programs\\Python\\Python312\\Lib\\site-packages\\whisper\\transcribe.py:115: UserWarning: FP16 is not supported on CPU; using FP32 instead\n",
      "  warnings.warn(\"FP16 is not supported on CPU; using FP32 instead\")\n"
     ]
    },
    {
     "name": "stdout",
     "output_type": "stream",
     "text": [
      "66. Data untuk link 'https://www.youtube.com/watch?v=wD9cqEIU0SI' berhasil ditambahkan ke 'yt-news.csv'.\n"
     ]
    },
    {
     "name": "stderr",
     "output_type": "stream",
     "text": [
      "c:\\Users\\ACER-I5\\AppData\\Local\\Programs\\Python\\Python312\\Lib\\site-packages\\whisper\\transcribe.py:115: UserWarning: FP16 is not supported on CPU; using FP32 instead\n",
      "  warnings.warn(\"FP16 is not supported on CPU; using FP32 instead\")\n"
     ]
    },
    {
     "name": "stdout",
     "output_type": "stream",
     "text": [
      "67. Data untuk link 'https://www.youtube.com/watch?v=DvSdT8aHuPg' berhasil ditambahkan ke 'yt-news.csv'.\n"
     ]
    },
    {
     "name": "stderr",
     "output_type": "stream",
     "text": [
      "c:\\Users\\ACER-I5\\AppData\\Local\\Programs\\Python\\Python312\\Lib\\site-packages\\whisper\\transcribe.py:115: UserWarning: FP16 is not supported on CPU; using FP32 instead\n",
      "  warnings.warn(\"FP16 is not supported on CPU; using FP32 instead\")\n"
     ]
    },
    {
     "name": "stdout",
     "output_type": "stream",
     "text": [
      "68. Data untuk link 'https://www.youtube.com/watch?v=t2MG-Tcu1bA' berhasil ditambahkan ke 'yt-news.csv'.\n"
     ]
    },
    {
     "name": "stderr",
     "output_type": "stream",
     "text": [
      "c:\\Users\\ACER-I5\\AppData\\Local\\Programs\\Python\\Python312\\Lib\\site-packages\\whisper\\transcribe.py:115: UserWarning: FP16 is not supported on CPU; using FP32 instead\n",
      "  warnings.warn(\"FP16 is not supported on CPU; using FP32 instead\")\n"
     ]
    },
    {
     "name": "stdout",
     "output_type": "stream",
     "text": [
      "69. Data untuk link 'https://www.youtube.com/watch?v=ruydhH6oUI8' berhasil ditambahkan ke 'yt-news.csv'.\n"
     ]
    },
    {
     "name": "stderr",
     "output_type": "stream",
     "text": [
      "c:\\Users\\ACER-I5\\AppData\\Local\\Programs\\Python\\Python312\\Lib\\site-packages\\whisper\\transcribe.py:115: UserWarning: FP16 is not supported on CPU; using FP32 instead\n",
      "  warnings.warn(\"FP16 is not supported on CPU; using FP32 instead\")\n"
     ]
    },
    {
     "name": "stdout",
     "output_type": "stream",
     "text": [
      "70. Data untuk link 'https://www.youtube.com/watch?v=5IvdWUJphok' berhasil ditambahkan ke 'yt-news.csv'.\n"
     ]
    },
    {
     "name": "stderr",
     "output_type": "stream",
     "text": [
      "c:\\Users\\ACER-I5\\AppData\\Local\\Programs\\Python\\Python312\\Lib\\site-packages\\whisper\\transcribe.py:115: UserWarning: FP16 is not supported on CPU; using FP32 instead\n",
      "  warnings.warn(\"FP16 is not supported on CPU; using FP32 instead\")\n"
     ]
    },
    {
     "name": "stdout",
     "output_type": "stream",
     "text": [
      "71. Data untuk link 'https://www.youtube.com/watch?v=Y2uTVt9WmO0' berhasil ditambahkan ke 'yt-news.csv'.\n"
     ]
    },
    {
     "name": "stderr",
     "output_type": "stream",
     "text": [
      "c:\\Users\\ACER-I5\\AppData\\Local\\Programs\\Python\\Python312\\Lib\\site-packages\\whisper\\transcribe.py:115: UserWarning: FP16 is not supported on CPU; using FP32 instead\n",
      "  warnings.warn(\"FP16 is not supported on CPU; using FP32 instead\")\n"
     ]
    },
    {
     "name": "stdout",
     "output_type": "stream",
     "text": [
      "72. Data untuk link 'https://www.youtube.com/watch?v=WAw7tws44qg' berhasil ditambahkan ke 'yt-news.csv'.\n"
     ]
    },
    {
     "name": "stderr",
     "output_type": "stream",
     "text": [
      "c:\\Users\\ACER-I5\\AppData\\Local\\Programs\\Python\\Python312\\Lib\\site-packages\\whisper\\transcribe.py:115: UserWarning: FP16 is not supported on CPU; using FP32 instead\n",
      "  warnings.warn(\"FP16 is not supported on CPU; using FP32 instead\")\n"
     ]
    },
    {
     "name": "stdout",
     "output_type": "stream",
     "text": [
      "73. Data untuk link 'https://www.youtube.com/watch?v=0cKhx1Uxfjk' berhasil ditambahkan ke 'yt-news.csv'.\n"
     ]
    },
    {
     "name": "stderr",
     "output_type": "stream",
     "text": [
      "c:\\Users\\ACER-I5\\AppData\\Local\\Programs\\Python\\Python312\\Lib\\site-packages\\whisper\\transcribe.py:115: UserWarning: FP16 is not supported on CPU; using FP32 instead\n",
      "  warnings.warn(\"FP16 is not supported on CPU; using FP32 instead\")\n"
     ]
    },
    {
     "name": "stdout",
     "output_type": "stream",
     "text": [
      "74. Data untuk link 'https://www.youtube.com/watch?v=Q3nwxxKmMa4' berhasil ditambahkan ke 'yt-news.csv'.\n",
      "434. Data untuk link 'https://www.youtube.com/watch?v=YVx1r5ddL1o' sudah ada, tidak disimpan.\n",
      "435. Data untuk link 'https://www.youtube.com/watch?v=OglYQ383zDw' sudah ada, tidak disimpan.\n",
      "436. Data untuk link 'https://www.youtube.com/watch?v=PMq7Omh3bCk' sudah ada, tidak disimpan.\n",
      "437. Data untuk link 'https://www.youtube.com/watch?v=q8_ynflKe7o' sudah ada, tidak disimpan.\n",
      "438. Data untuk link 'https://www.youtube.com/watch?v=cgp4kfY__CM' sudah ada, tidak disimpan.\n",
      "439. Data untuk link 'https://www.youtube.com/watch?v=RfaNZlizpbg' sudah ada, tidak disimpan.\n",
      "440. Data untuk link 'https://www.youtube.com/watch?v=NzVd7K4wDDA' sudah ada, tidak disimpan.\n",
      "441. Data untuk link 'https://www.youtube.com/watch?v=-5pvUW2dUJs' sudah ada, tidak disimpan.\n",
      "442. Data untuk link 'https://www.youtube.com/watch?v=3ChFN--DhdI' sudah ada, tidak disimpan.\n",
      "443. Data untuk link 'https://www.youtube.com/watch?v=QxTOvbv6uFc' sudah ada, tidak disimpan.\n",
      "444. Data untuk link 'https://www.youtube.com/watch?v=Ah2X7zpZcaU' sudah ada, tidak disimpan.\n",
      "445. Data untuk link 'https://www.youtube.com/watch?v=zv5Ko3UmQ-E' sudah ada, tidak disimpan.\n"
     ]
    },
    {
     "name": "stderr",
     "output_type": "stream",
     "text": [
      "c:\\Users\\ACER-I5\\AppData\\Local\\Programs\\Python\\Python312\\Lib\\site-packages\\whisper\\transcribe.py:115: UserWarning: FP16 is not supported on CPU; using FP32 instead\n",
      "  warnings.warn(\"FP16 is not supported on CPU; using FP32 instead\")\n"
     ]
    },
    {
     "name": "stdout",
     "output_type": "stream",
     "text": [
      "75. Data untuk link 'https://www.youtube.com/watch?v=q77K7gWm03E' berhasil ditambahkan ke 'yt-news.csv'.\n"
     ]
    },
    {
     "name": "stderr",
     "output_type": "stream",
     "text": [
      "c:\\Users\\ACER-I5\\AppData\\Local\\Programs\\Python\\Python312\\Lib\\site-packages\\whisper\\transcribe.py:115: UserWarning: FP16 is not supported on CPU; using FP32 instead\n",
      "  warnings.warn(\"FP16 is not supported on CPU; using FP32 instead\")\n"
     ]
    },
    {
     "name": "stdout",
     "output_type": "stream",
     "text": [
      "76. Data untuk link 'https://www.youtube.com/watch?v=Wx2V1ZkCRe0' berhasil ditambahkan ke 'yt-news.csv'.\n"
     ]
    },
    {
     "name": "stderr",
     "output_type": "stream",
     "text": [
      "c:\\Users\\ACER-I5\\AppData\\Local\\Programs\\Python\\Python312\\Lib\\site-packages\\whisper\\transcribe.py:115: UserWarning: FP16 is not supported on CPU; using FP32 instead\n",
      "  warnings.warn(\"FP16 is not supported on CPU; using FP32 instead\")\n"
     ]
    },
    {
     "name": "stdout",
     "output_type": "stream",
     "text": [
      "77. Data untuk link 'https://www.youtube.com/watch?v=hzaW7sTDtr0' berhasil ditambahkan ke 'yt-news.csv'.\n"
     ]
    },
    {
     "name": "stderr",
     "output_type": "stream",
     "text": [
      "c:\\Users\\ACER-I5\\AppData\\Local\\Programs\\Python\\Python312\\Lib\\site-packages\\whisper\\transcribe.py:115: UserWarning: FP16 is not supported on CPU; using FP32 instead\n",
      "  warnings.warn(\"FP16 is not supported on CPU; using FP32 instead\")\n"
     ]
    },
    {
     "name": "stdout",
     "output_type": "stream",
     "text": [
      "78. Data untuk link 'https://www.youtube.com/watch?v=UdH75SWCs3I' berhasil ditambahkan ke 'yt-news.csv'.\n",
      "446. Data untuk link 'https://www.youtube.com/watch?v=R_rv5W2WCaI' sudah ada, tidak disimpan.\n",
      "447. Data untuk link 'https://www.youtube.com/watch?v=xG5RZP20-d0' sudah ada, tidak disimpan.\n",
      "448. Data untuk link 'https://www.youtube.com/watch?v=Xug2grotiT0' sudah ada, tidak disimpan.\n",
      "449. Data untuk link 'https://www.youtube.com/watch?v=ad86LUarMy4' sudah ada, tidak disimpan.\n",
      "450. Data untuk link 'https://www.youtube.com/watch?v=YuCN_MYOSSY' sudah ada, tidak disimpan.\n"
     ]
    },
    {
     "name": "stderr",
     "output_type": "stream",
     "text": [
      "c:\\Users\\ACER-I5\\AppData\\Local\\Programs\\Python\\Python312\\Lib\\site-packages\\whisper\\transcribe.py:115: UserWarning: FP16 is not supported on CPU; using FP32 instead\n",
      "  warnings.warn(\"FP16 is not supported on CPU; using FP32 instead\")\n"
     ]
    },
    {
     "name": "stdout",
     "output_type": "stream",
     "text": [
      "79. Data untuk link 'https://www.youtube.com/watch?v=HjuwUJpu7k4' berhasil ditambahkan ke 'yt-news.csv'.\n"
     ]
    },
    {
     "name": "stderr",
     "output_type": "stream",
     "text": [
      "c:\\Users\\ACER-I5\\AppData\\Local\\Programs\\Python\\Python312\\Lib\\site-packages\\whisper\\transcribe.py:115: UserWarning: FP16 is not supported on CPU; using FP32 instead\n",
      "  warnings.warn(\"FP16 is not supported on CPU; using FP32 instead\")\n"
     ]
    },
    {
     "name": "stdout",
     "output_type": "stream",
     "text": [
      "80. Data untuk link 'https://www.youtube.com/watch?v=Er0BksQ3iU4' berhasil ditambahkan ke 'yt-news.csv'.\n",
      "451. Data untuk link 'https://www.youtube.com/watch?v=8EdP3CgXAsE' sudah ada, tidak disimpan.\n"
     ]
    },
    {
     "name": "stderr",
     "output_type": "stream",
     "text": [
      "c:\\Users\\ACER-I5\\AppData\\Local\\Programs\\Python\\Python312\\Lib\\site-packages\\whisper\\transcribe.py:115: UserWarning: FP16 is not supported on CPU; using FP32 instead\n",
      "  warnings.warn(\"FP16 is not supported on CPU; using FP32 instead\")\n"
     ]
    },
    {
     "name": "stdout",
     "output_type": "stream",
     "text": [
      "81. Data untuk link 'https://www.youtube.com/watch?v=5GOkWah-hbQ' berhasil ditambahkan ke 'yt-news.csv'.\n"
     ]
    },
    {
     "name": "stderr",
     "output_type": "stream",
     "text": [
      "c:\\Users\\ACER-I5\\AppData\\Local\\Programs\\Python\\Python312\\Lib\\site-packages\\whisper\\transcribe.py:115: UserWarning: FP16 is not supported on CPU; using FP32 instead\n",
      "  warnings.warn(\"FP16 is not supported on CPU; using FP32 instead\")\n"
     ]
    },
    {
     "name": "stdout",
     "output_type": "stream",
     "text": [
      "82. Data untuk link 'https://www.youtube.com/watch?v=5YpsqSwFU8U' berhasil ditambahkan ke 'yt-news.csv'.\n"
     ]
    },
    {
     "name": "stderr",
     "output_type": "stream",
     "text": [
      "c:\\Users\\ACER-I5\\AppData\\Local\\Programs\\Python\\Python312\\Lib\\site-packages\\whisper\\transcribe.py:115: UserWarning: FP16 is not supported on CPU; using FP32 instead\n",
      "  warnings.warn(\"FP16 is not supported on CPU; using FP32 instead\")\n"
     ]
    },
    {
     "name": "stdout",
     "output_type": "stream",
     "text": [
      "83. Data untuk link 'https://www.youtube.com/watch?v=oNwr8w-_phw' berhasil ditambahkan ke 'yt-news.csv'.\n"
     ]
    },
    {
     "name": "stderr",
     "output_type": "stream",
     "text": [
      "c:\\Users\\ACER-I5\\AppData\\Local\\Programs\\Python\\Python312\\Lib\\site-packages\\whisper\\transcribe.py:115: UserWarning: FP16 is not supported on CPU; using FP32 instead\n",
      "  warnings.warn(\"FP16 is not supported on CPU; using FP32 instead\")\n"
     ]
    },
    {
     "name": "stdout",
     "output_type": "stream",
     "text": [
      "84. Data untuk link 'https://www.youtube.com/watch?v=AEREgk-6pg8' berhasil ditambahkan ke 'yt-news.csv'.\n"
     ]
    },
    {
     "name": "stderr",
     "output_type": "stream",
     "text": [
      "c:\\Users\\ACER-I5\\AppData\\Local\\Programs\\Python\\Python312\\Lib\\site-packages\\whisper\\transcribe.py:115: UserWarning: FP16 is not supported on CPU; using FP32 instead\n",
      "  warnings.warn(\"FP16 is not supported on CPU; using FP32 instead\")\n"
     ]
    },
    {
     "name": "stdout",
     "output_type": "stream",
     "text": [
      "85. Data untuk link 'https://www.youtube.com/watch?v=SS2lyEp-iJM' berhasil ditambahkan ke 'yt-news.csv'.\n"
     ]
    },
    {
     "name": "stderr",
     "output_type": "stream",
     "text": [
      "c:\\Users\\ACER-I5\\AppData\\Local\\Programs\\Python\\Python312\\Lib\\site-packages\\whisper\\transcribe.py:115: UserWarning: FP16 is not supported on CPU; using FP32 instead\n",
      "  warnings.warn(\"FP16 is not supported on CPU; using FP32 instead\")\n"
     ]
    },
    {
     "name": "stdout",
     "output_type": "stream",
     "text": [
      "86. Data untuk link 'https://www.youtube.com/watch?v=dfbF7pZ0nVU' berhasil ditambahkan ke 'yt-news.csv'.\n"
     ]
    },
    {
     "name": "stderr",
     "output_type": "stream",
     "text": [
      "c:\\Users\\ACER-I5\\AppData\\Local\\Programs\\Python\\Python312\\Lib\\site-packages\\whisper\\transcribe.py:115: UserWarning: FP16 is not supported on CPU; using FP32 instead\n",
      "  warnings.warn(\"FP16 is not supported on CPU; using FP32 instead\")\n"
     ]
    },
    {
     "name": "stdout",
     "output_type": "stream",
     "text": [
      "87. Data untuk link 'https://www.youtube.com/watch?v=q2TTAgjseQ4' berhasil ditambahkan ke 'yt-news.csv'.\n"
     ]
    },
    {
     "name": "stderr",
     "output_type": "stream",
     "text": [
      "c:\\Users\\ACER-I5\\AppData\\Local\\Programs\\Python\\Python312\\Lib\\site-packages\\whisper\\transcribe.py:115: UserWarning: FP16 is not supported on CPU; using FP32 instead\n",
      "  warnings.warn(\"FP16 is not supported on CPU; using FP32 instead\")\n"
     ]
    },
    {
     "name": "stdout",
     "output_type": "stream",
     "text": [
      "88. Data untuk link 'https://www.youtube.com/watch?v=yU677zm8Wfc' berhasil ditambahkan ke 'yt-news.csv'.\n"
     ]
    },
    {
     "name": "stderr",
     "output_type": "stream",
     "text": [
      "c:\\Users\\ACER-I5\\AppData\\Local\\Programs\\Python\\Python312\\Lib\\site-packages\\whisper\\transcribe.py:115: UserWarning: FP16 is not supported on CPU; using FP32 instead\n",
      "  warnings.warn(\"FP16 is not supported on CPU; using FP32 instead\")\n"
     ]
    },
    {
     "name": "stdout",
     "output_type": "stream",
     "text": [
      "89. Data untuk link 'https://www.youtube.com/watch?v=1W_BiB2Ktpw' berhasil ditambahkan ke 'yt-news.csv'.\n"
     ]
    },
    {
     "name": "stderr",
     "output_type": "stream",
     "text": [
      "c:\\Users\\ACER-I5\\AppData\\Local\\Programs\\Python\\Python312\\Lib\\site-packages\\whisper\\transcribe.py:115: UserWarning: FP16 is not supported on CPU; using FP32 instead\n",
      "  warnings.warn(\"FP16 is not supported on CPU; using FP32 instead\")\n"
     ]
    },
    {
     "name": "stdout",
     "output_type": "stream",
     "text": [
      "90. Data untuk link 'https://www.youtube.com/watch?v=ODtTDu9Zs-w' berhasil ditambahkan ke 'yt-news.csv'.\n"
     ]
    },
    {
     "name": "stderr",
     "output_type": "stream",
     "text": [
      "c:\\Users\\ACER-I5\\AppData\\Local\\Programs\\Python\\Python312\\Lib\\site-packages\\whisper\\transcribe.py:115: UserWarning: FP16 is not supported on CPU; using FP32 instead\n",
      "  warnings.warn(\"FP16 is not supported on CPU; using FP32 instead\")\n"
     ]
    },
    {
     "name": "stdout",
     "output_type": "stream",
     "text": [
      "91. Data untuk link 'https://www.youtube.com/watch?v=7m4anGOHADc' berhasil ditambahkan ke 'yt-news.csv'.\n"
     ]
    },
    {
     "name": "stderr",
     "output_type": "stream",
     "text": [
      "c:\\Users\\ACER-I5\\AppData\\Local\\Programs\\Python\\Python312\\Lib\\site-packages\\whisper\\transcribe.py:115: UserWarning: FP16 is not supported on CPU; using FP32 instead\n",
      "  warnings.warn(\"FP16 is not supported on CPU; using FP32 instead\")\n"
     ]
    },
    {
     "name": "stdout",
     "output_type": "stream",
     "text": [
      "92. Data untuk link 'https://www.youtube.com/watch?v=89rczwwhNGE' berhasil ditambahkan ke 'yt-news.csv'.\n"
     ]
    },
    {
     "name": "stderr",
     "output_type": "stream",
     "text": [
      "c:\\Users\\ACER-I5\\AppData\\Local\\Programs\\Python\\Python312\\Lib\\site-packages\\whisper\\transcribe.py:115: UserWarning: FP16 is not supported on CPU; using FP32 instead\n",
      "  warnings.warn(\"FP16 is not supported on CPU; using FP32 instead\")\n"
     ]
    },
    {
     "name": "stdout",
     "output_type": "stream",
     "text": [
      "93. Data untuk link 'https://www.youtube.com/watch?v=WCcuk798Mn0' berhasil ditambahkan ke 'yt-news.csv'.\n"
     ]
    },
    {
     "name": "stderr",
     "output_type": "stream",
     "text": [
      "c:\\Users\\ACER-I5\\AppData\\Local\\Programs\\Python\\Python312\\Lib\\site-packages\\whisper\\transcribe.py:115: UserWarning: FP16 is not supported on CPU; using FP32 instead\n",
      "  warnings.warn(\"FP16 is not supported on CPU; using FP32 instead\")\n"
     ]
    },
    {
     "name": "stdout",
     "output_type": "stream",
     "text": [
      "94. Data untuk link 'https://www.youtube.com/watch?v=n4NBM9oef3o' berhasil ditambahkan ke 'yt-news.csv'.\n"
     ]
    },
    {
     "name": "stderr",
     "output_type": "stream",
     "text": [
      "c:\\Users\\ACER-I5\\AppData\\Local\\Programs\\Python\\Python312\\Lib\\site-packages\\whisper\\transcribe.py:115: UserWarning: FP16 is not supported on CPU; using FP32 instead\n",
      "  warnings.warn(\"FP16 is not supported on CPU; using FP32 instead\")\n"
     ]
    },
    {
     "name": "stdout",
     "output_type": "stream",
     "text": [
      "95. Data untuk link 'https://www.youtube.com/watch?v=tq_h9vjsKfo' berhasil ditambahkan ke 'yt-news.csv'.\n"
     ]
    },
    {
     "name": "stderr",
     "output_type": "stream",
     "text": [
      "c:\\Users\\ACER-I5\\AppData\\Local\\Programs\\Python\\Python312\\Lib\\site-packages\\whisper\\transcribe.py:115: UserWarning: FP16 is not supported on CPU; using FP32 instead\n",
      "  warnings.warn(\"FP16 is not supported on CPU; using FP32 instead\")\n"
     ]
    },
    {
     "name": "stdout",
     "output_type": "stream",
     "text": [
      "96. Data untuk link 'https://www.youtube.com/watch?v=Bc26l_zeW78' berhasil ditambahkan ke 'yt-news.csv'.\n"
     ]
    },
    {
     "name": "stderr",
     "output_type": "stream",
     "text": [
      "c:\\Users\\ACER-I5\\AppData\\Local\\Programs\\Python\\Python312\\Lib\\site-packages\\whisper\\transcribe.py:115: UserWarning: FP16 is not supported on CPU; using FP32 instead\n",
      "  warnings.warn(\"FP16 is not supported on CPU; using FP32 instead\")\n"
     ]
    },
    {
     "name": "stdout",
     "output_type": "stream",
     "text": [
      "97. Data untuk link 'https://www.youtube.com/watch?v=6IImfSR-Z_o' berhasil ditambahkan ke 'yt-news.csv'.\n"
     ]
    },
    {
     "name": "stderr",
     "output_type": "stream",
     "text": [
      "c:\\Users\\ACER-I5\\AppData\\Local\\Programs\\Python\\Python312\\Lib\\site-packages\\whisper\\transcribe.py:115: UserWarning: FP16 is not supported on CPU; using FP32 instead\n",
      "  warnings.warn(\"FP16 is not supported on CPU; using FP32 instead\")\n"
     ]
    },
    {
     "name": "stdout",
     "output_type": "stream",
     "text": [
      "98. Data untuk link 'https://www.youtube.com/watch?v=qK7IKQdSf-A' berhasil ditambahkan ke 'yt-news.csv'.\n"
     ]
    },
    {
     "name": "stderr",
     "output_type": "stream",
     "text": [
      "c:\\Users\\ACER-I5\\AppData\\Local\\Programs\\Python\\Python312\\Lib\\site-packages\\whisper\\transcribe.py:115: UserWarning: FP16 is not supported on CPU; using FP32 instead\n",
      "  warnings.warn(\"FP16 is not supported on CPU; using FP32 instead\")\n"
     ]
    },
    {
     "name": "stdout",
     "output_type": "stream",
     "text": [
      "99. Data untuk link 'https://www.youtube.com/watch?v=dTi2cB6cja4' berhasil ditambahkan ke 'yt-news.csv'.\n"
     ]
    },
    {
     "name": "stderr",
     "output_type": "stream",
     "text": [
      "c:\\Users\\ACER-I5\\AppData\\Local\\Programs\\Python\\Python312\\Lib\\site-packages\\whisper\\transcribe.py:115: UserWarning: FP16 is not supported on CPU; using FP32 instead\n",
      "  warnings.warn(\"FP16 is not supported on CPU; using FP32 instead\")\n"
     ]
    },
    {
     "name": "stdout",
     "output_type": "stream",
     "text": [
      "100. Data untuk link 'https://www.youtube.com/watch?v=pzb4CqGM9ow' berhasil ditambahkan ke 'yt-news.csv'.\n"
     ]
    },
    {
     "name": "stderr",
     "output_type": "stream",
     "text": [
      "c:\\Users\\ACER-I5\\AppData\\Local\\Programs\\Python\\Python312\\Lib\\site-packages\\whisper\\transcribe.py:115: UserWarning: FP16 is not supported on CPU; using FP32 instead\n",
      "  warnings.warn(\"FP16 is not supported on CPU; using FP32 instead\")\n"
     ]
    },
    {
     "name": "stdout",
     "output_type": "stream",
     "text": [
      "101. Data untuk link 'https://www.youtube.com/watch?v=61UjnvMWa5w' berhasil ditambahkan ke 'yt-news.csv'.\n"
     ]
    },
    {
     "name": "stderr",
     "output_type": "stream",
     "text": [
      "c:\\Users\\ACER-I5\\AppData\\Local\\Programs\\Python\\Python312\\Lib\\site-packages\\whisper\\transcribe.py:115: UserWarning: FP16 is not supported on CPU; using FP32 instead\n",
      "  warnings.warn(\"FP16 is not supported on CPU; using FP32 instead\")\n"
     ]
    },
    {
     "name": "stdout",
     "output_type": "stream",
     "text": [
      "102. Data untuk link 'https://www.youtube.com/watch?v=x_GT7QrRzOM' berhasil ditambahkan ke 'yt-news.csv'.\n"
     ]
    },
    {
     "name": "stderr",
     "output_type": "stream",
     "text": [
      "c:\\Users\\ACER-I5\\AppData\\Local\\Programs\\Python\\Python312\\Lib\\site-packages\\whisper\\transcribe.py:115: UserWarning: FP16 is not supported on CPU; using FP32 instead\n",
      "  warnings.warn(\"FP16 is not supported on CPU; using FP32 instead\")\n"
     ]
    },
    {
     "name": "stdout",
     "output_type": "stream",
     "text": [
      "103. Data untuk link 'https://www.youtube.com/watch?v=qARLTwsxhzY' berhasil ditambahkan ke 'yt-news.csv'.\n"
     ]
    },
    {
     "name": "stderr",
     "output_type": "stream",
     "text": [
      "c:\\Users\\ACER-I5\\AppData\\Local\\Programs\\Python\\Python312\\Lib\\site-packages\\whisper\\transcribe.py:115: UserWarning: FP16 is not supported on CPU; using FP32 instead\n",
      "  warnings.warn(\"FP16 is not supported on CPU; using FP32 instead\")\n"
     ]
    },
    {
     "name": "stdout",
     "output_type": "stream",
     "text": [
      "104. Data untuk link 'https://www.youtube.com/watch?v=3P7axPCSD_M' berhasil ditambahkan ke 'yt-news.csv'.\n"
     ]
    },
    {
     "name": "stderr",
     "output_type": "stream",
     "text": [
      "c:\\Users\\ACER-I5\\AppData\\Local\\Programs\\Python\\Python312\\Lib\\site-packages\\whisper\\transcribe.py:115: UserWarning: FP16 is not supported on CPU; using FP32 instead\n",
      "  warnings.warn(\"FP16 is not supported on CPU; using FP32 instead\")\n"
     ]
    },
    {
     "name": "stdout",
     "output_type": "stream",
     "text": [
      "105. Data untuk link 'https://www.youtube.com/watch?v=aR0mMEDoHFI' berhasil ditambahkan ke 'yt-news.csv'.\n"
     ]
    },
    {
     "name": "stderr",
     "output_type": "stream",
     "text": [
      "c:\\Users\\ACER-I5\\AppData\\Local\\Programs\\Python\\Python312\\Lib\\site-packages\\whisper\\transcribe.py:115: UserWarning: FP16 is not supported on CPU; using FP32 instead\n",
      "  warnings.warn(\"FP16 is not supported on CPU; using FP32 instead\")\n"
     ]
    },
    {
     "name": "stdout",
     "output_type": "stream",
     "text": [
      "106. Data untuk link 'https://www.youtube.com/watch?v=A2DfYafv0XM' berhasil ditambahkan ke 'yt-news.csv'.\n"
     ]
    },
    {
     "name": "stderr",
     "output_type": "stream",
     "text": [
      "c:\\Users\\ACER-I5\\AppData\\Local\\Programs\\Python\\Python312\\Lib\\site-packages\\whisper\\transcribe.py:115: UserWarning: FP16 is not supported on CPU; using FP32 instead\n",
      "  warnings.warn(\"FP16 is not supported on CPU; using FP32 instead\")\n"
     ]
    },
    {
     "name": "stdout",
     "output_type": "stream",
     "text": [
      "107. Data untuk link 'https://www.youtube.com/watch?v=7rgktwXx7xM' berhasil ditambahkan ke 'yt-news.csv'.\n"
     ]
    },
    {
     "name": "stderr",
     "output_type": "stream",
     "text": [
      "c:\\Users\\ACER-I5\\AppData\\Local\\Programs\\Python\\Python312\\Lib\\site-packages\\whisper\\transcribe.py:115: UserWarning: FP16 is not supported on CPU; using FP32 instead\n",
      "  warnings.warn(\"FP16 is not supported on CPU; using FP32 instead\")\n"
     ]
    },
    {
     "name": "stdout",
     "output_type": "stream",
     "text": [
      "108. Data untuk link 'https://www.youtube.com/watch?v=Ffo34HNB9bM' berhasil ditambahkan ke 'yt-news.csv'.\n"
     ]
    },
    {
     "name": "stderr",
     "output_type": "stream",
     "text": [
      "c:\\Users\\ACER-I5\\AppData\\Local\\Programs\\Python\\Python312\\Lib\\site-packages\\whisper\\transcribe.py:115: UserWarning: FP16 is not supported on CPU; using FP32 instead\n",
      "  warnings.warn(\"FP16 is not supported on CPU; using FP32 instead\")\n"
     ]
    },
    {
     "name": "stdout",
     "output_type": "stream",
     "text": [
      "109. Data untuk link 'https://www.youtube.com/watch?v=v7QQVV2DmJI' berhasil ditambahkan ke 'yt-news.csv'.\n"
     ]
    },
    {
     "name": "stderr",
     "output_type": "stream",
     "text": [
      "c:\\Users\\ACER-I5\\AppData\\Local\\Programs\\Python\\Python312\\Lib\\site-packages\\whisper\\transcribe.py:115: UserWarning: FP16 is not supported on CPU; using FP32 instead\n",
      "  warnings.warn(\"FP16 is not supported on CPU; using FP32 instead\")\n"
     ]
    },
    {
     "name": "stdout",
     "output_type": "stream",
     "text": [
      "110. Data untuk link 'https://www.youtube.com/watch?v=7BsPH5MJ_3I' berhasil ditambahkan ke 'yt-news.csv'.\n"
     ]
    },
    {
     "name": "stderr",
     "output_type": "stream",
     "text": [
      "c:\\Users\\ACER-I5\\AppData\\Local\\Programs\\Python\\Python312\\Lib\\site-packages\\whisper\\transcribe.py:115: UserWarning: FP16 is not supported on CPU; using FP32 instead\n",
      "  warnings.warn(\"FP16 is not supported on CPU; using FP32 instead\")\n"
     ]
    },
    {
     "name": "stdout",
     "output_type": "stream",
     "text": [
      "111. Data untuk link 'https://www.youtube.com/watch?v=iuAgfyscxYs' berhasil ditambahkan ke 'yt-news.csv'.\n"
     ]
    },
    {
     "name": "stderr",
     "output_type": "stream",
     "text": [
      "c:\\Users\\ACER-I5\\AppData\\Local\\Programs\\Python\\Python312\\Lib\\site-packages\\whisper\\transcribe.py:115: UserWarning: FP16 is not supported on CPU; using FP32 instead\n",
      "  warnings.warn(\"FP16 is not supported on CPU; using FP32 instead\")\n"
     ]
    },
    {
     "name": "stdout",
     "output_type": "stream",
     "text": [
      "112. Data untuk link 'https://www.youtube.com/watch?v=agw7vBeV2tk' berhasil ditambahkan ke 'yt-news.csv'.\n"
     ]
    },
    {
     "name": "stderr",
     "output_type": "stream",
     "text": [
      "c:\\Users\\ACER-I5\\AppData\\Local\\Programs\\Python\\Python312\\Lib\\site-packages\\whisper\\transcribe.py:115: UserWarning: FP16 is not supported on CPU; using FP32 instead\n",
      "  warnings.warn(\"FP16 is not supported on CPU; using FP32 instead\")\n"
     ]
    },
    {
     "name": "stdout",
     "output_type": "stream",
     "text": [
      "113. Data untuk link 'https://www.youtube.com/watch?v=tQ9uDvETzaI' berhasil ditambahkan ke 'yt-news.csv'.\n"
     ]
    },
    {
     "name": "stderr",
     "output_type": "stream",
     "text": [
      "c:\\Users\\ACER-I5\\AppData\\Local\\Programs\\Python\\Python312\\Lib\\site-packages\\whisper\\transcribe.py:115: UserWarning: FP16 is not supported on CPU; using FP32 instead\n",
      "  warnings.warn(\"FP16 is not supported on CPU; using FP32 instead\")\n"
     ]
    },
    {
     "name": "stdout",
     "output_type": "stream",
     "text": [
      "114. Data untuk link 'https://www.youtube.com/watch?v=eNlf2Gza7T0' berhasil ditambahkan ke 'yt-news.csv'.\n"
     ]
    },
    {
     "name": "stderr",
     "output_type": "stream",
     "text": [
      "c:\\Users\\ACER-I5\\AppData\\Local\\Programs\\Python\\Python312\\Lib\\site-packages\\whisper\\transcribe.py:115: UserWarning: FP16 is not supported on CPU; using FP32 instead\n",
      "  warnings.warn(\"FP16 is not supported on CPU; using FP32 instead\")\n"
     ]
    },
    {
     "name": "stdout",
     "output_type": "stream",
     "text": [
      "115. Data untuk link 'https://www.youtube.com/watch?v=WkU4D8bjsGc' berhasil ditambahkan ke 'yt-news.csv'.\n"
     ]
    },
    {
     "name": "stderr",
     "output_type": "stream",
     "text": [
      "c:\\Users\\ACER-I5\\AppData\\Local\\Programs\\Python\\Python312\\Lib\\site-packages\\whisper\\transcribe.py:115: UserWarning: FP16 is not supported on CPU; using FP32 instead\n",
      "  warnings.warn(\"FP16 is not supported on CPU; using FP32 instead\")\n"
     ]
    },
    {
     "name": "stdout",
     "output_type": "stream",
     "text": [
      "116. Data untuk link 'https://www.youtube.com/watch?v=BvRhwSUb6FQ' berhasil ditambahkan ke 'yt-news.csv'.\n"
     ]
    },
    {
     "name": "stderr",
     "output_type": "stream",
     "text": [
      "c:\\Users\\ACER-I5\\AppData\\Local\\Programs\\Python\\Python312\\Lib\\site-packages\\whisper\\transcribe.py:115: UserWarning: FP16 is not supported on CPU; using FP32 instead\n",
      "  warnings.warn(\"FP16 is not supported on CPU; using FP32 instead\")\n"
     ]
    },
    {
     "name": "stdout",
     "output_type": "stream",
     "text": [
      "117. Data untuk link 'https://www.youtube.com/watch?v=PI0uWxGQZog' berhasil ditambahkan ke 'yt-news.csv'.\n"
     ]
    },
    {
     "name": "stderr",
     "output_type": "stream",
     "text": [
      "c:\\Users\\ACER-I5\\AppData\\Local\\Programs\\Python\\Python312\\Lib\\site-packages\\whisper\\transcribe.py:115: UserWarning: FP16 is not supported on CPU; using FP32 instead\n",
      "  warnings.warn(\"FP16 is not supported on CPU; using FP32 instead\")\n"
     ]
    },
    {
     "name": "stdout",
     "output_type": "stream",
     "text": [
      "118. Data untuk link 'https://www.youtube.com/watch?v=qfuvYa3dSi8' berhasil ditambahkan ke 'yt-news.csv'.\n",
      "452. Data untuk link 'https://www.youtube.com/watch?v=Er0BksQ3iU4' sudah ada, tidak disimpan.\n"
     ]
    },
    {
     "name": "stderr",
     "output_type": "stream",
     "text": [
      "c:\\Users\\ACER-I5\\AppData\\Local\\Programs\\Python\\Python312\\Lib\\site-packages\\whisper\\transcribe.py:115: UserWarning: FP16 is not supported on CPU; using FP32 instead\n",
      "  warnings.warn(\"FP16 is not supported on CPU; using FP32 instead\")\n"
     ]
    },
    {
     "name": "stdout",
     "output_type": "stream",
     "text": [
      "119. Data untuk link 'https://www.youtube.com/watch?v=c7zMakk7HCw' berhasil ditambahkan ke 'yt-news.csv'.\n"
     ]
    },
    {
     "name": "stderr",
     "output_type": "stream",
     "text": [
      "c:\\Users\\ACER-I5\\AppData\\Local\\Programs\\Python\\Python312\\Lib\\site-packages\\whisper\\transcribe.py:115: UserWarning: FP16 is not supported on CPU; using FP32 instead\n",
      "  warnings.warn(\"FP16 is not supported on CPU; using FP32 instead\")\n"
     ]
    },
    {
     "name": "stdout",
     "output_type": "stream",
     "text": [
      "120. Data untuk link 'https://www.youtube.com/watch?v=W0uyF65xoxs' berhasil ditambahkan ke 'yt-news.csv'.\n"
     ]
    },
    {
     "name": "stderr",
     "output_type": "stream",
     "text": [
      "c:\\Users\\ACER-I5\\AppData\\Local\\Programs\\Python\\Python312\\Lib\\site-packages\\whisper\\transcribe.py:115: UserWarning: FP16 is not supported on CPU; using FP32 instead\n",
      "  warnings.warn(\"FP16 is not supported on CPU; using FP32 instead\")\n"
     ]
    },
    {
     "name": "stdout",
     "output_type": "stream",
     "text": [
      "121. Data untuk link 'https://www.youtube.com/watch?v=zpNfbT1UJ8I' berhasil ditambahkan ke 'yt-news.csv'.\n"
     ]
    },
    {
     "name": "stderr",
     "output_type": "stream",
     "text": [
      "c:\\Users\\ACER-I5\\AppData\\Local\\Programs\\Python\\Python312\\Lib\\site-packages\\whisper\\transcribe.py:115: UserWarning: FP16 is not supported on CPU; using FP32 instead\n",
      "  warnings.warn(\"FP16 is not supported on CPU; using FP32 instead\")\n"
     ]
    },
    {
     "name": "stdout",
     "output_type": "stream",
     "text": [
      "122. Data untuk link 'https://www.youtube.com/watch?v=nSEuV4dYaJU' berhasil ditambahkan ke 'yt-news.csv'.\n"
     ]
    },
    {
     "name": "stderr",
     "output_type": "stream",
     "text": [
      "c:\\Users\\ACER-I5\\AppData\\Local\\Programs\\Python\\Python312\\Lib\\site-packages\\whisper\\transcribe.py:115: UserWarning: FP16 is not supported on CPU; using FP32 instead\n",
      "  warnings.warn(\"FP16 is not supported on CPU; using FP32 instead\")\n"
     ]
    },
    {
     "name": "stdout",
     "output_type": "stream",
     "text": [
      "123. Data untuk link 'https://www.youtube.com/watch?v=6i4Jzy0Oaqk' berhasil ditambahkan ke 'yt-news.csv'.\n"
     ]
    },
    {
     "name": "stderr",
     "output_type": "stream",
     "text": [
      "c:\\Users\\ACER-I5\\AppData\\Local\\Programs\\Python\\Python312\\Lib\\site-packages\\whisper\\transcribe.py:115: UserWarning: FP16 is not supported on CPU; using FP32 instead\n",
      "  warnings.warn(\"FP16 is not supported on CPU; using FP32 instead\")\n"
     ]
    },
    {
     "name": "stdout",
     "output_type": "stream",
     "text": [
      "124. Data untuk link 'https://www.youtube.com/watch?v=jn8LHiuFJzo' berhasil ditambahkan ke 'yt-news.csv'.\n"
     ]
    },
    {
     "name": "stderr",
     "output_type": "stream",
     "text": [
      "c:\\Users\\ACER-I5\\AppData\\Local\\Programs\\Python\\Python312\\Lib\\site-packages\\whisper\\transcribe.py:115: UserWarning: FP16 is not supported on CPU; using FP32 instead\n",
      "  warnings.warn(\"FP16 is not supported on CPU; using FP32 instead\")\n"
     ]
    },
    {
     "name": "stdout",
     "output_type": "stream",
     "text": [
      "125. Data untuk link 'https://www.youtube.com/watch?v=plUQCjf_CPo' berhasil ditambahkan ke 'yt-news.csv'.\n"
     ]
    },
    {
     "name": "stderr",
     "output_type": "stream",
     "text": [
      "c:\\Users\\ACER-I5\\AppData\\Local\\Programs\\Python\\Python312\\Lib\\site-packages\\whisper\\transcribe.py:115: UserWarning: FP16 is not supported on CPU; using FP32 instead\n",
      "  warnings.warn(\"FP16 is not supported on CPU; using FP32 instead\")\n"
     ]
    },
    {
     "name": "stdout",
     "output_type": "stream",
     "text": [
      "126. Data untuk link 'https://www.youtube.com/watch?v=LqKKBxMbjr8' berhasil ditambahkan ke 'yt-news.csv'.\n"
     ]
    },
    {
     "name": "stderr",
     "output_type": "stream",
     "text": [
      "c:\\Users\\ACER-I5\\AppData\\Local\\Programs\\Python\\Python312\\Lib\\site-packages\\whisper\\transcribe.py:115: UserWarning: FP16 is not supported on CPU; using FP32 instead\n",
      "  warnings.warn(\"FP16 is not supported on CPU; using FP32 instead\")\n"
     ]
    },
    {
     "name": "stdout",
     "output_type": "stream",
     "text": [
      "127. Data untuk link 'https://www.youtube.com/watch?v=Voi0J8HCe2k' berhasil ditambahkan ke 'yt-news.csv'.\n"
     ]
    },
    {
     "name": "stderr",
     "output_type": "stream",
     "text": [
      "c:\\Users\\ACER-I5\\AppData\\Local\\Programs\\Python\\Python312\\Lib\\site-packages\\whisper\\transcribe.py:115: UserWarning: FP16 is not supported on CPU; using FP32 instead\n",
      "  warnings.warn(\"FP16 is not supported on CPU; using FP32 instead\")\n"
     ]
    },
    {
     "name": "stdout",
     "output_type": "stream",
     "text": [
      "128. Data untuk link 'https://www.youtube.com/watch?v=yd65hXrmBPQ' berhasil ditambahkan ke 'yt-news.csv'.\n",
      "453. Data untuk link 'https://www.youtube.com/watch?v=9vv6y9cI2_w' sudah ada, tidak disimpan.\n",
      "454. Data untuk link 'https://www.youtube.com/watch?v=V7UIbZ_L0YY' sudah ada, tidak disimpan.\n",
      "455. Data untuk link 'https://www.youtube.com/watch?v=WTP5r491LyU' sudah ada, tidak disimpan.\n",
      "456. Data untuk link 'https://www.youtube.com/watch?v=XSCUMFnrPDc' sudah ada, tidak disimpan.\n",
      "457. Data untuk link 'https://www.youtube.com/watch?v=pgXAqfOW0l0' sudah ada, tidak disimpan.\n",
      "458. Data untuk link 'https://www.youtube.com/watch?v=FQsd2wqsv0A' sudah ada, tidak disimpan.\n",
      "459. Data untuk link 'https://www.youtube.com/watch?v=JL745kOxD1Q' sudah ada, tidak disimpan.\n",
      "Sebanyak 459 data tidak ditambahkan ke 'yt-news.csv'.\n",
      "Sebanyak 128 data berhasil ditambahkan ke 'yt-news.csv'.\n",
      "Data berhasil ditambahkan ke 'yt-news.csv'.\n"
     ]
    }
   ],
   "source": [
    "topik = \"dunia\"\n",
    "url = [\n",
    "    \"https://www.youtube.com/watch?v=W0ALqofTBEM\",\n",
    "    \"https://www.youtube.com/watch?v=KqsVAQdSE3s\",\n",
    "    \"https://www.youtube.com/watch?v=pKpJjKEzbWg\",\n",
    "    \"https://www.youtube.com/watch?v=UUGuIyRP4Ks\",\n",
    "    \"https://www.youtube.com/watch?v=VVb1PdVc68U\",\n",
    "    \"https://www.youtube.com/watch?v=XMo3c6URN8k\",\n",
    "    \"https://www.youtube.com/watch?v=P6uZ1PgUGX0\",\n",
    "    \"https://www.youtube.com/watch?v=r9giHXhA5OI\",\n",
    "    \"https://www.youtube.com/watch?v=azhi2aOvjLA\",\n",
    "    \"https://www.youtube.com/watch?v=-dbZdvs2GuI\",\n",
    "    \"https://www.youtube.com/watch?v=Se4v4n52odI\",\n",
    "    \"https://www.youtube.com/watch?v=FU7s_SyHcRw\",\n",
    "    \"https://www.youtube.com/watch?v=dazmgzDD-pc\",\n",
    "    \"https://www.youtube.com/watch?v=DsUvBogJm6Y\",\n",
    "    \"https://www.youtube.com/watch?v=YedXEd8eRDM\",\n",
    "    \"https://www.youtube.com/watch?v=11lmPw-nwnI\",\n",
    "    \"https://www.youtube.com/watch?v=BMsqsyBnwec\",\n",
    "    \"https://www.youtube.com/watch?v=EVobrXvM4x0\",\n",
    "    \"https://www.youtube.com/watch?v=4Z5P9z5zvKo\",\n",
    "    \"https://www.youtube.com/watch?v=IXki9AkGtKk\",\n",
    "    \"https://www.youtube.com/watch?v=8TiXekWyUc4\",\n",
    "    \"https://www.youtube.com/watch?v=gk-givCQM44\",\n",
    "    #\"https://www.youtube.com/watch?v=rhO6kHU_GJk\",\n",
    "    \"https://www.youtube.com/watch?v=WGsMIKfRy2w\",\n",
    "    \"https://www.youtube.com/watch?v=Tf5SAeRaz34\",\n",
    "    \"https://www.youtube.com/watch?v=qz1sZGgaKI4\",\n",
    "    \"https://www.youtube.com/watch?v=kPJVz4pR5JQ\",\n",
    "    \"https://www.youtube.com/watch?v=CLEw0WXb_mE\",\n",
    "    \"https://www.youtube.com/watch?v=7LF-fedyutM\",\n",
    "    \"https://www.youtube.com/watch?v=sDAkPrOiBnc\",\n",
    "    \"https://www.youtube.com/watch?v=DPCNoDLB1po\",\n",
    "    \"https://www.youtube.com/watch?v=A0ce2NGgtBQ\",\n",
    "    \"https://www.youtube.com/watch?v=Zth4NO6xX_Y\",\n",
    "    \"https://www.youtube.com/watch?v=QyxgqND6-DY\",\n",
    "    \"https://www.youtube.com/watch?v=GXkV9AS1wOg\",\n",
    "    \"https://www.youtube.com/watch?v=5wEXihpBm24\",\n",
    "    \"https://www.youtube.com/watch?v=Xxf9VudnKfY\",\n",
    "    \"https://www.youtube.com/watch?v=LxEFmIzTa7o\",\n",
    "    \"https://www.youtube.com/watch?v=UmjoufoGbnM\",\n",
    "    \"https://www.youtube.com/watch?v=u-3kE8__iaU\",\n",
    "    \"https://www.youtube.com/watch?v=vwRdiQ44z4A\",\n",
    "    \"https://www.youtube.com/watch?v=z02S6g6EldU\",\n",
    "    \"https://www.youtube.com/watch?v=Y5WkWbVkKTw\",\n",
    "    \"https://www.youtube.com/watch?v=6dPyYImzSx0\",\n",
    "    \"https://www.youtube.com/watch?v=ONGjHzguXnw\",\n",
    "    \"https://www.youtube.com/watch?v=tdT3nqUzODw\",\n",
    "    \"https://www.youtube.com/watch?v=_JmXDw_uZYc\",\n",
    "    \"https://www.youtube.com/watch?v=8n6yGO87MmI\",\n",
    "    \"https://www.youtube.com/watch?v=xP66HnbZ9bo\",\n",
    "    \"https://www.youtube.com/watch?v=0pBGW6v3h20\",\n",
    "    \"https://www.youtube.com/watch?v=sD5sB6Nh5oA\",\n",
    "    \"https://www.youtube.com/watch?v=aqu602VSJkk\",\n",
    "    \"https://www.youtube.com/watch?v=vpq0kAe0osw\",\n",
    "    \"https://www.youtube.com/watch?v=uSnwQQ8OvZE\",\n",
    "    \"https://www.youtube.com/watch?v=Jo0GgOmEN4g\",\n",
    "    \"https://www.youtube.com/watch?v=JH8bTyf3t0U\",\n",
    "    \"https://www.youtube.com/watch?v=YdZyY4jV3Jc\",\n",
    "    \"https://www.youtube.com/watch?v=c1rlu4yOmco\",\n",
    "    \"https://www.youtube.com/watch?v=U7FG7AfEw_s\",\n",
    "    \"https://www.youtube.com/watch?v=YEITI82MwYo\",\n",
    "    \"https://www.youtube.com/watch?v=gLq4HYl6Z5Q\",\n",
    "    \"https://www.youtube.com/watch?v=6D2NONQnCcc\",\n",
    "    \"https://www.youtube.com/watch?v=N6r_5a5vYl4\",\n",
    "    \"https://www.youtube.com/watch?v=5j4ya49mnwc\",\n",
    "    \"https://www.youtube.com/watch?v=ewVRjdCrht8\",\n",
    "    \"https://www.youtube.com/watch?v=Kd9hJ3ji0lo\",\n",
    "    \"https://www.youtube.com/watch?v=rxUpFmydqOo\",\n",
    "    \"https://www.youtube.com/watch?v=BxzIZ6oP8Tg\",\n",
    "    \"https://www.youtube.com/watch?v=ZfJL7bVrNJE\",\n",
    "    \"https://www.youtube.com/watch?v=yDtUUDVcYrU\",\n",
    "    \"https://www.youtube.com/watch?v=mmWl0WiiPW4\",\n",
    "    \"https://www.youtube.com/watch?v=XRApwkCclxw\",\n",
    "    \"https://www.youtube.com/watch?v=n9G0pBD3ZCA\",\n",
    "    \"https://www.youtube.com/watch?v=eg0Prw--BCc\",\n",
    "    \"https://www.youtube.com/watch?v=Onex77G52Gc\",\n",
    "    \"https://www.youtube.com/watch?v=1nWCoK2WhuY\",\n",
    "    \"https://www.youtube.com/watch?v=bABAFS-HQVc\",\n",
    "    \"https://www.youtube.com/watch?v=U_f7XSo035I\",\n",
    "    \"https://www.youtube.com/watch?v=hxCaO7dr9-o\",\n",
    "    \"https://www.youtube.com/watch?v=bcpyxop8vVk\",\n",
    "    \"https://www.youtube.com/watch?v=JnHtb4wPCeU\",\n",
    "    \"https://www.youtube.com/watch?v=KChCA9ZBKBE\",\n",
    "    \"https://www.youtube.com/watch?v=uHe05GG6wCs\",\n",
    "    \"https://www.youtube.com/watch?v=6hJIefbSv7M\",\n",
    "    \"https://www.youtube.com/watch?v=DBU_QmoKvAQ\",\n",
    "    \"https://www.youtube.com/watch?v=QIbidAB6d6I\",\n",
    "    \"https://www.youtube.com/watch?v=sVaXoa7juyk\",\n",
    "    \"https://www.youtube.com/watch?v=hJrwZ59XQD0\",\n",
    "    \"https://www.youtube.com/watch?v=dkMZZ2ZxKEw\",\n",
    "    \"https://www.youtube.com/watch?v=KmLx4P9ihd8\",\n",
    "    \"https://www.youtube.com/watch?v=y25mWIUb7XI\",\n",
    "    \"https://www.youtube.com/watch?v=bQt1BD_gnyI\",\n",
    "    \"https://www.youtube.com/watch?v=c1N9sX96UyA\",\n",
    "    \"https://www.youtube.com/watch?v=EoHTgo0X-h0\",\n",
    "    \"https://www.youtube.com/watch?v=e2I3VO0aI5c\",\n",
    "    \"https://www.youtube.com/watch?v=oIZVgTZ7R0c\",\n",
    "    \"https://www.youtube.com/watch?v=h2mhlEuCmzk\",\n",
    "    \"https://www.youtube.com/watch?v=Pz_6OYnymWg\",\n",
    "    \"https://www.youtube.com/watch?v=_qtRnNIALLc\",\n",
    "    \"https://www.youtube.com/watch?v=x2-cRmeL2rM\",\n",
    "    \"https://www.youtube.com/watch?v=5MFtsIKBFX0\",\n",
    "    \"https://www.youtube.com/watch?v=k4qm822ZQUM\",\n",
    "    \"https://www.youtube.com/watch?v=sPQRekbdLi0\",\n",
    "    \"https://www.youtube.com/watch?v=8gdFqpxoPw4\",\n",
    "    \"https://www.youtube.com/watch?v=pIql1dJpzT4\",\n",
    "    \"https://www.youtube.com/watch?v=Shiu6Eo3Q9g\",\n",
    "    \"https://www.youtube.com/watch?v=2UbjgO-1cPU\",\n",
    "    \"https://www.youtube.com/watch?v=83hhi6G2_Qk\",\n",
    "    \"https://www.youtube.com/watch?v=reyO516z0eg\",\n",
    "    \"https://www.youtube.com/watch?v=K2DD4K04HNU\",\n",
    "    \"https://www.youtube.com/watch?v=b8HB8rFCoS8\",\n",
    "    \"https://www.youtube.com/watch?v=mquts8WYubE\",\n",
    "    \"https://www.youtube.com/watch?v=9vv6y9cI2_w\",\n",
    "    \"https://www.youtube.com/watch?v=V7UIbZ_L0YY\",\n",
    "    \"https://www.youtube.com/watch?v=WTP5r491LyU\",\n",
    "    \"https://www.youtube.com/watch?v=XSCUMFnrPDc\",\n",
    "    \"https://www.youtube.com/watch?v=pgXAqfOW0l0\",\n",
    "    \"https://www.youtube.com/watch?v=FQsd2wqsv0A\",\n",
    "    \"https://www.youtube.com/watch?v=JL745kOxD1Q\",\n",
    "    \"https://www.youtube.com/watch?v=5vvY5bS0ag0\",\n",
    "    \"https://www.youtube.com/watch?v=ck51Vv8sang\",\n",
    "    \"https://www.youtube.com/watch?v=xS5_crfbJRc\",\n",
    "    \"https://www.youtube.com/watch?v=JEroDnjf8wc\",\n",
    "    \"https://www.youtube.com/watch?v=eL7KustASHY\",\n",
    "    \"https://www.youtube.com/watch?v=9vQYhhKW1ik\",\n",
    "    \"https://www.youtube.com/watch?v=kDeORYc2DK0\",\n",
    "    \"https://www.youtube.com/watch?v=CkQipvUoKFU\",\n",
    "    \"https://www.youtube.com/watch?v=hxs_ODsSq24\",\n",
    "    \"https://www.youtube.com/watch?v=Ue37SuXY9y4\",\n",
    "    \"https://www.youtube.com/watch?v=JM1yeJqsMLs\",\n",
    "    \"https://www.youtube.com/watch?v=fzC9X_bqJWI\",\n",
    "    \"https://www.youtube.com/watch?v=_ulXRitoBXQ\",\n",
    "    #\"https://www.youtube.com/watch?v=f9mJHNJGjDA\",\n",
    "    \"https://www.youtube.com/watch?v=aP1pUknBRSM\",\n",
    "    \"https://www.youtube.com/watch?v=kTU6tMLJZTU\",\n",
    "    \"https://www.youtube.com/watch?v=xjD7uG5FemM\",\n",
    "    \"https://www.youtube.com/watch?v=Da6jOelI8tU\",\n",
    "    \"https://www.youtube.com/watch?v=0bAuGwkXaAw\",\n",
    "    \"https://www.youtube.com/watch?v=b3Bm4xr2RHg\",\n",
    "    \"https://www.youtube.com/watch?v=z4_ERBsMKNA\",\n",
    "    \"https://www.youtube.com/watch?v=BNxEZJTobD4\",\n",
    "    \"https://www.youtube.com/watch?v=6mdbGZkvQss\",\n",
    "    #\"https://www.youtube.com/watch?v=XYsyiTuMUuI\",\n",
    "    \"https://www.youtube.com/watch?v=858dgojp4J0\",\n",
    "    \"https://www.youtube.com/watch?v=fJI08tvYouc\",\n",
    "    \"https://www.youtube.com/watch?v=G_QjXNOGwlM\",\n",
    "    \"https://www.youtube.com/watch?v=kZTpZZfFEY8\",\n",
    "    \"https://www.youtube.com/watch?v=I0mZ1YGpVKg\",\n",
    "    \"https://www.youtube.com/watch?v=DHVHRNHGUdM\",\n",
    "    \"https://www.youtube.com/watch?v=mNUaBx77ODM\",\n",
    "    \"https://www.youtube.com/watch?v=NSW3D2XXiKE\",\n",
    "    \"https://www.youtube.com/watch?v=vpq0kAe0osw\",\n",
    "    \"https://www.youtube.com/watch?v=U41PaEeKNeQ\",\n",
    "    \"https://www.youtube.com/watch?v=btv__lw2ME4\",\n",
    "    \"https://www.youtube.com/watch?v=jVvmTOthjHY\",\n",
    "    \"https://www.youtube.com/watch?v=t6SP1pCIWzQ\",\n",
    "    \"https://www.youtube.com/watch?v=E_Hjs-UvsgM\",\n",
    "    \"https://www.youtube.com/watch?v=oxOyQBR5Kj4\",\n",
    "    \"https://www.youtube.com/watch?v=-KUfP2HX6-s\",\n",
    "    \"https://www.youtube.com/watch?v=MXwsAjeP9vA\",\n",
    "    \"https://www.youtube.com/watch?v=5pL7HlCQ6PE\",\n",
    "    \"https://www.youtube.com/watch?v=bQt1BD_gnyI\",\n",
    "    \"https://www.youtube.com/watch?v=c1N9sX96UyA\",\n",
    "    \"https://www.youtube.com/watch?v=iW-1Nd99InQ\",\n",
    "    \"https://www.youtube.com/watch?v=8bjJPzBgOkQ\",\n",
    "    \"https://www.youtube.com/watch?v=ZmESFdFwfA4\",\n",
    "    \"https://www.youtube.com/watch?v=VnImbftNKgs\",\n",
    "    \"https://www.youtube.com/watch?v=uKbl-6s8A1Y\",\n",
    "    \"https://www.youtube.com/watch?v=dazmgzDD-pc\",\n",
    "    \"https://www.youtube.com/watch?v=11lmPw-nwnI\",\n",
    "    \"https://www.youtube.com/watch?v=BMsqsyBnwec\",\n",
    "    \"https://www.youtube.com/watch?v=EVobrXvM4x0\",\n",
    "    \"https://www.youtube.com/watch?v=4Z5P9z5zvKo\",\n",
    "    \"https://www.youtube.com/watch?v=DsUvBogJm6Y\",\n",
    "    \"https://www.youtube.com/watch?v=YedXEd8eRDM\",\n",
    "    \"https://www.youtube.com/watch?v=IXki9AkGtKk\",\n",
    "    \"https://www.youtube.com/watch?v=tUkfCahKdjk\",\n",
    "    \"https://www.youtube.com/watch?v=6w29PRcvNAE\",\n",
    "    \"https://www.youtube.com/watch?v=FnLfGV79Grk\",\n",
    "    \"https://www.youtube.com/watch?v=ZFSNBLHV0Os\",\n",
    "    \"https://www.youtube.com/watch?v=Dqt383IfePI\",\n",
    "    \"https://www.youtube.com/watch?v=9nqyMGv_xz8\",\n",
    "    \"https://www.youtube.com/watch?v=Uc-WYYP1gdw\",\n",
    "    \"https://www.youtube.com/watch?v=q7EEhOedrHA\",\n",
    "    \"https://www.youtube.com/watch?v=KLLzDLt8UYQ\",\n",
    "    \"https://www.youtube.com/watch?v=KNOOg3yRadQ\",\n",
    "    \"https://www.youtube.com/watch?v=dvCivykzs1E\",\n",
    "    \"https://www.youtube.com/watch?v=W0ALqofTBEM\",\n",
    "    \"https://www.youtube.com/watch?v=yXl5C1gRTWM\",\n",
    "    \"https://www.youtube.com/watch?v=y2htPf7eUo0\",\n",
    "    \"https://www.youtube.com/watch?v=VGl72jbYKuY\",\n",
    "    \"https://www.youtube.com/watch?v=YuCN_MYOSSY\",\n",
    "    \"https://www.youtube.com/watch?v=DDQEddViGNM\",\n",
    "    \"https://www.youtube.com/watch?v=JQh5m2nfk9E\",\n",
    "    \"https://www.youtube.com/watch?v=etCpLlVp4Xc\",\n",
    "    \"https://www.youtube.com/watch?v=Tf5SAeRaz34\",\n",
    "    \"https://www.youtube.com/watch?v=qz1sZGgaKI4\",\n",
    "    \"https://www.youtube.com/watch?v=kPJVz4pR5JQ\",\n",
    "    \"https://www.youtube.com/watch?v=CLEw0WXb_mE\",\n",
    "    \"https://www.youtube.com/watch?v=DPCNoDLB1po\",\n",
    "    \"https://www.youtube.com/watch?v=o85vyxMRA_Y\",\n",
    "    \"https://www.youtube.com/watch?v=iQQVCagFyxk\",\n",
    "    \"https://www.youtube.com/watch?v=puwiNwu9JhA\",\n",
    "    \"https://www.youtube.com/watch?v=tv0FNlJhQKs\",\n",
    "    \"https://www.youtube.com/watch?v=FgzZnvY3hM8\",\n",
    "    \"https://www.youtube.com/watch?v=Mk6QWN9MW1Y\",\n",
    "    \"https://www.youtube.com/watch?v=Kd9hJ3ji0lo\",\n",
    "    \"https://www.youtube.com/watch?v=ZfJL7bVrNJE\",\n",
    "    \"https://www.youtube.com/watch?v=yDtUUDVcYrU\",\n",
    "    \"https://www.youtube.com/watch?v=H4k1DB1HRMA\",\n",
    "    \"https://www.youtube.com/watch?v=GRSzkm4E2oU\",\n",
    "    \"https://www.youtube.com/watch?v=IgHdYq3nL0I\",\n",
    "    \"https://www.youtube.com/watch?v=XqVXiDLOZFU\",\n",
    "    \"https://www.youtube.com/watch?v=CXr9GAOcFpU\",\n",
    "    \"https://www.youtube.com/watch?v=qWPPTmD7vYo\",\n",
    "    \"https://www.youtube.com/watch?v=VNRHjYZEQOw\",\n",
    "    \"https://www.youtube.com/watch?v=giX5L3Ccx8A\",\n",
    "    \"https://www.youtube.com/watch?v=ck51Vv8sang\",\n",
    "    \"https://www.youtube.com/watch?v=5vvY5bS0ag0\",\n",
    "    \"https://www.youtube.com/watch?v=xS5_crfbJRc\",\n",
    "    \"https://www.youtube.com/watch?v=JEroDnjf8wc\",\n",
    "    \"https://www.youtube.com/watch?v=eL7KustASHY\",\n",
    "    \"https://www.youtube.com/watch?v=9vQYhhKW1ik\",\n",
    "    \"https://www.youtube.com/watch?v=4V8yOPWqQgs\",\n",
    "    \"https://www.youtube.com/watch?v=pRUBrYNxOUk\",\n",
    "    \"https://www.youtube.com/watch?v=LlpdQ3Ra-jM\",\n",
    "    \"https://www.youtube.com/watch?v=I4OAkImF3hY\",\n",
    "    \"https://www.youtube.com/watch?v=Lhf_Q-fvYUA\",\n",
    "    \"https://www.youtube.com/watch?v=F5HCGdx_scw\",\n",
    "    #\"https://www.youtube.com/watch?v=-8G96jVzmD8\",\n",
    "    \"https://www.youtube.com/watch?v=uamF9jdIOp4\",\n",
    "    \"https://www.youtube.com/watch?v=wtc1fPY_jEM\",\n",
    "    \"https://www.youtube.com/watch?v=jn0YA9SQBiM\",\n",
    "    \"https://www.youtube.com/watch?v=zrC2ZsTUsxc\",\n",
    "    \"https://www.youtube.com/watch?v=1qurjeRXuoo\",\n",
    "    \"https://www.youtube.com/watch?v=EuVxJ-_IH_Y\",\n",
    "    \"https://www.youtube.com/watch?v=crckynwdtW0\",\n",
    "    \"https://www.youtube.com/watch?v=ad86LUarMy4\",\n",
    "    \"https://www.youtube.com/watch?v=3NMTsMoqYO0\",\n",
    "    \"https://www.youtube.com/watch?v=_s6cZesA5l4\",\n",
    "    \"https://www.youtube.com/watch?v=epxhFyfZ7LM\",\n",
    "    \"https://www.youtube.com/watch?v=c7eYnl9tqew\",\n",
    "    \"https://www.youtube.com/watch?v=509HC4c-p7o\",\n",
    "    \"https://www.youtube.com/watch?v=bcpyxop8vVk\",\n",
    "    \"https://www.youtube.com/watch?v=6hJIefbSv7M\",\n",
    "    \"https://www.youtube.com/watch?v=DBU_QmoKvAQ\",\n",
    "    \"https://www.youtube.com/watch?v=QIbidAB6d6I\",\n",
    "    \"https://www.youtube.com/watch?v=w5OP3jERkys\",\n",
    "    \"https://www.youtube.com/watch?v=vBrQojB3m90\",\n",
    "    \"https://www.youtube.com/watch?v=EWJDsgBnonk\",\n",
    "    \"https://www.youtube.com/watch?v=_IIUEmlrp7I\",\n",
    "    \"https://www.youtube.com/watch?v=JPs1dcNDzJc\",\n",
    "    \"https://www.youtube.com/watch?v=GW2vaPuIn4k\",\n",
    "    \"https://www.youtube.com/watch?v=odlVh734t6o\",\n",
    "    \"https://www.youtube.com/watch?v=0rHL4ReDhM8\",\n",
    "    \"https://www.youtube.com/watch?v=gLq4HYl6Z5Q\",\n",
    "    \"https://www.youtube.com/watch?v=6D2NONQnCcc\",\n",
    "    \"https://www.youtube.com/watch?v=N6r_5a5vYl4\",\n",
    "    \"https://www.youtube.com/watch?v=5j4ya49mnwc\",\n",
    "    \"https://www.youtube.com/watch?v=Eh8GcfYYeUA\",\n",
    "    \"https://www.youtube.com/watch?v=xjD7uG5FemM\",\n",
    "    \"https://www.youtube.com/watch?v=Da6jOelI8tU\",\n",
    "    \"https://www.youtube.com/watch?v=0bAuGwkXaAw\",\n",
    "    \"https://www.youtube.com/watch?v=b3Bm4xr2RHg\",\n",
    "    \"https://www.youtube.com/watch?v=z4_ERBsMKNA\",\n",
    "    \"https://www.youtube.com/watch?v=YHWf1Q-OZZY\",\n",
    "    \"https://www.youtube.com/watch?v=pYQkwS39TBA\",\n",
    "    \"https://www.youtube.com/watch?v=Xxf9VudnKfY\",\n",
    "    \"https://www.youtube.com/watch?v=LxEFmIzTa7o\",\n",
    "    \"https://www.youtube.com/watch?v=UmjoufoGbnM\",\n",
    "    \"https://www.youtube.com/watch?v=u-3kE8__iaU\",\n",
    "    \"https://www.youtube.com/watch?v=vwRdiQ44z4A\",\n",
    "    \"https://www.youtube.com/watch?v=z02S6g6EldU\",\n",
    "    \"https://www.youtube.com/watch?v=Y5WkWbVkKTw\",\n",
    "    \"https://www.youtube.com/watch?v=6dPyYImzSx0\",\n",
    "    \"https://www.youtube.com/watch?v=ONGjHzguXnw\",\n",
    "    \"https://www.youtube.com/watch?v=tdT3nqUzODw\",\n",
    "    \"https://www.youtube.com/watch?v=hkZBhAKtmfQ\",\n",
    "    \"https://www.youtube.com/watch?v=oCejZzpzeHs\",\n",
    "    \"https://www.youtube.com/watch?v=KMhYc0x7Y18\",\n",
    "    \"https://www.youtube.com/watch?v=-rAQpT_KjKM\",\n",
    "    \"https://www.youtube.com/watch?v=4rKn9p6pGRA\",\n",
    "    \"https://www.youtube.com/watch?v=s-_LaD424uI\",\n",
    "    \"https://www.youtube.com/watch?v=Yg4J95Fs8mw\",\n",
    "    \"https://www.youtube.com/watch?v=H9Vm1fzIGT4\",\n",
    "    \"https://www.youtube.com/watch?v=tsB2RO9PARc\",\n",
    "    \"https://www.youtube.com/watch?v=SyF-x3e7GXM\",\n",
    "    \"https://www.youtube.com/watch?v=590gLSDV_1g\",\n",
    "    \"https://www.youtube.com/watch?v=_6dOuywiVhs\",\n",
    "    \"https://www.youtube.com/watch?v=xZqHwk5I5-g\",\n",
    "    \"https://www.youtube.com/watch?v=QMrdzFCJvyc\",\n",
    "    \"https://www.youtube.com/watch?v=-YlLFf0GqTA\",\n",
    "    \"https://www.youtube.com/watch?v=8EdP3CgXAsE\",\n",
    "    \"https://www.youtube.com/watch?v=LHtvWClNpuY\",\n",
    "    \"https://www.youtube.com/watch?v=MQZXYS-B8-Q\",\n",
    "    \"https://www.youtube.com/watch?v=y6k7ArLehzo\",\n",
    "    \"https://www.youtube.com/watch?v=SGHUDgym124\",\n",
    "    \"https://www.youtube.com/watch?v=ZqSxNq8-KSc\",\n",
    "    \"https://www.youtube.com/watch?v=AWD10TzuWLw\",\n",
    "    \"https://www.youtube.com/watch?v=7vBOHBXPd9o\",\n",
    "    \"https://www.youtube.com/watch?v=5beBMoSS8k8\",\n",
    "    \"https://www.youtube.com/watch?v=0HkgzcJ-vTc\",\n",
    "    \"https://www.youtube.com/watch?v=9WERgb_6o5E\",\n",
    "    \"https://www.youtube.com/watch?v=BNxEZJTobD4\",\n",
    "    \"https://www.youtube.com/watch?v=858dgojp4J0\",\n",
    "    \"https://www.youtube.com/watch?v=fJI08tvYouc\",\n",
    "    \"https://www.youtube.com/watch?v=G_QjXNOGwlM\",\n",
    "    \"https://www.youtube.com/watch?v=kZTpZZfFEY8\",\n",
    "    \"https://www.youtube.com/watch?v=UCKzpLpILXY\",\n",
    "    \"https://www.youtube.com/watch?v=XxUmKbMqGeo\",\n",
    "    \"https://www.youtube.com/watch?v=k1GkSv-JM0A\",\n",
    "    \"https://www.youtube.com/watch?v=URXh1HByfEU\",\n",
    "    \"https://www.youtube.com/watch?v=8bjJPzBgOkQ\",\n",
    "    \"https://www.youtube.com/watch?v=ZmESFdFwfA4\",\n",
    "    \"https://www.youtube.com/watch?v=VnImbftNKgs\",\n",
    "    \"https://www.youtube.com/watch?v=dazmgzDD-pc\",\n",
    "    \"https://www.youtube.com/watch?v=11lmPw-nwnI\",\n",
    "    \"https://www.youtube.com/watch?v=BMsqsyBnwec\",\n",
    "    \"https://www.youtube.com/watch?v=EVobrXvM4x0\",\n",
    "    \"https://www.youtube.com/watch?v=KGGwowlG6AY\",\n",
    "    \"https://www.youtube.com/watch?v=WCITtbqwTmE\",\n",
    "    \"https://www.youtube.com/watch?v=xG5RZP20-d0\",\n",
    "    \"https://www.youtube.com/watch?v=R_rv5W2WCaI\",\n",
    "    \"https://www.youtube.com/watch?v=Xug2grotiT0\",\n",
    "    \"https://www.youtube.com/watch?v=8EdP3CgXAsE\",\n",
    "    \"https://www.youtube.com/watch?v=ad86LUarMy4\",\n",
    "    \"https://www.youtube.com/watch?v=YuCN_MYOSSY\",\n",
    "    \"https://www.youtube.com/watch?v=DDQEddViGNM\",\n",
    "    \"https://www.youtube.com/watch?v=JQh5m2nfk9E\",\n",
    "    \"https://www.youtube.com/watch?v=etCpLlVp4Xc\",\n",
    "    \"https://www.youtube.com/watch?v=Tf5SAeRaz34\",\n",
    "    \"https://www.youtube.com/watch?v=qz1sZGgaKI4\",\n",
    "    \"https://www.youtube.com/watch?v=qyjuxYWiB8E\",\n",
    "    \"https://www.youtube.com/watch?v=gb3LTRdxhhc\",\n",
    "    \"https://www.youtube.com/watch?v=TP0nzgPi9Wk\",\n",
    "    \"https://www.youtube.com/watch?v=Sz_Dqdy_UYw\",\n",
    "    \"https://www.youtube.com/watch?v=O7mQM9-wlOs\",\n",
    "    \"https://www.youtube.com/watch?v=k_APpv84Q2s\",\n",
    "    \"https://www.youtube.com/watch?v=_9SKzHBnPEY\",\n",
    "    \"https://www.youtube.com/watch?v=0p05lDmFUwA\",\n",
    "    \"https://www.youtube.com/watch?v=tUkfCahKdjk\",\n",
    "    \"https://www.youtube.com/watch?v=6w29PRcvNAE\",\n",
    "    \"https://www.youtube.com/watch?v=FnLfGV79Grk\",\n",
    "    \"https://www.youtube.com/watch?v=ZFSNBLHV0Os\",\n",
    "    \"https://www.youtube.com/watch?v=YVx1r5ddL1o\",\n",
    "    \"https://www.youtube.com/watch?v=OglYQ383zDw\",\n",
    "    \"https://www.youtube.com/watch?v=PMq7Omh3bCk\",\n",
    "    \"https://www.youtube.com/watch?v=q8_ynflKe7o\",\n",
    "    \"https://www.youtube.com/watch?v=cgp4kfY__CM\",\n",
    "    \"https://www.youtube.com/watch?v=RfaNZlizpbg\",\n",
    "    \"https://www.youtube.com/watch?v=NzVd7K4wDDA\",\n",
    "    \"https://www.youtube.com/watch?v=-5pvUW2dUJs\",\n",
    "    \"https://www.youtube.com/watch?v=3ChFN--DhdI\",\n",
    "    \"https://www.youtube.com/watch?v=QxTOvbv6uFc\",\n",
    "    \"https://www.youtube.com/watch?v=Ah2X7zpZcaU\",\n",
    "    \"https://www.youtube.com/watch?v=zv5Ko3UmQ-E\",\n",
    "    \"https://www.youtube.com/watch?v=ZtCFaU2iok4\",\n",
    "    \"https://www.youtube.com/watch?v=d-Y7UCWvLqw\",\n",
    "    \"https://www.youtube.com/watch?v=MvxMpyfhJfE\",\n",
    "    \"https://www.youtube.com/watch?v=2yq3mSPIG6Q\",\n",
    "    \"https://www.youtube.com/watch?v=hkZBhAKtmfQ\",\n",
    "    \"https://www.youtube.com/watch?v=KMhYc0x7Y18\",\n",
    "    \"https://www.youtube.com/watch?v=-rAQpT_KjKM\",\n",
    "    \"https://www.youtube.com/watch?v=oCejZzpzeHs\",\n",
    "    \"https://www.youtube.com/watch?v=4rKn9p6pGRA\",\n",
    "    \"https://www.youtube.com/watch?v=s-_LaD424uI\",\n",
    "    \"https://www.youtube.com/watch?v=Yg4J95Fs8mw\",\n",
    "    \"https://www.youtube.com/watch?v=eQGQgjt4IPk\",\n",
    "    \"https://www.youtube.com/watch?v=tbs6V-xfBsE\",\n",
    "    \"https://www.youtube.com/watch?v=QBvjH-a0CRY\",\n",
    "    \"https://www.youtube.com/watch?v=btv__lw2ME4\",\n",
    "    \"https://www.youtube.com/watch?v=jVvmTOthjHY\",\n",
    "    \"https://www.youtube.com/watch?v=t6SP1pCIWzQ\",\n",
    "    \"https://www.youtube.com/watch?v=E_Hjs-UvsgM\",\n",
    "    \"https://www.youtube.com/watch?v=oxOyQBR5Kj4\",\n",
    "    \"https://www.youtube.com/watch?v=-KUfP2HX6-s\",\n",
    "    \"https://www.youtube.com/watch?v=MXwsAjeP9vA\",\n",
    "    \"https://www.youtube.com/watch?v=bQt1BD_gnyI\",\n",
    "    \"https://www.youtube.com/watch?v=c1N9sX96UyA\",\n",
    "    #\"https://www.youtube.com/watch?v=aEPligiQ2Qk\",\n",
    "    \"https://www.youtube.com/watch?v=w5OP3jERkys\",\n",
    "    \"https://www.youtube.com/watch?v=vBrQojB3m90\",\n",
    "    \"https://www.youtube.com/watch?v=EWJDsgBnonk\",\n",
    "    \"https://www.youtube.com/watch?v=_IIUEmlrp7I\",\n",
    "    \"https://www.youtube.com/watch?v=qaJ4hH3nGn4\",\n",
    "    \"https://www.youtube.com/watch?v=GW2vaPuIn4k\",\n",
    "    \"https://www.youtube.com/watch?v=1giYsUMlnfU\",\n",
    "    \"https://www.youtube.com/watch?v=XqVXiDLOZFU\",\n",
    "    \"https://www.youtube.com/watch?v=CXr9GAOcFpU\",\n",
    "    \"https://www.youtube.com/watch?v=qWPPTmD7vYo\",\n",
    "    \"https://www.youtube.com/watch?v=VNRHjYZEQOw\",\n",
    "    \"https://www.youtube.com/watch?v=giX5L3Ccx8A\",\n",
    "    \"https://www.youtube.com/watch?v=ck51Vv8sang\",\n",
    "    \"https://www.youtube.com/watch?v=5vvY5bS0ag0\",\n",
    "    \"https://www.youtube.com/watch?v=xS5_crfbJRc\",\n",
    "    \"https://www.youtube.com/watch?v=JEroDnjf8wc\",\n",
    "    \"https://www.youtube.com/watch?v=eL7KustASHY\",\n",
    "    \"https://www.youtube.com/watch?v=9vQYhhKW1ik\",\n",
    "    \"https://www.youtube.com/watch?v=7o0TXq77xNs\",\n",
    "    \"https://www.youtube.com/watch?v=XhZbjidanqg\",\n",
    "    \"https://www.youtube.com/watch?v=NfYNIpKI0R0\",\n",
    "    \"https://www.youtube.com/watch?v=Pb9CdlADH3c\",\n",
    "    \"https://www.youtube.com/watch?v=Zl8KFjWAgIU\",\n",
    "    \"https://www.youtube.com/watch?v=M5CMl5fBMJ0\",\n",
    "    \"https://www.youtube.com/watch?v=7Is8-lnT1H8\",\n",
    "    \"https://www.youtube.com/watch?v=OKJpLhqF3EE\",\n",
    "    \"https://www.youtube.com/watch?v=bJiPLHSGnxM\",\n",
    "    \"https://www.youtube.com/watch?v=aTtbpunpdbA\",\n",
    "    \"https://www.youtube.com/watch?v=nplOxWZG9lk\",\n",
    "    \"https://www.youtube.com/watch?v=kcH4g-2R4-E\",\n",
    "    \"https://www.youtube.com/watch?v=jPoXcveS36k\",\n",
    "    \"https://www.youtube.com/watch?v=nZNHCBaPdj0\",\n",
    "    \"https://www.youtube.com/watch?v=yPaPi7SjE88\",\n",
    "    \"https://www.youtube.com/watch?v=03TL7bV4e_w\",\n",
    "    \"https://www.youtube.com/watch?v=dMCWaKCoKD8\",\n",
    "    \"https://www.youtube.com/watch?v=j7xLw4t4miM\",\n",
    "    \"https://www.youtube.com/watch?v=Qpkd4cvlNfI\",\n",
    "    \"https://www.youtube.com/watch?v=a-qEvZjp24w\",\n",
    "    \"https://www.youtube.com/watch?v=LZFxu1VkeOU\",\n",
    "    \"https://www.youtube.com/watch?v=L-tuXMg1Dw4\",\n",
    "    \"https://www.youtube.com/watch?v=CCAYHKP8ptk\",\n",
    "    \"https://www.youtube.com/watch?v=au1xdP_2LUQ\",\n",
    "    \"https://www.youtube.com/watch?v=Eh8GcfYYeUA\",\n",
    "    \"https://www.youtube.com/watch?v=xjD7uG5FemM\",\n",
    "    \"https://www.youtube.com/watch?v=Da6jOelI8tU\",\n",
    "    \"https://www.youtube.com/watch?v=0bAuGwkXaAw\",\n",
    "    \"https://www.youtube.com/watch?v=b3Bm4xr2RHg\",\n",
    "    \"https://www.youtube.com/watch?v=z4_ERBsMKNA\",\n",
    "    \"https://www.youtube.com/watch?v=3_ZXX5PiiSg\",\n",
    "    \"https://www.youtube.com/watch?v=x_RUapQ31c0\",\n",
    "    \"https://www.youtube.com/watch?v=XNQ6OAV9CTc\",\n",
    "    \"https://www.youtube.com/watch?v=3uUd9WII_M4\",\n",
    "    \"https://www.youtube.com/watch?v=Lh85TVY5Hg4\",\n",
    "    \"https://www.youtube.com/watch?v=1G9AChnchF4\",\n",
    "    \"https://www.youtube.com/watch?v=ZN2rcz0JQ8s\",\n",
    "    \"https://www.youtube.com/watch?v=ZkNT706-Pq4\",\n",
    "    \"https://www.youtube.com/watch?v=sw5DX-hLZT4\",\n",
    "    \"https://www.youtube.com/watch?v=v73ftU27DB0\",\n",
    "    \"https://www.youtube.com/watch?v=Q-MHEnnKGKE\",\n",
    "    \"https://www.youtube.com/watch?v=cuwST3BjsvY\",\n",
    "    \"https://www.youtube.com/watch?v=VP0l7xyR8hQ\",\n",
    "    \"https://www.youtube.com/watch?v=tYFuuAz7DDE\",\n",
    "    \"https://www.youtube.com/watch?v=eeGxna1LZ-k\",\n",
    "    \"https://www.youtube.com/watch?v=j5pO-q_3m5o\",\n",
    "    \"https://www.youtube.com/watch?v=7EacI8lWD_w\",\n",
    "    \"https://www.youtube.com/watch?v=BFRbA1Awzm0\",\n",
    "    \"https://www.youtube.com/watch?v=ZdUbJApl1wA\",\n",
    "    \"https://www.youtube.com/watch?v=2YufxInrsqA\",\n",
    "    \"https://www.youtube.com/watch?v=Lwa1OJd0jg4\",\n",
    "    \"https://www.youtube.com/watch?v=XX2Lvirp48Y\",\n",
    "    \"https://www.youtube.com/watch?v=gb3LTRdxhhc\",\n",
    "    \"https://www.youtube.com/watch?v=O7mQM9-wlOs\",\n",
    "    \"https://www.youtube.com/watch?v=k_APpv84Q2s\",\n",
    "    \"https://www.youtube.com/watch?v=0p05lDmFUwA\",\n",
    "    \"https://www.youtube.com/watch?v=qxkfLYDsMio\",\n",
    "    \"https://www.youtube.com/watch?v=XxUmKbMqGeo\",\n",
    "    \"https://www.youtube.com/watch?v=k1GkSv-JM0A\",\n",
    "    \"https://www.youtube.com/watch?v=URXh1HByfEU\",\n",
    "    \"https://www.youtube.com/watch?v=8bjJPzBgOkQ\",\n",
    "    \"https://www.youtube.com/watch?v=ZmESFdFwfA4\",\n",
    "    \"https://www.youtube.com/watch?v=VnImbftNKgs\",\n",
    "    \"https://www.youtube.com/watch?v=dazmgzDD-pc\",\n",
    "    \"https://www.youtube.com/watch?v=11lmPw-nwnI\",\n",
    "    \"https://www.youtube.com/watch?v=BMsqsyBnwec\",\n",
    "    \"https://www.youtube.com/watch?v=EVobrXvM4x0\",\n",
    "    \"https://www.youtube.com/watch?v=UCKzpLpILXY\",\n",
    "    \"https://www.youtube.com/watch?v=g18vEyYLKYE\",\n",
    "    \"https://www.youtube.com/watch?v=O4Sfkhrn0IE\",\n",
    "    \"https://www.youtube.com/watch?v=ti93UgA_rtE\",\n",
    "    \"https://www.youtube.com/watch?v=xbulR4O05_I\",\n",
    "    \"https://www.youtube.com/watch?v=M-qq9bDdpiE\",\n",
    "    \"https://www.youtube.com/watch?v=vE6geAmgmjU\",\n",
    "    \"https://www.youtube.com/watch?v=lmiMeiwif4Q\",\n",
    "    \"https://www.youtube.com/watch?v=WmrxVZuqSSM\",\n",
    "    \"https://www.youtube.com/watch?v=Xk_Af_BTqfg\",\n",
    "    \"https://www.youtube.com/watch?v=cyXNZhHVzyI\",\n",
    "    \"https://www.youtube.com/watch?v=ZqSxNq8-KSc\",\n",
    "    \"https://www.youtube.com/watch?v=AWD10TzuWLw\",\n",
    "    \"https://www.youtube.com/watch?v=7vBOHBXPd9o\",\n",
    "    \"https://www.youtube.com/watch?v=0HkgzcJ-vTc\",\n",
    "    \"https://www.youtube.com/watch?v=9WERgb_6o5E\",\n",
    "    \"https://www.youtube.com/watch?v=BNxEZJTobD4\",\n",
    "    \"https://www.youtube.com/watch?v=858dgojp4J0\",\n",
    "    \"https://www.youtube.com/watch?v=fJI08tvYouc\",\n",
    "    \"https://www.youtube.com/watch?v=G_QjXNOGwlM\",\n",
    "    \"https://www.youtube.com/watch?v=xIBbcIWBo2I\",\n",
    "    \"https://www.youtube.com/watch?v=IQUNz-EL0s4\",\n",
    "    \"https://www.youtube.com/watch?v=yapEPFog0T8\",\n",
    "    \"https://www.youtube.com/watch?v=eQGQgjt4IPk\",\n",
    "    \"https://www.youtube.com/watch?v=tbs6V-xfBsE\",\n",
    "    \"https://www.youtube.com/watch?v=QBvjH-a0CRY\",\n",
    "    \"https://www.youtube.com/watch?v=btv__lw2ME4\",\n",
    "    \"https://www.youtube.com/watch?v=jVvmTOthjHY\",\n",
    "    \"https://www.youtube.com/watch?v=t6SP1pCIWzQ\",\n",
    "    \"https://www.youtube.com/watch?v=E_Hjs-UvsgM\",\n",
    "    \"https://www.youtube.com/watch?v=oxOyQBR5Kj4\",\n",
    "    \"https://www.youtube.com/watch?v=-KUfP2HX6-s\",\n",
    "    \"https://www.youtube.com/watch?v=MXwsAjeP9vA\",\n",
    "    \"https://www.youtube.com/watch?v=bQt1BD_gnyI\",\n",
    "    \"https://www.youtube.com/watch?v=c1N9sX96UyA\",\n",
    "    \"https://www.youtube.com/watch?v=B0-pgI6Zirk\",\n",
    "    \"https://www.youtube.com/watch?v=AMbNxThmru0\",\n",
    "    \"https://www.youtube.com/watch?v=yAW3NZzKSPc\",\n",
    "    \"https://www.youtube.com/watch?v=wD9cqEIU0SI\",\n",
    "    \"https://www.youtube.com/watch?v=DvSdT8aHuPg\",\n",
    "    \"https://www.youtube.com/watch?v=t2MG-Tcu1bA\",\n",
    "    \"https://www.youtube.com/watch?v=ruydhH6oUI8\",\n",
    "    \"https://www.youtube.com/watch?v=5IvdWUJphok\",\n",
    "    \"https://www.youtube.com/watch?v=Y2uTVt9WmO0\",\n",
    "    \"https://www.youtube.com/watch?v=WAw7tws44qg\",\n",
    "    \"https://www.youtube.com/watch?v=0cKhx1Uxfjk\",\n",
    "    \"https://www.youtube.com/watch?v=Q3nwxxKmMa4\",\n",
    "    \"https://www.youtube.com/watch?v=YVx1r5ddL1o\",\n",
    "    \"https://www.youtube.com/watch?v=OglYQ383zDw\",\n",
    "    \"https://www.youtube.com/watch?v=PMq7Omh3bCk\",\n",
    "    \"https://www.youtube.com/watch?v=q8_ynflKe7o\",\n",
    "    \"https://www.youtube.com/watch?v=cgp4kfY__CM\",\n",
    "    \"https://www.youtube.com/watch?v=RfaNZlizpbg\",\n",
    "    \"https://www.youtube.com/watch?v=NzVd7K4wDDA\",\n",
    "    \"https://www.youtube.com/watch?v=-5pvUW2dUJs\",\n",
    "    \"https://www.youtube.com/watch?v=3ChFN--DhdI\",\n",
    "    \"https://www.youtube.com/watch?v=QxTOvbv6uFc\",\n",
    "    \"https://www.youtube.com/watch?v=Ah2X7zpZcaU\",\n",
    "    \"https://www.youtube.com/watch?v=zv5Ko3UmQ-E\",\n",
    "    \"https://www.youtube.com/watch?v=q77K7gWm03E\",\n",
    "    \"https://www.youtube.com/watch?v=Wx2V1ZkCRe0\",\n",
    "    \"https://www.youtube.com/watch?v=hzaW7sTDtr0\",\n",
    "    \"https://www.youtube.com/watch?v=UdH75SWCs3I\",\n",
    "    \"https://www.youtube.com/watch?v=R_rv5W2WCaI\",\n",
    "    \"https://www.youtube.com/watch?v=xG5RZP20-d0\",\n",
    "    \"https://www.youtube.com/watch?v=Xug2grotiT0\",\n",
    "    \"https://www.youtube.com/watch?v=ad86LUarMy4\",\n",
    "    \"https://www.youtube.com/watch?v=YuCN_MYOSSY\",\n",
    "    \"https://www.youtube.com/watch?v=HjuwUJpu7k4\",\n",
    "    \"https://www.youtube.com/watch?v=Er0BksQ3iU4\",\n",
    "    \"https://www.youtube.com/watch?v=8EdP3CgXAsE\",\n",
    "    \"https://www.youtube.com/watch?v=5GOkWah-hbQ\",\n",
    "    \"https://www.youtube.com/watch?v=5YpsqSwFU8U\",\n",
    "    \"https://www.youtube.com/watch?v=oNwr8w-_phw\",\n",
    "    \"https://www.youtube.com/watch?v=AEREgk-6pg8\",\n",
    "    \"https://www.youtube.com/watch?v=SS2lyEp-iJM\",\n",
    "    \"https://www.youtube.com/watch?v=dfbF7pZ0nVU\",\n",
    "    \"https://www.youtube.com/watch?v=q2TTAgjseQ4\",\n",
    "    \"https://www.youtube.com/watch?v=yU677zm8Wfc\",\n",
    "    \"https://www.youtube.com/watch?v=1W_BiB2Ktpw\",\n",
    "    \"https://www.youtube.com/watch?v=ODtTDu9Zs-w\",\n",
    "    \"https://www.youtube.com/watch?v=7m4anGOHADc\",\n",
    "    \"https://www.youtube.com/watch?v=89rczwwhNGE\",\n",
    "    \"https://www.youtube.com/watch?v=WCcuk798Mn0\",\n",
    "    \"https://www.youtube.com/watch?v=n4NBM9oef3o\",\n",
    "    \"https://www.youtube.com/watch?v=tq_h9vjsKfo\",\n",
    "    \"https://www.youtube.com/watch?v=Bc26l_zeW78\",\n",
    "    \"https://www.youtube.com/watch?v=6IImfSR-Z_o\",\n",
    "    \"https://www.youtube.com/watch?v=qK7IKQdSf-A\",\n",
    "    \"https://www.youtube.com/watch?v=dTi2cB6cja4\",\n",
    "    \"https://www.youtube.com/watch?v=pzb4CqGM9ow\",\n",
    "    \"https://www.youtube.com/watch?v=61UjnvMWa5w\",\n",
    "    \"https://www.youtube.com/watch?v=x_GT7QrRzOM\",\n",
    "    \"https://www.youtube.com/watch?v=qARLTwsxhzY\",\n",
    "    \"https://www.youtube.com/watch?v=3P7axPCSD_M\",\n",
    "    \"https://www.youtube.com/watch?v=aR0mMEDoHFI\",\n",
    "    \"https://www.youtube.com/watch?v=A2DfYafv0XM\",\n",
    "    \"https://www.youtube.com/watch?v=7rgktwXx7xM\",\n",
    "    \"https://www.youtube.com/watch?v=Ffo34HNB9bM\",\n",
    "    \"https://www.youtube.com/watch?v=v7QQVV2DmJI\",\n",
    "    \"https://www.youtube.com/watch?v=7BsPH5MJ_3I\",\n",
    "    \"https://www.youtube.com/watch?v=iuAgfyscxYs\",\n",
    "    \"https://www.youtube.com/watch?v=agw7vBeV2tk\",\n",
    "    \"https://www.youtube.com/watch?v=tQ9uDvETzaI\",\n",
    "    \"https://www.youtube.com/watch?v=eNlf2Gza7T0\",\n",
    "    \"https://www.youtube.com/watch?v=WkU4D8bjsGc\",\n",
    "    \"https://www.youtube.com/watch?v=BvRhwSUb6FQ\",\n",
    "    \"https://www.youtube.com/watch?v=PI0uWxGQZog\",\n",
    "    \"https://www.youtube.com/watch?v=qfuvYa3dSi8\",\n",
    "    \"https://www.youtube.com/watch?v=Er0BksQ3iU4\",\n",
    "    \"https://www.youtube.com/watch?v=c7zMakk7HCw\",\n",
    "    \"https://www.youtube.com/watch?v=W0uyF65xoxs\",\n",
    "    \"https://www.youtube.com/watch?v=zpNfbT1UJ8I\",\n",
    "    \"https://www.youtube.com/watch?v=nSEuV4dYaJU\",\n",
    "    \"https://www.youtube.com/watch?v=6i4Jzy0Oaqk\",\n",
    "    \"https://www.youtube.com/watch?v=jn8LHiuFJzo\",\n",
    "    \"https://www.youtube.com/watch?v=plUQCjf_CPo\",\n",
    "    \"https://www.youtube.com/watch?v=LqKKBxMbjr8\",\n",
    "    \"https://www.youtube.com/watch?v=Voi0J8HCe2k\",\n",
    "    \"https://www.youtube.com/watch?v=yd65hXrmBPQ\",\n",
    "    \"https://www.youtube.com/watch?v=9vv6y9cI2_w\",\n",
    "    \"https://www.youtube.com/watch?v=V7UIbZ_L0YY\",\n",
    "    \"https://www.youtube.com/watch?v=WTP5r491LyU\",\n",
    "    \"https://www.youtube.com/watch?v=XSCUMFnrPDc\",\n",
    "    \"https://www.youtube.com/watch?v=pgXAqfOW0l0\",\n",
    "    \"https://www.youtube.com/watch?v=FQsd2wqsv0A\",\n",
    "    \"https://www.youtube.com/watch?v=JL745kOxD1Q\",\n",
    "]\n",
    "\n",
    "create_and_write_csv(filename, topik, url)"
   ]
  },
  {
   "cell_type": "code",
   "execution_count": 30,
   "metadata": {},
   "outputs": [
    {
     "name": "stdout",
     "output_type": "stream",
     "text": [
      "1. Data untuk link 'https://www.youtube.com/watch?v=SsYAAUA0WCw' sudah ada, tidak disimpan.\n",
      "2. Data untuk link 'https://www.youtube.com/watch?v=AGmsrREm4Hk' sudah ada, tidak disimpan.\n",
      "3. Data untuk link 'https://www.youtube.com/watch?v=cUPMlTyPfls' sudah ada, tidak disimpan.\n",
      "4. Data untuk link 'https://www.youtube.com/watch?v=c7-ewUbqBOA' sudah ada, tidak disimpan.\n",
      "5. Data untuk link 'https://www.youtube.com/watch?v=Woj3wuM3Jk0' sudah ada, tidak disimpan.\n",
      "6. Data untuk link 'https://www.youtube.com/watch?v=H-XHGYsdZ_g' sudah ada, tidak disimpan.\n",
      "7. Data untuk link 'https://www.youtube.com/watch?v=gpTJft8syj8' sudah ada, tidak disimpan.\n",
      "8. Data untuk link 'https://www.youtube.com/watch?v=D0mRY78KlA8' sudah ada, tidak disimpan.\n",
      "9. Data untuk link 'https://www.youtube.com/watch?v=NKasN3wUli4' sudah ada, tidak disimpan.\n",
      "10. Data untuk link 'https://www.youtube.com/watch?v=dNayS_PxPFk' sudah ada, tidak disimpan.\n",
      "11. Data untuk link 'https://www.youtube.com/watch?v=mlGPUHoTj0k' sudah ada, tidak disimpan.\n",
      "12. Data untuk link 'https://www.youtube.com/watch?v=ETnaGZ7bHeM' sudah ada, tidak disimpan.\n",
      "13. Data untuk link 'https://www.youtube.com/watch?v=Bs-AF8-MmAk' sudah ada, tidak disimpan.\n",
      "14. Data untuk link 'https://www.youtube.com/watch?v=GcUsIxbYtJk' sudah ada, tidak disimpan.\n",
      "15. Data untuk link 'https://www.youtube.com/watch?v=1LC4B5td6nU' sudah ada, tidak disimpan.\n",
      "16. Data untuk link 'https://www.youtube.com/watch?v=kq8xe0xXj_8' sudah ada, tidak disimpan.\n",
      "17. Data untuk link 'https://www.youtube.com/watch?v=uvU_A1E1SKg' sudah ada, tidak disimpan.\n",
      "18. Data untuk link 'https://www.youtube.com/watch?v=RpAqMV-_nhQ' sudah ada, tidak disimpan.\n",
      "19. Data untuk link 'https://www.youtube.com/watch?v=7hUWjsvgvKM' sudah ada, tidak disimpan.\n",
      "20. Data untuk link 'https://www.youtube.com/watch?v=VLK6UkvU9T8' sudah ada, tidak disimpan.\n",
      "21. Data untuk link 'https://www.youtube.com/watch?v=w7lx7TLZeUM' sudah ada, tidak disimpan.\n",
      "22. Data untuk link 'https://www.youtube.com/watch?v=pxZ51NN-MxM' sudah ada, tidak disimpan.\n",
      "23. Data untuk link 'https://www.youtube.com/watch?v=QEEElvNO9Ac' sudah ada, tidak disimpan.\n",
      "24. Data untuk link 'https://www.youtube.com/watch?v=by3lXo8vOfM' sudah ada, tidak disimpan.\n",
      "25. Data untuk link 'https://www.youtube.com/watch?v=DSoDYqZS7aQ' sudah ada, tidak disimpan.\n",
      "26. Data untuk link 'https://www.youtube.com/watch?v=-L5oFxIJ-zE' sudah ada, tidak disimpan.\n",
      "27. Data untuk link 'https://www.youtube.com/watch?v=bmXOUCHnCG8' sudah ada, tidak disimpan.\n",
      "28. Data untuk link 'https://www.youtube.com/watch?v=ZBqYhWLM-mA' sudah ada, tidak disimpan.\n",
      "29. Data untuk link 'https://www.youtube.com/watch?v=TDzD1ywUOCs' sudah ada, tidak disimpan.\n",
      "30. Data untuk link 'https://www.youtube.com/watch?v=aHg8z6FBAuI' sudah ada, tidak disimpan.\n",
      "31. Data untuk link 'https://www.youtube.com/watch?v=Un5klGla3HQ' sudah ada, tidak disimpan.\n",
      "32. Data untuk link 'https://www.youtube.com/watch?v=voShbF-5HJg' sudah ada, tidak disimpan.\n",
      "33. Data untuk link 'https://www.youtube.com/watch?v=ABWfSCxR78k' sudah ada, tidak disimpan.\n",
      "34. Data untuk link 'https://www.youtube.com/watch?v=9L9-cRF2ax4' sudah ada, tidak disimpan.\n",
      "35. Data untuk link 'https://www.youtube.com/watch?v=QlcDroMgCuY' sudah ada, tidak disimpan.\n",
      "36. Data untuk link 'https://www.youtube.com/watch?v=EEVGjZyzblA' sudah ada, tidak disimpan.\n",
      "37. Data untuk link 'https://www.youtube.com/watch?v=VSUIe74bNhY' sudah ada, tidak disimpan.\n",
      "38. Data untuk link 'https://www.youtube.com/watch?v=IvV1N7moSrI' sudah ada, tidak disimpan.\n",
      "39. Data untuk link 'https://www.youtube.com/watch?v=ErpNVPZ0y3c' sudah ada, tidak disimpan.\n",
      "40. Data untuk link 'https://www.youtube.com/watch?v=7IWsb2SA70E' sudah ada, tidak disimpan.\n",
      "41. Data untuk link 'https://www.youtube.com/watch?v=ZCVqPCMReNI' sudah ada, tidak disimpan.\n",
      "42. Data untuk link 'https://www.youtube.com/watch?v=dJAaaG2CXRY' sudah ada, tidak disimpan.\n",
      "43. Data untuk link 'https://www.youtube.com/watch?v=zlXlidBASoU' sudah ada, tidak disimpan.\n",
      "44. Data untuk link 'https://www.youtube.com/watch?v=0jlTHSWZypg' sudah ada, tidak disimpan.\n",
      "45. Data untuk link 'https://www.youtube.com/watch?v=570T3grzkoE' sudah ada, tidak disimpan.\n",
      "46. Data untuk link 'https://www.youtube.com/watch?v=Wx4MzpzUDso' sudah ada, tidak disimpan.\n",
      "47. Data untuk link 'https://www.youtube.com/watch?v=ZJnKN7lzsRA' sudah ada, tidak disimpan.\n",
      "48. Data untuk link 'https://www.youtube.com/watch?v=GN1AxQqbRXk' sudah ada, tidak disimpan.\n",
      "49. Data untuk link 'https://www.youtube.com/watch?v=9VJe94rKDbo' sudah ada, tidak disimpan.\n",
      "50. Data untuk link 'https://www.youtube.com/watch?v=WEBzMGlGG9E' sudah ada, tidak disimpan.\n",
      "51. Data untuk link 'https://www.youtube.com/watch?v=N12xPWAC2gA' sudah ada, tidak disimpan.\n",
      "52. Data untuk link 'https://www.youtube.com/watch?v=KV9CtBXP6CI' sudah ada, tidak disimpan.\n",
      "53. Data untuk link 'https://www.youtube.com/watch?v=rPjylIc0Adk' sudah ada, tidak disimpan.\n",
      "54. Data untuk link 'https://www.youtube.com/watch?v=bk6piw05Cn0' sudah ada, tidak disimpan.\n",
      "55. Data untuk link 'https://www.youtube.com/watch?v=sIp6MBuIwo4' sudah ada, tidak disimpan.\n",
      "56. Data untuk link 'https://www.youtube.com/watch?v=x7kni2rFkOk' sudah ada, tidak disimpan.\n",
      "57. Data untuk link 'https://www.youtube.com/watch?v=osB_XeQNErE' sudah ada, tidak disimpan.\n",
      "58. Data untuk link 'https://www.youtube.com/watch?v=Y1DoCTIUdtc' sudah ada, tidak disimpan.\n",
      "59. Data untuk link 'https://www.youtube.com/watch?v=NlbX6GJiBHk' sudah ada, tidak disimpan.\n",
      "60. Data untuk link 'https://www.youtube.com/watch?v=5A59rahtaRY' sudah ada, tidak disimpan.\n",
      "61. Data untuk link 'https://www.youtube.com/watch?v=xIBHYyi2mOI' sudah ada, tidak disimpan.\n",
      "62. Data untuk link 'https://www.youtube.com/watch?v=7sY2kaaJwvE' sudah ada, tidak disimpan.\n",
      "63. Data untuk link 'https://www.youtube.com/watch?v=bTjT5uJ48_4' sudah ada, tidak disimpan.\n",
      "64. Data untuk link 'https://www.youtube.com/watch?v=9ERAYaXjs94' sudah ada, tidak disimpan.\n",
      "65. Data untuk link 'https://www.youtube.com/watch?v=8MI2qufDVnw' sudah ada, tidak disimpan.\n",
      "66. Data untuk link 'https://www.youtube.com/watch?v=gHYFyZTBf4A' sudah ada, tidak disimpan.\n",
      "67. Data untuk link 'https://www.youtube.com/watch?v=6W_GsE4YwL8' sudah ada, tidak disimpan.\n",
      "68. Data untuk link 'https://www.youtube.com/watch?v=OznqemVkeg8' sudah ada, tidak disimpan.\n",
      "69. Data untuk link 'https://www.youtube.com/watch?v=JNY6lRWSQL0' sudah ada, tidak disimpan.\n",
      "70. Data untuk link 'https://www.youtube.com/watch?v=uTJUuKsm2gw' sudah ada, tidak disimpan.\n",
      "71. Data untuk link 'https://www.youtube.com/watch?v=oNXgo6gdPc8' sudah ada, tidak disimpan.\n",
      "72. Data untuk link 'https://www.youtube.com/watch?v=lAOgoGvNsiQ' sudah ada, tidak disimpan.\n",
      "73. Data untuk link 'https://www.youtube.com/watch?v=NOAiaNTg2WI' sudah ada, tidak disimpan.\n",
      "74. Data untuk link 'https://www.youtube.com/watch?v=T7sQSaOToe0' sudah ada, tidak disimpan.\n",
      "75. Data untuk link 'https://www.youtube.com/watch?v=JVDUvAKN8xU' sudah ada, tidak disimpan.\n",
      "76. Data untuk link 'https://www.youtube.com/watch?v=LqeDMkeGvyE' sudah ada, tidak disimpan.\n",
      "77. Data untuk link 'https://www.youtube.com/watch?v=qDS5TYZqOu8' sudah ada, tidak disimpan.\n",
      "78. Data untuk link 'https://www.youtube.com/watch?v=8qeSyG9kd0c' sudah ada, tidak disimpan.\n",
      "79. Data untuk link 'https://www.youtube.com/watch?v=EewZ6LggdD0' sudah ada, tidak disimpan.\n",
      "80. Data untuk link 'https://www.youtube.com/watch?v=NrzL_BL_Mfs' sudah ada, tidak disimpan.\n",
      "81. Data untuk link 'https://www.youtube.com/watch?v=TjNDsa358Mk' sudah ada, tidak disimpan.\n",
      "82. Data untuk link 'https://www.youtube.com/watch?v=ixYjcJt1OII' sudah ada, tidak disimpan.\n",
      "83. Data untuk link 'https://www.youtube.com/watch?v=mvkq6_Ooph4' sudah ada, tidak disimpan.\n",
      "84. Data untuk link 'https://www.youtube.com/watch?v=ozZsz_-3ajM' sudah ada, tidak disimpan.\n",
      "85. Data untuk link 'https://www.youtube.com/watch?v=dzVpc1Mri4U' sudah ada, tidak disimpan.\n",
      "86. Data untuk link 'https://www.youtube.com/watch?v=8CnFKD5kISM' sudah ada, tidak disimpan.\n",
      "87. Data untuk link 'https://www.youtube.com/watch?v=IqY_pepLoz0' sudah ada, tidak disimpan.\n",
      "88. Data untuk link 'https://www.youtube.com/watch?v=FrkUGaFqedU' sudah ada, tidak disimpan.\n",
      "89. Data untuk link 'https://www.youtube.com/watch?v=8I6Jj02CIIE' sudah ada, tidak disimpan.\n",
      "90. Data untuk link 'https://www.youtube.com/watch?v=r3HIjt-ze6s' sudah ada, tidak disimpan.\n",
      "91. Data untuk link 'https://www.youtube.com/watch?v=QYb_NCTDkOk' sudah ada, tidak disimpan.\n",
      "92. Data untuk link 'https://www.youtube.com/watch?v=RTWc_yl68Dk' sudah ada, tidak disimpan.\n",
      "93. Data untuk link 'https://www.youtube.com/watch?v=YtkYU4qjCtU' sudah ada, tidak disimpan.\n",
      "94. Data untuk link 'https://www.youtube.com/watch?v=8hO4n_eZ7b4' sudah ada, tidak disimpan.\n",
      "95. Data untuk link 'https://www.youtube.com/watch?v=XOw62VPRJ_Q' sudah ada, tidak disimpan.\n",
      "96. Data untuk link 'https://www.youtube.com/watch?v=Ap36JAgVig4' sudah ada, tidak disimpan.\n",
      "97. Data untuk link 'https://www.youtube.com/watch?v=7D_qqFraRgE' sudah ada, tidak disimpan.\n",
      "98. Data untuk link 'https://www.youtube.com/watch?v=Jy25llWRrEY' sudah ada, tidak disimpan.\n",
      "99. Data untuk link 'https://www.youtube.com/watch?v=r5fTImYPCLw' sudah ada, tidak disimpan.\n",
      "100. Data untuk link 'https://www.youtube.com/watch?v=RqnBObjTSKc' sudah ada, tidak disimpan.\n",
      "101. Data untuk link 'https://www.youtube.com/watch?v=hoVVdHoBoao' sudah ada, tidak disimpan.\n",
      "102. Data untuk link 'https://www.youtube.com/watch?v=jyXOTy5F868' sudah ada, tidak disimpan.\n",
      "103. Data untuk link 'https://www.youtube.com/watch?v=Ab_rKnGG99I' sudah ada, tidak disimpan.\n",
      "104. Data untuk link 'https://www.youtube.com/watch?v=v0mriJ9uebk' sudah ada, tidak disimpan.\n",
      "105. Data untuk link 'https://www.youtube.com/watch?v=71-MkCMwb7w' sudah ada, tidak disimpan.\n",
      "106. Data untuk link 'https://www.youtube.com/watch?v=C_M6zg3_vxA' sudah ada, tidak disimpan.\n",
      "107. Data untuk link 'https://www.youtube.com/watch?v=bOe-W_B01Dg' sudah ada, tidak disimpan.\n",
      "108. Data untuk link 'https://www.youtube.com/watch?v=bmhs4yPJyls' sudah ada, tidak disimpan.\n",
      "109. Data untuk link 'https://www.youtube.com/watch?v=Plgs67bd3RI' sudah ada, tidak disimpan.\n",
      "110. Data untuk link 'https://www.youtube.com/watch?v=aTOSpaol-iU' sudah ada, tidak disimpan.\n",
      "111. Data untuk link 'https://www.youtube.com/watch?v=Q5bWHUiTVKU' sudah ada, tidak disimpan.\n",
      "112. Data untuk link 'https://www.youtube.com/watch?v=tV1gUw6DcEQ' sudah ada, tidak disimpan.\n",
      "113. Data untuk link 'https://www.youtube.com/watch?v=1v2nkBMl-eo' sudah ada, tidak disimpan.\n",
      "114. Data untuk link 'https://www.youtube.com/watch?v=nGsazTP6h5k' sudah ada, tidak disimpan.\n",
      "115. Data untuk link 'https://www.youtube.com/watch?v=hYEZ5NsozR0' sudah ada, tidak disimpan.\n",
      "116. Data untuk link 'https://www.youtube.com/watch?v=FBf0LfO7uzo' sudah ada, tidak disimpan.\n",
      "117. Data untuk link 'https://www.youtube.com/watch?v=N5QX5dmux78' sudah ada, tidak disimpan.\n",
      "118. Data untuk link 'https://www.youtube.com/watch?v=ATqtZyFXy7w' sudah ada, tidak disimpan.\n",
      "119. Data untuk link 'https://www.youtube.com/watch?v=DUIqMDlpofw' sudah ada, tidak disimpan.\n",
      "120. Data untuk link 'https://www.youtube.com/watch?v=I2d3uY7u79U' sudah ada, tidak disimpan.\n",
      "121. Data untuk link 'https://www.youtube.com/watch?v=pVXbZgEwMtA' sudah ada, tidak disimpan.\n",
      "122. Data untuk link 'https://www.youtube.com/watch?v=-I1ZrDj62JQ' sudah ada, tidak disimpan.\n",
      "123. Data untuk link 'https://www.youtube.com/watch?v=5N_kvnZtpiA' sudah ada, tidak disimpan.\n",
      "124. Data untuk link 'https://www.youtube.com/watch?v=HdnD-_nWDH4' sudah ada, tidak disimpan.\n",
      "125. Data untuk link 'https://www.youtube.com/watch?v=uROkSogtzDc' sudah ada, tidak disimpan.\n",
      "126. Data untuk link 'https://www.youtube.com/watch?v=il8Qxzi466Q' sudah ada, tidak disimpan.\n",
      "127. Data untuk link 'https://www.youtube.com/watch?v=a_rutXxYAKE' sudah ada, tidak disimpan.\n",
      "128. Data untuk link 'https://www.youtube.com/watch?v=zeJZpgP_c44' sudah ada, tidak disimpan.\n",
      "129. Data untuk link 'https://www.youtube.com/watch?v=X7OTA9TeBb4' sudah ada, tidak disimpan.\n",
      "130. Data untuk link 'https://www.youtube.com/watch?v=quRiyyW9VVA' sudah ada, tidak disimpan.\n",
      "131. Data untuk link 'https://www.youtube.com/watch?v=qYw4MAIUFso' sudah ada, tidak disimpan.\n",
      "132. Data untuk link 'https://www.youtube.com/watch?v=TrD910_y8Q4' sudah ada, tidak disimpan.\n",
      "133. Data untuk link 'https://www.youtube.com/watch?v=1pGz9ENIIGc' sudah ada, tidak disimpan.\n",
      "134. Data untuk link 'https://www.youtube.com/watch?v=-w2I4gFhrOw' sudah ada, tidak disimpan.\n",
      "135. Data untuk link 'https://www.youtube.com/watch?v=Bknr_btX20s' sudah ada, tidak disimpan.\n",
      "136. Data untuk link 'https://www.youtube.com/watch?v=_kEVl2HSW-k' sudah ada, tidak disimpan.\n",
      "137. Data untuk link 'https://www.youtube.com/watch?v=37oD1LRvSz4' sudah ada, tidak disimpan.\n",
      "138. Data untuk link 'https://www.youtube.com/watch?v=_kvHwROcmS0' sudah ada, tidak disimpan.\n",
      "139. Data untuk link 'https://www.youtube.com/watch?v=FGFsq5HDFV4' sudah ada, tidak disimpan.\n",
      "140. Data untuk link 'https://www.youtube.com/watch?v=HCtJexRY_6c' sudah ada, tidak disimpan.\n",
      "141. Data untuk link 'https://www.youtube.com/watch?v=2_N6DpbUqtE' sudah ada, tidak disimpan.\n",
      "142. Data untuk link 'https://www.youtube.com/watch?v=5hPhg4lIIuw' sudah ada, tidak disimpan.\n",
      "143. Data untuk link 'https://www.youtube.com/watch?v=-fqfw106RHQ' sudah ada, tidak disimpan.\n",
      "144. Data untuk link 'https://www.youtube.com/watch?v=Bc7xDvGFmNI' sudah ada, tidak disimpan.\n",
      "145. Data untuk link 'https://www.youtube.com/watch?v=wsHwn0jr7Zc' sudah ada, tidak disimpan.\n",
      "146. Data untuk link 'https://www.youtube.com/watch?v=CtNoUxzk8Yc' sudah ada, tidak disimpan.\n",
      "147. Data untuk link 'https://www.youtube.com/watch?v=KB1md9fmaHI' sudah ada, tidak disimpan.\n",
      "148. Data untuk link 'https://www.youtube.com/watch?v=RSZIZPbrabo' sudah ada, tidak disimpan.\n",
      "149. Data untuk link 'https://www.youtube.com/watch?v=wX5mltqwmx0' sudah ada, tidak disimpan.\n",
      "150. Data untuk link 'https://www.youtube.com/watch?v=ZPNiuZH5FT4' sudah ada, tidak disimpan.\n",
      "151. Data untuk link 'https://www.youtube.com/watch?v=kLwiHRNo2oc' sudah ada, tidak disimpan.\n",
      "152. Data untuk link 'https://www.youtube.com/watch?v=0hStWSPrWQo' sudah ada, tidak disimpan.\n",
      "153. Data untuk link 'https://www.youtube.com/watch?v=rmy41N5_T4s' sudah ada, tidak disimpan.\n",
      "154. Data untuk link 'https://www.youtube.com/watch?v=YkOXU3WBgfo' sudah ada, tidak disimpan.\n",
      "155. Data untuk link 'https://www.youtube.com/watch?v=JpS9UfQCLPk' sudah ada, tidak disimpan.\n",
      "156. Data untuk link 'https://www.youtube.com/watch?v=b6iuO-1_f2w' sudah ada, tidak disimpan.\n",
      "157. Data untuk link 'https://www.youtube.com/watch?v=0JLekz63kSQ' sudah ada, tidak disimpan.\n",
      "158. Data untuk link 'https://www.youtube.com/watch?v=AOb5OO1dQBc' sudah ada, tidak disimpan.\n",
      "159. Data untuk link 'https://www.youtube.com/watch?v=A_SQNMGF8pY' sudah ada, tidak disimpan.\n",
      "160. Data untuk link 'https://www.youtube.com/watch?v=Bc_ReXWF950' sudah ada, tidak disimpan.\n",
      "161. Data untuk link 'https://www.youtube.com/watch?v=97WSGF5rpC8' sudah ada, tidak disimpan.\n",
      "162. Data untuk link 'https://www.youtube.com/watch?v=qVAaVmETRE4' sudah ada, tidak disimpan.\n",
      "163. Data untuk link 'https://www.youtube.com/watch?v=xNIueMqM7uY' sudah ada, tidak disimpan.\n",
      "164. Data untuk link 'https://www.youtube.com/watch?v=ERZeCTWyZKU' sudah ada, tidak disimpan.\n",
      "165. Data untuk link 'https://www.youtube.com/watch?v=NxSolSSupDM' sudah ada, tidak disimpan.\n",
      "166. Data untuk link 'https://www.youtube.com/watch?v=hzwOUli9O1s' sudah ada, tidak disimpan.\n",
      "167. Data untuk link 'https://www.youtube.com/watch?v=zvUNEvEKNjg' sudah ada, tidak disimpan.\n",
      "168. Data untuk link 'https://www.youtube.com/watch?v=-6vgtiqeXQM' sudah ada, tidak disimpan.\n",
      "169. Data untuk link 'https://www.youtube.com/watch?v=VrGJFv00dhY' sudah ada, tidak disimpan.\n",
      "170. Data untuk link 'https://www.youtube.com/watch?v=b2xK5Jn43tc' sudah ada, tidak disimpan.\n",
      "171. Data untuk link 'https://www.youtube.com/watch?v=k-ItqOh6LKM' sudah ada, tidak disimpan.\n",
      "172. Data untuk link 'https://www.youtube.com/watch?v=oZA0QSwHHi4' sudah ada, tidak disimpan.\n",
      "173. Data untuk link 'https://www.youtube.com/watch?v=t5aZGVzJbj4' sudah ada, tidak disimpan.\n",
      "174. Data untuk link 'https://www.youtube.com/watch?v=c_ibYr8P1KE' sudah ada, tidak disimpan.\n",
      "175. Data untuk link 'https://www.youtube.com/watch?v=eCUlK1-uJnQ' sudah ada, tidak disimpan.\n",
      "176. Data untuk link 'https://www.youtube.com/watch?v=JsfARhit3mo' sudah ada, tidak disimpan.\n",
      "177. Data untuk link 'https://www.youtube.com/watch?v=prW5-st5Kx4' sudah ada, tidak disimpan.\n",
      "178. Data untuk link 'https://www.youtube.com/watch?v=c_4vdpXUZwI' sudah ada, tidak disimpan.\n",
      "179. Data untuk link 'https://www.youtube.com/watch?v=AKqNJBK23d0' sudah ada, tidak disimpan.\n",
      "180. Data untuk link 'https://www.youtube.com/watch?v=vm2LuzdDZmI' sudah ada, tidak disimpan.\n",
      "181. Data untuk link 'https://www.youtube.com/watch?v=xyXBAipeO2o' sudah ada, tidak disimpan.\n",
      "182. Data untuk link 'https://www.youtube.com/watch?v=OlQ2lckWVdk' sudah ada, tidak disimpan.\n",
      "183. Data untuk link 'https://www.youtube.com/watch?v=Tzu_xJ17_Po' sudah ada, tidak disimpan.\n",
      "184. Data untuk link 'https://www.youtube.com/watch?v=b2ZDtNylVzQ' sudah ada, tidak disimpan.\n",
      "185. Data untuk link 'https://www.youtube.com/watch?v=0lP4Bc8-Csc' sudah ada, tidak disimpan.\n",
      "186. Data untuk link 'https://www.youtube.com/watch?v=edl-KarKnSM' sudah ada, tidak disimpan.\n",
      "187. Data untuk link 'https://www.youtube.com/watch?v=1y5BcQBtl18' sudah ada, tidak disimpan.\n",
      "188. Data untuk link 'https://www.youtube.com/watch?v=crM-cu0fk6g' sudah ada, tidak disimpan.\n",
      "189. Data untuk link 'https://www.youtube.com/watch?v=B9IGKikq9yI' sudah ada, tidak disimpan.\n",
      "190. Data untuk link 'https://www.youtube.com/watch?v=P1u6X4ByRmQ' sudah ada, tidak disimpan.\n",
      "191. Data untuk link 'https://www.youtube.com/watch?v=9n3VXyF_b24' sudah ada, tidak disimpan.\n",
      "192. Data untuk link 'https://www.youtube.com/watch?v=FIewUfpyPkQ' sudah ada, tidak disimpan.\n",
      "193. Data untuk link 'https://www.youtube.com/watch?v=cQoNkNKmiL8' sudah ada, tidak disimpan.\n",
      "194. Data untuk link 'https://www.youtube.com/watch?v=Kg7lLGUMFr4' sudah ada, tidak disimpan.\n",
      "195. Data untuk link 'https://www.youtube.com/watch?v=iQLB9vHRAcA' sudah ada, tidak disimpan.\n",
      "196. Data untuk link 'https://www.youtube.com/watch?v=0VZnM4kMroc' sudah ada, tidak disimpan.\n",
      "197. Data untuk link 'https://www.youtube.com/watch?v=zyMQjIdCfvA' sudah ada, tidak disimpan.\n",
      "198. Data untuk link 'https://www.youtube.com/watch?v=43tkqksUsXU' sudah ada, tidak disimpan.\n",
      "199. Data untuk link 'https://www.youtube.com/watch?v=VPtZJ2lhBBg' sudah ada, tidak disimpan.\n",
      "200. Data untuk link 'https://www.youtube.com/watch?v=FqLPuufdWH0' sudah ada, tidak disimpan.\n",
      "201. Data untuk link 'https://www.youtube.com/watch?v=mtgxM3UoaUM' sudah ada, tidak disimpan.\n",
      "202. Data untuk link 'https://www.youtube.com/watch?v=YahddX0OFtA' sudah ada, tidak disimpan.\n",
      "203. Data untuk link 'https://www.youtube.com/watch?v=KiPmn2iAINw' sudah ada, tidak disimpan.\n",
      "204. Data untuk link 'https://www.youtube.com/watch?v=064vHqGfaT0' sudah ada, tidak disimpan.\n",
      "205. Data untuk link 'https://www.youtube.com/watch?v=dilC6QYgRtE' sudah ada, tidak disimpan.\n",
      "206. Data untuk link 'https://www.youtube.com/watch?v=MoEIAlWpWeE' sudah ada, tidak disimpan.\n",
      "207. Data untuk link 'https://www.youtube.com/watch?v=_o7EB6I2mbA' sudah ada, tidak disimpan.\n",
      "208. Data untuk link 'https://www.youtube.com/watch?v=oB3Vz1J859s' sudah ada, tidak disimpan.\n",
      "209. Data untuk link 'https://www.youtube.com/watch?v=xJAc4LM7r74' sudah ada, tidak disimpan.\n",
      "210. Data untuk link 'https://www.youtube.com/watch?v=2c3t3WdMTuA' sudah ada, tidak disimpan.\n",
      "211. Data untuk link 'https://www.youtube.com/watch?v=IBhNEJiMQDQ' sudah ada, tidak disimpan.\n",
      "212. Data untuk link 'https://www.youtube.com/watch?v=gmikwUwO6Ss' sudah ada, tidak disimpan.\n",
      "213. Data untuk link 'https://www.youtube.com/watch?v=IqY_pepLoz0' sudah ada, tidak disimpan.\n",
      "214. Data untuk link 'https://www.youtube.com/watch?v=FrkUGaFqedU' sudah ada, tidak disimpan.\n",
      "215. Data untuk link 'https://www.youtube.com/watch?v=Mp917al9sT8' sudah ada, tidak disimpan.\n",
      "216. Data untuk link 'https://www.youtube.com/watch?v=aCqy4yGgiA8' sudah ada, tidak disimpan.\n",
      "217. Data untuk link 'https://www.youtube.com/watch?v=MHJ30PsyZno' sudah ada, tidak disimpan.\n",
      "218. Data untuk link 'https://www.youtube.com/watch?v=0nfTfyfiBw4' sudah ada, tidak disimpan.\n",
      "219. Data untuk link 'https://www.youtube.com/watch?v=EEiruQ0tuhI' sudah ada, tidak disimpan.\n",
      "220. Data untuk link 'https://www.youtube.com/watch?v=zspPgDHSJ_M' sudah ada, tidak disimpan.\n",
      "221. Data untuk link 'https://www.youtube.com/watch?v=0ALHfpFXz90' sudah ada, tidak disimpan.\n",
      "222. Data untuk link 'https://www.youtube.com/watch?v=kjQCocOceXY' sudah ada, tidak disimpan.\n",
      "223. Data untuk link 'https://www.youtube.com/watch?v=zR557jx6nkw' sudah ada, tidak disimpan.\n",
      "224. Data untuk link 'https://www.youtube.com/watch?v=XQst1uE1IBE' sudah ada, tidak disimpan.\n",
      "225. Data untuk link 'https://www.youtube.com/watch?v=OYxJcvrvCTE' sudah ada, tidak disimpan.\n",
      "226. Data untuk link 'https://www.youtube.com/watch?v=k0CXdSSpAZM' sudah ada, tidak disimpan.\n",
      "227. Data untuk link 'https://www.youtube.com/watch?v=YdHzDnRCiH4' sudah ada, tidak disimpan.\n",
      "228. Data untuk link 'https://www.youtube.com/watch?v=S04su33ziuo' sudah ada, tidak disimpan.\n",
      "229. Data untuk link 'https://www.youtube.com/watch?v=AXwnW_FtHV0' sudah ada, tidak disimpan.\n",
      "230. Data untuk link 'https://www.youtube.com/watch?v=xKoo7UmNkGE' sudah ada, tidak disimpan.\n",
      "231. Data untuk link 'https://www.youtube.com/watch?v=pjzRUMb97No' sudah ada, tidak disimpan.\n",
      "232. Data untuk link 'https://www.youtube.com/watch?v=OWhFEpOAXmE' sudah ada, tidak disimpan.\n",
      "233. Data untuk link 'https://www.youtube.com/watch?v=oL1JFelindU' sudah ada, tidak disimpan.\n",
      "234. Data untuk link 'https://www.youtube.com/watch?v=bePuKcktdck' sudah ada, tidak disimpan.\n",
      "235. Data untuk link 'https://www.youtube.com/watch?v=tBNb2yvv8mQ' sudah ada, tidak disimpan.\n",
      "236. Data untuk link 'https://www.youtube.com/watch?v=dukIkfGp-vU' sudah ada, tidak disimpan.\n",
      "237. Data untuk link 'https://www.youtube.com/watch?v=3-q-yXv3OMY' sudah ada, tidak disimpan.\n",
      "238. Data untuk link 'https://www.youtube.com/watch?v=su_L76jgl9k' sudah ada, tidak disimpan.\n",
      "239. Data untuk link 'https://www.youtube.com/watch?v=n_MFRwjruGg' sudah ada, tidak disimpan.\n",
      "240. Data untuk link 'https://www.youtube.com/watch?v=vh1m8L5yAeo' sudah ada, tidak disimpan.\n",
      "241. Data untuk link 'https://www.youtube.com/watch?v=5-UGnyFgS_M' sudah ada, tidak disimpan.\n",
      "242. Data untuk link 'https://www.youtube.com/watch?v=FbeJa8ufCFI' sudah ada, tidak disimpan.\n",
      "243. Data untuk link 'https://www.youtube.com/watch?v=vCcyYfVruVo' sudah ada, tidak disimpan.\n",
      "244. Data untuk link 'https://www.youtube.com/watch?v=B9S3KvEpCUw' sudah ada, tidak disimpan.\n",
      "245. Data untuk link 'https://www.youtube.com/watch?v=H58YBs9CIMg' sudah ada, tidak disimpan.\n",
      "246. Data untuk link 'https://www.youtube.com/watch?v=Le5zRt1rJFM' sudah ada, tidak disimpan.\n",
      "247. Data untuk link 'https://www.youtube.com/watch?v=UmcdK4wiC1Y' sudah ada, tidak disimpan.\n",
      "248. Data untuk link 'https://www.youtube.com/watch?v=3n6WoI13_ng' sudah ada, tidak disimpan.\n",
      "249. Data untuk link 'https://www.youtube.com/watch?v=qPoDVXoX8hs' sudah ada, tidak disimpan.\n",
      "250. Data untuk link 'https://www.youtube.com/watch?v=Aaq9llV0rSw' sudah ada, tidak disimpan.\n",
      "251. Data untuk link 'https://www.youtube.com/watch?v=K1pnDCSpDSA' sudah ada, tidak disimpan.\n",
      "252. Data untuk link 'https://www.youtube.com/watch?v=Ke8qjgaUYbs' sudah ada, tidak disimpan.\n",
      "253. Data untuk link 'https://www.youtube.com/watch?v=GWXMVFaZtQ4' sudah ada, tidak disimpan.\n",
      "254. Data untuk link 'https://www.youtube.com/watch?v=yNzbq_TyFb4' sudah ada, tidak disimpan.\n",
      "255. Data untuk link 'https://www.youtube.com/watch?v=VvoteQZOUds' sudah ada, tidak disimpan.\n",
      "256. Data untuk link 'https://www.youtube.com/watch?v=xIBHYyi2mOI' sudah ada, tidak disimpan.\n",
      "257. Data untuk link 'https://www.youtube.com/watch?v=7sY2kaaJwvE' sudah ada, tidak disimpan.\n",
      "258. Data untuk link 'https://www.youtube.com/watch?v=9ERAYaXjs94' sudah ada, tidak disimpan.\n",
      "259. Data untuk link 'https://www.youtube.com/watch?v=8MI2qufDVnw' sudah ada, tidak disimpan.\n",
      "260. Data untuk link 'https://www.youtube.com/watch?v=gHYFyZTBf4A' sudah ada, tidak disimpan.\n",
      "261. Data untuk link 'https://www.youtube.com/watch?v=6W_GsE4YwL8' sudah ada, tidak disimpan.\n",
      "262. Data untuk link 'https://www.youtube.com/watch?v=OznqemVkeg8' sudah ada, tidak disimpan.\n",
      "263. Data untuk link 'https://www.youtube.com/watch?v=uTJUuKsm2gw' sudah ada, tidak disimpan.\n",
      "264. Data untuk link 'https://www.youtube.com/watch?v=FUoZlq6HThA' sudah ada, tidak disimpan.\n",
      "265. Data untuk link 'https://www.youtube.com/watch?v=qfGd2ORlTks' sudah ada, tidak disimpan.\n",
      "266. Data untuk link 'https://www.youtube.com/watch?v=Wo_OppvBFGU' sudah ada, tidak disimpan.\n",
      "267. Data untuk link 'https://www.youtube.com/watch?v=pChESdtGDm8' sudah ada, tidak disimpan.\n",
      "268. Data untuk link 'https://www.youtube.com/watch?v=-0WpXQ8_IbE' sudah ada, tidak disimpan.\n",
      "269. Data untuk link 'https://www.youtube.com/watch?v=b4BystzlZgQ' sudah ada, tidak disimpan.\n",
      "270. Data untuk link 'https://www.youtube.com/watch?v=jyPOgDkxDZY' sudah ada, tidak disimpan.\n",
      "271. Data untuk link 'https://www.youtube.com/watch?v=NTY-FCJKxms' sudah ada, tidak disimpan.\n",
      "272. Data untuk link 'https://www.youtube.com/watch?v=kCizQVsoR9A' sudah ada, tidak disimpan.\n",
      "273. Data untuk link 'https://www.youtube.com/watch?v=7jgoX5Vh28A' sudah ada, tidak disimpan.\n",
      "274. Data untuk link 'https://www.youtube.com/watch?v=M89LeA5bhHU' sudah ada, tidak disimpan.\n",
      "275. Data untuk link 'https://www.youtube.com/watch?v=hvKOxxgkoWI' sudah ada, tidak disimpan.\n",
      "276. Data untuk link 'https://www.youtube.com/watch?v=jufQtV6Fe5k' sudah ada, tidak disimpan.\n",
      "277. Data untuk link 'https://www.youtube.com/watch?v=Pbns6IWS6gU' sudah ada, tidak disimpan.\n",
      "278. Data untuk link 'https://www.youtube.com/watch?v=umkXkq69mCw' sudah ada, tidak disimpan.\n",
      "279. Data untuk link 'https://www.youtube.com/watch?v=Y573pEMBnf0' sudah ada, tidak disimpan.\n",
      "280. Data untuk link 'https://www.youtube.com/watch?v=rhYo9_5zIxc' sudah ada, tidak disimpan.\n",
      "281. Data untuk link 'https://www.youtube.com/watch?v=U3SHKn14B20' sudah ada, tidak disimpan.\n",
      "282. Data untuk link 'https://www.youtube.com/watch?v=16g5zrCpE_c' sudah ada, tidak disimpan.\n",
      "283. Data untuk link 'https://www.youtube.com/watch?v=Ue8u1zWjNzc' sudah ada, tidak disimpan.\n",
      "284. Data untuk link 'https://www.youtube.com/watch?v=2_itbfUZnhM' sudah ada, tidak disimpan.\n",
      "285. Data untuk link 'https://www.youtube.com/watch?v=Q45-pGeMAjU' sudah ada, tidak disimpan.\n",
      "286. Data untuk link 'https://www.youtube.com/watch?v=goT-hIt-K0Y' sudah ada, tidak disimpan.\n",
      "287. Data untuk link 'https://www.youtube.com/watch?v=bYlnZNMPpRY' sudah ada, tidak disimpan.\n",
      "288. Data untuk link 'https://www.youtube.com/watch?v=LE3EtZTiPIs' sudah ada, tidak disimpan.\n",
      "289. Data untuk link 'https://www.youtube.com/watch?v=0LVGgXk0-ZU' sudah ada, tidak disimpan.\n",
      "290. Data untuk link 'https://www.youtube.com/watch?v=jOTJDoJBIL8' sudah ada, tidak disimpan.\n",
      "291. Data untuk link 'https://www.youtube.com/watch?v=wXy99UqdGdc' sudah ada, tidak disimpan.\n",
      "292. Data untuk link 'https://www.youtube.com/watch?v=bDZ0MvRA1Zw' sudah ada, tidak disimpan.\n",
      "293. Data untuk link 'https://www.youtube.com/watch?v=L4b56bGai8o' sudah ada, tidak disimpan.\n",
      "294. Data untuk link 'https://www.youtube.com/watch?v=ZbZbjtPZxRI' sudah ada, tidak disimpan.\n",
      "295. Data untuk link 'https://www.youtube.com/watch?v=KW_GkkpPqtI' sudah ada, tidak disimpan.\n",
      "296. Data untuk link 'https://www.youtube.com/watch?v=viHvto0zwek' sudah ada, tidak disimpan.\n",
      "297. Data untuk link 'https://www.youtube.com/watch?v=LPzfn2KOubE' sudah ada, tidak disimpan.\n",
      "298. Data untuk link 'https://www.youtube.com/watch?v=SVDSaX4Hr8g' sudah ada, tidak disimpan.\n",
      "299. Data untuk link 'https://www.youtube.com/watch?v=ftOeCjQ2b1k' sudah ada, tidak disimpan.\n",
      "300. Data untuk link 'https://www.youtube.com/watch?v=RkeivPrI-f4' sudah ada, tidak disimpan.\n",
      "301. Data untuk link 'https://www.youtube.com/watch?v=fcVzDiAPwk8' sudah ada, tidak disimpan.\n",
      "302. Data untuk link 'https://www.youtube.com/watch?v=WmuqjnGTFME' sudah ada, tidak disimpan.\n",
      "303. Data untuk link 'https://www.youtube.com/watch?v=fiqrRfocfLo' sudah ada, tidak disimpan.\n",
      "304. Data untuk link 'https://www.youtube.com/watch?v=eU1bSsb1150' sudah ada, tidak disimpan.\n",
      "305. Data untuk link 'https://www.youtube.com/watch?v=qtf1Ul4EN7I' sudah ada, tidak disimpan.\n",
      "306. Data untuk link 'https://www.youtube.com/watch?v=mU5gE0X6oo0' sudah ada, tidak disimpan.\n",
      "307. Data untuk link 'https://www.youtube.com/watch?v=1AsPAKa-yJU' sudah ada, tidak disimpan.\n",
      "308. Data untuk link 'https://www.youtube.com/watch?v=Zf7UtliPw7s' sudah ada, tidak disimpan.\n",
      "309. Data untuk link 'https://www.youtube.com/watch?v=VihIUyD7hOk' sudah ada, tidak disimpan.\n",
      "310. Data untuk link 'https://www.youtube.com/watch?v=XuydgoMFifI' sudah ada, tidak disimpan.\n",
      "311. Data untuk link 'https://www.youtube.com/watch?v=nrvYGidWsOk' sudah ada, tidak disimpan.\n",
      "312. Data untuk link 'https://www.youtube.com/watch?v=kj8_grgprns' sudah ada, tidak disimpan.\n",
      "313. Data untuk link 'https://www.youtube.com/watch?v=bA5LraYRfIo' sudah ada, tidak disimpan.\n",
      "314. Data untuk link 'https://www.youtube.com/watch?v=OFa-Bp2D5iY' sudah ada, tidak disimpan.\n",
      "315. Data untuk link 'https://www.youtube.com/watch?v=DYGD7WtX3Ug' sudah ada, tidak disimpan.\n",
      "316. Data untuk link 'https://www.youtube.com/watch?v=XO0uC9y9WrA' sudah ada, tidak disimpan.\n",
      "317. Data untuk link 'https://www.youtube.com/watch?v=VfozoeJXyhk' sudah ada, tidak disimpan.\n",
      "318. Data untuk link 'https://www.youtube.com/watch?v=QXfiffLCgTQ' sudah ada, tidak disimpan.\n",
      "319. Data untuk link 'https://www.youtube.com/watch?v=ZByG_IyZGUY' sudah ada, tidak disimpan.\n",
      "320. Data untuk link 'https://www.youtube.com/watch?v=8Wb8gkdd8So' sudah ada, tidak disimpan.\n",
      "321. Data untuk link 'https://www.youtube.com/watch?v=XsTRgfYuW3k' sudah ada, tidak disimpan.\n",
      "322. Data untuk link 'https://www.youtube.com/watch?v=96ZPlylU7nI' sudah ada, tidak disimpan.\n",
      "323. Data untuk link 'https://www.youtube.com/watch?v=GqiYFro4am0' sudah ada, tidak disimpan.\n",
      "324. Data untuk link 'https://www.youtube.com/watch?v=GkZE_-EP_ds' sudah ada, tidak disimpan.\n",
      "325. Data untuk link 'https://www.youtube.com/watch?v=UbrkP65gVXc' sudah ada, tidak disimpan.\n",
      "326. Data untuk link 'https://www.youtube.com/watch?v=rAF8qPBOsZk' sudah ada, tidak disimpan.\n",
      "327. Data untuk link 'https://www.youtube.com/watch?v=8tdJqprpmgE' sudah ada, tidak disimpan.\n",
      "328. Data untuk link 'https://www.youtube.com/watch?v=4eJYmYSg2M4' sudah ada, tidak disimpan.\n",
      "329. Data untuk link 'https://www.youtube.com/watch?v=F6kORw1H3Qw' sudah ada, tidak disimpan.\n",
      "330. Data untuk link 'https://www.youtube.com/watch?v=bpearfPlrAY' sudah ada, tidak disimpan.\n",
      "331. Data untuk link 'https://www.youtube.com/watch?v=4XRND3v9DzM' sudah ada, tidak disimpan.\n",
      "332. Data untuk link 'https://www.youtube.com/watch?v=vH49kM6dvl4' sudah ada, tidak disimpan.\n",
      "333. Data untuk link 'https://www.youtube.com/watch?v=WXiMhc0OOrg' sudah ada, tidak disimpan.\n",
      "334. Data untuk link 'https://www.youtube.com/watch?v=TwvQMhtVwMg' sudah ada, tidak disimpan.\n",
      "335. Data untuk link 'https://www.youtube.com/watch?v=waCKSCzHmqU' sudah ada, tidak disimpan.\n",
      "336. Data untuk link 'https://www.youtube.com/watch?v=b_DDs5xDO7o' sudah ada, tidak disimpan.\n",
      "337. Data untuk link 'https://www.youtube.com/watch?v=yDU66cTiOmc' sudah ada, tidak disimpan.\n",
      "338. Data untuk link 'https://www.youtube.com/watch?v=cvU70jqXfpQ' sudah ada, tidak disimpan.\n",
      "339. Data untuk link 'https://www.youtube.com/watch?v=8QPV8DPmu1g' sudah ada, tidak disimpan.\n",
      "340. Data untuk link 'https://www.youtube.com/watch?v=pmP7dUFOSzo' sudah ada, tidak disimpan.\n",
      "341. Data untuk link 'https://www.youtube.com/watch?v=PAs3p1pC_D4' sudah ada, tidak disimpan.\n",
      "342. Data untuk link 'https://www.youtube.com/watch?v=NhTHBx8U_CY' sudah ada, tidak disimpan.\n",
      "343. Data untuk link 'https://www.youtube.com/watch?v=bDJ4AXbpgiw' sudah ada, tidak disimpan.\n",
      "344. Data untuk link 'https://www.youtube.com/watch?v=cc0ji6B9-_c' sudah ada, tidak disimpan.\n",
      "345. Data untuk link 'https://www.youtube.com/watch?v=8SzXKLJnwP8' sudah ada, tidak disimpan.\n",
      "346. Data untuk link 'https://www.youtube.com/watch?v=LrK8UqffQi8' sudah ada, tidak disimpan.\n",
      "347. Data untuk link 'https://www.youtube.com/watch?v=53-Gx932ceo' sudah ada, tidak disimpan.\n",
      "348. Data untuk link 'https://www.youtube.com/watch?v=RFt8ieyfUQo' sudah ada, tidak disimpan.\n",
      "349. Data untuk link 'https://www.youtube.com/watch?v=JQ_PwYsREL4' sudah ada, tidak disimpan.\n",
      "350. Data untuk link 'https://www.youtube.com/watch?v=LJem-9Ic61I' sudah ada, tidak disimpan.\n",
      "351. Data untuk link 'https://www.youtube.com/watch?v=b3RQukdxKZ4' sudah ada, tidak disimpan.\n",
      "352. Data untuk link 'https://www.youtube.com/watch?v=Ku7USHnPEGs' sudah ada, tidak disimpan.\n",
      "353. Data untuk link 'https://www.youtube.com/watch?v=WCGmBm1mNOY' sudah ada, tidak disimpan.\n",
      "354. Data untuk link 'https://www.youtube.com/watch?v=fg5rhIw3UNw' sudah ada, tidak disimpan.\n",
      "355. Data untuk link 'https://www.youtube.com/watch?v=-tUDAU5uzNs' sudah ada, tidak disimpan.\n",
      "356. Data untuk link 'https://www.youtube.com/watch?v=nlzHMd5b6GU' sudah ada, tidak disimpan.\n",
      "357. Data untuk link 'https://www.youtube.com/watch?v=fY7Lf6_zDMo' sudah ada, tidak disimpan.\n",
      "358. Data untuk link 'https://www.youtube.com/watch?v=F2bVNAac72c' sudah ada, tidak disimpan.\n",
      "359. Data untuk link 'https://www.youtube.com/watch?v=37tOCVJxgJw' sudah ada, tidak disimpan.\n",
      "360. Data untuk link 'https://www.youtube.com/watch?v=uaXcYI0Ubqs' sudah ada, tidak disimpan.\n",
      "361. Data untuk link 'https://www.youtube.com/watch?v=qPu3SB9M9e4' sudah ada, tidak disimpan.\n",
      "362. Data untuk link 'https://www.youtube.com/watch?v=9ELtYsMF3-0' sudah ada, tidak disimpan.\n",
      "363. Data untuk link 'https://www.youtube.com/watch?v=sKyBDvmcaa8' sudah ada, tidak disimpan.\n",
      "364. Data untuk link 'https://www.youtube.com/watch?v=qJxztfW3PQ8' sudah ada, tidak disimpan.\n",
      "365. Data untuk link 'https://www.youtube.com/watch?v=NIFn46fSlWE' sudah ada, tidak disimpan.\n",
      "366. Data untuk link 'https://www.youtube.com/watch?v=Yd0TiCfWFPs' sudah ada, tidak disimpan.\n",
      "367. Data untuk link 'https://www.youtube.com/watch?v=fh5lzdBES5w' sudah ada, tidak disimpan.\n",
      "368. Data untuk link 'https://www.youtube.com/watch?v=OymdKXU_ZmI' sudah ada, tidak disimpan.\n",
      "369. Data untuk link 'https://www.youtube.com/watch?v=48BCneaj2ls' sudah ada, tidak disimpan.\n",
      "370. Data untuk link 'https://www.youtube.com/watch?v=LatvWnVJrOU' sudah ada, tidak disimpan.\n",
      "371. Data untuk link 'https://www.youtube.com/watch?v=5e0XZxffyIA' sudah ada, tidak disimpan.\n",
      "372. Data untuk link 'https://www.youtube.com/watch?v=EY5NPdvmiNw' sudah ada, tidak disimpan.\n",
      "373. Data untuk link 'https://www.youtube.com/watch?v=v_3pwx0f59U' sudah ada, tidak disimpan.\n",
      "374. Data untuk link 'https://www.youtube.com/watch?v=wMuXUxFBLYA' sudah ada, tidak disimpan.\n",
      "375. Data untuk link 'https://www.youtube.com/watch?v=1aov7zSrsVY' sudah ada, tidak disimpan.\n",
      "376. Data untuk link 'https://www.youtube.com/watch?v=ArNiexGMDeI' sudah ada, tidak disimpan.\n",
      "377. Data untuk link 'https://www.youtube.com/watch?v=xNH2-ZxuSXY' sudah ada, tidak disimpan.\n",
      "378. Data untuk link 'https://www.youtube.com/watch?v=PbvnAqyXSHM' sudah ada, tidak disimpan.\n",
      "379. Data untuk link 'https://www.youtube.com/watch?v=muNdmcX72bk' sudah ada, tidak disimpan.\n",
      "380. Data untuk link 'https://www.youtube.com/watch?v=KFYwD3tr7og' sudah ada, tidak disimpan.\n",
      "381. Data untuk link 'https://www.youtube.com/watch?v=Slh-kbFK1OI' sudah ada, tidak disimpan.\n",
      "382. Data untuk link 'https://www.youtube.com/watch?v=O78tefg9_3s' sudah ada, tidak disimpan.\n",
      "383. Data untuk link 'https://www.youtube.com/watch?v=vTnTWo08vUM' sudah ada, tidak disimpan.\n",
      "384. Data untuk link 'https://www.youtube.com/watch?v=_juwcFnp59Q' sudah ada, tidak disimpan.\n",
      "385. Data untuk link 'https://www.youtube.com/watch?v=GKogJk8vod8' sudah ada, tidak disimpan.\n",
      "386. Data untuk link 'https://www.youtube.com/watch?v=AL2Au9v5Uac' sudah ada, tidak disimpan.\n",
      "387. Data untuk link 'https://www.youtube.com/watch?v=u0eEzSMGpXc' sudah ada, tidak disimpan.\n",
      "388. Data untuk link 'https://www.youtube.com/watch?v=lLWm8LBK23U' sudah ada, tidak disimpan.\n",
      "389. Data untuk link 'https://www.youtube.com/watch?v=Yuar12s7Gts' sudah ada, tidak disimpan.\n",
      "390. Data untuk link 'https://www.youtube.com/watch?v=ImbhNOrzE0c' sudah ada, tidak disimpan.\n",
      "391. Data untuk link 'https://www.youtube.com/watch?v=0ywHJQ0hO1U' sudah ada, tidak disimpan.\n",
      "392. Data untuk link 'https://www.youtube.com/watch?v=7AQYHvqlUs8' sudah ada, tidak disimpan.\n",
      "393. Data untuk link 'https://www.youtube.com/watch?v=yDNZwkNMhPo' sudah ada, tidak disimpan.\n",
      "394. Data untuk link 'https://www.youtube.com/watch?v=LCB3Q5alGtQ' sudah ada, tidak disimpan.\n",
      "395. Data untuk link 'https://www.youtube.com/watch?v=R9LPO2_UyhE' sudah ada, tidak disimpan.\n",
      "396. Data untuk link 'https://www.youtube.com/watch?v=j4t_aF2GpXc' sudah ada, tidak disimpan.\n",
      "397. Data untuk link 'https://www.youtube.com/watch?v=dYzfTPNjyW8' sudah ada, tidak disimpan.\n",
      "398. Data untuk link 'https://www.youtube.com/watch?v=11lAyAcKXMI' sudah ada, tidak disimpan.\n",
      "399. Data untuk link 'https://www.youtube.com/watch?v=5d6eHIfKfgI' sudah ada, tidak disimpan.\n",
      "400. Data untuk link 'https://www.youtube.com/watch?v=R8eJJEnnft4' sudah ada, tidak disimpan.\n",
      "401. Data untuk link 'https://www.youtube.com/watch?v=xQAaXAq-M2A' sudah ada, tidak disimpan.\n",
      "402. Data untuk link 'https://www.youtube.com/watch?v=hQtbAPXNsWc' sudah ada, tidak disimpan.\n",
      "403. Data untuk link 'https://www.youtube.com/watch?v=ZPrI6BoEfp8' sudah ada, tidak disimpan.\n",
      "404. Data untuk link 'https://www.youtube.com/watch?v=ZINnsGmdQrQ' sudah ada, tidak disimpan.\n",
      "405. Data untuk link 'https://www.youtube.com/watch?v=8ojoxVfkgtI' sudah ada, tidak disimpan.\n",
      "406. Data untuk link 'https://www.youtube.com/watch?v=8hO3oStqnKw' sudah ada, tidak disimpan.\n",
      "407. Data untuk link 'https://www.youtube.com/watch?v=MUxdy4Fh_cU' sudah ada, tidak disimpan.\n",
      "408. Data untuk link 'https://www.youtube.com/watch?v=mZiIW8y8wew' sudah ada, tidak disimpan.\n",
      "409. Data untuk link 'https://www.youtube.com/watch?v=YQUJdhscEbs' sudah ada, tidak disimpan.\n",
      "410. Data untuk link 'https://www.youtube.com/watch?v=b1MMIcnWCA0' sudah ada, tidak disimpan.\n",
      "411. Data untuk link 'https://www.youtube.com/watch?v=hzWoGXTt7v8' sudah ada, tidak disimpan.\n",
      "412. Data untuk link 'https://www.youtube.com/watch?v=b1uF4jwTCX0' sudah ada, tidak disimpan.\n",
      "413. Data untuk link 'https://www.youtube.com/watch?v=McSnAzK1Tws' sudah ada, tidak disimpan.\n",
      "414. Data untuk link 'https://www.youtube.com/watch?v=7kh6Xuo-OcY' sudah ada, tidak disimpan.\n",
      "415. Data untuk link 'https://www.youtube.com/watch?v=vSruR138564' sudah ada, tidak disimpan.\n",
      "416. Data untuk link 'https://www.youtube.com/watch?v=6Ms99JXu7so' sudah ada, tidak disimpan.\n",
      "417. Data untuk link 'https://www.youtube.com/watch?v=5_k1ZPKehu4' sudah ada, tidak disimpan.\n",
      "418. Data untuk link 'https://www.youtube.com/watch?v=OMapLSyUfXk' sudah ada, tidak disimpan.\n",
      "419. Data untuk link 'https://www.youtube.com/watch?v=uf_PK6OMrck' sudah ada, tidak disimpan.\n",
      "420. Data untuk link 'https://www.youtube.com/watch?v=aNgwEeV6kbY' sudah ada, tidak disimpan.\n",
      "421. Data untuk link 'https://www.youtube.com/watch?v=d5LCbZXwPDM' sudah ada, tidak disimpan.\n",
      "422. Data untuk link 'https://www.youtube.com/watch?v=2VBn6wAedvA' sudah ada, tidak disimpan.\n",
      "423. Data untuk link 'https://www.youtube.com/watch?v=uzr5sZsHQo8' sudah ada, tidak disimpan.\n",
      "424. Data untuk link 'https://www.youtube.com/watch?v=6mqtSCGfLrw' sudah ada, tidak disimpan.\n",
      "425. Data untuk link 'https://www.youtube.com/watch?v=SN6ENFVBIzk' sudah ada, tidak disimpan.\n",
      "426. Data untuk link 'https://www.youtube.com/watch?v=GryCc5TN6Lo' sudah ada, tidak disimpan.\n",
      "427. Data untuk link 'https://www.youtube.com/watch?v=xuGEJmuQ4nM' sudah ada, tidak disimpan.\n",
      "428. Data untuk link 'https://www.youtube.com/watch?v=_g4YjLu7sKI' sudah ada, tidak disimpan.\n",
      "429. Data untuk link 'https://www.youtube.com/watch?v=g5P1gCiFqLM' sudah ada, tidak disimpan.\n",
      "430. Data untuk link 'https://www.youtube.com/watch?v=hV9qYf3GpnU' sudah ada, tidak disimpan.\n",
      "431. Data untuk link 'https://www.youtube.com/watch?v=eIfpA8d7reA' sudah ada, tidak disimpan.\n",
      "432. Data untuk link 'https://www.youtube.com/watch?v=02HO60AlNqg' sudah ada, tidak disimpan.\n",
      "433. Data untuk link 'https://www.youtube.com/watch?v=1b47iBC6VTk' sudah ada, tidak disimpan.\n",
      "434. Data untuk link 'https://www.youtube.com/watch?v=O-MctB8AYYk' sudah ada, tidak disimpan.\n",
      "435. Data untuk link 'https://www.youtube.com/watch?v=10DuGL31Aq4' sudah ada, tidak disimpan.\n",
      "436. Data untuk link 'https://www.youtube.com/watch?v=0hxQop9ohnc' sudah ada, tidak disimpan.\n",
      "437. Data untuk link 'https://www.youtube.com/watch?v=HQHZiIHA4n0' sudah ada, tidak disimpan.\n",
      "438. Data untuk link 'https://www.youtube.com/watch?v=Jo4ecZ8Z3Lc' sudah ada, tidak disimpan.\n",
      "439. Data untuk link 'https://www.youtube.com/watch?v=dCPEc0_dAwk' sudah ada, tidak disimpan.\n",
      "440. Data untuk link 'https://www.youtube.com/watch?v=CcLXlDEAsyI' sudah ada, tidak disimpan.\n",
      "441. Data untuk link 'https://www.youtube.com/watch?v=MHaGJriCkkY' sudah ada, tidak disimpan.\n",
      "442. Data untuk link 'https://www.youtube.com/watch?v=K9VHVgbo930' sudah ada, tidak disimpan.\n",
      "443. Data untuk link 'https://www.youtube.com/watch?v=qMwUd39rQ7I' sudah ada, tidak disimpan.\n",
      "444. Data untuk link 'https://www.youtube.com/watch?v=jNnUNsXUXnA' sudah ada, tidak disimpan.\n",
      "445. Data untuk link 'https://www.youtube.com/watch?v=7VslhZ9Srlk' sudah ada, tidak disimpan.\n",
      "446. Data untuk link 'https://www.youtube.com/watch?v=lE_rG4_aiFw' sudah ada, tidak disimpan.\n",
      "447. Data untuk link 'https://www.youtube.com/watch?v=BvcpeIR_Pz0' sudah ada, tidak disimpan.\n",
      "448. Data untuk link 'https://www.youtube.com/watch?v=9UFGcpG0e4w' sudah ada, tidak disimpan.\n",
      "449. Data untuk link 'https://www.youtube.com/watch?v=s6KzmG2W01k' sudah ada, tidak disimpan.\n",
      "450. Data untuk link 'https://www.youtube.com/watch?v=DnLCQxQ093s' sudah ada, tidak disimpan.\n",
      "451. Data untuk link 'https://www.youtube.com/watch?v=vouqELV9Plg' sudah ada, tidak disimpan.\n",
      "452. Data untuk link 'https://www.youtube.com/watch?v=j4SdYgujr2w' sudah ada, tidak disimpan.\n"
     ]
    },
    {
     "name": "stderr",
     "output_type": "stream",
     "text": [
      "c:\\Users\\ACER-I5\\AppData\\Local\\Programs\\Python\\Python312\\Lib\\site-packages\\whisper\\transcribe.py:115: UserWarning: FP16 is not supported on CPU; using FP32 instead\n",
      "  warnings.warn(\"FP16 is not supported on CPU; using FP32 instead\")\n"
     ]
    },
    {
     "ename": "KeyboardInterrupt",
     "evalue": "",
     "output_type": "error",
     "traceback": [
      "\u001b[1;31m---------------------------------------------------------------------------\u001b[0m",
      "\u001b[1;31mKeyboardInterrupt\u001b[0m                         Traceback (most recent call last)",
      "Cell \u001b[1;32mIn[30], line 708\u001b[0m\n\u001b[0;32m      1\u001b[0m topik \u001b[38;5;241m=\u001b[39m \u001b[38;5;124m\"\u001b[39m\u001b[38;5;124mnasional\u001b[39m\u001b[38;5;124m\"\u001b[39m\n\u001b[0;32m      2\u001b[0m url \u001b[38;5;241m=\u001b[39m [\n\u001b[0;32m      3\u001b[0m     \u001b[38;5;124m\"\u001b[39m\u001b[38;5;124mhttps://www.youtube.com/watch?v=SsYAAUA0WCw\u001b[39m\u001b[38;5;124m\"\u001b[39m,\n\u001b[0;32m      4\u001b[0m     \u001b[38;5;124m\"\u001b[39m\u001b[38;5;124mhttps://www.youtube.com/watch?v=AGmsrREm4Hk\u001b[39m\u001b[38;5;124m\"\u001b[39m,\n\u001b[1;32m   (...)\u001b[0m\n\u001b[0;32m    705\u001b[0m     \u001b[38;5;124m\"\u001b[39m\u001b[38;5;124mhttps://www.youtube.com/watch?v=dYzfTPNjyW8\u001b[39m\u001b[38;5;124m\"\u001b[39m,\n\u001b[0;32m    706\u001b[0m ]\n\u001b[1;32m--> 708\u001b[0m \u001b[43mcreate_and_write_csv\u001b[49m\u001b[43m(\u001b[49m\u001b[43mfilename\u001b[49m\u001b[43m,\u001b[49m\u001b[43m \u001b[49m\u001b[43mtopik\u001b[49m\u001b[43m,\u001b[49m\u001b[43m \u001b[49m\u001b[43murl\u001b[49m\u001b[43m)\u001b[49m\n",
      "Cell \u001b[1;32mIn[7], line 23\u001b[0m, in \u001b[0;36mcreate_and_write_csv\u001b[1;34m(filename, topik, url)\u001b[0m\n\u001b[0;32m     20\u001b[0m     \u001b[38;5;28;01mcontinue\u001b[39;00m\n\u001b[0;32m     22\u001b[0m yt_data \u001b[38;5;241m=\u001b[39m download_video(i)\n\u001b[1;32m---> 23\u001b[0m transkrip \u001b[38;5;241m=\u001b[39m \u001b[43mtranscribe_audio\u001b[49m\u001b[43m(\u001b[49m\u001b[43m)\u001b[49m\n\u001b[0;32m     25\u001b[0m \u001b[38;5;66;03m# Membuat data untuk satu record\u001b[39;00m\n\u001b[0;32m     26\u001b[0m data \u001b[38;5;241m=\u001b[39m {\n\u001b[0;32m     27\u001b[0m     \u001b[38;5;124m\"\u001b[39m\u001b[38;5;124mtopik\u001b[39m\u001b[38;5;124m\"\u001b[39m: [topik],\n\u001b[0;32m     28\u001b[0m     \u001b[38;5;124m\"\u001b[39m\u001b[38;5;124mlink\u001b[39m\u001b[38;5;124m\"\u001b[39m: [i],\n\u001b[1;32m   (...)\u001b[0m\n\u001b[0;32m     31\u001b[0m     \u001b[38;5;124m\"\u001b[39m\u001b[38;5;124mtranskrip\u001b[39m\u001b[38;5;124m\"\u001b[39m: [transkrip],\n\u001b[0;32m     32\u001b[0m }\n",
      "Cell \u001b[1;32mIn[6], line 3\u001b[0m, in \u001b[0;36mtranscribe_audio\u001b[1;34m()\u001b[0m\n\u001b[0;32m      1\u001b[0m \u001b[38;5;28;01mdef\u001b[39;00m \u001b[38;5;21mtranscribe_audio\u001b[39m():\n\u001b[0;32m      2\u001b[0m     model \u001b[38;5;241m=\u001b[39m whisper\u001b[38;5;241m.\u001b[39mload_model(\u001b[38;5;124m\"\u001b[39m\u001b[38;5;124mbase\u001b[39m\u001b[38;5;124m\"\u001b[39m)\n\u001b[1;32m----> 3\u001b[0m     result \u001b[38;5;241m=\u001b[39m \u001b[43mmodel\u001b[49m\u001b[38;5;241;43m.\u001b[39;49m\u001b[43mtranscribe\u001b[49m\u001b[43m(\u001b[49m\u001b[38;5;124;43m\"\u001b[39;49m\u001b[38;5;124;43mdownloads/video.mp4\u001b[39;49m\u001b[38;5;124;43m\"\u001b[39;49m\u001b[43m,\u001b[49m\u001b[43m \u001b[49m\u001b[43mlanguage\u001b[49m\u001b[38;5;241;43m=\u001b[39;49m\u001b[38;5;124;43m\"\u001b[39;49m\u001b[38;5;124;43mid\u001b[39;49m\u001b[38;5;124;43m\"\u001b[39;49m\u001b[43m)\u001b[49m\n\u001b[0;32m      5\u001b[0m     \u001b[38;5;28;01mreturn\u001b[39;00m result[\u001b[38;5;124m\"\u001b[39m\u001b[38;5;124mtext\u001b[39m\u001b[38;5;124m\"\u001b[39m]\n",
      "File \u001b[1;32mc:\\Users\\ACER-I5\\AppData\\Local\\Programs\\Python\\Python312\\Lib\\site-packages\\whisper\\transcribe.py:240\u001b[0m, in \u001b[0;36mtranscribe\u001b[1;34m(model, audio, verbose, temperature, compression_ratio_threshold, logprob_threshold, no_speech_threshold, condition_on_previous_text, initial_prompt, word_timestamps, prepend_punctuations, append_punctuations, **decode_options)\u001b[0m\n\u001b[0;32m    237\u001b[0m mel_segment \u001b[38;5;241m=\u001b[39m pad_or_trim(mel_segment, N_FRAMES)\u001b[38;5;241m.\u001b[39mto(model\u001b[38;5;241m.\u001b[39mdevice)\u001b[38;5;241m.\u001b[39mto(dtype)\n\u001b[0;32m    239\u001b[0m decode_options[\u001b[38;5;124m\"\u001b[39m\u001b[38;5;124mprompt\u001b[39m\u001b[38;5;124m\"\u001b[39m] \u001b[38;5;241m=\u001b[39m all_tokens[prompt_reset_since:]\n\u001b[1;32m--> 240\u001b[0m result: DecodingResult \u001b[38;5;241m=\u001b[39m \u001b[43mdecode_with_fallback\u001b[49m\u001b[43m(\u001b[49m\u001b[43mmel_segment\u001b[49m\u001b[43m)\u001b[49m\n\u001b[0;32m    241\u001b[0m tokens \u001b[38;5;241m=\u001b[39m torch\u001b[38;5;241m.\u001b[39mtensor(result\u001b[38;5;241m.\u001b[39mtokens)\n\u001b[0;32m    243\u001b[0m \u001b[38;5;28;01mif\u001b[39;00m no_speech_threshold \u001b[38;5;129;01mis\u001b[39;00m \u001b[38;5;129;01mnot\u001b[39;00m \u001b[38;5;28;01mNone\u001b[39;00m:\n\u001b[0;32m    244\u001b[0m     \u001b[38;5;66;03m# no voice activity check\u001b[39;00m\n",
      "File \u001b[1;32mc:\\Users\\ACER-I5\\AppData\\Local\\Programs\\Python\\Python312\\Lib\\site-packages\\whisper\\transcribe.py:170\u001b[0m, in \u001b[0;36mtranscribe.<locals>.decode_with_fallback\u001b[1;34m(segment)\u001b[0m\n\u001b[0;32m    167\u001b[0m     kwargs\u001b[38;5;241m.\u001b[39mpop(\u001b[38;5;124m\"\u001b[39m\u001b[38;5;124mbest_of\u001b[39m\u001b[38;5;124m\"\u001b[39m, \u001b[38;5;28;01mNone\u001b[39;00m)\n\u001b[0;32m    169\u001b[0m options \u001b[38;5;241m=\u001b[39m DecodingOptions(\u001b[38;5;241m*\u001b[39m\u001b[38;5;241m*\u001b[39mkwargs, temperature\u001b[38;5;241m=\u001b[39mt)\n\u001b[1;32m--> 170\u001b[0m decode_result \u001b[38;5;241m=\u001b[39m \u001b[43mmodel\u001b[49m\u001b[38;5;241;43m.\u001b[39;49m\u001b[43mdecode\u001b[49m\u001b[43m(\u001b[49m\u001b[43msegment\u001b[49m\u001b[43m,\u001b[49m\u001b[43m \u001b[49m\u001b[43moptions\u001b[49m\u001b[43m)\u001b[49m\n\u001b[0;32m    172\u001b[0m needs_fallback \u001b[38;5;241m=\u001b[39m \u001b[38;5;28;01mFalse\u001b[39;00m\n\u001b[0;32m    173\u001b[0m \u001b[38;5;28;01mif\u001b[39;00m (\n\u001b[0;32m    174\u001b[0m     compression_ratio_threshold \u001b[38;5;129;01mis\u001b[39;00m \u001b[38;5;129;01mnot\u001b[39;00m \u001b[38;5;28;01mNone\u001b[39;00m\n\u001b[0;32m    175\u001b[0m     \u001b[38;5;129;01mand\u001b[39;00m decode_result\u001b[38;5;241m.\u001b[39mcompression_ratio \u001b[38;5;241m>\u001b[39m compression_ratio_threshold\n\u001b[0;32m    176\u001b[0m ):\n",
      "File \u001b[1;32mc:\\Users\\ACER-I5\\AppData\\Local\\Programs\\Python\\Python312\\Lib\\site-packages\\torch\\utils\\_contextlib.py:115\u001b[0m, in \u001b[0;36mcontext_decorator.<locals>.decorate_context\u001b[1;34m(*args, **kwargs)\u001b[0m\n\u001b[0;32m    112\u001b[0m \u001b[38;5;129m@functools\u001b[39m\u001b[38;5;241m.\u001b[39mwraps(func)\n\u001b[0;32m    113\u001b[0m \u001b[38;5;28;01mdef\u001b[39;00m \u001b[38;5;21mdecorate_context\u001b[39m(\u001b[38;5;241m*\u001b[39margs, \u001b[38;5;241m*\u001b[39m\u001b[38;5;241m*\u001b[39mkwargs):\n\u001b[0;32m    114\u001b[0m     \u001b[38;5;28;01mwith\u001b[39;00m ctx_factory():\n\u001b[1;32m--> 115\u001b[0m         \u001b[38;5;28;01mreturn\u001b[39;00m \u001b[43mfunc\u001b[49m\u001b[43m(\u001b[49m\u001b[38;5;241;43m*\u001b[39;49m\u001b[43margs\u001b[49m\u001b[43m,\u001b[49m\u001b[43m \u001b[49m\u001b[38;5;241;43m*\u001b[39;49m\u001b[38;5;241;43m*\u001b[39;49m\u001b[43mkwargs\u001b[49m\u001b[43m)\u001b[49m\n",
      "File \u001b[1;32mc:\\Users\\ACER-I5\\AppData\\Local\\Programs\\Python\\Python312\\Lib\\site-packages\\whisper\\decoding.py:824\u001b[0m, in \u001b[0;36mdecode\u001b[1;34m(model, mel, options, **kwargs)\u001b[0m\n\u001b[0;32m    821\u001b[0m \u001b[38;5;28;01mif\u001b[39;00m kwargs:\n\u001b[0;32m    822\u001b[0m     options \u001b[38;5;241m=\u001b[39m replace(options, \u001b[38;5;241m*\u001b[39m\u001b[38;5;241m*\u001b[39mkwargs)\n\u001b[1;32m--> 824\u001b[0m result \u001b[38;5;241m=\u001b[39m \u001b[43mDecodingTask\u001b[49m\u001b[43m(\u001b[49m\u001b[43mmodel\u001b[49m\u001b[43m,\u001b[49m\u001b[43m \u001b[49m\u001b[43moptions\u001b[49m\u001b[43m)\u001b[49m\u001b[38;5;241;43m.\u001b[39;49m\u001b[43mrun\u001b[49m\u001b[43m(\u001b[49m\u001b[43mmel\u001b[49m\u001b[43m)\u001b[49m\n\u001b[0;32m    826\u001b[0m \u001b[38;5;28;01mreturn\u001b[39;00m result[\u001b[38;5;241m0\u001b[39m] \u001b[38;5;28;01mif\u001b[39;00m single \u001b[38;5;28;01melse\u001b[39;00m result\n",
      "File \u001b[1;32mc:\\Users\\ACER-I5\\AppData\\Local\\Programs\\Python\\Python312\\Lib\\site-packages\\torch\\utils\\_contextlib.py:115\u001b[0m, in \u001b[0;36mcontext_decorator.<locals>.decorate_context\u001b[1;34m(*args, **kwargs)\u001b[0m\n\u001b[0;32m    112\u001b[0m \u001b[38;5;129m@functools\u001b[39m\u001b[38;5;241m.\u001b[39mwraps(func)\n\u001b[0;32m    113\u001b[0m \u001b[38;5;28;01mdef\u001b[39;00m \u001b[38;5;21mdecorate_context\u001b[39m(\u001b[38;5;241m*\u001b[39margs, \u001b[38;5;241m*\u001b[39m\u001b[38;5;241m*\u001b[39mkwargs):\n\u001b[0;32m    114\u001b[0m     \u001b[38;5;28;01mwith\u001b[39;00m ctx_factory():\n\u001b[1;32m--> 115\u001b[0m         \u001b[38;5;28;01mreturn\u001b[39;00m \u001b[43mfunc\u001b[49m\u001b[43m(\u001b[49m\u001b[38;5;241;43m*\u001b[39;49m\u001b[43margs\u001b[49m\u001b[43m,\u001b[49m\u001b[43m \u001b[49m\u001b[38;5;241;43m*\u001b[39;49m\u001b[38;5;241;43m*\u001b[39;49m\u001b[43mkwargs\u001b[49m\u001b[43m)\u001b[49m\n",
      "File \u001b[1;32mc:\\Users\\ACER-I5\\AppData\\Local\\Programs\\Python\\Python312\\Lib\\site-packages\\whisper\\decoding.py:737\u001b[0m, in \u001b[0;36mDecodingTask.run\u001b[1;34m(self, mel)\u001b[0m\n\u001b[0;32m    734\u001b[0m tokens \u001b[38;5;241m=\u001b[39m tokens\u001b[38;5;241m.\u001b[39mrepeat_interleave(\u001b[38;5;28mself\u001b[39m\u001b[38;5;241m.\u001b[39mn_group, dim\u001b[38;5;241m=\u001b[39m\u001b[38;5;241m0\u001b[39m)\u001b[38;5;241m.\u001b[39mto(audio_features\u001b[38;5;241m.\u001b[39mdevice)\n\u001b[0;32m    736\u001b[0m \u001b[38;5;66;03m# call the main sampling loop\u001b[39;00m\n\u001b[1;32m--> 737\u001b[0m tokens, sum_logprobs, no_speech_probs \u001b[38;5;241m=\u001b[39m \u001b[38;5;28;43mself\u001b[39;49m\u001b[38;5;241;43m.\u001b[39;49m\u001b[43m_main_loop\u001b[49m\u001b[43m(\u001b[49m\u001b[43maudio_features\u001b[49m\u001b[43m,\u001b[49m\u001b[43m \u001b[49m\u001b[43mtokens\u001b[49m\u001b[43m)\u001b[49m\n\u001b[0;32m    739\u001b[0m \u001b[38;5;66;03m# reshape the tensors to have (n_audio, n_group) as the first two dimensions\u001b[39;00m\n\u001b[0;32m    740\u001b[0m audio_features \u001b[38;5;241m=\u001b[39m audio_features[:: \u001b[38;5;28mself\u001b[39m\u001b[38;5;241m.\u001b[39mn_group]\n",
      "File \u001b[1;32mc:\\Users\\ACER-I5\\AppData\\Local\\Programs\\Python\\Python312\\Lib\\site-packages\\whisper\\decoding.py:687\u001b[0m, in \u001b[0;36mDecodingTask._main_loop\u001b[1;34m(self, audio_features, tokens)\u001b[0m\n\u001b[0;32m    685\u001b[0m \u001b[38;5;28;01mtry\u001b[39;00m:\n\u001b[0;32m    686\u001b[0m     \u001b[38;5;28;01mfor\u001b[39;00m i \u001b[38;5;129;01min\u001b[39;00m \u001b[38;5;28mrange\u001b[39m(\u001b[38;5;28mself\u001b[39m\u001b[38;5;241m.\u001b[39msample_len):\n\u001b[1;32m--> 687\u001b[0m         logits \u001b[38;5;241m=\u001b[39m \u001b[38;5;28;43mself\u001b[39;49m\u001b[38;5;241;43m.\u001b[39;49m\u001b[43minference\u001b[49m\u001b[38;5;241;43m.\u001b[39;49m\u001b[43mlogits\u001b[49m\u001b[43m(\u001b[49m\u001b[43mtokens\u001b[49m\u001b[43m,\u001b[49m\u001b[43m \u001b[49m\u001b[43maudio_features\u001b[49m\u001b[43m)\u001b[49m\n\u001b[0;32m    689\u001b[0m         \u001b[38;5;28;01mif\u001b[39;00m (\n\u001b[0;32m    690\u001b[0m             i \u001b[38;5;241m==\u001b[39m \u001b[38;5;241m0\u001b[39m \u001b[38;5;129;01mand\u001b[39;00m \u001b[38;5;28mself\u001b[39m\u001b[38;5;241m.\u001b[39mtokenizer\u001b[38;5;241m.\u001b[39mno_speech \u001b[38;5;129;01mis\u001b[39;00m \u001b[38;5;129;01mnot\u001b[39;00m \u001b[38;5;28;01mNone\u001b[39;00m\n\u001b[0;32m    691\u001b[0m         ):  \u001b[38;5;66;03m# save no_speech_probs\u001b[39;00m\n\u001b[0;32m    692\u001b[0m             probs_at_sot \u001b[38;5;241m=\u001b[39m logits[:, \u001b[38;5;28mself\u001b[39m\u001b[38;5;241m.\u001b[39msot_index]\u001b[38;5;241m.\u001b[39mfloat()\u001b[38;5;241m.\u001b[39msoftmax(dim\u001b[38;5;241m=\u001b[39m\u001b[38;5;241m-\u001b[39m\u001b[38;5;241m1\u001b[39m)\n",
      "File \u001b[1;32mc:\\Users\\ACER-I5\\AppData\\Local\\Programs\\Python\\Python312\\Lib\\site-packages\\whisper\\decoding.py:163\u001b[0m, in \u001b[0;36mPyTorchInference.logits\u001b[1;34m(self, tokens, audio_features)\u001b[0m\n\u001b[0;32m    159\u001b[0m \u001b[38;5;28;01mif\u001b[39;00m tokens\u001b[38;5;241m.\u001b[39mshape[\u001b[38;5;241m-\u001b[39m\u001b[38;5;241m1\u001b[39m] \u001b[38;5;241m>\u001b[39m \u001b[38;5;28mself\u001b[39m\u001b[38;5;241m.\u001b[39minitial_token_length:\n\u001b[0;32m    160\u001b[0m     \u001b[38;5;66;03m# only need to use the last token except in the first forward pass\u001b[39;00m\n\u001b[0;32m    161\u001b[0m     tokens \u001b[38;5;241m=\u001b[39m tokens[:, \u001b[38;5;241m-\u001b[39m\u001b[38;5;241m1\u001b[39m:]\n\u001b[1;32m--> 163\u001b[0m \u001b[38;5;28;01mreturn\u001b[39;00m \u001b[38;5;28;43mself\u001b[39;49m\u001b[38;5;241;43m.\u001b[39;49m\u001b[43mmodel\u001b[49m\u001b[38;5;241;43m.\u001b[39;49m\u001b[43mdecoder\u001b[49m\u001b[43m(\u001b[49m\u001b[43mtokens\u001b[49m\u001b[43m,\u001b[49m\u001b[43m \u001b[49m\u001b[43maudio_features\u001b[49m\u001b[43m,\u001b[49m\u001b[43m \u001b[49m\u001b[43mkv_cache\u001b[49m\u001b[38;5;241;43m=\u001b[39;49m\u001b[38;5;28;43mself\u001b[39;49m\u001b[38;5;241;43m.\u001b[39;49m\u001b[43mkv_cache\u001b[49m\u001b[43m)\u001b[49m\n",
      "File \u001b[1;32mc:\\Users\\ACER-I5\\AppData\\Local\\Programs\\Python\\Python312\\Lib\\site-packages\\torch\\nn\\modules\\module.py:1511\u001b[0m, in \u001b[0;36mModule._wrapped_call_impl\u001b[1;34m(self, *args, **kwargs)\u001b[0m\n\u001b[0;32m   1509\u001b[0m     \u001b[38;5;28;01mreturn\u001b[39;00m \u001b[38;5;28mself\u001b[39m\u001b[38;5;241m.\u001b[39m_compiled_call_impl(\u001b[38;5;241m*\u001b[39margs, \u001b[38;5;241m*\u001b[39m\u001b[38;5;241m*\u001b[39mkwargs)  \u001b[38;5;66;03m# type: ignore[misc]\u001b[39;00m\n\u001b[0;32m   1510\u001b[0m \u001b[38;5;28;01melse\u001b[39;00m:\n\u001b[1;32m-> 1511\u001b[0m     \u001b[38;5;28;01mreturn\u001b[39;00m \u001b[38;5;28;43mself\u001b[39;49m\u001b[38;5;241;43m.\u001b[39;49m\u001b[43m_call_impl\u001b[49m\u001b[43m(\u001b[49m\u001b[38;5;241;43m*\u001b[39;49m\u001b[43margs\u001b[49m\u001b[43m,\u001b[49m\u001b[43m \u001b[49m\u001b[38;5;241;43m*\u001b[39;49m\u001b[38;5;241;43m*\u001b[39;49m\u001b[43mkwargs\u001b[49m\u001b[43m)\u001b[49m\n",
      "File \u001b[1;32mc:\\Users\\ACER-I5\\AppData\\Local\\Programs\\Python\\Python312\\Lib\\site-packages\\torch\\nn\\modules\\module.py:1520\u001b[0m, in \u001b[0;36mModule._call_impl\u001b[1;34m(self, *args, **kwargs)\u001b[0m\n\u001b[0;32m   1515\u001b[0m \u001b[38;5;66;03m# If we don't have any hooks, we want to skip the rest of the logic in\u001b[39;00m\n\u001b[0;32m   1516\u001b[0m \u001b[38;5;66;03m# this function, and just call forward.\u001b[39;00m\n\u001b[0;32m   1517\u001b[0m \u001b[38;5;28;01mif\u001b[39;00m \u001b[38;5;129;01mnot\u001b[39;00m (\u001b[38;5;28mself\u001b[39m\u001b[38;5;241m.\u001b[39m_backward_hooks \u001b[38;5;129;01mor\u001b[39;00m \u001b[38;5;28mself\u001b[39m\u001b[38;5;241m.\u001b[39m_backward_pre_hooks \u001b[38;5;129;01mor\u001b[39;00m \u001b[38;5;28mself\u001b[39m\u001b[38;5;241m.\u001b[39m_forward_hooks \u001b[38;5;129;01mor\u001b[39;00m \u001b[38;5;28mself\u001b[39m\u001b[38;5;241m.\u001b[39m_forward_pre_hooks\n\u001b[0;32m   1518\u001b[0m         \u001b[38;5;129;01mor\u001b[39;00m _global_backward_pre_hooks \u001b[38;5;129;01mor\u001b[39;00m _global_backward_hooks\n\u001b[0;32m   1519\u001b[0m         \u001b[38;5;129;01mor\u001b[39;00m _global_forward_hooks \u001b[38;5;129;01mor\u001b[39;00m _global_forward_pre_hooks):\n\u001b[1;32m-> 1520\u001b[0m     \u001b[38;5;28;01mreturn\u001b[39;00m \u001b[43mforward_call\u001b[49m\u001b[43m(\u001b[49m\u001b[38;5;241;43m*\u001b[39;49m\u001b[43margs\u001b[49m\u001b[43m,\u001b[49m\u001b[43m \u001b[49m\u001b[38;5;241;43m*\u001b[39;49m\u001b[38;5;241;43m*\u001b[39;49m\u001b[43mkwargs\u001b[49m\u001b[43m)\u001b[49m\n\u001b[0;32m   1522\u001b[0m \u001b[38;5;28;01mtry\u001b[39;00m:\n\u001b[0;32m   1523\u001b[0m     result \u001b[38;5;241m=\u001b[39m \u001b[38;5;28;01mNone\u001b[39;00m\n",
      "File \u001b[1;32mc:\\Users\\ACER-I5\\AppData\\Local\\Programs\\Python\\Python312\\Lib\\site-packages\\whisper\\model.py:211\u001b[0m, in \u001b[0;36mTextDecoder.forward\u001b[1;34m(self, x, xa, kv_cache)\u001b[0m\n\u001b[0;32m    208\u001b[0m x \u001b[38;5;241m=\u001b[39m x\u001b[38;5;241m.\u001b[39mto(xa\u001b[38;5;241m.\u001b[39mdtype)\n\u001b[0;32m    210\u001b[0m \u001b[38;5;28;01mfor\u001b[39;00m block \u001b[38;5;129;01min\u001b[39;00m \u001b[38;5;28mself\u001b[39m\u001b[38;5;241m.\u001b[39mblocks:\n\u001b[1;32m--> 211\u001b[0m     x \u001b[38;5;241m=\u001b[39m \u001b[43mblock\u001b[49m\u001b[43m(\u001b[49m\u001b[43mx\u001b[49m\u001b[43m,\u001b[49m\u001b[43m \u001b[49m\u001b[43mxa\u001b[49m\u001b[43m,\u001b[49m\u001b[43m \u001b[49m\u001b[43mmask\u001b[49m\u001b[38;5;241;43m=\u001b[39;49m\u001b[38;5;28;43mself\u001b[39;49m\u001b[38;5;241;43m.\u001b[39;49m\u001b[43mmask\u001b[49m\u001b[43m,\u001b[49m\u001b[43m \u001b[49m\u001b[43mkv_cache\u001b[49m\u001b[38;5;241;43m=\u001b[39;49m\u001b[43mkv_cache\u001b[49m\u001b[43m)\u001b[49m\n\u001b[0;32m    213\u001b[0m x \u001b[38;5;241m=\u001b[39m \u001b[38;5;28mself\u001b[39m\u001b[38;5;241m.\u001b[39mln(x)\n\u001b[0;32m    214\u001b[0m logits \u001b[38;5;241m=\u001b[39m (\n\u001b[0;32m    215\u001b[0m     x \u001b[38;5;241m@\u001b[39m torch\u001b[38;5;241m.\u001b[39mtranspose(\u001b[38;5;28mself\u001b[39m\u001b[38;5;241m.\u001b[39mtoken_embedding\u001b[38;5;241m.\u001b[39mweight\u001b[38;5;241m.\u001b[39mto(x\u001b[38;5;241m.\u001b[39mdtype), \u001b[38;5;241m0\u001b[39m, \u001b[38;5;241m1\u001b[39m)\n\u001b[0;32m    216\u001b[0m )\u001b[38;5;241m.\u001b[39mfloat()\n",
      "File \u001b[1;32mc:\\Users\\ACER-I5\\AppData\\Local\\Programs\\Python\\Python312\\Lib\\site-packages\\torch\\nn\\modules\\module.py:1511\u001b[0m, in \u001b[0;36mModule._wrapped_call_impl\u001b[1;34m(self, *args, **kwargs)\u001b[0m\n\u001b[0;32m   1509\u001b[0m     \u001b[38;5;28;01mreturn\u001b[39;00m \u001b[38;5;28mself\u001b[39m\u001b[38;5;241m.\u001b[39m_compiled_call_impl(\u001b[38;5;241m*\u001b[39margs, \u001b[38;5;241m*\u001b[39m\u001b[38;5;241m*\u001b[39mkwargs)  \u001b[38;5;66;03m# type: ignore[misc]\u001b[39;00m\n\u001b[0;32m   1510\u001b[0m \u001b[38;5;28;01melse\u001b[39;00m:\n\u001b[1;32m-> 1511\u001b[0m     \u001b[38;5;28;01mreturn\u001b[39;00m \u001b[38;5;28;43mself\u001b[39;49m\u001b[38;5;241;43m.\u001b[39;49m\u001b[43m_call_impl\u001b[49m\u001b[43m(\u001b[49m\u001b[38;5;241;43m*\u001b[39;49m\u001b[43margs\u001b[49m\u001b[43m,\u001b[49m\u001b[43m \u001b[49m\u001b[38;5;241;43m*\u001b[39;49m\u001b[38;5;241;43m*\u001b[39;49m\u001b[43mkwargs\u001b[49m\u001b[43m)\u001b[49m\n",
      "File \u001b[1;32mc:\\Users\\ACER-I5\\AppData\\Local\\Programs\\Python\\Python312\\Lib\\site-packages\\torch\\nn\\modules\\module.py:1520\u001b[0m, in \u001b[0;36mModule._call_impl\u001b[1;34m(self, *args, **kwargs)\u001b[0m\n\u001b[0;32m   1515\u001b[0m \u001b[38;5;66;03m# If we don't have any hooks, we want to skip the rest of the logic in\u001b[39;00m\n\u001b[0;32m   1516\u001b[0m \u001b[38;5;66;03m# this function, and just call forward.\u001b[39;00m\n\u001b[0;32m   1517\u001b[0m \u001b[38;5;28;01mif\u001b[39;00m \u001b[38;5;129;01mnot\u001b[39;00m (\u001b[38;5;28mself\u001b[39m\u001b[38;5;241m.\u001b[39m_backward_hooks \u001b[38;5;129;01mor\u001b[39;00m \u001b[38;5;28mself\u001b[39m\u001b[38;5;241m.\u001b[39m_backward_pre_hooks \u001b[38;5;129;01mor\u001b[39;00m \u001b[38;5;28mself\u001b[39m\u001b[38;5;241m.\u001b[39m_forward_hooks \u001b[38;5;129;01mor\u001b[39;00m \u001b[38;5;28mself\u001b[39m\u001b[38;5;241m.\u001b[39m_forward_pre_hooks\n\u001b[0;32m   1518\u001b[0m         \u001b[38;5;129;01mor\u001b[39;00m _global_backward_pre_hooks \u001b[38;5;129;01mor\u001b[39;00m _global_backward_hooks\n\u001b[0;32m   1519\u001b[0m         \u001b[38;5;129;01mor\u001b[39;00m _global_forward_hooks \u001b[38;5;129;01mor\u001b[39;00m _global_forward_pre_hooks):\n\u001b[1;32m-> 1520\u001b[0m     \u001b[38;5;28;01mreturn\u001b[39;00m \u001b[43mforward_call\u001b[49m\u001b[43m(\u001b[49m\u001b[38;5;241;43m*\u001b[39;49m\u001b[43margs\u001b[49m\u001b[43m,\u001b[49m\u001b[43m \u001b[49m\u001b[38;5;241;43m*\u001b[39;49m\u001b[38;5;241;43m*\u001b[39;49m\u001b[43mkwargs\u001b[49m\u001b[43m)\u001b[49m\n\u001b[0;32m   1522\u001b[0m \u001b[38;5;28;01mtry\u001b[39;00m:\n\u001b[0;32m   1523\u001b[0m     result \u001b[38;5;241m=\u001b[39m \u001b[38;5;28;01mNone\u001b[39;00m\n",
      "File \u001b[1;32mc:\\Users\\ACER-I5\\AppData\\Local\\Programs\\Python\\Python312\\Lib\\site-packages\\whisper\\model.py:138\u001b[0m, in \u001b[0;36mResidualAttentionBlock.forward\u001b[1;34m(self, x, xa, mask, kv_cache)\u001b[0m\n\u001b[0;32m    136\u001b[0m x \u001b[38;5;241m=\u001b[39m x \u001b[38;5;241m+\u001b[39m \u001b[38;5;28mself\u001b[39m\u001b[38;5;241m.\u001b[39mattn(\u001b[38;5;28mself\u001b[39m\u001b[38;5;241m.\u001b[39mattn_ln(x), mask\u001b[38;5;241m=\u001b[39mmask, kv_cache\u001b[38;5;241m=\u001b[39mkv_cache)[\u001b[38;5;241m0\u001b[39m]\n\u001b[0;32m    137\u001b[0m \u001b[38;5;28;01mif\u001b[39;00m \u001b[38;5;28mself\u001b[39m\u001b[38;5;241m.\u001b[39mcross_attn:\n\u001b[1;32m--> 138\u001b[0m     x \u001b[38;5;241m=\u001b[39m x \u001b[38;5;241m+\u001b[39m \u001b[38;5;28;43mself\u001b[39;49m\u001b[38;5;241;43m.\u001b[39;49m\u001b[43mcross_attn\u001b[49m\u001b[43m(\u001b[49m\u001b[38;5;28;43mself\u001b[39;49m\u001b[38;5;241;43m.\u001b[39;49m\u001b[43mcross_attn_ln\u001b[49m\u001b[43m(\u001b[49m\u001b[43mx\u001b[49m\u001b[43m)\u001b[49m\u001b[43m,\u001b[49m\u001b[43m \u001b[49m\u001b[43mxa\u001b[49m\u001b[43m,\u001b[49m\u001b[43m \u001b[49m\u001b[43mkv_cache\u001b[49m\u001b[38;5;241;43m=\u001b[39;49m\u001b[43mkv_cache\u001b[49m\u001b[43m)\u001b[49m[\u001b[38;5;241m0\u001b[39m]\n\u001b[0;32m    139\u001b[0m x \u001b[38;5;241m=\u001b[39m x \u001b[38;5;241m+\u001b[39m \u001b[38;5;28mself\u001b[39m\u001b[38;5;241m.\u001b[39mmlp(\u001b[38;5;28mself\u001b[39m\u001b[38;5;241m.\u001b[39mmlp_ln(x))\n\u001b[0;32m    140\u001b[0m \u001b[38;5;28;01mreturn\u001b[39;00m x\n",
      "File \u001b[1;32mc:\\Users\\ACER-I5\\AppData\\Local\\Programs\\Python\\Python312\\Lib\\site-packages\\torch\\nn\\modules\\module.py:1511\u001b[0m, in \u001b[0;36mModule._wrapped_call_impl\u001b[1;34m(self, *args, **kwargs)\u001b[0m\n\u001b[0;32m   1509\u001b[0m     \u001b[38;5;28;01mreturn\u001b[39;00m \u001b[38;5;28mself\u001b[39m\u001b[38;5;241m.\u001b[39m_compiled_call_impl(\u001b[38;5;241m*\u001b[39margs, \u001b[38;5;241m*\u001b[39m\u001b[38;5;241m*\u001b[39mkwargs)  \u001b[38;5;66;03m# type: ignore[misc]\u001b[39;00m\n\u001b[0;32m   1510\u001b[0m \u001b[38;5;28;01melse\u001b[39;00m:\n\u001b[1;32m-> 1511\u001b[0m     \u001b[38;5;28;01mreturn\u001b[39;00m \u001b[38;5;28;43mself\u001b[39;49m\u001b[38;5;241;43m.\u001b[39;49m\u001b[43m_call_impl\u001b[49m\u001b[43m(\u001b[49m\u001b[38;5;241;43m*\u001b[39;49m\u001b[43margs\u001b[49m\u001b[43m,\u001b[49m\u001b[43m \u001b[49m\u001b[38;5;241;43m*\u001b[39;49m\u001b[38;5;241;43m*\u001b[39;49m\u001b[43mkwargs\u001b[49m\u001b[43m)\u001b[49m\n",
      "File \u001b[1;32mc:\\Users\\ACER-I5\\AppData\\Local\\Programs\\Python\\Python312\\Lib\\site-packages\\torch\\nn\\modules\\module.py:1520\u001b[0m, in \u001b[0;36mModule._call_impl\u001b[1;34m(self, *args, **kwargs)\u001b[0m\n\u001b[0;32m   1515\u001b[0m \u001b[38;5;66;03m# If we don't have any hooks, we want to skip the rest of the logic in\u001b[39;00m\n\u001b[0;32m   1516\u001b[0m \u001b[38;5;66;03m# this function, and just call forward.\u001b[39;00m\n\u001b[0;32m   1517\u001b[0m \u001b[38;5;28;01mif\u001b[39;00m \u001b[38;5;129;01mnot\u001b[39;00m (\u001b[38;5;28mself\u001b[39m\u001b[38;5;241m.\u001b[39m_backward_hooks \u001b[38;5;129;01mor\u001b[39;00m \u001b[38;5;28mself\u001b[39m\u001b[38;5;241m.\u001b[39m_backward_pre_hooks \u001b[38;5;129;01mor\u001b[39;00m \u001b[38;5;28mself\u001b[39m\u001b[38;5;241m.\u001b[39m_forward_hooks \u001b[38;5;129;01mor\u001b[39;00m \u001b[38;5;28mself\u001b[39m\u001b[38;5;241m.\u001b[39m_forward_pre_hooks\n\u001b[0;32m   1518\u001b[0m         \u001b[38;5;129;01mor\u001b[39;00m _global_backward_pre_hooks \u001b[38;5;129;01mor\u001b[39;00m _global_backward_hooks\n\u001b[0;32m   1519\u001b[0m         \u001b[38;5;129;01mor\u001b[39;00m _global_forward_hooks \u001b[38;5;129;01mor\u001b[39;00m _global_forward_pre_hooks):\n\u001b[1;32m-> 1520\u001b[0m     \u001b[38;5;28;01mreturn\u001b[39;00m \u001b[43mforward_call\u001b[49m\u001b[43m(\u001b[49m\u001b[38;5;241;43m*\u001b[39;49m\u001b[43margs\u001b[49m\u001b[43m,\u001b[49m\u001b[43m \u001b[49m\u001b[38;5;241;43m*\u001b[39;49m\u001b[38;5;241;43m*\u001b[39;49m\u001b[43mkwargs\u001b[49m\u001b[43m)\u001b[49m\n\u001b[0;32m   1522\u001b[0m \u001b[38;5;28;01mtry\u001b[39;00m:\n\u001b[0;32m   1523\u001b[0m     result \u001b[38;5;241m=\u001b[39m \u001b[38;5;28;01mNone\u001b[39;00m\n",
      "File \u001b[1;32mc:\\Users\\ACER-I5\\AppData\\Local\\Programs\\Python\\Python312\\Lib\\site-packages\\whisper\\model.py:83\u001b[0m, in \u001b[0;36mMultiHeadAttention.forward\u001b[1;34m(self, x, xa, mask, kv_cache)\u001b[0m\n\u001b[0;32m     78\u001b[0m q \u001b[38;5;241m=\u001b[39m \u001b[38;5;28mself\u001b[39m\u001b[38;5;241m.\u001b[39mquery(x)\n\u001b[0;32m     80\u001b[0m \u001b[38;5;28;01mif\u001b[39;00m kv_cache \u001b[38;5;129;01mis\u001b[39;00m \u001b[38;5;28;01mNone\u001b[39;00m \u001b[38;5;129;01mor\u001b[39;00m xa \u001b[38;5;129;01mis\u001b[39;00m \u001b[38;5;28;01mNone\u001b[39;00m \u001b[38;5;129;01mor\u001b[39;00m \u001b[38;5;28mself\u001b[39m\u001b[38;5;241m.\u001b[39mkey \u001b[38;5;129;01mnot\u001b[39;00m \u001b[38;5;129;01min\u001b[39;00m kv_cache:\n\u001b[0;32m     81\u001b[0m     \u001b[38;5;66;03m# hooks, if installed (i.e. kv_cache is not None), will prepend the cached kv tensors;\u001b[39;00m\n\u001b[0;32m     82\u001b[0m     \u001b[38;5;66;03m# otherwise, perform key/value projections for self- or cross-attention as usual.\u001b[39;00m\n\u001b[1;32m---> 83\u001b[0m     k \u001b[38;5;241m=\u001b[39m \u001b[38;5;28;43mself\u001b[39;49m\u001b[38;5;241;43m.\u001b[39;49m\u001b[43mkey\u001b[49m\u001b[43m(\u001b[49m\u001b[43mx\u001b[49m\u001b[43m \u001b[49m\u001b[38;5;28;43;01mif\u001b[39;49;00m\u001b[43m \u001b[49m\u001b[43mxa\u001b[49m\u001b[43m \u001b[49m\u001b[38;5;129;43;01mis\u001b[39;49;00m\u001b[43m \u001b[49m\u001b[38;5;28;43;01mNone\u001b[39;49;00m\u001b[43m \u001b[49m\u001b[38;5;28;43;01melse\u001b[39;49;00m\u001b[43m \u001b[49m\u001b[43mxa\u001b[49m\u001b[43m)\u001b[49m\n\u001b[0;32m     84\u001b[0m     v \u001b[38;5;241m=\u001b[39m \u001b[38;5;28mself\u001b[39m\u001b[38;5;241m.\u001b[39mvalue(x \u001b[38;5;28;01mif\u001b[39;00m xa \u001b[38;5;129;01mis\u001b[39;00m \u001b[38;5;28;01mNone\u001b[39;00m \u001b[38;5;28;01melse\u001b[39;00m xa)\n\u001b[0;32m     85\u001b[0m \u001b[38;5;28;01melse\u001b[39;00m:\n\u001b[0;32m     86\u001b[0m     \u001b[38;5;66;03m# for cross-attention, calculate keys and values once and reuse in subsequent calls.\u001b[39;00m\n",
      "File \u001b[1;32mc:\\Users\\ACER-I5\\AppData\\Local\\Programs\\Python\\Python312\\Lib\\site-packages\\torch\\nn\\modules\\module.py:1511\u001b[0m, in \u001b[0;36mModule._wrapped_call_impl\u001b[1;34m(self, *args, **kwargs)\u001b[0m\n\u001b[0;32m   1509\u001b[0m     \u001b[38;5;28;01mreturn\u001b[39;00m \u001b[38;5;28mself\u001b[39m\u001b[38;5;241m.\u001b[39m_compiled_call_impl(\u001b[38;5;241m*\u001b[39margs, \u001b[38;5;241m*\u001b[39m\u001b[38;5;241m*\u001b[39mkwargs)  \u001b[38;5;66;03m# type: ignore[misc]\u001b[39;00m\n\u001b[0;32m   1510\u001b[0m \u001b[38;5;28;01melse\u001b[39;00m:\n\u001b[1;32m-> 1511\u001b[0m     \u001b[38;5;28;01mreturn\u001b[39;00m \u001b[38;5;28;43mself\u001b[39;49m\u001b[38;5;241;43m.\u001b[39;49m\u001b[43m_call_impl\u001b[49m\u001b[43m(\u001b[49m\u001b[38;5;241;43m*\u001b[39;49m\u001b[43margs\u001b[49m\u001b[43m,\u001b[49m\u001b[43m \u001b[49m\u001b[38;5;241;43m*\u001b[39;49m\u001b[38;5;241;43m*\u001b[39;49m\u001b[43mkwargs\u001b[49m\u001b[43m)\u001b[49m\n",
      "File \u001b[1;32mc:\\Users\\ACER-I5\\AppData\\Local\\Programs\\Python\\Python312\\Lib\\site-packages\\torch\\nn\\modules\\module.py:1561\u001b[0m, in \u001b[0;36mModule._call_impl\u001b[1;34m(self, *args, **kwargs)\u001b[0m\n\u001b[0;32m   1558\u001b[0m     bw_hook \u001b[38;5;241m=\u001b[39m hooks\u001b[38;5;241m.\u001b[39mBackwardHook(\u001b[38;5;28mself\u001b[39m, full_backward_hooks, backward_pre_hooks)\n\u001b[0;32m   1559\u001b[0m     args \u001b[38;5;241m=\u001b[39m bw_hook\u001b[38;5;241m.\u001b[39msetup_input_hook(args)\n\u001b[1;32m-> 1561\u001b[0m result \u001b[38;5;241m=\u001b[39m \u001b[43mforward_call\u001b[49m\u001b[43m(\u001b[49m\u001b[38;5;241;43m*\u001b[39;49m\u001b[43margs\u001b[49m\u001b[43m,\u001b[49m\u001b[43m \u001b[49m\u001b[38;5;241;43m*\u001b[39;49m\u001b[38;5;241;43m*\u001b[39;49m\u001b[43mkwargs\u001b[49m\u001b[43m)\u001b[49m\n\u001b[0;32m   1562\u001b[0m \u001b[38;5;28;01mif\u001b[39;00m _global_forward_hooks \u001b[38;5;129;01mor\u001b[39;00m \u001b[38;5;28mself\u001b[39m\u001b[38;5;241m.\u001b[39m_forward_hooks:\n\u001b[0;32m   1563\u001b[0m     \u001b[38;5;28;01mfor\u001b[39;00m hook_id, hook \u001b[38;5;129;01min\u001b[39;00m (\n\u001b[0;32m   1564\u001b[0m         \u001b[38;5;241m*\u001b[39m_global_forward_hooks\u001b[38;5;241m.\u001b[39mitems(),\n\u001b[0;32m   1565\u001b[0m         \u001b[38;5;241m*\u001b[39m\u001b[38;5;28mself\u001b[39m\u001b[38;5;241m.\u001b[39m_forward_hooks\u001b[38;5;241m.\u001b[39mitems(),\n\u001b[0;32m   1566\u001b[0m     ):\n\u001b[0;32m   1567\u001b[0m         \u001b[38;5;66;03m# mark that always called hook is run\u001b[39;00m\n",
      "File \u001b[1;32mc:\\Users\\ACER-I5\\AppData\\Local\\Programs\\Python\\Python312\\Lib\\site-packages\\whisper\\model.py:37\u001b[0m, in \u001b[0;36mLinear.forward\u001b[1;34m(self, x)\u001b[0m\n\u001b[0;32m     36\u001b[0m \u001b[38;5;28;01mdef\u001b[39;00m \u001b[38;5;21mforward\u001b[39m(\u001b[38;5;28mself\u001b[39m, x: Tensor) \u001b[38;5;241m-\u001b[39m\u001b[38;5;241m>\u001b[39m Tensor:\n\u001b[1;32m---> 37\u001b[0m     \u001b[38;5;28;01mreturn\u001b[39;00m \u001b[43mF\u001b[49m\u001b[38;5;241;43m.\u001b[39;49m\u001b[43mlinear\u001b[49m\u001b[43m(\u001b[49m\n\u001b[0;32m     38\u001b[0m \u001b[43m        \u001b[49m\u001b[43mx\u001b[49m\u001b[43m,\u001b[49m\n\u001b[0;32m     39\u001b[0m \u001b[43m        \u001b[49m\u001b[38;5;28;43mself\u001b[39;49m\u001b[38;5;241;43m.\u001b[39;49m\u001b[43mweight\u001b[49m\u001b[38;5;241;43m.\u001b[39;49m\u001b[43mto\u001b[49m\u001b[43m(\u001b[49m\u001b[43mx\u001b[49m\u001b[38;5;241;43m.\u001b[39;49m\u001b[43mdtype\u001b[49m\u001b[43m)\u001b[49m\u001b[43m,\u001b[49m\n\u001b[0;32m     40\u001b[0m \u001b[43m        \u001b[49m\u001b[38;5;28;43;01mNone\u001b[39;49;00m\u001b[43m \u001b[49m\u001b[38;5;28;43;01mif\u001b[39;49;00m\u001b[43m \u001b[49m\u001b[38;5;28;43mself\u001b[39;49m\u001b[38;5;241;43m.\u001b[39;49m\u001b[43mbias\u001b[49m\u001b[43m \u001b[49m\u001b[38;5;129;43;01mis\u001b[39;49;00m\u001b[43m \u001b[49m\u001b[38;5;28;43;01mNone\u001b[39;49;00m\u001b[43m \u001b[49m\u001b[38;5;28;43;01melse\u001b[39;49;00m\u001b[43m \u001b[49m\u001b[38;5;28;43mself\u001b[39;49m\u001b[38;5;241;43m.\u001b[39;49m\u001b[43mbias\u001b[49m\u001b[38;5;241;43m.\u001b[39;49m\u001b[43mto\u001b[49m\u001b[43m(\u001b[49m\u001b[43mx\u001b[49m\u001b[38;5;241;43m.\u001b[39;49m\u001b[43mdtype\u001b[49m\u001b[43m)\u001b[49m\u001b[43m,\u001b[49m\n\u001b[0;32m     41\u001b[0m \u001b[43m    \u001b[49m\u001b[43m)\u001b[49m\n",
      "\u001b[1;31mKeyboardInterrupt\u001b[0m: "
     ]
    }
   ],
   "source": [
    "topik = \"nasional\"\n",
    "url = [\n",
    "    \"https://www.youtube.com/watch?v=SsYAAUA0WCw\",\n",
    "    \"https://www.youtube.com/watch?v=AGmsrREm4Hk\",\n",
    "    \"https://www.youtube.com/watch?v=cUPMlTyPfls\",\n",
    "    \"https://www.youtube.com/watch?v=c7-ewUbqBOA\",\n",
    "    \"https://www.youtube.com/watch?v=Woj3wuM3Jk0\",\n",
    "    \"https://www.youtube.com/watch?v=H-XHGYsdZ_g\",\n",
    "    \"https://www.youtube.com/watch?v=gpTJft8syj8\",\n",
    "    \"https://www.youtube.com/watch?v=D0mRY78KlA8\",\n",
    "    \"https://www.youtube.com/watch?v=NKasN3wUli4\",\n",
    "    \"https://www.youtube.com/watch?v=dNayS_PxPFk\",\n",
    "    \"https://www.youtube.com/watch?v=mlGPUHoTj0k\",\n",
    "    \"https://www.youtube.com/watch?v=ETnaGZ7bHeM\",\n",
    "    \"https://www.youtube.com/watch?v=Bs-AF8-MmAk\",\n",
    "    \"https://www.youtube.com/watch?v=GcUsIxbYtJk\",\n",
    "    \"https://www.youtube.com/watch?v=1LC4B5td6nU\",\n",
    "    \"https://www.youtube.com/watch?v=kq8xe0xXj_8\",\n",
    "    \"https://www.youtube.com/watch?v=uvU_A1E1SKg\",\n",
    "    \"https://www.youtube.com/watch?v=RpAqMV-_nhQ\",\n",
    "    \"https://www.youtube.com/watch?v=7hUWjsvgvKM\",\n",
    "    \"https://www.youtube.com/watch?v=VLK6UkvU9T8\",\n",
    "    \"https://www.youtube.com/watch?v=w7lx7TLZeUM\",\n",
    "    \"https://www.youtube.com/watch?v=pxZ51NN-MxM\",\n",
    "    \"https://www.youtube.com/watch?v=QEEElvNO9Ac\",\n",
    "    \"https://www.youtube.com/watch?v=by3lXo8vOfM\",\n",
    "    \"https://www.youtube.com/watch?v=DSoDYqZS7aQ\",\n",
    "    \"https://www.youtube.com/watch?v=-L5oFxIJ-zE\",\n",
    "    \"https://www.youtube.com/watch?v=bmXOUCHnCG8\",\n",
    "    \"https://www.youtube.com/watch?v=ZBqYhWLM-mA\",\n",
    "    \"https://www.youtube.com/watch?v=TDzD1ywUOCs\",\n",
    "    \"https://www.youtube.com/watch?v=aHg8z6FBAuI\",\n",
    "    \"https://www.youtube.com/watch?v=Un5klGla3HQ\",\n",
    "    \"https://www.youtube.com/watch?v=voShbF-5HJg\",\n",
    "    \"https://www.youtube.com/watch?v=ABWfSCxR78k\",\n",
    "    \"https://www.youtube.com/watch?v=9L9-cRF2ax4\",\n",
    "    \"https://www.youtube.com/watch?v=QlcDroMgCuY\",\n",
    "    \"https://www.youtube.com/watch?v=EEVGjZyzblA\",\n",
    "    \"https://www.youtube.com/watch?v=VSUIe74bNhY\",\n",
    "    \"https://www.youtube.com/watch?v=IvV1N7moSrI\",\n",
    "    \"https://www.youtube.com/watch?v=ErpNVPZ0y3c\",\n",
    "    \"https://www.youtube.com/watch?v=7IWsb2SA70E\",\n",
    "    \"https://www.youtube.com/watch?v=ZCVqPCMReNI\",\n",
    "    \"https://www.youtube.com/watch?v=dJAaaG2CXRY\",\n",
    "    \"https://www.youtube.com/watch?v=zlXlidBASoU\",\n",
    "    \"https://www.youtube.com/watch?v=0jlTHSWZypg\",\n",
    "    \"https://www.youtube.com/watch?v=570T3grzkoE\",\n",
    "    \"https://www.youtube.com/watch?v=Wx4MzpzUDso\",\n",
    "    \"https://www.youtube.com/watch?v=ZJnKN7lzsRA\",\n",
    "    \"https://www.youtube.com/watch?v=GN1AxQqbRXk\",\n",
    "    \"https://www.youtube.com/watch?v=9VJe94rKDbo\",\n",
    "    \"https://www.youtube.com/watch?v=WEBzMGlGG9E\",\n",
    "    \"https://www.youtube.com/watch?v=N12xPWAC2gA\",\n",
    "    \"https://www.youtube.com/watch?v=KV9CtBXP6CI\",\n",
    "    \"https://www.youtube.com/watch?v=rPjylIc0Adk\",\n",
    "    \"https://www.youtube.com/watch?v=bk6piw05Cn0\",\n",
    "    \"https://www.youtube.com/watch?v=sIp6MBuIwo4\",\n",
    "    \"https://www.youtube.com/watch?v=x7kni2rFkOk\",\n",
    "    \"https://www.youtube.com/watch?v=osB_XeQNErE\",\n",
    "    \"https://www.youtube.com/watch?v=Y1DoCTIUdtc\",\n",
    "    \"https://www.youtube.com/watch?v=NlbX6GJiBHk\",\n",
    "    \"https://www.youtube.com/watch?v=5A59rahtaRY\",\n",
    "    \"https://www.youtube.com/watch?v=xIBHYyi2mOI\",\n",
    "    \"https://www.youtube.com/watch?v=7sY2kaaJwvE\",\n",
    "    \"https://www.youtube.com/watch?v=bTjT5uJ48_4\",\n",
    "    \"https://www.youtube.com/watch?v=9ERAYaXjs94\",\n",
    "    \"https://www.youtube.com/watch?v=8MI2qufDVnw\",\n",
    "    \"https://www.youtube.com/watch?v=gHYFyZTBf4A\",\n",
    "    \"https://www.youtube.com/watch?v=6W_GsE4YwL8\",\n",
    "    \"https://www.youtube.com/watch?v=OznqemVkeg8\",\n",
    "    \"https://www.youtube.com/watch?v=JNY6lRWSQL0\",\n",
    "    \"https://www.youtube.com/watch?v=uTJUuKsm2gw\",\n",
    "    \"https://www.youtube.com/watch?v=oNXgo6gdPc8\",\n",
    "    \"https://www.youtube.com/watch?v=lAOgoGvNsiQ\",\n",
    "    \"https://www.youtube.com/watch?v=NOAiaNTg2WI\",\n",
    "    \"https://www.youtube.com/watch?v=T7sQSaOToe0\",\n",
    "    \"https://www.youtube.com/watch?v=JVDUvAKN8xU\",\n",
    "    \"https://www.youtube.com/watch?v=LqeDMkeGvyE\",\n",
    "    \"https://www.youtube.com/watch?v=qDS5TYZqOu8\",\n",
    "    \"https://www.youtube.com/watch?v=8qeSyG9kd0c\",\n",
    "    \"https://www.youtube.com/watch?v=EewZ6LggdD0\",\n",
    "    \"https://www.youtube.com/watch?v=NrzL_BL_Mfs\",\n",
    "    \"https://www.youtube.com/watch?v=TjNDsa358Mk\",\n",
    "    \"https://www.youtube.com/watch?v=ixYjcJt1OII\",\n",
    "    \"https://www.youtube.com/watch?v=mvkq6_Ooph4\",\n",
    "    \"https://www.youtube.com/watch?v=ozZsz_-3ajM\",\n",
    "    \"https://www.youtube.com/watch?v=dzVpc1Mri4U\",\n",
    "    \"https://www.youtube.com/watch?v=8CnFKD5kISM\",\n",
    "    \"https://www.youtube.com/watch?v=IqY_pepLoz0\",\n",
    "    \"https://www.youtube.com/watch?v=FrkUGaFqedU\",\n",
    "    \"https://www.youtube.com/watch?v=8I6Jj02CIIE\",\n",
    "    \"https://www.youtube.com/watch?v=r3HIjt-ze6s\",\n",
    "    \"https://www.youtube.com/watch?v=QYb_NCTDkOk\",\n",
    "    \"https://www.youtube.com/watch?v=RTWc_yl68Dk\",\n",
    "    \"https://www.youtube.com/watch?v=YtkYU4qjCtU\",\n",
    "    \"https://www.youtube.com/watch?v=8hO4n_eZ7b4\",\n",
    "    \"https://www.youtube.com/watch?v=XOw62VPRJ_Q\",\n",
    "    \"https://www.youtube.com/watch?v=Ap36JAgVig4\",\n",
    "    \"https://www.youtube.com/watch?v=7D_qqFraRgE\",\n",
    "    \"https://www.youtube.com/watch?v=Jy25llWRrEY\",\n",
    "    \"https://www.youtube.com/watch?v=r5fTImYPCLw\",\n",
    "    \"https://www.youtube.com/watch?v=RqnBObjTSKc\",\n",
    "    \"https://www.youtube.com/watch?v=hoVVdHoBoao\",\n",
    "    \"https://www.youtube.com/watch?v=jyXOTy5F868\",\n",
    "    \"https://www.youtube.com/watch?v=Ab_rKnGG99I\",\n",
    "    \"https://www.youtube.com/watch?v=v0mriJ9uebk\",\n",
    "    \"https://www.youtube.com/watch?v=71-MkCMwb7w\",\n",
    "    \"https://www.youtube.com/watch?v=C_M6zg3_vxA\",\n",
    "    \"https://www.youtube.com/watch?v=bOe-W_B01Dg\",\n",
    "    \"https://www.youtube.com/watch?v=bmhs4yPJyls\",\n",
    "    \"https://www.youtube.com/watch?v=Plgs67bd3RI\",\n",
    "    \"https://www.youtube.com/watch?v=aTOSpaol-iU\",\n",
    "    \"https://www.youtube.com/watch?v=Q5bWHUiTVKU\",\n",
    "    \"https://www.youtube.com/watch?v=tV1gUw6DcEQ\",\n",
    "    \"https://www.youtube.com/watch?v=1v2nkBMl-eo\",\n",
    "    \"https://www.youtube.com/watch?v=nGsazTP6h5k\",\n",
    "    \"https://www.youtube.com/watch?v=hYEZ5NsozR0\",\n",
    "    \"https://www.youtube.com/watch?v=FBf0LfO7uzo\",\n",
    "    \"https://www.youtube.com/watch?v=N5QX5dmux78\",\n",
    "    \"https://www.youtube.com/watch?v=ATqtZyFXy7w\",\n",
    "    \"https://www.youtube.com/watch?v=DUIqMDlpofw\",\n",
    "    \"https://www.youtube.com/watch?v=I2d3uY7u79U\",\n",
    "    \"https://www.youtube.com/watch?v=pVXbZgEwMtA\",\n",
    "    \"https://www.youtube.com/watch?v=-I1ZrDj62JQ\",\n",
    "    \"https://www.youtube.com/watch?v=5N_kvnZtpiA\",\n",
    "    \"https://www.youtube.com/watch?v=HdnD-_nWDH4\",\n",
    "    \"https://www.youtube.com/watch?v=uROkSogtzDc\",\n",
    "    \"https://www.youtube.com/watch?v=il8Qxzi466Q\",\n",
    "    \"https://www.youtube.com/watch?v=a_rutXxYAKE\",\n",
    "    \"https://www.youtube.com/watch?v=zeJZpgP_c44\",\n",
    "    \"https://www.youtube.com/watch?v=X7OTA9TeBb4\",\n",
    "    \"https://www.youtube.com/watch?v=quRiyyW9VVA\",\n",
    "    \"https://www.youtube.com/watch?v=qYw4MAIUFso\",\n",
    "    \"https://www.youtube.com/watch?v=TrD910_y8Q4\",\n",
    "    \"https://www.youtube.com/watch?v=1pGz9ENIIGc\",\n",
    "    \"https://www.youtube.com/watch?v=-w2I4gFhrOw\",\n",
    "    \"https://www.youtube.com/watch?v=Bknr_btX20s\",\n",
    "    \"https://www.youtube.com/watch?v=_kEVl2HSW-k\",\n",
    "    \"https://www.youtube.com/watch?v=37oD1LRvSz4\",\n",
    "    \"https://www.youtube.com/watch?v=_kvHwROcmS0\",\n",
    "    \"https://www.youtube.com/watch?v=FGFsq5HDFV4\",\n",
    "    \"https://www.youtube.com/watch?v=HCtJexRY_6c\",\n",
    "    \"https://www.youtube.com/watch?v=2_N6DpbUqtE\",\n",
    "    \"https://www.youtube.com/watch?v=5hPhg4lIIuw\",\n",
    "    \"https://www.youtube.com/watch?v=-fqfw106RHQ\",\n",
    "    \"https://www.youtube.com/watch?v=Bc7xDvGFmNI\",\n",
    "    \"https://www.youtube.com/watch?v=wsHwn0jr7Zc\",\n",
    "    \"https://www.youtube.com/watch?v=CtNoUxzk8Yc\",\n",
    "    \"https://www.youtube.com/watch?v=KB1md9fmaHI\",\n",
    "    \"https://www.youtube.com/watch?v=RSZIZPbrabo\",\n",
    "    \"https://www.youtube.com/watch?v=wX5mltqwmx0\",\n",
    "    \"https://www.youtube.com/watch?v=ZPNiuZH5FT4\",\n",
    "    \"https://www.youtube.com/watch?v=kLwiHRNo2oc\",\n",
    "    \"https://www.youtube.com/watch?v=0hStWSPrWQo\",\n",
    "    \"https://www.youtube.com/watch?v=rmy41N5_T4s\",\n",
    "    \"https://www.youtube.com/watch?v=YkOXU3WBgfo\",\n",
    "    \"https://www.youtube.com/watch?v=JpS9UfQCLPk\",\n",
    "    \"https://www.youtube.com/watch?v=b6iuO-1_f2w\",\n",
    "    \"https://www.youtube.com/watch?v=0JLekz63kSQ\",\n",
    "    \"https://www.youtube.com/watch?v=AOb5OO1dQBc\",\n",
    "    \"https://www.youtube.com/watch?v=A_SQNMGF8pY\",\n",
    "    \"https://www.youtube.com/watch?v=Bc_ReXWF950\",\n",
    "    \"https://www.youtube.com/watch?v=97WSGF5rpC8\",\n",
    "    \"https://www.youtube.com/watch?v=qVAaVmETRE4\",\n",
    "    \"https://www.youtube.com/watch?v=xNIueMqM7uY\",\n",
    "    \"https://www.youtube.com/watch?v=ERZeCTWyZKU\",\n",
    "    \"https://www.youtube.com/watch?v=NxSolSSupDM\",\n",
    "    \"https://www.youtube.com/watch?v=hzwOUli9O1s\",\n",
    "    \"https://www.youtube.com/watch?v=zvUNEvEKNjg\",\n",
    "    \"https://www.youtube.com/watch?v=-6vgtiqeXQM\",\n",
    "    \"https://www.youtube.com/watch?v=VrGJFv00dhY\",\n",
    "    \"https://www.youtube.com/watch?v=b2xK5Jn43tc\",\n",
    "    \"https://www.youtube.com/watch?v=k-ItqOh6LKM\",\n",
    "    \"https://www.youtube.com/watch?v=oZA0QSwHHi4\",\n",
    "    \"https://www.youtube.com/watch?v=t5aZGVzJbj4\",\n",
    "    \"https://www.youtube.com/watch?v=c_ibYr8P1KE\",\n",
    "    \"https://www.youtube.com/watch?v=eCUlK1-uJnQ\",\n",
    "    \"https://www.youtube.com/watch?v=JsfARhit3mo\",\n",
    "    \"https://www.youtube.com/watch?v=prW5-st5Kx4\",\n",
    "    \"https://www.youtube.com/watch?v=c_4vdpXUZwI\",\n",
    "    \"https://www.youtube.com/watch?v=AKqNJBK23d0\",\n",
    "    \"https://www.youtube.com/watch?v=vm2LuzdDZmI\",\n",
    "    \"https://www.youtube.com/watch?v=xyXBAipeO2o\",\n",
    "    \"https://www.youtube.com/watch?v=OlQ2lckWVdk\",\n",
    "    \"https://www.youtube.com/watch?v=Tzu_xJ17_Po\",\n",
    "    \"https://www.youtube.com/watch?v=b2ZDtNylVzQ\",\n",
    "    \"https://www.youtube.com/watch?v=0lP4Bc8-Csc\",\n",
    "    \"https://www.youtube.com/watch?v=edl-KarKnSM\",\n",
    "    \"https://www.youtube.com/watch?v=1y5BcQBtl18\",\n",
    "    \"https://www.youtube.com/watch?v=crM-cu0fk6g\",\n",
    "    \"https://www.youtube.com/watch?v=B9IGKikq9yI\",\n",
    "    \"https://www.youtube.com/watch?v=P1u6X4ByRmQ\",\n",
    "    \"https://www.youtube.com/watch?v=9n3VXyF_b24\",\n",
    "    \"https://www.youtube.com/watch?v=FIewUfpyPkQ\",\n",
    "    \"https://www.youtube.com/watch?v=cQoNkNKmiL8\",\n",
    "    \"https://www.youtube.com/watch?v=Kg7lLGUMFr4\",\n",
    "    \"https://www.youtube.com/watch?v=iQLB9vHRAcA\",\n",
    "    \"https://www.youtube.com/watch?v=0VZnM4kMroc\",\n",
    "    \"https://www.youtube.com/watch?v=zyMQjIdCfvA\",\n",
    "    \"https://www.youtube.com/watch?v=43tkqksUsXU\",\n",
    "    \"https://www.youtube.com/watch?v=VPtZJ2lhBBg\",\n",
    "    \"https://www.youtube.com/watch?v=FqLPuufdWH0\",\n",
    "    \"https://www.youtube.com/watch?v=mtgxM3UoaUM\",\n",
    "    \"https://www.youtube.com/watch?v=YahddX0OFtA\",\n",
    "    \"https://www.youtube.com/watch?v=KiPmn2iAINw\",\n",
    "    \"https://www.youtube.com/watch?v=064vHqGfaT0\",\n",
    "    \"https://www.youtube.com/watch?v=dilC6QYgRtE\",\n",
    "    \"https://www.youtube.com/watch?v=MoEIAlWpWeE\",\n",
    "    \"https://www.youtube.com/watch?v=_o7EB6I2mbA\",\n",
    "    \"https://www.youtube.com/watch?v=oB3Vz1J859s\",\n",
    "    \"https://www.youtube.com/watch?v=xJAc4LM7r74\",\n",
    "    \"https://www.youtube.com/watch?v=2c3t3WdMTuA\",\n",
    "    \"https://www.youtube.com/watch?v=IBhNEJiMQDQ\",\n",
    "    \"https://www.youtube.com/watch?v=gmikwUwO6Ss\",\n",
    "    \"https://www.youtube.com/watch?v=IqY_pepLoz0\",\n",
    "    \"https://www.youtube.com/watch?v=FrkUGaFqedU\",\n",
    "    \"https://www.youtube.com/watch?v=Mp917al9sT8\",\n",
    "    \"https://www.youtube.com/watch?v=aCqy4yGgiA8\",\n",
    "    \"https://www.youtube.com/watch?v=MHJ30PsyZno\",\n",
    "    \"https://www.youtube.com/watch?v=0nfTfyfiBw4\",\n",
    "    \"https://www.youtube.com/watch?v=EEiruQ0tuhI\",\n",
    "    \"https://www.youtube.com/watch?v=zspPgDHSJ_M\",\n",
    "    \"https://www.youtube.com/watch?v=0ALHfpFXz90\",\n",
    "    \"https://www.youtube.com/watch?v=kjQCocOceXY\",\n",
    "    \"https://www.youtube.com/watch?v=zR557jx6nkw\",\n",
    "    \"https://www.youtube.com/watch?v=XQst1uE1IBE\",\n",
    "    \"https://www.youtube.com/watch?v=OYxJcvrvCTE\",\n",
    "    \"https://www.youtube.com/watch?v=k0CXdSSpAZM\",\n",
    "    \"https://www.youtube.com/watch?v=YdHzDnRCiH4\",\n",
    "    \"https://www.youtube.com/watch?v=S04su33ziuo\",\n",
    "    \"https://www.youtube.com/watch?v=AXwnW_FtHV0\",\n",
    "    \"https://www.youtube.com/watch?v=xKoo7UmNkGE\",\n",
    "    \"https://www.youtube.com/watch?v=pjzRUMb97No\",\n",
    "    \"https://www.youtube.com/watch?v=OWhFEpOAXmE\",\n",
    "    \"https://www.youtube.com/watch?v=oL1JFelindU\",\n",
    "    \"https://www.youtube.com/watch?v=bePuKcktdck\",\n",
    "    \"https://www.youtube.com/watch?v=tBNb2yvv8mQ\",\n",
    "    \"https://www.youtube.com/watch?v=dukIkfGp-vU\",\n",
    "    \"https://www.youtube.com/watch?v=3-q-yXv3OMY\",\n",
    "    \"https://www.youtube.com/watch?v=su_L76jgl9k\",\n",
    "    \"https://www.youtube.com/watch?v=n_MFRwjruGg\",\n",
    "    \"https://www.youtube.com/watch?v=vh1m8L5yAeo\",\n",
    "    \"https://www.youtube.com/watch?v=5-UGnyFgS_M\",\n",
    "    \"https://www.youtube.com/watch?v=FbeJa8ufCFI\",\n",
    "    \"https://www.youtube.com/watch?v=vCcyYfVruVo\",\n",
    "    \"https://www.youtube.com/watch?v=B9S3KvEpCUw\",\n",
    "    \"https://www.youtube.com/watch?v=H58YBs9CIMg\",\n",
    "    \"https://www.youtube.com/watch?v=Le5zRt1rJFM\",\n",
    "    \"https://www.youtube.com/watch?v=UmcdK4wiC1Y\",\n",
    "    \"https://www.youtube.com/watch?v=3n6WoI13_ng\",\n",
    "    \"https://www.youtube.com/watch?v=qPoDVXoX8hs\",\n",
    "    \"https://www.youtube.com/watch?v=Aaq9llV0rSw\",\n",
    "    \"https://www.youtube.com/watch?v=K1pnDCSpDSA\",\n",
    "    \"https://www.youtube.com/watch?v=Ke8qjgaUYbs\",\n",
    "    \"https://www.youtube.com/watch?v=GWXMVFaZtQ4\",\n",
    "    \"https://www.youtube.com/watch?v=yNzbq_TyFb4\",\n",
    "    \"https://www.youtube.com/watch?v=VvoteQZOUds\",\n",
    "    \"https://www.youtube.com/watch?v=xIBHYyi2mOI\",\n",
    "    \"https://www.youtube.com/watch?v=7sY2kaaJwvE\",\n",
    "    \"https://www.youtube.com/watch?v=9ERAYaXjs94\",\n",
    "    \"https://www.youtube.com/watch?v=8MI2qufDVnw\",\n",
    "    \"https://www.youtube.com/watch?v=gHYFyZTBf4A\",\n",
    "    \"https://www.youtube.com/watch?v=6W_GsE4YwL8\",\n",
    "    \"https://www.youtube.com/watch?v=OznqemVkeg8\",\n",
    "    \"https://www.youtube.com/watch?v=uTJUuKsm2gw\",\n",
    "    \"https://www.youtube.com/watch?v=FUoZlq6HThA\",\n",
    "    \"https://www.youtube.com/watch?v=qfGd2ORlTks\",\n",
    "    \"https://www.youtube.com/watch?v=Wo_OppvBFGU\",\n",
    "    \"https://www.youtube.com/watch?v=pChESdtGDm8\",\n",
    "    \"https://www.youtube.com/watch?v=-0WpXQ8_IbE\",\n",
    "    \"https://www.youtube.com/watch?v=b4BystzlZgQ\",\n",
    "    \"https://www.youtube.com/watch?v=jyPOgDkxDZY\",\n",
    "    \"https://www.youtube.com/watch?v=NTY-FCJKxms\",\n",
    "    \"https://www.youtube.com/watch?v=kCizQVsoR9A\",\n",
    "    \"https://www.youtube.com/watch?v=7jgoX5Vh28A\",\n",
    "    \"https://www.youtube.com/watch?v=M89LeA5bhHU\",\n",
    "    \"https://www.youtube.com/watch?v=hvKOxxgkoWI\",\n",
    "    \"https://www.youtube.com/watch?v=jufQtV6Fe5k\",\n",
    "    \"https://www.youtube.com/watch?v=Pbns6IWS6gU\",\n",
    "    \"https://www.youtube.com/watch?v=umkXkq69mCw\",\n",
    "    \"https://www.youtube.com/watch?v=Y573pEMBnf0\",\n",
    "    \"https://www.youtube.com/watch?v=rhYo9_5zIxc\",\n",
    "    \"https://www.youtube.com/watch?v=U3SHKn14B20\",\n",
    "    \"https://www.youtube.com/watch?v=16g5zrCpE_c\",\n",
    "    \"https://www.youtube.com/watch?v=Ue8u1zWjNzc\",\n",
    "    \"https://www.youtube.com/watch?v=2_itbfUZnhM\",\n",
    "    \"https://www.youtube.com/watch?v=Q45-pGeMAjU\",\n",
    "    \"https://www.youtube.com/watch?v=goT-hIt-K0Y\",\n",
    "    \"https://www.youtube.com/watch?v=bYlnZNMPpRY\",\n",
    "    \"https://www.youtube.com/watch?v=LE3EtZTiPIs\",\n",
    "    \"https://www.youtube.com/watch?v=0LVGgXk0-ZU\",\n",
    "    \"https://www.youtube.com/watch?v=jOTJDoJBIL8\",\n",
    "    \"https://www.youtube.com/watch?v=wXy99UqdGdc\",\n",
    "    \"https://www.youtube.com/watch?v=bDZ0MvRA1Zw\",\n",
    "    \"https://www.youtube.com/watch?v=L4b56bGai8o\",\n",
    "    \"https://www.youtube.com/watch?v=ZbZbjtPZxRI\",\n",
    "    \"https://www.youtube.com/watch?v=KW_GkkpPqtI\",\n",
    "    \"https://www.youtube.com/watch?v=viHvto0zwek\",\n",
    "    \"https://www.youtube.com/watch?v=LPzfn2KOubE\",\n",
    "    \"https://www.youtube.com/watch?v=SVDSaX4Hr8g\",\n",
    "    \"https://www.youtube.com/watch?v=ftOeCjQ2b1k\",\n",
    "    \"https://www.youtube.com/watch?v=RkeivPrI-f4\",\n",
    "    \"https://www.youtube.com/watch?v=fcVzDiAPwk8\",\n",
    "    \"https://www.youtube.com/watch?v=WmuqjnGTFME\",\n",
    "    \"https://www.youtube.com/watch?v=fiqrRfocfLo\",\n",
    "    \"https://www.youtube.com/watch?v=eU1bSsb1150\",\n",
    "    \"https://www.youtube.com/watch?v=qtf1Ul4EN7I\",\n",
    "    \"https://www.youtube.com/watch?v=mU5gE0X6oo0\",\n",
    "    \"https://www.youtube.com/watch?v=1AsPAKa-yJU\",\n",
    "    \"https://www.youtube.com/watch?v=Zf7UtliPw7s\",\n",
    "    \"https://www.youtube.com/watch?v=VihIUyD7hOk\",\n",
    "    \"https://www.youtube.com/watch?v=XuydgoMFifI\",\n",
    "    \"https://www.youtube.com/watch?v=nrvYGidWsOk\",\n",
    "    \"https://www.youtube.com/watch?v=kj8_grgprns\",\n",
    "    \"https://www.youtube.com/watch?v=bA5LraYRfIo\",\n",
    "    \"https://www.youtube.com/watch?v=OFa-Bp2D5iY\",\n",
    "    \"https://www.youtube.com/watch?v=DYGD7WtX3Ug\",\n",
    "    \"https://www.youtube.com/watch?v=XO0uC9y9WrA\",\n",
    "    \"https://www.youtube.com/watch?v=VfozoeJXyhk\",\n",
    "    \"https://www.youtube.com/watch?v=QXfiffLCgTQ\",\n",
    "    \"https://www.youtube.com/watch?v=ZByG_IyZGUY\",\n",
    "    \"https://www.youtube.com/watch?v=8Wb8gkdd8So\",\n",
    "    \"https://www.youtube.com/watch?v=XsTRgfYuW3k\",\n",
    "    \"https://www.youtube.com/watch?v=96ZPlylU7nI\",\n",
    "    \"https://www.youtube.com/watch?v=GqiYFro4am0\",\n",
    "    \"https://www.youtube.com/watch?v=GkZE_-EP_ds\",\n",
    "    \"https://www.youtube.com/watch?v=UbrkP65gVXc\",\n",
    "    \"https://www.youtube.com/watch?v=rAF8qPBOsZk\",\n",
    "    \"https://www.youtube.com/watch?v=8tdJqprpmgE\",\n",
    "    \"https://www.youtube.com/watch?v=4eJYmYSg2M4\",\n",
    "    \"https://www.youtube.com/watch?v=F6kORw1H3Qw\",\n",
    "    \"https://www.youtube.com/watch?v=bpearfPlrAY\",\n",
    "    \"https://www.youtube.com/watch?v=4XRND3v9DzM\",\n",
    "    \"https://www.youtube.com/watch?v=vH49kM6dvl4\",\n",
    "    \"https://www.youtube.com/watch?v=WXiMhc0OOrg\",\n",
    "    \"https://www.youtube.com/watch?v=TwvQMhtVwMg\",\n",
    "    \"https://www.youtube.com/watch?v=waCKSCzHmqU\",\n",
    "    \"https://www.youtube.com/watch?v=b_DDs5xDO7o\",\n",
    "    \"https://www.youtube.com/watch?v=yDU66cTiOmc\",\n",
    "    \"https://www.youtube.com/watch?v=cvU70jqXfpQ\",\n",
    "    \"https://www.youtube.com/watch?v=8QPV8DPmu1g\",\n",
    "    \"https://www.youtube.com/watch?v=pmP7dUFOSzo\",\n",
    "    \"https://www.youtube.com/watch?v=PAs3p1pC_D4\",\n",
    "    \"https://www.youtube.com/watch?v=NhTHBx8U_CY\",\n",
    "    \"https://www.youtube.com/watch?v=bDJ4AXbpgiw\",\n",
    "    \"https://www.youtube.com/watch?v=cc0ji6B9-_c\",\n",
    "    \"https://www.youtube.com/watch?v=8SzXKLJnwP8\",\n",
    "    \"https://www.youtube.com/watch?v=LrK8UqffQi8\",\n",
    "    \"https://www.youtube.com/watch?v=53-Gx932ceo\",\n",
    "    \"https://www.youtube.com/watch?v=RFt8ieyfUQo\",\n",
    "    \"https://www.youtube.com/watch?v=JQ_PwYsREL4\",\n",
    "    \"https://www.youtube.com/watch?v=LJem-9Ic61I\",\n",
    "    \"https://www.youtube.com/watch?v=b3RQukdxKZ4\",\n",
    "    \"https://www.youtube.com/watch?v=Ku7USHnPEGs\",\n",
    "    \"https://www.youtube.com/watch?v=WCGmBm1mNOY\",\n",
    "    \"https://www.youtube.com/watch?v=fg5rhIw3UNw\",\n",
    "    \"https://www.youtube.com/watch?v=-tUDAU5uzNs\",\n",
    "    \"https://www.youtube.com/watch?v=nlzHMd5b6GU\",\n",
    "    \"https://www.youtube.com/watch?v=fY7Lf6_zDMo\",\n",
    "    \"https://www.youtube.com/watch?v=F2bVNAac72c\",\n",
    "    \"https://www.youtube.com/watch?v=37tOCVJxgJw\",\n",
    "    \"https://www.youtube.com/watch?v=uaXcYI0Ubqs\",\n",
    "    \"https://www.youtube.com/watch?v=qPu3SB9M9e4\",\n",
    "    \"https://www.youtube.com/watch?v=9ELtYsMF3-0\",\n",
    "    \"https://www.youtube.com/watch?v=sKyBDvmcaa8\",\n",
    "    \"https://www.youtube.com/watch?v=qJxztfW3PQ8\",\n",
    "    \"https://www.youtube.com/watch?v=NIFn46fSlWE\",\n",
    "    \"https://www.youtube.com/watch?v=Yd0TiCfWFPs\",\n",
    "    \"https://www.youtube.com/watch?v=fh5lzdBES5w\",\n",
    "    \"https://www.youtube.com/watch?v=OymdKXU_ZmI\",\n",
    "    \"https://www.youtube.com/watch?v=48BCneaj2ls\",\n",
    "    \"https://www.youtube.com/watch?v=LatvWnVJrOU\",\n",
    "    \"https://www.youtube.com/watch?v=5e0XZxffyIA\",\n",
    "    \"https://www.youtube.com/watch?v=EY5NPdvmiNw\",\n",
    "    \"https://www.youtube.com/watch?v=v_3pwx0f59U\",\n",
    "    \"https://www.youtube.com/watch?v=wMuXUxFBLYA\",\n",
    "    \"https://www.youtube.com/watch?v=1aov7zSrsVY\",\n",
    "    \"https://www.youtube.com/watch?v=ArNiexGMDeI\",\n",
    "    \"https://www.youtube.com/watch?v=xNH2-ZxuSXY\",\n",
    "    \"https://www.youtube.com/watch?v=PbvnAqyXSHM\",\n",
    "    \"https://www.youtube.com/watch?v=muNdmcX72bk\",\n",
    "    \"https://www.youtube.com/watch?v=KFYwD3tr7og\",\n",
    "    \"https://www.youtube.com/watch?v=Slh-kbFK1OI\",\n",
    "    \"https://www.youtube.com/watch?v=O78tefg9_3s\",\n",
    "    \"https://www.youtube.com/watch?v=vTnTWo08vUM\",\n",
    "    \"https://www.youtube.com/watch?v=_juwcFnp59Q\",\n",
    "    \"https://www.youtube.com/watch?v=GKogJk8vod8\",\n",
    "    \"https://www.youtube.com/watch?v=AL2Au9v5Uac\",\n",
    "    \"https://www.youtube.com/watch?v=u0eEzSMGpXc\",\n",
    "    \"https://www.youtube.com/watch?v=lLWm8LBK23U\",\n",
    "    \"https://www.youtube.com/watch?v=Yuar12s7Gts\",\n",
    "    \"https://www.youtube.com/watch?v=ImbhNOrzE0c\",\n",
    "    \"https://www.youtube.com/watch?v=0ywHJQ0hO1U\",\n",
    "    \"https://www.youtube.com/watch?v=7AQYHvqlUs8\",\n",
    "    \"https://www.youtube.com/watch?v=yDNZwkNMhPo\",\n",
    "    \"https://www.youtube.com/watch?v=LCB3Q5alGtQ\",\n",
    "    \"https://www.youtube.com/watch?v=R9LPO2_UyhE\",\n",
    "    \"https://www.youtube.com/watch?v=j4t_aF2GpXc\",\n",
    "    \"https://www.youtube.com/watch?v=dYzfTPNjyW8\",\n",
    "    \"https://www.youtube.com/watch?v=11lAyAcKXMI\",\n",
    "    \"https://www.youtube.com/watch?v=5d6eHIfKfgI\",\n",
    "    \"https://www.youtube.com/watch?v=R8eJJEnnft4\",\n",
    "    \"https://www.youtube.com/watch?v=xQAaXAq-M2A\",\n",
    "    \"https://www.youtube.com/watch?v=hQtbAPXNsWc\",\n",
    "    \"https://www.youtube.com/watch?v=ZPrI6BoEfp8\",\n",
    "    \"https://www.youtube.com/watch?v=ZINnsGmdQrQ\",\n",
    "    \"https://www.youtube.com/watch?v=8ojoxVfkgtI\",\n",
    "    \"https://www.youtube.com/watch?v=8hO3oStqnKw\",\n",
    "    \"https://www.youtube.com/watch?v=MUxdy4Fh_cU\",\n",
    "    \"https://www.youtube.com/watch?v=mZiIW8y8wew\",\n",
    "    \"https://www.youtube.com/watch?v=YQUJdhscEbs\",\n",
    "    \"https://www.youtube.com/watch?v=b1MMIcnWCA0\",\n",
    "    \"https://www.youtube.com/watch?v=hzWoGXTt7v8\",\n",
    "    \"https://www.youtube.com/watch?v=b1uF4jwTCX0\",\n",
    "    \"https://www.youtube.com/watch?v=McSnAzK1Tws\",\n",
    "    \"https://www.youtube.com/watch?v=7kh6Xuo-OcY\",\n",
    "    \"https://www.youtube.com/watch?v=vSruR138564\",\n",
    "    \"https://www.youtube.com/watch?v=6Ms99JXu7so\",\n",
    "    \"https://www.youtube.com/watch?v=5_k1ZPKehu4\",\n",
    "    \"https://www.youtube.com/watch?v=OMapLSyUfXk\",\n",
    "    \"https://www.youtube.com/watch?v=uf_PK6OMrck\",\n",
    "    \"https://www.youtube.com/watch?v=aNgwEeV6kbY\",\n",
    "    \"https://www.youtube.com/watch?v=d5LCbZXwPDM\",\n",
    "    \"https://www.youtube.com/watch?v=2VBn6wAedvA\",\n",
    "    \"https://www.youtube.com/watch?v=uzr5sZsHQo8\",\n",
    "    \"https://www.youtube.com/watch?v=6mqtSCGfLrw\",\n",
    "    \"https://www.youtube.com/watch?v=SN6ENFVBIzk\",\n",
    "    \"https://www.youtube.com/watch?v=GryCc5TN6Lo\",\n",
    "    \"https://www.youtube.com/watch?v=xuGEJmuQ4nM\",\n",
    "    \"https://www.youtube.com/watch?v=_g4YjLu7sKI\",\n",
    "    \"https://www.youtube.com/watch?v=g5P1gCiFqLM\",\n",
    "    \"https://www.youtube.com/watch?v=hV9qYf3GpnU\",\n",
    "    \"https://www.youtube.com/watch?v=eIfpA8d7reA\",\n",
    "    \"https://www.youtube.com/watch?v=02HO60AlNqg\",\n",
    "    \"https://www.youtube.com/watch?v=1b47iBC6VTk\",\n",
    "    \"https://www.youtube.com/watch?v=O-MctB8AYYk\",\n",
    "    \"https://www.youtube.com/watch?v=10DuGL31Aq4\",\n",
    "    \"https://www.youtube.com/watch?v=0hxQop9ohnc\",\n",
    "    \"https://www.youtube.com/watch?v=HQHZiIHA4n0\",\n",
    "    \"https://www.youtube.com/watch?v=Jo4ecZ8Z3Lc\",\n",
    "    \"https://www.youtube.com/watch?v=dCPEc0_dAwk\",\n",
    "    \"https://www.youtube.com/watch?v=CcLXlDEAsyI\",\n",
    "    \"https://www.youtube.com/watch?v=MHaGJriCkkY\",\n",
    "    \"https://www.youtube.com/watch?v=K9VHVgbo930\",\n",
    "    \"https://www.youtube.com/watch?v=qMwUd39rQ7I\",\n",
    "    \"https://www.youtube.com/watch?v=jNnUNsXUXnA\",\n",
    "    \"https://www.youtube.com/watch?v=7VslhZ9Srlk\",\n",
    "    \"https://www.youtube.com/watch?v=lE_rG4_aiFw\",\n",
    "    \"https://www.youtube.com/watch?v=BvcpeIR_Pz0\",\n",
    "    \"https://www.youtube.com/watch?v=9UFGcpG0e4w\",\n",
    "    \"https://www.youtube.com/watch?v=s6KzmG2W01k\",\n",
    "    \"https://www.youtube.com/watch?v=DnLCQxQ093s\",\n",
    "    \"https://www.youtube.com/watch?v=vouqELV9Plg\",\n",
    "    \"https://www.youtube.com/watch?v=j4SdYgujr2w\",\n",
    "    \"https://www.youtube.com/watch?v=QWanxci5rPM\",\n",
    "    \"https://www.youtube.com/watch?v=MDeMjLlYP8s\",\n",
    "    \"https://www.youtube.com/watch?v=6KbZkaq-mGQ\",\n",
    "    \"https://www.youtube.com/watch?v=Snvs8cG5iKo\",\n",
    "    \"https://www.youtube.com/watch?v=FkrbMzFBens\",\n",
    "    \"https://www.youtube.com/watch?v=XBkMebFZ7Qo\",\n",
    "    \"https://www.youtube.com/watch?v=VgcvLJFu8SE\",\n",
    "    \"https://www.youtube.com/watch?v=Z5jHsILDyL0\",\n",
    "    \"https://www.youtube.com/watch?v=97mcQ6CxH90\",\n",
    "    \"https://www.youtube.com/watch?v=w80B65pDEt8\",\n",
    "    \"https://www.youtube.com/watch?v=XEJLuCU9x6Y\",\n",
    "    \"https://www.youtube.com/watch?v=-GfCoAcVweo\",\n",
    "    \"https://www.youtube.com/watch?v=k4p3AlC8ZGU\",\n",
    "    \"https://www.youtube.com/watch?v=a52t5AN9B7I\",\n",
    "    \"https://www.youtube.com/watch?v=VHpcHCl7dtg\",\n",
    "    \"https://www.youtube.com/watch?v=2KJN6_69Vxg\",\n",
    "    \"https://www.youtube.com/watch?v=vIw9XdbbK6Y\",\n",
    "    \"https://www.youtube.com/watch?v=QiP67CxEhLU\",\n",
    "    \"https://www.youtube.com/watch?v=XZdmewDkHuY\",\n",
    "    \"https://www.youtube.com/watch?v=4-1DpUE70_o\",\n",
    "    \"https://www.youtube.com/watch?v=8pdZTagd4mY\",\n",
    "    \"https://www.youtube.com/watch?v=YPgT6Vbh9Ow\",\n",
    "    \"https://www.youtube.com/watch?v=3yJ7wQlFJp4\",\n",
    "    \"https://www.youtube.com/watch?v=PuGaI5oXGlU\",\n",
    "    \"https://www.youtube.com/watch?v=JiyFTMyk7Vk\",\n",
    "    \"https://www.youtube.com/watch?v=YABvALP_bUI\",\n",
    "    \"https://www.youtube.com/watch?v=RiCzcjHbHLE\",\n",
    "    \"https://www.youtube.com/watch?v=RF6qdQE5lBw\",\n",
    "    \"https://www.youtube.com/watch?v=i9kGtyCDbGc\",\n",
    "    \"https://www.youtube.com/watch?v=ICOsJ-CRLec\",\n",
    "    \"https://www.youtube.com/watch?v=6zeor1yXBsA\",\n",
    "    \"https://www.youtube.com/watch?v=-sXf6kLMJ8w\",\n",
    "    \"https://www.youtube.com/watch?v=PnXsY6O3dJw\",\n",
    "    \"https://www.youtube.com/watch?v=nhs3kCIuVTw\",\n",
    "    \"https://www.youtube.com/watch?v=SslW6ODMT0g\",\n",
    "    \"https://www.youtube.com/watch?v=BtRsOz-zjyw\",\n",
    "    \"https://www.youtube.com/watch?v=RsT3_Ck_Rc8\",\n",
    "    \"https://www.youtube.com/watch?v=LGODAxi3cvk\",\n",
    "    \"https://www.youtube.com/watch?v=cBYUimJp3Ec\",\n",
    "    \"https://www.youtube.com/watch?v=BN5OqxXvtP0\",\n",
    "    \"https://www.youtube.com/watch?v=pnasVA9uiF8\",\n",
    "    \"https://www.youtube.com/watch?v=HIjry4BOUUY\",\n",
    "    \"https://www.youtube.com/watch?v=y1R9MOtdYWs\",\n",
    "    \"https://www.youtube.com/watch?v=9rCxBNK0DvE\",\n",
    "    \"https://www.youtube.com/watch?v=cBV6DHBZH70\",\n",
    "    \"https://www.youtube.com/watch?v=ipMdmEmCv3w\",\n",
    "    \"https://www.youtube.com/watch?v=m_D1G3L8Zz8\",\n",
    "    \"https://www.youtube.com/watch?v=NBSZgv4mnJs\",\n",
    "    \"https://www.youtube.com/watch?v=-kiaB5GMnAU\",\n",
    "    \"https://www.youtube.com/watch?v=RIjE2d6ZMPc\",\n",
    "    \"https://www.youtube.com/watch?v=44yfh673ylk\",\n",
    "    \"https://www.youtube.com/watch?v=7Etk4j6tmAw\",\n",
    "    \"https://www.youtube.com/watch?v=EQkFF0eaIHc\",\n",
    "    \"https://www.youtube.com/watch?v=ClAxclxb9jM\",\n",
    "    \"https://www.youtube.com/watch?v=KX9g4jWz6Vk\",\n",
    "    \"https://www.youtube.com/watch?v=UpNLzcZtgbc\",\n",
    "    \"https://www.youtube.com/watch?v=fAZOR3dwKBQ\",\n",
    "    \"https://www.youtube.com/watch?v=zKp541wlkLw\",\n",
    "    \"https://www.youtube.com/watch?v=qfGd2ORlTks\",\n",
    "    \"https://www.youtube.com/watch?v=pChESdtGDm8\",\n",
    "    \"https://www.youtube.com/watch?v=-0WpXQ8_IbE\",\n",
    "    \"https://www.youtube.com/watch?v=jyPOgDkxDZY\",\n",
    "    \"https://www.youtube.com/watch?v=NTY-FCJKxms\",\n",
    "    \"https://www.youtube.com/watch?v=XpXKZmydIEk\",\n",
    "    \"https://www.youtube.com/watch?v=-jVx8dz5KdA\",\n",
    "    \"https://www.youtube.com/watch?v=5Jfe3Hlcfss\",\n",
    "    \"https://www.youtube.com/watch?v=riA3dijAtfw\",\n",
    "    \"https://www.youtube.com/watch?v=D6-zV-jfUu0\",\n",
    "    \"https://www.youtube.com/watch?v=FXgwd0i85V0\",\n",
    "    \"https://www.youtube.com/watch?v=1ExRB7HxdQc\",\n",
    "    \"https://www.youtube.com/watch?v=wQnmBd9XMhw\",\n",
    "    \"https://www.youtube.com/watch?v=yEG7zePXqwU\",\n",
    "    \"https://www.youtube.com/watch?v=jJzOWGLVhts\",\n",
    "    \"https://www.youtube.com/watch?v=W5TiL3zxh3s\",\n",
    "    \"https://www.youtube.com/watch?v=sYA0EY5JZyE\",\n",
    "    \"https://www.youtube.com/watch?v=lsIMniI-U5s\",\n",
    "    \"https://www.youtube.com/watch?v=c1QHHyR6Jc8\",\n",
    "    \"https://www.youtube.com/watch?v=JXlwmmTcBU4\",\n",
    "    \"https://www.youtube.com/watch?v=TzJRcL_F3cc\",\n",
    "    \"https://www.youtube.com/watch?v=e3O8IIhmPKY\",\n",
    "    \"https://www.youtube.com/watch?v=v0dbabL2sqI\",\n",
    "    \"https://www.youtube.com/watch?v=r0uDEB_gg_E\",\n",
    "    \"https://www.youtube.com/watch?v=OEiEVPLhYq8\",\n",
    "    \"https://www.youtube.com/watch?v=gaIITjLo2MQ\",\n",
    "    \"https://www.youtube.com/watch?v=7YHAYEvnVUc\",\n",
    "    \"https://www.youtube.com/watch?v=tjyMbijyQQc\",\n",
    "    \"https://www.youtube.com/watch?v=bC7tWUew1pU\",\n",
    "    \"https://www.youtube.com/watch?v=nyLgfBP5LT8\",\n",
    "    \"https://www.youtube.com/watch?v=hgYLORRHwl8\",\n",
    "    \"https://www.youtube.com/watch?v=YGTHpErGqms\",\n",
    "    \"https://www.youtube.com/watch?v=rTynjxiC-no\",\n",
    "    \"https://www.youtube.com/watch?v=fqrpEWQmli4\",\n",
    "    \"https://www.youtube.com/watch?v=qSdXLG5XHyk\",\n",
    "    \"https://www.youtube.com/watch?v=unxFv8MTmpI\",\n",
    "    \"https://www.youtube.com/watch?v=P_mBF40SW-w\",\n",
    "    \"https://www.youtube.com/watch?v=bgCweg0ZgOA\",\n",
    "    \"https://www.youtube.com/watch?v=cMrFdFzPB9U\",\n",
    "    \"https://www.youtube.com/watch?v=JwOp8ieH3Yo\",\n",
    "    \"https://www.youtube.com/watch?v=CTutY41IIus\",\n",
    "    \"https://www.youtube.com/watch?v=D6iu7hzRkGg\",\n",
    "    \"https://www.youtube.com/watch?v=T-eTZqWoaX4\",\n",
    "    \"https://www.youtube.com/watch?v=V1soig8wh6Y\",\n",
    "    \"https://www.youtube.com/watch?v=75MFC2YC0-M\",\n",
    "    \"https://www.youtube.com/watch?v=vawxY7HRYC4\",\n",
    "    \"https://www.youtube.com/watch?v=MeiCoN5mK_g\",\n",
    "    \"https://www.youtube.com/watch?v=CwSKn_1cziQ\",\n",
    "    \"https://www.youtube.com/watch?v=Wv47o1j_uY8\",\n",
    "    \"https://www.youtube.com/watch?v=XqasUFiqLHo\",\n",
    "    \"https://www.youtube.com/watch?v=5TuLldQIJCI\",\n",
    "    \"https://www.youtube.com/watch?v=ZaDs2swopOs\",\n",
    "    \"https://www.youtube.com/watch?v=egatx_erV9I\",\n",
    "    \"https://www.youtube.com/watch?v=xzrFkZ_KQlw\",\n",
    "    \"https://www.youtube.com/watch?v=znsZOE0-LwU\",\n",
    "    \"https://www.youtube.com/watch?v=-Qn0uaEYtdg\",\n",
    "    \"https://www.youtube.com/watch?v=fZOAc9v8TQs\",\n",
    "    \"https://www.youtube.com/watch?v=z9v8046iiSY\",\n",
    "    \"https://www.youtube.com/watch?v=2JYf1SWk-yk\",\n",
    "    \"https://www.youtube.com/watch?v=DjvRSSG_br0\",\n",
    "    \"https://www.youtube.com/watch?v=WXhlLewU2j4\",\n",
    "    \"https://www.youtube.com/watch?v=7Zp2I2Yy44U\",\n",
    "    \"https://www.youtube.com/watch?v=T9E378P-B_Q\",\n",
    "    \"https://www.youtube.com/watch?v=iNw7jrjx920\",\n",
    "    \"https://www.youtube.com/watch?v=Bsp7ibnWHXE\",\n",
    "    \"https://www.youtube.com/watch?v=sd3byMzop8s\",\n",
    "    \"https://www.youtube.com/watch?v=fXWi4uLEhcM\",\n",
    "    \"https://www.youtube.com/watch?v=Te-X4emt2pU\",\n",
    "    \"https://www.youtube.com/watch?v=pxTN4gFWP2o\",\n",
    "    \"https://www.youtube.com/watch?v=YQ17mYGSaEY\",\n",
    "    \"https://www.youtube.com/watch?v=5V3VWDSIAQM\",\n",
    "    \"https://www.youtube.com/watch?v=jg0s1rbLYx4\",\n",
    "    \"https://www.youtube.com/watch?v=DqE4HnOpk-0\",\n",
    "    \"https://www.youtube.com/watch?v=RTZL_8zfQIg\",\n",
    "    \"https://www.youtube.com/watch?v=Mc3Gd6nwubQ\",\n",
    "    \"https://www.youtube.com/watch?v=r0Ra9f-_BqQ\",\n",
    "    \"https://www.youtube.com/watch?v=6fBYmvh-Eo4\",\n",
    "    \"https://www.youtube.com/watch?v=JE7TsWWe4G0\",\n",
    "    \"https://www.youtube.com/watch?v=Zhvauq16-o0\",\n",
    "    \"https://www.youtube.com/watch?v=LBGXpdn55Q0\",\n",
    "    \"https://www.youtube.com/watch?v=CRU6LijeD8U\",\n",
    "    \"https://www.youtube.com/watch?v=NtronNkY8x0\",\n",
    "    \"https://www.youtube.com/watch?v=ybDMOsRsM9c\",\n",
    "    \"https://www.youtube.com/watch?v=zCjPUTw5SyM\",\n",
    "    \"https://www.youtube.com/watch?v=rbNkf_uhS0g\",\n",
    "    \"https://www.youtube.com/watch?v=xCuU6JmCaZk\",\n",
    "    \"https://www.youtube.com/watch?v=Bau9jl0ShRY\",\n",
    "    \"https://www.youtube.com/watch?v=xJuH_U9llIM\",\n",
    "    \"https://www.youtube.com/watch?v=nTTFoU2AqJw\",\n",
    "    \"https://www.youtube.com/watch?v=TNShVBDe6Kg\",\n",
    "    \"https://www.youtube.com/watch?v=Fqv3JuUTi-A\",\n",
    "    \"https://www.youtube.com/watch?v=vx2tup4zA6c\",\n",
    "    \"https://www.youtube.com/watch?v=LBx945xm3mQ\",\n",
    "    \"https://www.youtube.com/watch?v=4SqIryhHFtY\",\n",
    "    \"https://www.youtube.com/watch?v=KL7i9pshA-Y\",\n",
    "    \"https://www.youtube.com/watch?v=qJMj3oqu3WQ\",\n",
    "    \"https://www.youtube.com/watch?v=bASs7THbP0c\",\n",
    "    \"https://www.youtube.com/watch?v=Bw6uOQInBGY\",\n",
    "    \"https://www.youtube.com/watch?v=UpFtXBvihaU\",\n",
    "    \"https://www.youtube.com/watch?v=OIZkrtUTkyU\",\n",
    "    \"https://www.youtube.com/watch?v=Jv7tdB4eNHo\",\n",
    "    \"https://www.youtube.com/watch?v=fsqrqGBw_fA\",\n",
    "    \"https://www.youtube.com/watch?v=fWPtLrmr9SE\",\n",
    "    \"https://www.youtube.com/watch?v=5AE-ZoNlptw\",\n",
    "    \"https://www.youtube.com/watch?v=fYC_h3cQWIk\",\n",
    "    \"https://www.youtube.com/watch?v=XdR_9uQ11Tw\",\n",
    "    \"https://www.youtube.com/watch?v=w-H-mpFSBLg\",\n",
    "    \"https://www.youtube.com/watch?v=GzoQhQLJu8A\",\n",
    "    \"https://www.youtube.com/watch?v=EILSpDn6TQg\",\n",
    "    \"https://www.youtube.com/watch?v=GW1GKXisvz4\",\n",
    "    \"https://www.youtube.com/watch?v=N5Cg6xciPoc\",\n",
    "    \"https://www.youtube.com/watch?v=LL62OCs_kLw\",\n",
    "    \"https://www.youtube.com/watch?v=77mtl9qnIUI\",\n",
    "    \"https://www.youtube.com/watch?v=5dNKelBjLHI\",\n",
    "    \"https://www.youtube.com/watch?v=HoeBmPRotiw\",\n",
    "    \"https://www.youtube.com/watch?v=mJPxkPX5utk\",\n",
    "    \"https://www.youtube.com/watch?v=PpPEoshZKaQ\",\n",
    "    \"https://www.youtube.com/watch?v=-iCCd2oxWd4\",\n",
    "    \"https://www.youtube.com/watch?v=lIZrxLhsmT8\",\n",
    "    \"https://www.youtube.com/watch?v=cl2AER6KghM\",\n",
    "    \"https://www.youtube.com/watch?v=x1MNBiAfduw\",\n",
    "    \"https://www.youtube.com/watch?v=vXu3lSFwrDQ\",\n",
    "    \"https://www.youtube.com/watch?v=KqFFHIAMNuU\",\n",
    "    \"https://www.youtube.com/watch?v=nX1zhmSrQJ8\",\n",
    "    \"https://www.youtube.com/watch?v=g2LL0LFvJD8\",\n",
    "    \"https://www.youtube.com/watch?v=xvNHZ0mk1Pc\",\n",
    "    \"https://www.youtube.com/watch?v=eG1M3vQv0lE\",\n",
    "    \"https://www.youtube.com/watch?v=u2CbzEGK8oY\",\n",
    "    \"https://www.youtube.com/watch?v=83WRci4lXqU\",\n",
    "    \"https://www.youtube.com/watch?v=8GpU9Ctf_Bo\",\n",
    "    \"https://www.youtube.com/watch?v=fQUVC_B0B38\",\n",
    "    \"https://www.youtube.com/watch?v=wAZ17qkI0ng\",\n",
    "    \"https://www.youtube.com/watch?v=-Gsnw6CfNoU\",\n",
    "    \"https://www.youtube.com/watch?v=JqbrIbJPnsg\",\n",
    "    \"https://www.youtube.com/watch?v=Elz_DaWPK8k\",\n",
    "    \"https://www.youtube.com/watch?v=7Etk4j6tmAw\",\n",
    "    \"https://www.youtube.com/watch?v=EQkFF0eaIHc\",\n",
    "    \"https://www.youtube.com/watch?v=P5GsGFIvroo\",\n",
    "    \"https://www.youtube.com/watch?v=KX9g4jWz6Vk\",\n",
    "    \"https://www.youtube.com/watch?v=UpNLzcZtgbc\",\n",
    "    \"https://www.youtube.com/watch?v=fAZOR3dwKBQ\",\n",
    "    \"https://www.youtube.com/watch?v=zKp541wlkLw\",\n",
    "    \"https://www.youtube.com/watch?v=qfGd2ORlTks\",\n",
    "    \"https://www.youtube.com/watch?v=pChESdtGDm8\",\n",
    "    \"https://www.youtube.com/watch?v=-0WpXQ8_IbE\",\n",
    "    \"https://www.youtube.com/watch?v=TwKS3TPCfw4\",\n",
    "    \"https://www.youtube.com/watch?v=d5ZuxRrCjNw\",\n",
    "    \"https://www.youtube.com/watch?v=Um9oLXEc6FY\",\n",
    "    \"https://www.youtube.com/watch?v=WsuIyjlSZEI\",\n",
    "    \"https://www.youtube.com/watch?v=5SpOQNlWUyI\",\n",
    "    \"https://www.youtube.com/watch?v=EpZWkkemHZU\",\n",
    "    \"https://www.youtube.com/watch?v=WI-9Icf4Pl8\",\n",
    "    \"https://www.youtube.com/watch?v=cNae3nnGnps\",\n",
    "    \"https://www.youtube.com/watch?v=_TMhee3RQ8Q\",\n",
    "    \"https://www.youtube.com/watch?v=gpKfveiktyU\",\n",
    "    \"https://www.youtube.com/watch?v=oBBKxQqI2u0\",\n",
    "    \"https://www.youtube.com/watch?v=TitHAxlRbYo\",\n",
    "    \"https://www.youtube.com/watch?v=PrWa7n30uFk\",\n",
    "    \"https://www.youtube.com/watch?v=2MdVQBnOMkc\",\n",
    "    \"https://www.youtube.com/watch?v=urIs5F5lQzg\",\n",
    "    \"https://www.youtube.com/watch?v=BN5OqxXvtP0\",\n",
    "    \"https://www.youtube.com/watch?v=pnasVA9uiF8\",\n",
    "    \"https://www.youtube.com/watch?v=HIjry4BOUUY\",\n",
    "    \"https://www.youtube.com/watch?v=y1R9MOtdYWs\",\n",
    "    \"https://www.youtube.com/watch?v=9rCxBNK0DvE\",\n",
    "    \"https://www.youtube.com/watch?v=ipMdmEmCv3w\",\n",
    "    \"https://www.youtube.com/watch?v=m_D1G3L8Zz8\",\n",
    "    \"https://www.youtube.com/watch?v=NBSZgv4mnJs\",\n",
    "    \"https://www.youtube.com/watch?v=-kiaB5GMnAU\",\n",
    "    \"https://www.youtube.com/watch?v=sp1AfU_wots\",\n",
    "    \"https://www.youtube.com/watch?v=QvWM87XWiuY\",\n",
    "    \"https://www.youtube.com/watch?v=kRoSDkT2NYE\",\n",
    "    \"https://www.youtube.com/watch?v=4bDu7sAhPBA\",\n",
    "    \"https://www.youtube.com/watch?v=DIDBXuhAJI0\",\n",
    "    \"https://www.youtube.com/watch?v=F6qIawEKUXo\",\n",
    "    \"https://www.youtube.com/watch?v=HBz6I0mrXH0\",\n",
    "    \"https://www.youtube.com/watch?v=ds-zps5XTSE\",\n",
    "    \"https://www.youtube.com/watch?v=_ofXEGpmNbQ\",\n",
    "    \"https://www.youtube.com/watch?v=QFRylIN7IQE\",\n",
    "    \"https://www.youtube.com/watch?v=n3EJQorzQRI\",\n",
    "    \"https://www.youtube.com/watch?v=I6HwqIceUPI\",\n",
    "    \"https://www.youtube.com/watch?v=hl2Lwwj4mMg\",\n",
    "    \"https://www.youtube.com/watch?v=BCI9IGjfzGg\",\n",
    "    \"https://www.youtube.com/watch?v=Lz8MJhGZLks\",\n",
    "    \"https://www.youtube.com/watch?v=epKe-DLfQTA\",\n",
    "    \"https://www.youtube.com/watch?v=ndAxG5rHaR0\",\n",
    "    \"https://www.youtube.com/watch?v=1BRxyt_4UbM\",\n",
    "    \"https://www.youtube.com/watch?v=2_5jfPE3aSA\",\n",
    "    \"https://www.youtube.com/watch?v=Z6iObm3Fvos\",\n",
    "    \"https://www.youtube.com/watch?v=84UBnv8CKMM\",\n",
    "    \"https://www.youtube.com/watch?v=b8tZ80XZUIA\",\n",
    "    \"https://www.youtube.com/watch?v=j4t_aF2GpXc\",\n",
    "    \"https://www.youtube.com/watch?v=dYzfTPNjyW8\",\n",
    "]\n",
    "\n",
    "create_and_write_csv(filename, topik, url)"
   ]
  },
  {
   "cell_type": "code",
   "execution_count": null,
   "metadata": {},
   "outputs": [],
   "source": [
    "topik = \"sains\"\n",
    "url = []\n",
    "\n",
    "create_and_write_csv(filename, topik, url)"
   ]
  },
  {
   "cell_type": "code",
   "execution_count": 8,
   "metadata": {},
   "outputs": [
    {
     "name": "stdout",
     "output_type": "stream",
     "text": [
      "1. Data untuk link 'https://www.youtube.com/watch?v=Foc76uooAXo' sudah ada, tidak disimpan.\n",
      "2. Data untuk link 'https://www.youtube.com/watch?v=oOTK2sPScqw' sudah ada, tidak disimpan.\n",
      "3. Data untuk link 'https://www.youtube.com/watch?v=DBQa20tvLYU' sudah ada, tidak disimpan.\n",
      "4. Data untuk link 'https://www.youtube.com/watch?v=6NNT-b8yEx8' sudah ada, tidak disimpan.\n",
      "5. Data untuk link 'https://www.youtube.com/watch?v=0ZDSAsE8fz8' sudah ada, tidak disimpan.\n",
      "6. Data untuk link 'https://www.youtube.com/watch?v=W3M4vDsOwqE' sudah ada, tidak disimpan.\n",
      "7. Data untuk link 'https://www.youtube.com/watch?v=HR4yO1MZk5M' sudah ada, tidak disimpan.\n",
      "8. Data untuk link 'https://www.youtube.com/watch?v=M6AR2P478ds' sudah ada, tidak disimpan.\n",
      "9. Data untuk link 'https://www.youtube.com/watch?v=6Gj7JAs3vv0' sudah ada, tidak disimpan.\n",
      "10. Data untuk link 'https://www.youtube.com/watch?v=fJKdDmLPwSY' sudah ada, tidak disimpan.\n",
      "11. Data untuk link 'https://www.youtube.com/watch?v=uReajDt66fA' sudah ada, tidak disimpan.\n",
      "12. Data untuk link 'https://www.youtube.com/watch?v=JX5K-RnabTA' sudah ada, tidak disimpan.\n",
      "13. Data untuk link 'https://www.youtube.com/watch?v=UDtw090jLnc' sudah ada, tidak disimpan.\n",
      "14. Data untuk link 'https://www.youtube.com/watch?v=dSQfzzr3EwE' sudah ada, tidak disimpan.\n",
      "15. Data untuk link 'https://www.youtube.com/watch?v=igXbPrqJT_A' sudah ada, tidak disimpan.\n",
      "16. Data untuk link 'https://www.youtube.com/watch?v=zzwW0cpMs3g' sudah ada, tidak disimpan.\n",
      "17. Data untuk link 'https://www.youtube.com/watch?v=oqJRTdH2gh4' sudah ada, tidak disimpan.\n",
      "18. Data untuk link 'https://www.youtube.com/watch?v=NTNGI8ynmps' sudah ada, tidak disimpan.\n",
      "19. Data untuk link 'https://www.youtube.com/watch?v=eeBkuacxks0' sudah ada, tidak disimpan.\n",
      "20. Data untuk link 'https://www.youtube.com/watch?v=DBQa20tvLYU' sudah ada, tidak disimpan.\n",
      "21. Data untuk link 'https://www.youtube.com/watch?v=6NNT-b8yEx8' sudah ada, tidak disimpan.\n",
      "22. Data untuk link 'https://www.youtube.com/watch?v=0ZDSAsE8fz8' sudah ada, tidak disimpan.\n",
      "23. Data untuk link 'https://www.youtube.com/watch?v=W3M4vDsOwqE' sudah ada, tidak disimpan.\n",
      "24. Data untuk link 'https://www.youtube.com/watch?v=HR4yO1MZk5M' sudah ada, tidak disimpan.\n",
      "25. Data untuk link 'https://www.youtube.com/watch?v=LAS2JA9AXgA' sudah ada, tidak disimpan.\n",
      "26. Data untuk link 'https://www.youtube.com/watch?v=y_Vdl8_3sIQ' sudah ada, tidak disimpan.\n",
      "27. Data untuk link 'https://www.youtube.com/watch?v=7Xy70PVLzKU' sudah ada, tidak disimpan.\n",
      "28. Data untuk link 'https://www.youtube.com/watch?v=LA6p8WhWnCI' sudah ada, tidak disimpan.\n",
      "29. Data untuk link 'https://www.youtube.com/watch?v=kUg6iySxkUs' sudah ada, tidak disimpan.\n",
      "30. Data untuk link 'https://www.youtube.com/watch?v=_Kj-evahpYQ' sudah ada, tidak disimpan.\n",
      "31. Data untuk link 'https://www.youtube.com/watch?v=XY5XTAjP2WA' sudah ada, tidak disimpan.\n",
      "32. Data untuk link 'https://www.youtube.com/watch?v=RSyO2qQ4h5w' sudah ada, tidak disimpan.\n",
      "33. Data untuk link 'https://www.youtube.com/watch?v=zd8c3yB5l00' sudah ada, tidak disimpan.\n",
      "34. Data untuk link 'https://www.youtube.com/watch?v=_lJ7CD_Onik' sudah ada, tidak disimpan.\n",
      "35. Data untuk link 'https://www.youtube.com/watch?v=8_-GZLvIo24' sudah ada, tidak disimpan.\n",
      "36. Data untuk link 'https://www.youtube.com/watch?v=VvIwzUpOUfw' sudah ada, tidak disimpan.\n",
      "37. Data untuk link 'https://www.youtube.com/watch?v=eSZydVz4Hlc' sudah ada, tidak disimpan.\n",
      "38. Data untuk link 'https://www.youtube.com/watch?v=OkOZmzNSeUY' sudah ada, tidak disimpan.\n",
      "39. Data untuk link 'https://www.youtube.com/watch?v=u9_b9xSM8ns' sudah ada, tidak disimpan.\n",
      "40. Data untuk link 'https://www.youtube.com/watch?v=50dUr0z-Ilc' sudah ada, tidak disimpan.\n",
      "41. Data untuk link 'https://www.youtube.com/watch?v=rr6rPG2s640' sudah ada, tidak disimpan.\n",
      "42. Data untuk link 'https://www.youtube.com/watch?v=UDtw090jLnc' sudah ada, tidak disimpan.\n",
      "43. Data untuk link 'https://www.youtube.com/watch?v=dSQfzzr3EwE' sudah ada, tidak disimpan.\n",
      "44. Data untuk link 'https://www.youtube.com/watch?v=Foc76uooAXo' sudah ada, tidak disimpan.\n",
      "45. Data untuk link 'https://www.youtube.com/watch?v=oOTK2sPScqw' sudah ada, tidak disimpan.\n",
      "46. Data untuk link 'https://www.youtube.com/watch?v=DBQa20tvLYU' sudah ada, tidak disimpan.\n",
      "47. Data untuk link 'https://www.youtube.com/watch?v=6NNT-b8yEx8' sudah ada, tidak disimpan.\n",
      "48. Data untuk link 'https://www.youtube.com/watch?v=0ZDSAsE8fz8' sudah ada, tidak disimpan.\n",
      "49. Data untuk link 'https://www.youtube.com/watch?v=8_-GZLvIo24' sudah ada, tidak disimpan.\n",
      "50. Data untuk link 'https://www.youtube.com/watch?v=VvIwzUpOUfw' sudah ada, tidak disimpan.\n",
      "51. Data untuk link 'https://www.youtube.com/watch?v=OkOZmzNSeUY' sudah ada, tidak disimpan.\n",
      "52. Data untuk link 'https://www.youtube.com/watch?v=u9_b9xSM8ns' sudah ada, tidak disimpan.\n",
      "53. Data untuk link 'https://www.youtube.com/watch?v=50dUr0z-Ilc' sudah ada, tidak disimpan.\n",
      "54. Data untuk link 'https://www.youtube.com/watch?v=y_Vdl8_3sIQ' sudah ada, tidak disimpan.\n",
      "55. Data untuk link 'https://www.youtube.com/watch?v=7Xy70PVLzKU' sudah ada, tidak disimpan.\n",
      "56. Data untuk link 'https://www.youtube.com/watch?v=LA6p8WhWnCI' sudah ada, tidak disimpan.\n",
      "57. Data untuk link 'https://www.youtube.com/watch?v=kUg6iySxkUs' sudah ada, tidak disimpan.\n",
      "58. Data untuk link 'https://www.youtube.com/watch?v=_Kj-evahpYQ' sudah ada, tidak disimpan.\n",
      "59. Data untuk link 'https://www.youtube.com/watch?v=XY5XTAjP2WA' sudah ada, tidak disimpan.\n",
      "60. Data untuk link 'https://www.youtube.com/watch?v=RSyO2qQ4h5w' sudah ada, tidak disimpan.\n",
      "61. Data untuk link 'https://www.youtube.com/watch?v=zd8c3yB5l00' sudah ada, tidak disimpan.\n",
      "62. Data untuk link 'https://www.youtube.com/watch?v=_lJ7CD_Onik' sudah ada, tidak disimpan.\n",
      "63. Data untuk link 'https://www.youtube.com/watch?v=ylh1FBxtNJE' sudah ada, tidak disimpan.\n",
      "64. Data untuk link 'https://www.youtube.com/watch?v=8_-GZLvIo24' sudah ada, tidak disimpan.\n",
      "65. Data untuk link 'https://www.youtube.com/watch?v=VvIwzUpOUfw' sudah ada, tidak disimpan.\n",
      "66. Data untuk link 'https://www.youtube.com/watch?v=eSZydVz4Hlc' sudah ada, tidak disimpan.\n",
      "67. Data untuk link 'https://www.youtube.com/watch?v=OkOZmzNSeUY' sudah ada, tidak disimpan.\n",
      "68. Data untuk link 'https://www.youtube.com/watch?v=u9_b9xSM8ns' sudah ada, tidak disimpan.\n",
      "69. Data untuk link 'https://www.youtube.com/watch?v=50dUr0z-Ilc' sudah ada, tidak disimpan.\n",
      "70. Data untuk link 'https://www.youtube.com/watch?v=LAS2JA9AXgA' sudah ada, tidak disimpan.\n",
      "71. Data untuk link 'https://www.youtube.com/watch?v=UDtw090jLnc' sudah ada, tidak disimpan.\n",
      "72. Data untuk link 'https://www.youtube.com/watch?v=dSQfzzr3EwE' sudah ada, tidak disimpan.\n",
      "73. Data untuk link 'https://www.youtube.com/watch?v=0o2X5tOSrNs' sudah ada, tidak disimpan.\n",
      "74. Data untuk link 'https://www.youtube.com/watch?v=Foc76uooAXo' sudah ada, tidak disimpan.\n",
      "75. Data untuk link 'https://www.youtube.com/watch?v=oOTK2sPScqw' sudah ada, tidak disimpan.\n",
      "76. Data untuk link 'https://www.youtube.com/watch?v=DBQa20tvLYU' sudah ada, tidak disimpan.\n",
      "77. Data untuk link 'https://www.youtube.com/watch?v=6NNT-b8yEx8' sudah ada, tidak disimpan.\n",
      "78. Data untuk link 'https://www.youtube.com/watch?v=iYchalMsTxc' sudah ada, tidak disimpan.\n",
      "79. Data untuk link 'https://www.youtube.com/watch?v=RcT6b1tVgBc' sudah ada, tidak disimpan.\n",
      "80. Data untuk link 'https://www.youtube.com/watch?v=VvIwzUpOUfw' sudah ada, tidak disimpan.\n",
      "81. Data untuk link 'https://www.youtube.com/watch?v=4XehPCOrCeM' sudah ada, tidak disimpan.\n",
      "82. Data untuk link 'https://www.youtube.com/watch?v=8_-GZLvIo24' sudah ada, tidak disimpan.\n",
      "83. Data untuk link 'https://www.youtube.com/watch?v=OkOZmzNSeUY' sudah ada, tidak disimpan.\n",
      "84. Data untuk link 'https://www.youtube.com/watch?v=u9_b9xSM8ns' sudah ada, tidak disimpan.\n",
      "85. Data untuk link 'https://www.youtube.com/watch?v=50dUr0z-Ilc' sudah ada, tidak disimpan.\n",
      "86. Data untuk link 'https://www.youtube.com/watch?v=qi9yLDSlyEU' sudah ada, tidak disimpan.\n",
      "87. Data untuk link 'https://www.youtube.com/watch?v=OVCKrwtCzO8' sudah ada, tidak disimpan.\n",
      "88. Data untuk link 'https://www.youtube.com/watch?v=k6h2NsJrqvA' sudah ada, tidak disimpan.\n",
      "89. Data untuk link 'https://www.youtube.com/watch?v=DfiuD2WkS9o' sudah ada, tidak disimpan.\n",
      "90. Data untuk link 'https://www.youtube.com/watch?v=8vJ5nPiycmM' sudah ada, tidak disimpan.\n",
      "91. Data untuk link 'https://www.youtube.com/watch?v=de0X5inkYvw' sudah ada, tidak disimpan.\n",
      "92. Data untuk link 'https://www.youtube.com/watch?v=fkZJgWlhjcw' sudah ada, tidak disimpan.\n",
      "93. Data untuk link 'https://www.youtube.com/watch?v=0o2X5tOSrNs' sudah ada, tidak disimpan.\n",
      "94. Data untuk link 'https://www.youtube.com/watch?v=7vR56URGSaA' sudah ada, tidak disimpan.\n",
      "95. Data untuk link 'https://www.youtube.com/watch?v=RcT6b1tVgBc' sudah ada, tidak disimpan.\n",
      "96. Data untuk link 'https://www.youtube.com/watch?v=4XehPCOrCeM' sudah ada, tidak disimpan.\n",
      "97. Data untuk link 'https://www.youtube.com/watch?v=AbWQamFcIn8' sudah ada, tidak disimpan.\n",
      "98. Data untuk link 'https://www.youtube.com/watch?v=b5tLBYn9iV4' sudah ada, tidak disimpan.\n",
      "99. Data untuk link 'https://www.youtube.com/watch?v=H5Trog6Mt-A' sudah ada, tidak disimpan.\n",
      "100. Data untuk link 'https://www.youtube.com/watch?v=xIl1KD-nAOA' sudah ada, tidak disimpan.\n",
      "101. Data untuk link 'https://www.youtube.com/watch?v=zskaq_JJ7aE' sudah ada, tidak disimpan.\n",
      "102. Data untuk link 'https://www.youtube.com/watch?v=vqL19MQwzVU' sudah ada, tidak disimpan.\n",
      "103. Data untuk link 'https://www.youtube.com/watch?v=4d82QmjbK6A' sudah ada, tidak disimpan.\n",
      "104. Data untuk link 'https://www.youtube.com/watch?v=8_dWOmkMrB4' sudah ada, tidak disimpan.\n",
      "105. Data untuk link 'https://www.youtube.com/watch?v=_LRxMhJ4VIk' sudah ada, tidak disimpan.\n",
      "106. Data untuk link 'https://www.youtube.com/watch?v=Y6lE3-EHLt8' sudah ada, tidak disimpan.\n",
      "107. Data untuk link 'https://www.youtube.com/watch?v=j7P_5a3M-Io' sudah ada, tidak disimpan.\n",
      "108. Data untuk link 'https://www.youtube.com/watch?v=gkrOmJozE2M' sudah ada, tidak disimpan.\n",
      "Sebanyak 108 data tidak ditambahkan ke 'yt-news.csv'.\n",
      "Sebanyak 0 data berhasil ditambahkan ke 'yt-news.csv'.\n",
      "Data berhasil ditambahkan ke 'yt-news.csv'.\n"
     ]
    }
   ],
   "source": [
    "topik = \"kesehatan\"\n",
    "url = [\n",
    "    \"https://www.youtube.com/watch?v=Foc76uooAXo\",\n",
    "    \"https://www.youtube.com/watch?v=oOTK2sPScqw\",\n",
    "    \"https://www.youtube.com/watch?v=DBQa20tvLYU\",\n",
    "    \"https://www.youtube.com/watch?v=6NNT-b8yEx8\",\n",
    "    \"https://www.youtube.com/watch?v=0ZDSAsE8fz8\",\n",
    "    \"https://www.youtube.com/watch?v=W3M4vDsOwqE\",\n",
    "    \"https://www.youtube.com/watch?v=HR4yO1MZk5M\",\n",
    "    \"https://www.youtube.com/watch?v=M6AR2P478ds\",\n",
    "    \"https://www.youtube.com/watch?v=6Gj7JAs3vv0\",\n",
    "    \"https://www.youtube.com/watch?v=fJKdDmLPwSY\",\n",
    "    \"https://www.youtube.com/watch?v=uReajDt66fA\",\n",
    "    \"https://www.youtube.com/watch?v=JX5K-RnabTA\",\n",
    "    \"https://www.youtube.com/watch?v=UDtw090jLnc\",\n",
    "    \"https://www.youtube.com/watch?v=dSQfzzr3EwE\",\n",
    "    \"https://www.youtube.com/watch?v=igXbPrqJT_A\",\n",
    "    \"https://www.youtube.com/watch?v=zzwW0cpMs3g\",\n",
    "    \"https://www.youtube.com/watch?v=oqJRTdH2gh4\",\n",
    "    \"https://www.youtube.com/watch?v=NTNGI8ynmps\",\n",
    "    \"https://www.youtube.com/watch?v=eeBkuacxks0\",\n",
    "    \"https://www.youtube.com/watch?v=DBQa20tvLYU\",\n",
    "    \"https://www.youtube.com/watch?v=6NNT-b8yEx8\",\n",
    "    \"https://www.youtube.com/watch?v=0ZDSAsE8fz8\",\n",
    "    \"https://www.youtube.com/watch?v=W3M4vDsOwqE\",\n",
    "    \"https://www.youtube.com/watch?v=HR4yO1MZk5M\",\n",
    "    \"https://www.youtube.com/watch?v=LAS2JA9AXgA\",\n",
    "    \"https://www.youtube.com/watch?v=y_Vdl8_3sIQ\",\n",
    "    \"https://www.youtube.com/watch?v=7Xy70PVLzKU\",\n",
    "    \"https://www.youtube.com/watch?v=LA6p8WhWnCI\",\n",
    "    \"https://www.youtube.com/watch?v=kUg6iySxkUs\",\n",
    "    \"https://www.youtube.com/watch?v=_Kj-evahpYQ\",\n",
    "    \"https://www.youtube.com/watch?v=XY5XTAjP2WA\",\n",
    "    \"https://www.youtube.com/watch?v=RSyO2qQ4h5w\",\n",
    "    \"https://www.youtube.com/watch?v=zd8c3yB5l00\",\n",
    "    \"https://www.youtube.com/watch?v=_lJ7CD_Onik\",\n",
    "    \"https://www.youtube.com/watch?v=8_-GZLvIo24\",\n",
    "    \"https://www.youtube.com/watch?v=VvIwzUpOUfw\",\n",
    "    \"https://www.youtube.com/watch?v=eSZydVz4Hlc\",\n",
    "    \"https://www.youtube.com/watch?v=OkOZmzNSeUY\",\n",
    "    \"https://www.youtube.com/watch?v=u9_b9xSM8ns\",\n",
    "    \"https://www.youtube.com/watch?v=50dUr0z-Ilc\",\n",
    "    \"https://www.youtube.com/watch?v=rr6rPG2s640\",\n",
    "    \"https://www.youtube.com/watch?v=UDtw090jLnc\",\n",
    "    \"https://www.youtube.com/watch?v=dSQfzzr3EwE\",\n",
    "    \"https://www.youtube.com/watch?v=Foc76uooAXo\",\n",
    "    \"https://www.youtube.com/watch?v=oOTK2sPScqw\",\n",
    "    \"https://www.youtube.com/watch?v=DBQa20tvLYU\",\n",
    "    \"https://www.youtube.com/watch?v=6NNT-b8yEx8\",\n",
    "    \"https://www.youtube.com/watch?v=0ZDSAsE8fz8\",\n",
    "    \"https://www.youtube.com/watch?v=8_-GZLvIo24\",\n",
    "    \"https://www.youtube.com/watch?v=VvIwzUpOUfw\",\n",
    "    \"https://www.youtube.com/watch?v=OkOZmzNSeUY\",\n",
    "    \"https://www.youtube.com/watch?v=u9_b9xSM8ns\",\n",
    "    \"https://www.youtube.com/watch?v=50dUr0z-Ilc\",\n",
    "    \"https://www.youtube.com/watch?v=y_Vdl8_3sIQ\",\n",
    "    \"https://www.youtube.com/watch?v=7Xy70PVLzKU\",\n",
    "    \"https://www.youtube.com/watch?v=LA6p8WhWnCI\",\n",
    "    \"https://www.youtube.com/watch?v=kUg6iySxkUs\",\n",
    "    \"https://www.youtube.com/watch?v=_Kj-evahpYQ\",\n",
    "    \"https://www.youtube.com/watch?v=XY5XTAjP2WA\",\n",
    "    \"https://www.youtube.com/watch?v=RSyO2qQ4h5w\",\n",
    "    \"https://www.youtube.com/watch?v=zd8c3yB5l00\",\n",
    "    \"https://www.youtube.com/watch?v=_lJ7CD_Onik\",\n",
    "    \"https://www.youtube.com/watch?v=ylh1FBxtNJE\",\n",
    "    \"https://www.youtube.com/watch?v=8_-GZLvIo24\",\n",
    "    \"https://www.youtube.com/watch?v=VvIwzUpOUfw\",\n",
    "    \"https://www.youtube.com/watch?v=eSZydVz4Hlc\",\n",
    "    \"https://www.youtube.com/watch?v=OkOZmzNSeUY\",\n",
    "    \"https://www.youtube.com/watch?v=u9_b9xSM8ns\",\n",
    "    \"https://www.youtube.com/watch?v=50dUr0z-Ilc\",\n",
    "    \"https://www.youtube.com/watch?v=LAS2JA9AXgA\",\n",
    "    \"https://www.youtube.com/watch?v=UDtw090jLnc\",\n",
    "    \"https://www.youtube.com/watch?v=dSQfzzr3EwE\",\n",
    "    \"https://www.youtube.com/watch?v=0o2X5tOSrNs\",\n",
    "    \"https://www.youtube.com/watch?v=Foc76uooAXo\",\n",
    "    \"https://www.youtube.com/watch?v=oOTK2sPScqw\",\n",
    "    \"https://www.youtube.com/watch?v=DBQa20tvLYU\",\n",
    "    \"https://www.youtube.com/watch?v=6NNT-b8yEx8\",\n",
    "    \"https://www.youtube.com/watch?v=iYchalMsTxc\",\n",
    "    \"https://www.youtube.com/watch?v=RcT6b1tVgBc\",\n",
    "    \"https://www.youtube.com/watch?v=VvIwzUpOUfw\",\n",
    "    \"https://www.youtube.com/watch?v=4XehPCOrCeM\",\n",
    "    \"https://www.youtube.com/watch?v=8_-GZLvIo24\",\n",
    "    \"https://www.youtube.com/watch?v=OkOZmzNSeUY\",\n",
    "    \"https://www.youtube.com/watch?v=u9_b9xSM8ns\",\n",
    "    \"https://www.youtube.com/watch?v=50dUr0z-Ilc\",\n",
    "    \"https://www.youtube.com/watch?v=qi9yLDSlyEU\",\n",
    "    \"https://www.youtube.com/watch?v=OVCKrwtCzO8\",\n",
    "    \"https://www.youtube.com/watch?v=k6h2NsJrqvA\",\n",
    "    \"https://www.youtube.com/watch?v=DfiuD2WkS9o\",\n",
    "    \"https://www.youtube.com/watch?v=8vJ5nPiycmM\",\n",
    "    \"https://www.youtube.com/watch?v=de0X5inkYvw\",\n",
    "    \"https://www.youtube.com/watch?v=fkZJgWlhjcw\",\n",
    "    \"https://www.youtube.com/watch?v=0o2X5tOSrNs\",\n",
    "    \"https://www.youtube.com/watch?v=7vR56URGSaA\",\n",
    "    \"https://www.youtube.com/watch?v=RcT6b1tVgBc\",\n",
    "    \"https://www.youtube.com/watch?v=4XehPCOrCeM\",\n",
    "    \"https://www.youtube.com/watch?v=AbWQamFcIn8\",\n",
    "    \"https://www.youtube.com/watch?v=b5tLBYn9iV4\",\n",
    "    \"https://www.youtube.com/watch?v=H5Trog6Mt-A\",\n",
    "    \"https://www.youtube.com/watch?v=xIl1KD-nAOA\",\n",
    "    \"https://www.youtube.com/watch?v=zskaq_JJ7aE\",\n",
    "    \"https://www.youtube.com/watch?v=vqL19MQwzVU\",\n",
    "    \"https://www.youtube.com/watch?v=4d82QmjbK6A\",\n",
    "    \"https://www.youtube.com/watch?v=8_dWOmkMrB4\",\n",
    "    \"https://www.youtube.com/watch?v=_LRxMhJ4VIk\",\n",
    "    \"https://www.youtube.com/watch?v=Y6lE3-EHLt8\",\n",
    "    \"https://www.youtube.com/watch?v=j7P_5a3M-Io\",\n",
    "    \"https://www.youtube.com/watch?v=gkrOmJozE2M\",\n",
    "    \n",
    "\n",
    "]\n",
    "\n",
    "create_and_write_csv(filename, topik, url)"
   ]
  },
  {
   "cell_type": "code",
   "execution_count": 6,
   "metadata": {},
   "outputs": [
    {
     "name": "stdout",
     "output_type": "stream",
     "text": [
      "          topik                                         link  \\\n",
      "0       hiburan  https://www.youtube.com/watch?v=heyXJ0QKBbo   \n",
      "1      nasional  https://www.youtube.com/watch?v=iQLB9vHRAcA   \n",
      "2       hiburan  https://www.youtube.com/watch?v=5HKKWfrL_Kg   \n",
      "3     kesehatan  https://www.youtube.com/watch?v=4XehPCOrCeM   \n",
      "4       hiburan  https://www.youtube.com/watch?v=9zgrAI28BQI   \n",
      "...         ...                                          ...   \n",
      "1367   nasional  https://www.youtube.com/watch?v=O-MctB8AYYk   \n",
      "1368    hiburan  https://www.youtube.com/watch?v=4IrtDBoXJHU   \n",
      "1369   nasional  https://www.youtube.com/watch?v=2_itbfUZnhM   \n",
      "1370   olahraga  https://www.youtube.com/watch?v=gyf3aymIkNQ   \n",
      "1371      dunia  https://www.youtube.com/watch?v=mquts8WYubE   \n",
      "\n",
      "               channel                                              judul  \\\n",
      "0           Kompas.com  Pernikahan Orang Terkaya di Asia, Sampai Undan...   \n",
      "1            SINDOnews  KPK Periksa Rumah Saksi Dugaan TPPU SYL -  Sin...   \n",
      "2     Kompas TV Malang            Duka Mendalam, Polo Srimulat Tutup Usia   \n",
      "3             METRO TV  Gawat! Kasus Demam Berdarah Dengue di Jepara M...   \n",
      "4        VOA Indonesia  Singapura Dituduh Memonopoli Pembelanjaan \"Swi...   \n",
      "...                ...                                                ...   \n",
      "1367    Official iNews  Usai Gelar Perkara, Polisi Jadikan Ibu Pembunu...   \n",
      "1368   KompasTV Jember  Kabar Duka, Pelawak Polo Srimulat atau Christi...   \n",
      "1369         tvOneNews  Cinta Segitiga Caleg Berujung Pembunuhan Beren...   \n",
      "1370     Tribun Sumsel  Pasrah Dihujat, Alasan Azhiera Pegang IG Kurni...   \n",
      "1371    CNBC Indonesia                Hizbullah Serang Pos Militer Israel   \n",
      "\n",
      "                                              transkrip  \n",
      "0      Orang terkaya di Asia mengglar pesta prueidin...  \n",
      "1      Kita berolik informasi lainnya, Pemirisa, di ...  \n",
      "2      Mereka membuatkan kecil di tempat di depan. M...  \n",
      "3      Anak balik bersama kami di Newsline, bomisah ...  \n",
      "4      Katede Australia dan Asian di Melbourne akhir...  \n",
      "...                                                 ...  \n",
      "1367   Usah ide aku kanya gelar perkara penyidi QNIT...  \n",
      "1368   Mereka membuatkan kecil di tempat di depan. M...  \n",
      "1369   Kita kaya firmasilannya, pemirsa di Preskrimu...  \n",
      "1370   Terah di hujat, alasan Azhira pegang Ighe Kur...  \n",
      "1371   Kalo pokoknya sebelum mengklaim telah membomb...  \n",
      "\n",
      "[1372 rows x 5 columns]\n"
     ]
    }
   ],
   "source": [
    "import pandas as pd\n",
    "\n",
    "# Membaca file CSV\n",
    "df = pd.read_csv(f\"{filename}.csv\")\n",
    "\n",
    "# Mengacak urutan record\n",
    "df_shuffled = df.sample(frac=1).reset_index(drop=True)\n",
    "\n",
    "# Menampilkan dataset yang sudah diacak\n",
    "print(df_shuffled)\n",
    "\n",
    "df_shuffled.to_csv(f\"rdm-{filename}.csv\")"
   ]
  }
 ],
 "metadata": {
  "kernelspec": {
   "display_name": "Python 3",
   "language": "python",
   "name": "python3"
  },
  "language_info": {
   "codemirror_mode": {
    "name": "ipython",
    "version": 3
   },
   "file_extension": ".py",
   "mimetype": "text/x-python",
   "name": "python",
   "nbconvert_exporter": "python",
   "pygments_lexer": "ipython3",
   "version": "3.12.0"
  }
 },
 "nbformat": 4,
 "nbformat_minor": 2
}
